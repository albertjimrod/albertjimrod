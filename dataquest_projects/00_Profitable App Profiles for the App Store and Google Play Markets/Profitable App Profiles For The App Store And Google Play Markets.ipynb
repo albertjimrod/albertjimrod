{
 "cells": [
  {
   "cell_type": "markdown",
   "metadata": {},
   "source": [
    "# Profitable App Profiles for the App Store and Google Play Markets\n",
    "\n",
    "<br />\n",
    "\n",
    "<br />\n",
    "\n",
    "\n",
    "![header](header.jpg)\n",
    "\n",
    "\n",
    "## Introduction\n",
    "\n",
    "\n",
    "Working for a company that **only build free apps to download and install** available on Google Play and in the App Store, our main source of revenue consists of in-app ads. \n",
    "\n",
    "This means that the number of users of our apps determines our revenue for any given app therefore the more users who see and engage with the ads, the better. \n",
    "\n",
    "<br />\n",
    "\n",
    "**Introduction to the Project**\n",
    "\n",
    "\n",
    "In today's mobile development landscape, it is crucial to understand which types of applications attract more users in both Android and Apple ecosystems. With the goal of providing valuable information to developers, this project focuses on data analysis to identify common characteristics among the applications that receive a higher number of downloads and engagement.\n",
    "\n",
    "1. **What Does the Project Entail?**\n",
    "\n",
    "    This data analysis combines information from various sources, such as Google Play Store and iTunes App Store, along with usage and performance metrics. Using statistical techniques and machine learning algorithms, patterns and trends are identified to indicate which types of applications perform better in each platform.\n",
    "\n",
    "2. **Project Objective**\n",
    "\n",
    "    The primary objective of this project is to provide developers with precise information about the characteristics that resonate best with users on Android and iOS. By understanding better what types of applications perform well in terms of downloads, engagement, and retention, developers can make more informed decisions for the design and optimization of their own apps.\n",
    "\n",
    "\n",
    "<br />\n",
    "\n",
    "\n",
    "Our aim is collect and analyze data from each of the online stores to understand what type of apps it would be interesting to develop to attract more users.\n",
    "\n",
    "## <a id='0'>Index</a>\n",
    "\n",
    " \n",
    "### <a href='#1'>1. Exploring data </a>\n",
    " \n",
    " \n",
    "- <a href='#11'>1.1 Function to explore datasets</a>\n",
    "\n",
    "\n",
    "-  <a href='#12'>1.2 Data dictionary:</a>\n",
    "\n",
    "\n",
    "-  <a href='#13'>1.3 Knowing the size in both data sets.</a>\n",
    "\n",
    "### <a href='#2'>2. Data cleaning </a>\n",
    "\n",
    "\n",
    "-  <a href='#21'>2.1. Detect inaccurate data... remove it.</a>\n",
    "\n",
    "\n",
    "-  <a href='#22'>2.2 Detect duplicate data, and remove the duplicates.</a>\n",
    "\n",
    "\n",
    "-  <a href='#23'>2.3 What differentiates duplicate applications?</a>\n",
    "\n",
    "\n",
    "-  <a href='#24'>2.4 Removing Non-English Apps</a>\n",
    "\n",
    "\n",
    "-  <a href='#25'>2.5 Filter non-English applications from both datasets. </a>\n",
    "\n",
    "\n",
    "-  <a href='#26'>2.6 Exploring datasets and see how many rows we have left for each dataset.</a>\n",
    "\n",
    "\n",
    "\n",
    "### <a href='#3'>3. Isolating Free Apps </a>\n",
    "\n",
    "\n",
    "-  <a href='#31'>3.1 Our **ultimate goal** </a>\n",
    "\n",
    "\n",
    "-  <a href='#32'>3.2 Profiles of apps successful in both markets\tTable</a>\n",
    "\n",
    "\n",
    "\n",
    "### <a href='#4'>4. Most Popular Apps by Genre on Apple Store </a>\n",
    "\n",
    "### <a href='#5'>5. Most Popular Apps by Genre on Apple Store </a>\n",
    "\n",
    "### <a href='#6'>5. Summary. </a>\n",
    "\n",
    "* * *\n",
    "\n",
    "The datasets are in two documents of type csv's i.e. **Comma Separated Values file** for read the content, it is necessary to load a function called `reader` of the python `csv` module."
   ]
  },
  {
   "cell_type": "code",
   "execution_count": 1,
   "metadata": {},
   "outputs": [
    {
     "name": "stdout",
     "output_type": "stream",
     "text": [
      "/home/ion/Documentos/albertjimrod/data-projects/01_Python/00-Profitable App Profiles for the App Store and Google Play Markets\n"
     ]
    }
   ],
   "source": [
    "!pwd"
   ]
  },
  {
   "cell_type": "code",
   "execution_count": 2,
   "metadata": {},
   "outputs": [],
   "source": [
    "from csv import reader"
   ]
  },
  {
   "cell_type": "markdown",
   "metadata": {},
   "source": [
    "* * *\n",
    "<a href='#0'> back to index</a>\n",
    "\n",
    "## <a id='1'>1. Exploring datasets</a>:\n",
    "\n",
    "We are going to explore the two sets of data, but first we are going to kwon what type of [character encoding](https://en.wikipedia.org/wiki/Character_encoding) both datasets have.\n",
    "\n",
    "A command called [file](https://www.man7.org/linux/man-pages/man1/file.1.html), will help us to kwon the type of file regardless of its extension and avoid a error called `UnicodeDecodeError`.\n",
    "\n",
    "\n",
    "```\n",
    "FILE(1)                                         BSD General Commands Manual                                         FILE(1)\n",
    "\n",
    "NAME\n",
    "     file — determine file type\n",
    "\n",
    "SYNOPSIS\n",
    "     file [-bcdEhiklLNnprsSvzZ0] [--apple] [--exclude-quiet] [--extension] [--mime-encoding] [--mime-type] [-e testname]\n",
    "          [-F separator] [-f namefile] [-m magicfiles] [-P name=value] file ...\n",
    "     file -C [-m magicfiles]\n",
    "     file [--help]\n",
    "\n",
    "DESCRIPTION\n",
    "     This manual page documents version 5.41 of the file command.\n",
    "\n",
    "     file tests each argument in an attempt to classify it.  There are three sets of tests, performed in this order:\n",
    "     filesystem tests, magic tests, and language tests.  The first test that succeeds causes the file type to be printed.\n",
    "\n",
    "     The type printed will usually contain one of the words text (the file contains only printing characters and a few com‐\n",
    "     mon control characters and is probably safe to read on an ASCII terminal), executable (the file contains the result of\n",
    "     compiling a program in a form understandable to some UNIX kernel or another), or data meaning anything else (data is\n",
    "     usually “binary” or non-printable).  Exceptions are well-known file formats (core files, tar archives) that are known\n",
    "     to contain binary data.  When modifying magic files or the program itself, make sure to preserve these keywords.\n",
    "     Users depend on knowing that all the readable files in a directory "
   ]
  },
  {
   "cell_type": "code",
   "execution_count": 3,
   "metadata": {},
   "outputs": [
    {
     "name": "stdout",
     "output_type": "stream",
     "text": [
      "csv/AppleStore.csv: text/csv; charset=utf-8\n"
     ]
    }
   ],
   "source": [
    "! file -i csv/AppleStore.csv"
   ]
  },
  {
   "cell_type": "code",
   "execution_count": 4,
   "metadata": {},
   "outputs": [
    {
     "name": "stdout",
     "output_type": "stream",
     "text": [
      "csv/googleplaystore.csv: text/csv; charset=utf-8\n"
     ]
    }
   ],
   "source": [
    "! file -i csv/googleplaystore.csv"
   ]
  },
  {
   "cell_type": "markdown",
   "metadata": {
    "editable": true,
    "slideshow": {
     "slide_type": ""
    },
    "tags": []
   },
   "source": [
    "Our files have the same type of charset https://en.wikipedia.org/wiki/UTF-8.\n",
    "\n",
    "\n",
    "Quick idea:\n",
    "\n",
    "- **charset:** is the set of characters you can use.\n",
    "- **encoding:** is the way these characters are stored into memory.\n",
    "\n",
    "[source](https://stackoverflow.com/questions/2281646/whats-the-difference-between-encoding-and-charset)"
   ]
  },
  {
   "cell_type": "code",
   "execution_count": 5,
   "metadata": {
    "editable": true,
    "slideshow": {
     "slide_type": ""
    },
    "tags": []
   },
   "outputs": [
    {
     "data": {
      "text/plain": [
       "['id',\n",
       " 'track_name',\n",
       " 'size_bytes',\n",
       " 'currency',\n",
       " 'price',\n",
       " 'rating_count_tot',\n",
       " 'rating_count_ver',\n",
       " 'user_rating',\n",
       " 'user_rating_ver',\n",
       " 'ver',\n",
       " 'cont_rating',\n",
       " 'prime_genre',\n",
       " 'sup_devices.num',\n",
       " 'ipadSc_urls.num',\n",
       " 'lang.num',\n",
       " 'vpp_lic']"
      ]
     },
     "execution_count": 5,
     "metadata": {},
     "output_type": "execute_result"
    }
   ],
   "source": [
    "AppleStore = open('csv/AppleStore.csv', encoding='utf8')\n",
    "AppleStore = reader(AppleStore)\n",
    "AppleStore = list(AppleStore)\n",
    "header_apple = [x for x in AppleStore[0]]\n",
    "header_apple #Columns on AppleStore"
   ]
  },
  {
   "cell_type": "code",
   "execution_count": 6,
   "metadata": {},
   "outputs": [],
   "source": [
    "dataset_apple = AppleStore[1:] #whole dataset apple, no headers"
   ]
  },
  {
   "cell_type": "code",
   "execution_count": 7,
   "metadata": {},
   "outputs": [
    {
     "data": {
      "text/plain": [
       "['App',\n",
       " 'Category',\n",
       " 'Rating',\n",
       " 'Reviews',\n",
       " 'Size',\n",
       " 'Installs',\n",
       " 'Type',\n",
       " 'Price',\n",
       " 'Content Rating',\n",
       " 'Genres',\n",
       " 'Last Updated',\n",
       " 'Current Ver',\n",
       " 'Android Ver']"
      ]
     },
     "execution_count": 7,
     "metadata": {},
     "output_type": "execute_result"
    }
   ],
   "source": [
    "GooglePlay = open('csv/googleplaystore.csv', encoding='utf8')\n",
    "GooglePlay = reader(GooglePlay)\n",
    "GooglePlay = list(GooglePlay)\n",
    "header_google = [x for x in GooglePlay[0]]\n",
    "header_google "
   ]
  },
  {
   "cell_type": "code",
   "execution_count": 8,
   "metadata": {},
   "outputs": [],
   "source": [
    "dataset_google = GooglePlay[1:] #whole dataset google, no header"
   ]
  },
  {
   "cell_type": "markdown",
   "metadata": {
    "editable": true,
    "slideshow": {
     "slide_type": ""
    },
    "tags": []
   },
   "source": [
    "* * *\n",
    "<a href='#0'> back to index</a>\n",
    "\n",
    "### <a id='11'>1.1 Function to explore datasets</a>\n",
    "\n",
    "One dataset contains data from approximately 10,000 **Android apps from Google Play**; Data was collected in August 2018. One dataset contains data from approximately 7,000 **iOS apps from the App Store**; Data was collected in July 2017. Let's open and explore these datasets with the 'explore_data()' function Parameters: \n",
    "\n",
    "<br>\n",
    "\n",
    "- 'dataset': A list of lists that represents the dataset.\n",
    "- 'start': An integer that indicates the initial index of the segment to be displayed.\n",
    "- 'end': An integer that indicates the final (exclusive) index of the segment to be displayed.\n",
    "- 'rows_and_columns' (optional): A Boolean with a default value of False. If True, it will print the number of rows and columns.\n",
    "\n",
    "To make easier to explore, we created a function named `explore_data()` you can repeatedly use to print rows in a readable way."
   ]
  },
  {
   "cell_type": "code",
   "execution_count": 9,
   "metadata": {},
   "outputs": [],
   "source": [
    "def explore_data(dataset, start, end, rows_and_columns=False):\n",
    "        dataset_slice = dataset[start:end]    \n",
    "        for row in dataset_slice:\n",
    "            print(row)\n",
    "            print('\\n') # adds a new (empty) line after each row\n",
    "        if rows_and_columns:\n",
    "            print('Number of rows:', len(dataset))\n",
    "            print('Number of columns:', len(dataset[0]))"
   ]
  },
  {
   "cell_type": "code",
   "execution_count": 10,
   "metadata": {},
   "outputs": [
    {
     "data": {
      "text/html": [
       "<style>\n",
       "table {float:left}\n",
       "</style>\n"
      ],
      "text/plain": [
       "<IPython.core.display.HTML object>"
      ]
     },
     "metadata": {},
     "output_type": "display_data"
    }
   ],
   "source": [
    "%%html\n",
    "<style>\n",
    "table {float:left}\n",
    "</style>"
   ]
  },
  {
   "cell_type": "markdown",
   "metadata": {},
   "source": [
    "<a href='#0'> back to index</a>\n",
    "* * *\n",
    "### <a id='12'> 1.2 Data dictionary:</a>\n",
    "\n",
    "We have the name of the columns and the data that form the set of both data sets:\n",
    "\n",
    "\n",
    "#### AppleStore.csv\n",
    "\n",
    " - `header_apple`\n",
    "\n",
    " - `dataset_apple` \n",
    "\n",
    "||Name | Description|\n",
    "|:--|:---|:--|\n",
    "|1|\"id\" : |App ID|\n",
    "|2|\"track_name\": |App Name|\n",
    "|3|\"size_bytes\": |Size (in Bytes)|\n",
    "|4|\"currency\": |Currency Type|\n",
    "|5|\"price\": |Price amount|\n",
    "|6|\"ratingcounttot\": |User Rating counts (for all version)|\n",
    "|7|\"ratingcountver\": |User Rating counts (for current version)|\n",
    "|8|\"user_rating\" : |Average User Rating value (for all version)|\n",
    "|9|\"userratingver\": |Average User Rating value (for current version)|\n",
    "|10|\"ver\" : |Latest version code|\n",
    "|11|\"cont_rating\": |Content Rating|\n",
    "|12|\"prime_genre\": |Primary Genre|\n",
    "|13|\"sup_devices.num\": |Number of supporting devices|\n",
    "|14|\"ipadSc_urls.num\": |Number of screenshots showed for display|\n",
    "|15|\"lang.num\": |Number of supported languages|\n",
    "|16|\"vpp_lic\": |Vpp Device Based Licensing Enabled|\n"
   ]
  },
  {
   "cell_type": "markdown",
   "metadata": {},
   "source": [
    "#### Googleplaystore.csv\n",
    "\n",
    " - `header_google`\n",
    "\n",
    " - `dataset_google`\n",
    "\n",
    "\n",
    "||Name | Description|\n",
    "|:--|:---|:--|\n",
    "|1 | App: |Application name|\n",
    "|2 | Category: |Category the app belongs to|\n",
    "|3 | Rating: |Overall user rating of the app (as when scraped)|\n",
    "|4 | Reviews: | Number of user reviews for the app (as when scraped)|\n",
    "|5 | Size: | Size of the app (as when scraped)|\n",
    "|6 | Installs: | Number of user downloads/installs for the app (as when scraped)|\n",
    "|7 | Type: | Paid or Free|\n",
    "|8 | Price: | Price of the app (as when scraped)|\n",
    "|9 | Content: | Rating Age group the app is targeted at - Children / Mature 21+ / Adult|\n",
    "|10 |  Genres: | An app can belong to multiple genres (apart from its main category). For eg, a musical family game will belong to Music, Game, Family genres.|"
   ]
  },
  {
   "cell_type": "markdown",
   "metadata": {},
   "source": [
    "<a href='#0'> back to index</a>\n",
    "* * *\n",
    "### <a id='13'>1.3 Knowing the size in both data sets</a>."
   ]
  },
  {
   "cell_type": "code",
   "execution_count": 11,
   "metadata": {},
   "outputs": [
    {
     "name": "stdout",
     "output_type": "stream",
     "text": [
      "['529479190', 'Clash of Clans', '116476928', 'USD', '0.0', '2130805', '579', '4.5', '4.5', '9.24.12', '9+', 'Games', '38', '5', '18', '1']\n",
      "\n",
      "\n",
      "['420009108', 'Temple Run', '65921024', 'USD', '0.0', '1724546', '3842', '4.5', '4.0', '1.6.2', '9+', 'Games', '40', '5', '1', '1']\n",
      "\n",
      "\n",
      "Number of rows: 7197\n",
      "Number of columns: 16\n"
     ]
    }
   ],
   "source": [
    "explore_data(dataset_apple, 2, 4, True)"
   ]
  },
  {
   "cell_type": "code",
   "execution_count": 12,
   "metadata": {},
   "outputs": [
    {
     "name": "stdout",
     "output_type": "stream",
     "text": [
      "['U Launcher Lite – FREE Live Cool Themes, Hide Apps', 'ART_AND_DESIGN', '4.7', '87510', '8.7M', '5,000,000+', 'Free', '0', 'Everyone', 'Art & Design', 'August 1, 2018', '1.2.4', '4.0.3 and up']\n",
      "\n",
      "\n",
      "['Sketch - Draw & Paint', 'ART_AND_DESIGN', '4.5', '215644', '25M', '50,000,000+', 'Free', '0', 'Teen', 'Art & Design', 'June 8, 2018', 'Varies with device', '4.2 and up']\n",
      "\n",
      "\n",
      "Number of rows: 10841\n",
      "Number of columns: 13\n"
     ]
    }
   ],
   "source": [
    "explore_data(dataset_google, 2, 4, True)"
   ]
  },
  {
   "cell_type": "markdown",
   "metadata": {},
   "source": [
    "### Resume\n",
    "\n",
    "|`dataset_apple`|`dataset_google`|\n",
    "|:----|:----|\n",
    "|Number of rows: 7197| Number of rows: 10841|\n",
    "|Number of columns: 16|Number of columns: 13|"
   ]
  },
  {
   "cell_type": "markdown",
   "metadata": {},
   "source": [
    "<a href='#0'> back to index</a>\n",
    "* * *\n",
    "## <a id='2'>2. Data cleaning</a>\n",
    "\n",
    "This means that we need to:\n",
    "\n",
    "- 1. **Detect inaccurate data, and correct or remove it**.\n",
    "\n",
    "- 2. **Detect duplicate data, and remove the duplicates**.\n",
    "\n",
    "\n",
    "- 3. **Remove non-English apps like 爱奇艺PPS -《欢乐颂2》电视剧热播**.\n",
    "\n",
    "- 4. **Remove apps that aren't free##**.\n",
    "\n",
    "\n",
    "The Google Play dataset has a dedicated [discussion section](https://www.kaggle.com/datasets/lava18/google-play-store-apps/discussion?sort=votes), and we can see that [one of the discussions](https://www.kaggle.com/datasets/lava18/google-play-store-apps/discussion/66015) describes an error for a certain row.\n",
    "\n",
    "<a href='#0'> back to index</a>\n",
    "* * *\n",
    "### <a id='21'>2.1. Detect inaccurate data... remove it.</a>\n",
    "\n",
    "If the number of columns in a row varies then some data is missing.\n",
    "\n",
    "This function `field_number` has a pair of parameters `dataset`, `header` in which we enter the dataset and the header.\n",
    "\n",
    "The passage of each row compare the number of fields with the number of fields in header if they do not coincide then in that line **some type of data is missing**."
   ]
  },
  {
   "cell_type": "code",
   "execution_count": 14,
   "metadata": {},
   "outputs": [],
   "source": [
    "def field_number(dataset, header):\n",
    "    index_number = 0\n",
    "    for row in range(len(dataset)):\n",
    "        if len(dataset[row]) != len(header):\n",
    "            print(dataset[row])\n",
    "            print(\"\\n\")\n",
    "            print(\"error in index number: \",index_number)\n",
    "        index_number +=1"
   ]
  },
  {
   "cell_type": "code",
   "execution_count": 15,
   "metadata": {},
   "outputs": [],
   "source": [
    "field_number(dataset_apple, header_apple)"
   ]
  },
  {
   "cell_type": "code",
   "execution_count": 16,
   "metadata": {},
   "outputs": [
    {
     "data": {
      "text/plain": [
       "['Photo Editor & Candy Camera & Grid & ScrapBook',\n",
       " 'ART_AND_DESIGN',\n",
       " '4.1',\n",
       " '159',\n",
       " '19M',\n",
       " '10,000+',\n",
       " 'Free',\n",
       " '0',\n",
       " 'Everyone',\n",
       " 'Art & Design',\n",
       " 'January 7, 2018',\n",
       " '1.0.0',\n",
       " '4.0.3 and up']"
      ]
     },
     "execution_count": 16,
     "metadata": {},
     "output_type": "execute_result"
    }
   ],
   "source": [
    "dataset_google[0]"
   ]
  },
  {
   "cell_type": "code",
   "execution_count": 17,
   "metadata": {},
   "outputs": [
    {
     "name": "stdout",
     "output_type": "stream",
     "text": [
      "['Life Made WI-Fi Touchscreen Photo Frame', '1.9', '19', '3.0M', '1,000+', 'Free', '0', 'Everyone', '', 'February 11, 2018', '1.0.19', '4.0 and up']\n",
      "\n",
      "\n",
      "error in index number:  10472\n"
     ]
    }
   ],
   "source": [
    "field_number(dataset_google, header_google)"
   ]
  },
  {
   "cell_type": "code",
   "execution_count": 18,
   "metadata": {},
   "outputs": [
    {
     "data": {
      "text/plain": [
       "12"
      ]
     },
     "execution_count": 18,
     "metadata": {},
     "output_type": "execute_result"
    }
   ],
   "source": [
    "len(dataset_google[10472]) #discussion row"
   ]
  },
  {
   "cell_type": "code",
   "execution_count": 19,
   "metadata": {},
   "outputs": [
    {
     "data": {
      "text/plain": [
       "['Life Made WI-Fi Touchscreen Photo Frame',\n",
       " '1.9',\n",
       " '19',\n",
       " '3.0M',\n",
       " '1,000+',\n",
       " 'Free',\n",
       " '0',\n",
       " 'Everyone',\n",
       " '',\n",
       " 'February 11, 2018',\n",
       " '1.0.19',\n",
       " '4.0 and up']"
      ]
     },
     "execution_count": 19,
     "metadata": {},
     "output_type": "execute_result"
    }
   ],
   "source": [
    "dataset_google[10472]"
   ]
  },
  {
   "cell_type": "markdown",
   "metadata": {},
   "source": [
    "We have passed the two datasets through the function and there is a row in the `dataset_google` with a different length from the number of columns therefore we are going to remove it from our dataset."
   ]
  },
  {
   "cell_type": "code",
   "execution_count": 20,
   "metadata": {},
   "outputs": [],
   "source": [
    "del dataset_google[10472]"
   ]
  },
  {
   "cell_type": "markdown",
   "metadata": {},
   "source": [
    "Checking if row has been removed properlly."
   ]
  },
  {
   "cell_type": "code",
   "execution_count": 21,
   "metadata": {},
   "outputs": [
    {
     "data": {
      "text/plain": [
       "['osmino Wi-Fi: free WiFi',\n",
       " 'TOOLS',\n",
       " '4.2',\n",
       " '134203',\n",
       " '4.1M',\n",
       " '10,000,000+',\n",
       " 'Free',\n",
       " '0',\n",
       " 'Everyone',\n",
       " 'Tools',\n",
       " 'August 7, 2018',\n",
       " '6.06.14',\n",
       " '4.4 and up']"
      ]
     },
     "execution_count": 21,
     "metadata": {},
     "output_type": "execute_result"
    }
   ],
   "source": [
    "dataset_google[10472]"
   ]
  },
  {
   "cell_type": "markdown",
   "metadata": {},
   "source": [
    "#### yes ...It has been removed"
   ]
  },
  {
   "cell_type": "markdown",
   "metadata": {},
   "source": [
    "<a href='#0'> back to index</a>\n",
    "* * *\n",
    "### <a id='22'>2.2 Detect duplicate data, and remove the duplicates.</a>\n",
    "\n",
    "`for` is running through each row extracting the name of the application.\n",
    "\n",
    "- Checking if it already exists or not.\n",
    "\n",
    "- if not exist then the name is inserted in `unique_apps` else is inserted into `duplicate_apps`."
   ]
  },
  {
   "cell_type": "code",
   "execution_count": 22,
   "metadata": {
    "editable": true,
    "slideshow": {
     "slide_type": ""
    },
    "tags": []
   },
   "outputs": [],
   "source": [
    "def detect_duplicated(dataset):\n",
    "    unique_apps = []\n",
    "    duplicate_apps = []\n",
    "    \n",
    "    for row in dataset:\n",
    "        name = row[0]\n",
    "        if name in unique_apps:\n",
    "            duplicate_apps.append(name)\n",
    "        else:\n",
    "            unique_apps.append(name)\n",
    "            \n",
    "    if len(duplicate_apps) == 0:\n",
    "        print(\"In this dataset there are no duplicate apps\")\n",
    "    else:\n",
    "        times=len(duplicate_apps)\n",
    "        print(\"There are {reapeated} repeated apps\".format(reapeated=times,dataset=dataset))\n",
    "        print(\"\\n\")\n",
    "        print('Examples of duplicate apps:',\"\\n\"+\"\\n\" , duplicate_apps[:5])"
   ]
  },
  {
   "cell_type": "code",
   "execution_count": 23,
   "metadata": {},
   "outputs": [
    {
     "name": "stdout",
     "output_type": "stream",
     "text": [
      "In this dataset there are no duplicate apps\n"
     ]
    }
   ],
   "source": [
    "detect_duplicated(dataset_apple)"
   ]
  },
  {
   "cell_type": "code",
   "execution_count": 24,
   "metadata": {},
   "outputs": [
    {
     "name": "stdout",
     "output_type": "stream",
     "text": [
      "There are 1181 repeated apps\n",
      "\n",
      "\n",
      "Examples of duplicate apps: \n",
      "\n",
      " ['Quick PDF Scanner + OCR FREE', 'Box', 'Google My Business', 'ZOOM Cloud Meetings', 'join.me - Simple Meetings']\n"
     ]
    }
   ],
   "source": [
    "detect_duplicated(dataset_google)"
   ]
  },
  {
   "cell_type": "markdown",
   "metadata": {},
   "source": [
    "Just only 5 samples of the repeated applications in **dataset_google**\n",
    "\n",
    "* * * \n",
    "<a href='#0'> back to index</a>\n",
    "### <a id='23'>2.3 What differentiates duplicate applications?</a>\n",
    "\n",
    "If we take as an example a repeated application, in this case `Instagram`, we see that of all the fields that make up the row **there is only one that is different**."
   ]
  },
  {
   "cell_type": "code",
   "execution_count": 26,
   "metadata": {
    "editable": true,
    "slideshow": {
     "slide_type": ""
    },
    "tags": []
   },
   "outputs": [
    {
     "name": "stdout",
     "output_type": "stream",
     "text": [
      "['Quick PDF Scanner + OCR FREE', 'BUSINESS', '4.2', '80805', 'Varies with device', '5,000,000+', 'Free', '0', 'Everyone', 'Business', 'February 26, 2018', 'Varies with device', '4.0.3 and up']\n",
      "['Quick PDF Scanner + OCR FREE', 'BUSINESS', '4.2', '80805', 'Varies with device', '5,000,000+', 'Free', '0', 'Everyone', 'Business', 'February 26, 2018', 'Varies with device', '4.0.3 and up']\n",
      "['Quick PDF Scanner + OCR FREE', 'BUSINESS', '4.2', '80804', 'Varies with device', '5,000,000+', 'Free', '0', 'Everyone', 'Business', 'February 26, 2018', 'Varies with device', '4.0.3 and up']\n"
     ]
    }
   ],
   "source": [
    "for app in dataset_google[1:]:\n",
    "    if app[0] == 'Quick PDF Scanner + OCR FREE':\n",
    "        print(app)"
   ]
  },
  {
   "cell_type": "code",
   "execution_count": 27,
   "metadata": {
    "editable": true,
    "slideshow": {
     "slide_type": ""
    },
    "tags": []
   },
   "outputs": [
    {
     "name": "stdout",
     "output_type": "stream",
     "text": [
      "['MailChimp - Email, Marketing Automation', 'BUSINESS', '4.1', '5448', '12M', '500,000+', 'Free', '0', 'Everyone', 'Business', 'July 25, 2018', '4.9.1', '5.0 and up']\n",
      "['MailChimp - Email, Marketing Automation', 'BUSINESS', '4.1', '5448', '12M', '500,000+', 'Free', '0', 'Everyone', 'Business', 'July 25, 2018', '4.9.1', '5.0 and up']\n"
     ]
    }
   ],
   "source": [
    "for app in dataset_google[1:]:\n",
    "    if app[0] == 'MailChimp - Email, Marketing Automation':\n",
    "        print(app)"
   ]
  },
  {
   "cell_type": "markdown",
   "metadata": {
    "editable": true,
    "slideshow": {
     "slide_type": ""
    },
    "tags": []
   },
   "source": [
    "### Contextual Explanation\n",
    "\n",
    "When we analyze a dataset of applications, it's common to find some applications listed multiple times. To address this, we need to determine the best criteria to remove these duplicates.\n",
    "\n",
    "#### Initial Observation:\n",
    "Once we have verified that there are many applications (some repeated more than once), we need to decide how to handle the duplicates. Specifically, we want to retain only those versions of an application that have the most recent and relevant data.\n",
    "\n",
    "#### Criterion for Removing Duplicates:\n",
    "The criterion chosen is: \"The higher the number of reviews, the more recent the data should be!\" \n",
    "Instead of randomly removing duplicate entries, we will keep only those applications that are repeated and have the highest number of reviews. The versions with fewer reviews will be eliminated in favor of those with more.\n",
    "\n",
    "#### Function to Create a Dictionary:\n",
    "To implement this criterion, we use a function that processes a dataset (usually a list of lists) and creates a dictionary where:\n",
    "- **Key:** The name of the app.\n",
    "- **Value:** The maximum number of reviews associated with that app.\n",
    "\n",
    "This approach ensures that for each application, we keep only the version with the highest review count. \n",
    "\n",
    "#### Creating the Dictionary `reviews_max`:\n",
    "We create a dictionary called `reviews_max`, where:\n",
    "- The key is the name of the application.\n",
    "- The value is the number of reviews for that application (extracted from the data).\n",
    "\n",
    "To populate this dictionary, we follow these steps:\n",
    "1. **Extracting Data**: We extract the `name` and `n_reviews` (the number of reviews) for each application.\n",
    "2. **Updating or Adding to the Dictionary**:\n",
    "   - If a name already exists in the dictionary and the value associated with that key is less than the current `n_reviews`, we update the value.\n",
    "   - If a name does not exist in the dictionary, we add it along with its corresponding `n_reviews`.\n",
    "\n",
    "This ensures that our final dictionary contains only the most reviewed versions of each application.\n",
    "\n",
    "### Example:\n",
    "Suppose we have the following data for three applications:\n",
    "\n",
    "- App A: 10 reviews\n",
    "- App B: 20 reviews (repeated twice)\n",
    "- App C: 5 reviews\n",
    "\n",
    "After processing, our `reviews_max` dictionary would look like this:\n",
    "- Key: \"App A\", Value: 10 reviews\n",
    "- Key: \"App B\", Value: 20 reviews\n",
    "- Key: \"App C\", Value: 5 reviews\n",
    "\n",
    "Thus, for each application, we keep the version with the highest number of reviews.\n",
    "\n",
    "### Summary:\n",
    "By using this approach, we ensure that our dataset contains only the most relevant and reviewed versions of each application, making it more accurate and useful."
   ]
  },
  {
   "cell_type": "code",
   "execution_count": null,
   "metadata": {},
   "outputs": [],
   "source": [
    "reviews_max = {} #key=name, value=review\n",
    "\n",
    "for row in dataset_google:\n",
    "    name = row[0]\n",
    "    n_reviews = float(row[3])\n",
    "    \n",
    "    if name in reviews_max and reviews_max[name] < n_reviews: #if name in reviews_max & value in reviews_max[name]\n",
    "        reviews_max[name] = n_reviews                         #is < than n_reviews the update\n",
    "        \n",
    "    elif name not in reviews_max:\n",
    "        reviews_max[name] = n_reviews\n",
    "        \n",
    "print('length of the dictionary:',len(reviews_max))"
   ]
  },
  {
   "cell_type": "markdown",
   "metadata": {},
   "source": [
    "This is the new length of our dataset `length of the dictionary: 9659` having deleted repeated applications.\n",
    "\n",
    "The original length of the dataset minus the number of repeated applications results in this number."
   ]
  },
  {
   "cell_type": "code",
   "execution_count": null,
   "metadata": {
    "scrolled": true
   },
   "outputs": [],
   "source": [
    "reviews_max"
   ]
  },
  {
   "cell_type": "code",
   "execution_count": null,
   "metadata": {},
   "outputs": [],
   "source": [
    "print('expected length', len(dataset_google) - 1181) #1181 repeated apps"
   ]
  },
  {
   "cell_type": "markdown",
   "metadata": {},
   "source": [
    "- Filter the maximum number of apps reviews with the dictionary and that the name is not added."
   ]
  },
  {
   "cell_type": "code",
   "execution_count": null,
   "metadata": {},
   "outputs": [],
   "source": [
    "android_clean = []\n",
    "already_added = []\n",
    "\n",
    "for row in dataset_google: #original dataset\n",
    "    name = row[0]\n",
    "    n_reviews = float(row[3])\n",
    "    \n",
    "    if n_reviews == reviews_max[name] and name not in already_added:\n",
    "        android_clean.append(row) #row list added to list\n",
    "        already_added.append(name) #new name added list"
   ]
  },
  {
   "cell_type": "markdown",
   "metadata": {},
   "source": [
    "`android_clean` is the our **new dataset**"
   ]
  },
  {
   "cell_type": "code",
   "execution_count": null,
   "metadata": {},
   "outputs": [],
   "source": [
    "explore_data(android_clean, 1, 2, True)"
   ]
  },
  {
   "cell_type": "markdown",
   "metadata": {},
   "source": [
    "<a href='#0'> back to index</a>\n",
    "* * *\n",
    "### <a id='24'>2.4 Removing Non-English Apps</a>"
   ]
  },
  {
   "cell_type": "markdown",
   "metadata": {},
   "source": [
    "It is no necessary to do the same with App Store data because there are no duplicates.\n",
    "\n",
    "We use English for the applications we develop in our company, and we would like to analyze only applications aimed at an English-speaking audience. \n",
    "\n",
    "\n",
    "However, if we explore the data enough, we will find that **both datasets** have applications with names that suggest they are not aimed at an English-speaking audience."
   ]
  },
  {
   "cell_type": "code",
   "execution_count": null,
   "metadata": {},
   "outputs": [],
   "source": [
    "print(AppleStore[813][1])\n",
    "print(AppleStore[6731][1])\n",
    "print('\\n')\n",
    "print(android_clean[4412][0])\n",
    "print(android_clean[7940][0])"
   ]
  },
  {
   "cell_type": "markdown",
   "metadata": {},
   "source": [
    "**One way to do this is to remove all applications whose name contains a symbol that is not commonly used in English text**. \n",
    "\n",
    "English text typically includes letters of the English alphabet, numbers composed of digits from 0 to 9, punctuation marks (., !, ?, ;) and other símbols (+, *, /).\n",
    "\n",
    "Each character we use in a string has a corresponding number associated with it. \n",
    "\n",
    "For example, the corresponding number of the character\"a\" es 97, el del carácter \"A\" es 65, y el del carácter \"爱\" es 29.233. \n",
    "\n",
    " We can get the corresponding number of each character using the built-in function **ord().**"
   ]
  },
  {
   "cell_type": "code",
   "execution_count": null,
   "metadata": {},
   "outputs": [],
   "source": [
    "print(ord('a'))\n",
    "print(ord('A'))\n",
    "print(ord('爱'))\n",
    "print(ord('5'))\n",
    "print(ord('+'))"
   ]
  },
  {
   "cell_type": "markdown",
   "metadata": {},
   "source": [
    "The numbers corresponding to the characters that we usually use in an English text are all in the range of 0 to 127, according to the ASCII system (American Standard Code for Information Interchange). \n",
    "\n",
    "Based on this range of numbers, we can construct a function that detects whether a character belongs to the common English character set or not. \n",
    "\n",
    "- **If the number is equal to or less than 127, the character belongs to the set of common English characters. \n",
    "\n",
    "- **If an app's name contains a character greater than 127, it probably means that the app has a non-English name.** \n",
    "\n",
    "This is the basis of operation. \n",
    "\n",
    "Read each of the characters and compare their ASCII value with the one we have determined as limit (127)."
   ]
  },
  {
   "cell_type": "code",
   "execution_count": null,
   "metadata": {},
   "outputs": [],
   "source": [
    "def english_speak(string):\n",
    "    for character in string:\n",
    "        valor_character = ord(character)\n",
    "        if valor_character > 127:\n",
    "            return False #not English \n",
    "        else:\n",
    "            return True # is English"
   ]
  },
  {
   "cell_type": "code",
   "execution_count": null,
   "metadata": {},
   "outputs": [],
   "source": [
    "english_speak('Instagram')"
   ]
  },
  {
   "cell_type": "code",
   "execution_count": null,
   "metadata": {},
   "outputs": [],
   "source": [
    "english_speak('爱奇艺PPS -《欢乐颂2》电视剧热播')"
   ]
  },
  {
   "cell_type": "code",
   "execution_count": null,
   "metadata": {},
   "outputs": [],
   "source": [
    "english_speak('Docs To Go™ Free Office Suite')#Is English!"
   ]
  },
  {
   "cell_type": "code",
   "execution_count": null,
   "metadata": {},
   "outputs": [],
   "source": [
    "english_speak('Instachat 😜') #Is English!"
   ]
  },
  {
   "cell_type": "code",
   "execution_count": null,
   "metadata": {},
   "outputs": [],
   "source": [
    "print(ord('™'))\n",
    "print(ord('😜'))"
   ]
  },
  {
   "cell_type": "markdown",
   "metadata": {},
   "source": [
    "If we are going to use the function we have created, we will lose useful data, we saw that the function could not correctly identify certain names of English applications such as **'Docs To Go™ Free Office Suite'** and **'Instachat 😜'** since many English applications will be incorrectly labeled as non-English. \n",
    "\n",
    "\n",
    "To **minimize the impact of data loss**,it is necessary to have a basic criterion that helps in the screening so **we will only delete an application if its name is longer than three characters with the corresponding numbers outside the ASCII range**. \n",
    "\n",
    "This means that all English apps with up to three emoji or other special characters will still be labeled as English. "
   ]
  },
  {
   "cell_type": "code",
   "execution_count": null,
   "metadata": {},
   "outputs": [],
   "source": [
    "def english_speak(text):\n",
    "    non_validchar = [] #aux list\n",
    "    for character in text:\n",
    "        valor_character = ord(character)\n",
    "        if valor_character > 127:\n",
    "            non_validchar.append(valor_character)\n",
    "    if len(non_validchar) >= 3:\n",
    "        return False\n",
    "    else:\n",
    "        return True"
   ]
  },
  {
   "cell_type": "code",
   "execution_count": null,
   "metadata": {},
   "outputs": [],
   "source": [
    "english_speak('Docs To Go™ Free Office Suite')"
   ]
  },
  {
   "cell_type": "code",
   "execution_count": null,
   "metadata": {},
   "outputs": [],
   "source": [
    "english_speak('爱奇艺PPS -《欢乐颂2》电视剧热播')"
   ]
  },
  {
   "cell_type": "code",
   "execution_count": null,
   "metadata": {},
   "outputs": [],
   "source": [
    "english_speak('Instachat 😜 😜')"
   ]
  },
  {
   "cell_type": "code",
   "execution_count": null,
   "metadata": {},
   "outputs": [],
   "source": [
    "english_speak('Instachat 😜 😜 😜')"
   ]
  },
  {
   "cell_type": "markdown",
   "metadata": {},
   "source": [
    "At this point it is important to remember what the names of the datasets are, thus avoiding failures.\n",
    "\n",
    "|Dataset names|lenght|\n",
    "|:----|:----|\n",
    "|`dataset_apple`|7197|\n",
    "|`android_clean`|9659, 8757|"
   ]
  },
  {
   "cell_type": "markdown",
   "metadata": {},
   "source": [
    "<a href='#0'> back to index</a>\n",
    "* * *\n",
    "### <a id='25'>2.5 Filter non-English applications from both datasets.</a> \n",
    "\n",
    "If an app's name is identified as English, the we add the entire row to a separate list."
   ]
  },
  {
   "cell_type": "code",
   "execution_count": null,
   "metadata": {},
   "outputs": [],
   "source": [
    "# AppleStore\n",
    "\n",
    "list_apple_clean = []\n",
    "\n",
    "for row in dataset_apple:\n",
    "    name = row[1]\n",
    "    if english_speak(name):\n",
    "        list_apple_clean.append(row)\n",
    "    else:\n",
    "        pass"
   ]
  },
  {
   "cell_type": "code",
   "execution_count": null,
   "metadata": {},
   "outputs": [],
   "source": [
    "## android_clean\n",
    "\n",
    "list_android_clean = []\n",
    "\n",
    "for row in android_clean:\n",
    "    nombre = row[0]\n",
    "    if english_speak(nombre):\n",
    "        list_android_clean.append(row)\n",
    "    else:\n",
    "        pass"
   ]
  },
  {
   "cell_type": "markdown",
   "metadata": {},
   "source": [
    "<a href='#0'> back to index</a>\n",
    "* * *\n",
    "### <a id='26'>2.6 Exploring datasets and see how many rows we have left for each dataset.</a>\n",
    "\n",
    "In each cleaning process we have put different names to our dataset variables so it is important to take them into account"
   ]
  },
  {
   "cell_type": "code",
   "execution_count": null,
   "metadata": {},
   "outputs": [],
   "source": [
    "explore_data(list_apple_clean, 2, 4, True)"
   ]
  },
  {
   "cell_type": "code",
   "execution_count": null,
   "metadata": {},
   "outputs": [],
   "source": [
    "explore_data(list_android_clean, 2, 4, True)"
   ]
  },
  {
   "cell_type": "markdown",
   "metadata": {},
   "source": [
    "**Now we are working with this:**\n",
    "\n",
    "\n",
    "|Dataset names|lenght|\n",
    "|:----|:----|\n",
    "|`list_apple_clean`|6155|\n",
    "|`list_android_clean`|9597|"
   ]
  },
  {
   "cell_type": "markdown",
   "metadata": {},
   "source": [
    "<a href='#0'> back to index</a>\n",
    "* * *\n",
    "## <a id='3'>3. Isolating Free Apps</a>\n",
    "\n",
    "Our datasets contain **free and non-free applications** we need to isolate only the free applications for our analysis.\n",
    "\n",
    "Checking the length of each dataset to see how many apps have left."
   ]
  },
  {
   "cell_type": "code",
   "execution_count": null,
   "metadata": {},
   "outputs": [],
   "source": [
    "header_apple"
   ]
  },
  {
   "cell_type": "code",
   "execution_count": null,
   "metadata": {},
   "outputs": [],
   "source": [
    "free_apple_clean = []\n",
    "\n",
    "for row in list_apple_clean:\n",
    "    prix = row[4] #'price'\n",
    " \n",
    "    if prix == '0.0' or prix == '0': #not numbers just characters! \n",
    "        free_apple_clean.append(row)\n",
    "    else:\n",
    "        pass\n",
    "    \n",
    "len(free_apple_clean)"
   ]
  },
  {
   "cell_type": "code",
   "execution_count": null,
   "metadata": {},
   "outputs": [],
   "source": [
    "header_google"
   ]
  },
  {
   "cell_type": "code",
   "execution_count": null,
   "metadata": {},
   "outputs": [],
   "source": [
    "free_android_clean = [] \n",
    "\n",
    "for row in list_android_clean:\n",
    "    prix = row[7] #'Price'\n",
    "    if prix == '0.0' or prix == '0': #not numbers just characters! \n",
    "        free_android_clean.append(row)\n",
    "    else:\n",
    "        pass\n",
    "    \n",
    "len(free_android_clean)"
   ]
  },
  {
   "cell_type": "markdown",
   "metadata": {},
   "source": [
    "**Updating names and lengths**\n",
    "\n",
    "\n",
    "|Dataset names|lenght|\n",
    "|:----|:----|\n",
    "|`free_apple_clean`|3203|\n",
    "|`free_android_clean`|8848|"
   ]
  },
  {
   "cell_type": "markdown",
   "metadata": {},
   "source": [
    "<a href='#0'> back to index</a>\n",
    "* * *\n",
    "\n",
    "### <a id='31'>3.1 Our ultimate goal</a>\n",
    "\n",
    "Our **ultimate goal** is to add the app on both Google Play and the App Store, so we need to **find profiles of apps that are successful in both markets**. \n",
    "\n",
    "Let's start the analysis by having an idea of what are the most common genres for each market. To do this, we will have to build frequency tables for some columns of our datasets.\n",
    "\n",
    "The columns that can give us the information we need are:\n",
    "\n",
    "`free_apple_clean[11]` ---> `prime_genre`\n",
    "\n",
    "`free_android_clean[]` ---> `Genres`"
   ]
  },
  {
   "cell_type": "code",
   "execution_count": null,
   "metadata": {},
   "outputs": [],
   "source": [
    "header_apple"
   ]
  },
  {
   "cell_type": "code",
   "execution_count": null,
   "metadata": {},
   "outputs": [],
   "source": [
    "header_google"
   ]
  },
  {
   "cell_type": "code",
   "execution_count": null,
   "metadata": {},
   "outputs": [],
   "source": [
    "def freq_table(dataset, column):\n",
    "    table = {}\n",
    "    total = 0\n",
    "    \n",
    "    for row in dataset:\n",
    "        total +=1 # counter give us length.\n",
    "        value = row[column]\n",
    "        if value in table:\n",
    "            table[value] +=1\n",
    "        else:\n",
    "            table[value] = 1\n",
    "        \n",
    "    table_percentages = {}\n",
    "    \n",
    "    for key in table: #table[column value]<--as key] value <--as +1 values added \n",
    "        percentage = (table[key] / total ) * 100\n",
    "        table_percentages[key]=percentage\n",
    "            \n",
    "    return table_percentages # {column:times repeated}"
   ]
  },
  {
   "cell_type": "code",
   "execution_count": null,
   "metadata": {},
   "outputs": [],
   "source": [
    "print(freq_table(free_apple_clean, 11))"
   ]
  },
  {
   "cell_type": "code",
   "execution_count": null,
   "metadata": {},
   "outputs": [],
   "source": [
    "print(freq_table(free_android_clean, 9))"
   ]
  },
  {
   "cell_type": "markdown",
   "metadata": {},
   "source": [
    "\n",
    "- The value of the dictionary we place in `key_val_as_tuple`, tuple along with the key of this\n"
   ]
  },
  {
   "cell_type": "code",
   "execution_count": null,
   "metadata": {},
   "outputs": [],
   "source": [
    "def display_table(dataset, column):\n",
    "    table = freq_table(dataset, column) #return diccionary\n",
    "    table_display = []\n",
    "    for key in table:\n",
    "        key_val_as_tuple = (table[key], key)   #times repeated & key same variable\n",
    "        table_display.append(key_val_as_tuple) #append tuple into list\n",
    "\n",
    "    table_sorted = sorted(table_display, reverse = True) #sorting list\n",
    "    for entry in table_sorted: #print every cell on list\n",
    "        print(entry[1], ':', round(entry[0],2),'%')"
   ]
  },
  {
   "cell_type": "code",
   "execution_count": null,
   "metadata": {},
   "outputs": [],
   "source": [
    "output_apple = display_table(free_apple_clean,11) #apple prime_genere column"
   ]
  },
  {
   "cell_type": "code",
   "execution_count": null,
   "metadata": {
    "scrolled": true
   },
   "outputs": [],
   "source": [
    "output_gogle = display_table(free_android_clean,9)"
   ]
  },
  {
   "cell_type": "markdown",
   "metadata": {},
   "source": [
    "<a href='#0'> back to index</a>\n",
    "* * *\n",
    "### <a id='32'>3.2 Profiles of apps successful in both markets</a>\n",
    "\n",
    "|Dataset name|Genres|percentage|\n",
    "|:---|:---|:---|\n",
    "|`free_apple_clean`|||\n",
    "||Games : |58 %|\n",
    "||**Entertainment :** |7,84 %|\n",
    "||Photo & Video : |5 %|\n",
    "||Education : |4 %|\n",
    "||Social Networking : |3 %|\n",
    "|`free_android_clean`|||\n",
    "||Tools : 8 %\n",
    "||**Entertainment :**| 6.08 %|\n",
    "||Education : |5 %|\n",
    "||Business : |5 %|\n",
    "||Productivity : |4 %|"
   ]
  },
  {
   "cell_type": "markdown",
   "metadata": {},
   "source": [
    "### We would like to get an idea about the type of apps with more users.\n",
    "\n",
    "One way to find out which genres are the most popular (have the most users) is to calculate the **average number of installs for each app genre**.\n",
    "\n",
    "<br>\n",
    "\n",
    "- For the **Google Play** dataset, we can find this information in the **installs** column, \n",
    "\n",
    "\n",
    "- For the **App Store dataset** we will take the total number of user ratings as a proxy, which we can find in the `'rating_count'` column app."
   ]
  },
  {
   "cell_type": "code",
   "execution_count": null,
   "metadata": {},
   "outputs": [],
   "source": [
    "header_apple[5]"
   ]
  },
  {
   "cell_type": "code",
   "execution_count": null,
   "metadata": {},
   "outputs": [],
   "source": [
    "for idx in range(5):\n",
    "    print(free_apple_clean[idx][5])"
   ]
  },
  {
   "cell_type": "markdown",
   "metadata": {},
   "source": [
    "These are the number of installations per application\n",
    "\n",
    "***"
   ]
  },
  {
   "cell_type": "code",
   "execution_count": null,
   "metadata": {},
   "outputs": [],
   "source": [
    "header_google[5]"
   ]
  },
  {
   "cell_type": "code",
   "execution_count": null,
   "metadata": {},
   "outputs": [],
   "source": [
    "for idx in range(5):\n",
    "    print(free_android_clean[idx][5])"
   ]
  },
  {
   "cell_type": "markdown",
   "metadata": {},
   "source": [
    "...and this is an indicative number and therefore it is very important to note that the data contained in these columns is of a different nature.\n",
    "\n",
    "Let's start with the apple set."
   ]
  },
  {
   "cell_type": "markdown",
   "metadata": {
    "editable": true,
    "slideshow": {
     "slide_type": ""
    },
    "tags": []
   },
   "source": [
    "<a href='#0'> back to index</a>\n",
    "* * *\n",
    "\n",
    "### <a id='5'>5. Most Popular Apps by Genre on Apple Store ¶</a>"
   ]
  },
  {
   "cell_type": "code",
   "execution_count": null,
   "metadata": {},
   "outputs": [],
   "source": [
    "print(free_apple_clean[1][:])"
   ]
  },
  {
   "cell_type": "code",
   "execution_count": null,
   "metadata": {},
   "outputs": [],
   "source": [
    "genres_ios = freq_table(free_apple_clean, -5)\n",
    "list_order = {}\n",
    "\n",
    "for genre in genres_ios:\n",
    "    total = 0\n",
    "    len_genre = 0\n",
    "    for app in free_apple_clean:\n",
    "        genre_app = app[-5]\n",
    "        if genre_app == genre:            \n",
    "            n_ratings = float(app[5])\n",
    "            total += n_ratings\n",
    "            len_genre += 1\n",
    "            \n",
    "    avg_n_ratings = total / len_genre\n",
    "    print(genre, ':', avg_n_ratings)\n",
    "    \n",
    "    list_order[genre]=avg_n_ratings"
   ]
  },
  {
   "cell_type": "markdown",
   "metadata": {},
   "source": [
    "### - sorting Genres on App Store "
   ]
  },
  {
   "cell_type": "code",
   "execution_count": null,
   "metadata": {},
   "outputs": [],
   "source": [
    "marklist = sorted(list_order.items(), key=lambda x:x[1],reverse = True)\n",
    "sortdict = dict(marklist)\n",
    "sortdict"
   ]
  },
  {
   "cell_type": "markdown",
   "metadata": {},
   "source": [
    "## <a id='4'>4. Most Popular Apps by Genre on Android</a>"
   ]
  },
  {
   "cell_type": "code",
   "execution_count": null,
   "metadata": {
    "editable": true,
    "slideshow": {
     "slide_type": ""
    },
    "tags": []
   },
   "outputs": [],
   "source": [
    "for app in free_apple_clean:\n",
    "    if app[-5] == 'Navigation':    # number one\n",
    "        print(app[1], ':', app[5]) # print name and number of ratings"
   ]
  },
  {
   "cell_type": "markdown",
   "metadata": {
    "editable": true,
    "slideshow": {
     "slide_type": ""
    },
    "tags": []
   },
   "source": [
    "The same pattern applies to social networking apps, where the average number is heavily influenced by a few giants like Facebook, Pinterest, Skype, etc. Same applies to music apps, where a few big players like Pandora, Spotify, and Shazam heavily influence the average number.\n",
    "\n",
    "**Our aim** is to find popular genres, but navigation, social networking or music apps might seem more popular than they really are. \n",
    "\n",
    "**The average number of ratings seem to be skewed by very few apps which have hundreds of thousands of user ratings, while the other apps may struggle to get past the 10,000 threshold**. \n",
    "\n",
    "\n",
    "We could get a **better picture by removing these extremely popular apps** for each genre and then rework the averages, but we'll leave this level of detail for later.\n",
    "\n",
    "Reference apps have 74,942 user ratings on average, but it's actually the Bible and Dictionary.com which skew up the average rating:\n",
    "\n",
    "### What applications are there in the second most popular genre?"
   ]
  },
  {
   "cell_type": "code",
   "execution_count": null,
   "metadata": {
    "editable": true,
    "slideshow": {
     "slide_type": ""
    },
    "tags": []
   },
   "outputs": [],
   "source": [
    "for app in free_apple_clean:\n",
    "    if app[-5] == 'Reference': # number two\n",
    "        print(app[1], ':', app[5])"
   ]
  },
  {
   "cell_type": "markdown",
   "metadata": {
    "editable": true,
    "slideshow": {
     "slide_type": ""
    },
    "tags": []
   },
   "source": [
    "This niche seems to show some potential. \n",
    "\n",
    "One thing we could do is take a popular book and turn it into an app where we could add different features besides the raw version of the book: \n",
    "\n",
    "- This might include daily quotes from the book.\n",
    "\n",
    "- an audio version of the book.\n",
    "\n",
    "- quizzes about the book, etc. \n",
    "\n",
    "- we could also embed a dictionary within the app, so users don't need to exit our app to look up words in an external app.\n",
    "\n",
    "<br>\n",
    "\n",
    "This idea seems to fit well with the fact that the **App Store is dominated by for-fun apps**. This suggests the market might be a bit saturated with for-fun apps, which means a practical app might have more of a chance to stand out among the huge number of apps on the App Store.\n",
    "\n",
    "Other genres that seem popular include weather, book, food and drink, or finance. The book genre seem to overlap a bit with the app idea we described above, but the other genres don't seem too interesting:\n",
    "\n",
    "- Weather apps — people generally don't spend too much time in-app, and the chances of making profit from in-app adds are low. Also, getting reliable live weather data may require us to connect our apps to non-free APIs.\n",
    "\n",
    "- Food and drink — examples here include Starbucks, Dunkin' Donuts, McDonald's, etc. So making a popular food and drink app requires actual cooking and a delivery service, which is outside the scope of our company.\n",
    "\n",
    "- Finance apps — these apps involve banking, paying bills, money transfer, etc. Building a finance app requires domain knowledge, and we don't want to hire a finance expert just to build an app.\n",
    "\n",
    "- Therefore our premise is to avoid the big guys.\n",
    "\n",
    "\n",
    "\n",
    "<a href='#0'> back to index</a>\n",
    "* * *\n",
    "## <a id='5'>5. Most Popular Apps by Genre on Google Play</a>\n",
    "\n",
    "For the Google Play market, we actually have data about the number of installs, so we should be able to get a clearer picture about genre popularity. However, the install numbers don't seem precise enough — we can see that most values are open-ended (100+, 1,000+, 5,000+, etc.):\n",
    "\n",
    "## Analyze the Google Play market"
   ]
  },
  {
   "cell_type": "code",
   "execution_count": null,
   "metadata": {},
   "outputs": [],
   "source": [
    "display_table(free_android_clean, 5) # the Installs columns"
   ]
  },
  {
   "cell_type": "markdown",
   "metadata": {},
   "source": [
    "One problem with this data is that is not precise. For instance, we don't know whether an app with 100,000+ installs has 100,000 installs, 200,000, or 350,000. However, we don't need very precise data for our purposes — we only want to get an idea which app genres attract the most users, and we don't need perfect precision with respect to the number of users.\n",
    "\n",
    "We're going to leave the numbers as they are, which means that we'll consider that an app with 100,000+ installs has 100,000 installs, and an app with 1,000,000+ installs has 1,000,000 installs, and so on.\n",
    "\n",
    "To perform computations, however, we'll need to convert each install number to float — this means that we need to remove the commas and the plus characters, otherwise the conversion will fail and raise an error. We'll do this directly in the loop below, where we also compute the average number of installs for each genre (category)."
   ]
  },
  {
   "cell_type": "code",
   "execution_count": null,
   "metadata": {
    "editable": true,
    "slideshow": {
     "slide_type": ""
    },
    "tags": []
   },
   "outputs": [],
   "source": [
    "categories_android = freq_table(free_android_clean, 1)\n",
    "list_order={}\n",
    "\n",
    "for category in categories_android:\n",
    "    total = 0\n",
    "    len_category = 0\n",
    "    for app in free_android_clean:\n",
    "        category_app = app[1]\n",
    "        if category_app == category:            \n",
    "            n_installs = app[5]\n",
    "            n_installs = n_installs.replace(',', '')\n",
    "            n_installs = n_installs.replace('+', '')\n",
    "            total += float(n_installs)\n",
    "            len_category += 1\n",
    "    avg_n_installs = total / len_category\n",
    "    print(category, ':', avg_n_installs)\n",
    "    \n",
    "    list_order[category]=avg_n_installs"
   ]
  },
  {
   "cell_type": "code",
   "execution_count": null,
   "metadata": {},
   "outputs": [],
   "source": [
    "marklist = sorted(list_order.items(), key=lambda x:x[1],reverse = True)\n",
    "sortdict = dict(marklist)\n",
    "sortdict"
   ]
  },
  {
   "cell_type": "markdown",
   "metadata": {
    "editable": true,
    "slideshow": {
     "slide_type": ""
    },
    "tags": []
   },
   "source": [
    "On average, communication apps have the most installs: 38590581.08741259. \n",
    "\n",
    "**This number is heavily skewed up by a few apps that have over one billion installs (WhatsApp, Facebook Messenger, Skype, Google Chrome, Gmail, and Hangouts)**, and a few others with over 100 and 500 million installs:"
   ]
  },
  {
   "cell_type": "code",
   "execution_count": null,
   "metadata": {
    "editable": true,
    "slideshow": {
     "slide_type": ""
    },
    "tags": []
   },
   "outputs": [],
   "source": [
    "for app in free_android_clean:\n",
    "    if app[1] == 'COMMUNICATION' and (app[5] == '1,000,000,000+' or \n",
    "                                      app[5] == '500,000,000+' or \n",
    "                                      app[5] == '100,000,000+'):\n",
    "        print(app[0], ':', app[5])"
   ]
  },
  {
   "cell_type": "markdown",
   "metadata": {},
   "source": [
    "If we removed all the communication apps that have over 100 million installs, the average would be reduced roughly ten times:"
   ]
  },
  {
   "cell_type": "code",
   "execution_count": null,
   "metadata": {},
   "outputs": [],
   "source": [
    "under_100_m = []\n",
    "\n",
    "for app in free_android_clean:\n",
    "    n_installs = app[5]\n",
    "    n_installs = n_installs.replace(',', '')\n",
    "    n_installs = n_installs.replace('+', '')\n",
    "    if (app[1] == 'COMMUNICATION') and (float(n_installs) < 100000000):\n",
    "        under_100_m.append(float(n_installs))\n",
    "        \n",
    "sum(under_100_m) / len(under_100_m)"
   ]
  },
  {
   "cell_type": "markdown",
   "metadata": {},
   "source": [
    "We see the same pattern for the video players category, which is the runner-up with 24,727,872 installs. The market is dominated by apps like Youtube, Google Play Movies & TV, or MX Player. The pattern is repeated for social apps (where we have giants like Facebook, Instagram, Google+, etc.), photography apps (Google Photos and other popular photo editors), or productivity apps (Microsoft Word, Dropbox, Google Calendar, Evernote, etc.).\n",
    "\n",
    "Again, the main concern is that these app genres might seem more popular than they really are. Moreover, these niches seem to be dominated by a few giants who are hard to compete against.\n",
    "\n",
    "The game genre seems pretty popular, but previously we found out this part of the market seems a bit saturated, so we'd like to come up with a different app recommendation if possible.\n",
    "\n",
    "The books and reference genre looks fairly popular as well, with an average number of installs of 8,767,811. It's interesting to explore this in more depth, since we found this genre has some potential to work well on the App Store, and our aim is to recommend an app genre that shows potential for being profitable on both the App Store and Google Play.\n",
    "\n",
    "Let's take a look at some of the apps from this genre and their number of installs:"
   ]
  },
  {
   "cell_type": "code",
   "execution_count": null,
   "metadata": {
    "scrolled": true
   },
   "outputs": [],
   "source": [
    "for app in free_android_clean:\n",
    "    if app[1] == 'BOOKS_AND_REFERENCE':\n",
    "        print(app[0], ':', app[5])"
   ]
  },
  {
   "cell_type": "markdown",
   "metadata": {},
   "source": [
    "The book and reference genre includes a variety of apps: software for processing and reading ebooks, various collections of libraries, dictionaries, tutorials on programming or languages, etc. It seems there's still a small number of extremely popular apps that skew the average:"
   ]
  },
  {
   "cell_type": "code",
   "execution_count": null,
   "metadata": {},
   "outputs": [],
   "source": [
    "for app in free_android_clean:\n",
    "    if app[1] == 'BOOKS_AND_REFERENCE' and (app[5] == '1,000,000,000+'\n",
    "                                            or app[5] == '500,000,000+'\n",
    "                                            or app[5] == '100,000,000+'):\n",
    "        print(app[0], ':', app[5])"
   ]
  },
  {
   "cell_type": "markdown",
   "metadata": {},
   "source": [
    "However, it looks like there are only a few very popular apps, so this market still shows potential. Let's try to get some app ideas based on the kind of apps that are somewhere in the middle in terms of popularity (between 1,000,000 and 100,000,000 downloads):"
   ]
  },
  {
   "cell_type": "code",
   "execution_count": null,
   "metadata": {},
   "outputs": [],
   "source": [
    "for app in free_android_clean:\n",
    "    if app[1] == 'BOOKS_AND_REFERENCE' and (app[5] == '1,000,000+'\n",
    "                                            or app[5] == '5,000,000+'\n",
    "                                            or app[5] == '10,000,000+'\n",
    "                                            or app[5] == '50,000,000+'):\n",
    "        print(app[0], ':', app[5])"
   ]
  },
  {
   "cell_type": "markdown",
   "metadata": {
    "editable": true,
    "slideshow": {
     "slide_type": ""
    },
    "tags": []
   },
   "source": [
    "This niche seems to be dominated by software for processing and reading ebooks, as well as various collections of libraries and dictionaries, so it's probably not a good idea to build similar apps since there'll be some significant competition.\n",
    "\n",
    "We also notice there are quite a few apps built around the book Quran, which suggests that building an app around a popular book can be profitable. It seems that taking a popular book (perhaps a more recent book) and turning it into an app could be profitable for both the Google Play and the App Store markets.\n",
    "\n",
    "However, it looks like the market is already full of libraries, so we need to add some special features besides the raw version of the book. This might include daily quotes from the book, an audio version of the book, quizzes on the book, a forum where people can discuss the book, etc.\n",
    "\n",
    "<a href='#0'> back to index</a>\n",
    "* * *\n",
    "## <a id='6'>6. Summary\n",
    "In this project, we analyzed data about the App Store and Google Play mobile apps with the goal of recommending an app profile that can be profitable for both markets.\n",
    "\n",
    "We concluded that taking a popular book (perhaps a more recent book) and turning it into an app could be profitable for both the Google Play and the App Store markets. The markets are already full of libraries, so we need to add some special features besides the raw version of the book. This might include daily quotes from the book, an audio version of the book, quizzes on the book, a forum where people can discuss the book, etc."
   ]
  }
 ],
 "metadata": {
  "kernelspec": {
   "display_name": "Python 3 (ipykernel)",
   "language": "python",
   "name": "python3"
  },
  "language_info": {
   "codemirror_mode": {
    "name": "ipython",
    "version": 3
   },
   "file_extension": ".py",
   "mimetype": "text/x-python",
   "name": "python",
   "nbconvert_exporter": "python",
   "pygments_lexer": "ipython3",
   "version": "3.9.23"
  }
 },
 "nbformat": 4,
 "nbformat_minor": 4
}
