{
 "cells": [
  {
   "cell_type": "markdown",
   "id": "34c30a49-371e-46ad-8694-3ddc9565bfb1",
   "metadata": {},
   "source": [
    "![hacker_news_logo.png](hacker_news_logo.png)"
   ]
  },
  {
   "cell_type": "markdown",
   "id": "6e348769-1025-4d7c-841e-3a97376091c0",
   "metadata": {},
   "source": []
  },
  {
   "cell_type": "markdown",
   "id": "efd0130e-f973-4a51-9471-90662b47071b",
   "metadata": {},
   "source": [
    "### What is Hacker News:\n",
    "\n",
    "Hacker News is a site started by the startup incubator Y Combinator, where user-submitted stories (known as \"posts\") receive votes and comments, similar to reddit. Hacker News is extremely popular in technology and startup circles, and posts that make it to the top of the Hacker News listings can get hundreds of thousands of visitors as a result.\n",
    "\n",
    "\n",
    "### Data dictionary\n",
    "\n",
    "- **`id`**: the unique identifier from Hacker News for the post\n",
    "- **`title`**: the title of the post\n",
    "- **`ur`**: the URL that the posts links to, if the post has a URL\n",
    "- **`num_points`**: the number of points the post acquired, calculated as the total number of upvotes minus the total number of downvotes\n",
    "- **`num_comments`**: the number of comments on the post\n",
    "- **`author`**: the username of the person who submitted the post\n",
    "- **`created_at`**: the date and time of the post's submission\n",
    "\n",
    "\n",
    "### \n",
    "\n",
    "\n",
    "### Loading the dataset\n",
    "\n",
    "We're specifically interested in posts with titles that begin with either **`Ask HN`** or **`Show HN`**\n",
    "\n",
    "We will import Class from a module, but instead of loading all the content, lets have a look inside and then choose what we want"
   ]
  },
  {
   "cell_type": "code",
   "execution_count": 1,
   "id": "4f2e7173-c3cd-4550-826a-9b7fa3bfee3a",
   "metadata": {},
   "outputs": [
    {
     "name": "stdout",
     "output_type": "stream",
     "text": [
      "['Dialect', 'DictReader', 'DictWriter', 'Error', 'QUOTE_ALL', 'QUOTE_MINIMAL', 'QUOTE_NONE', 'QUOTE_NONNUMERIC', 'Sniffer', 'StringIO', '_Dialect', '__all__', '__builtins__', '__cached__', '__doc__', '__file__', '__loader__', '__name__', '__package__', '__spec__', '__version__', 'excel', 'excel_tab', 'field_size_limit', 'get_dialect', 'list_dialects', 're', 'reader', 'register_dialect', 'unix_dialect', 'unregister_dialect', 'writer']\n"
     ]
    }
   ],
   "source": [
    "import csv\n",
    "print(dir(csv))"
   ]
  },
  {
   "cell_type": "markdown",
   "id": "512698a6-df4e-42a5-9363-3d72f5fdc8c8",
   "metadata": {},
   "source": [
    "Once sawed, lets import de module an the Class."
   ]
  },
  {
   "cell_type": "code",
   "execution_count": 2,
   "id": "47d56f71-9241-4296-9250-c513da50949e",
   "metadata": {},
   "outputs": [
    {
     "data": {
      "text/plain": [
       "20101"
      ]
     },
     "execution_count": 2,
     "metadata": {},
     "output_type": "execute_result"
    }
   ],
   "source": [
    "from csv import reader\n",
    "\n",
    "with open('hacker_news.csv') as file:\n",
    "    read_file = reader(file)\n",
    "    hn = list(read_file)\n",
    "\n",
    "len(hn)"
   ]
  },
  {
   "cell_type": "code",
   "execution_count": 3,
   "id": "dc5f9eec-3328-4c21-b5df-33513b70aefd",
   "metadata": {},
   "outputs": [],
   "source": [
    "header_hn = hn[0] # Columns name content\n",
    "hn = hn[1:]       # Dataset"
   ]
  },
  {
   "cell_type": "markdown",
   "id": "e20bf12f-ddd4-4b58-9e4d-a432c04564a8",
   "metadata": {},
   "source": [
    "A sample of the first 5 rows of our dataset."
   ]
  },
  {
   "cell_type": "code",
   "execution_count": 4,
   "id": "51b6e17f-e409-4a0a-9f25-c4dc1c483f05",
   "metadata": {},
   "outputs": [
    {
     "name": "stdout",
     "output_type": "stream",
     "text": [
      "['id', 'title', 'url', 'num_points', 'num_comments', 'author', 'created_at']\n"
     ]
    }
   ],
   "source": [
    "print(header_hn)"
   ]
  },
  {
   "cell_type": "code",
   "execution_count": 5,
   "id": "de519010-30e2-4cdd-a32f-0a36a1d01df8",
   "metadata": {},
   "outputs": [
    {
     "name": "stdout",
     "output_type": "stream",
     "text": [
      "[['12224879', 'Interactive Dynamic Video', 'http://www.interactivedynamicvideo.com/', '386', '52', 'ne0phyte', '8/4/2016 11:52'], ['10975351', 'How to Use Open Source and Shut the Fuck Up at the Same Time', 'http://hueniverse.com/2016/01/26/how-to-use-open-source-and-shut-the-fuck-up-at-the-same-time/', '39', '10', 'josep2', '1/26/2016 19:30'], ['11964716', \"Florida DJs May Face Felony for April Fools' Water Joke\", 'http://www.thewire.com/entertainment/2013/04/florida-djs-april-fools-water-joke/63798/', '2', '1', 'vezycash', '6/23/2016 22:20'], ['11919867', 'Technology ventures: From Idea to Enterprise', 'https://www.amazon.com/Technology-Ventures-Enterprise-Thomas-Byers/dp/0073523429', '3', '1', 'hswarna', '6/17/2016 0:01'], ['10301696', 'Note by Note: The Making of Steinway L1037 (2007)', 'http://www.nytimes.com/2007/11/07/movies/07stein.html?_r=0', '8', '2', 'walterbell', '9/30/2015 4:12'], ['10482257', 'Title II kills investment? Comcast and other ISPs are now spending more', 'http://arstechnica.com/business/2015/10/comcast-and-other-isps-boost-network-investment-despite-net-neutrality/', '53', '22', 'Deinos', '10/31/2015 9:48'], ['10557283', 'Nuts and Bolts Business Advice', '', '3', '4', 'shomberj', '11/13/2015 0:45'], ['12296411', 'Ask HN: How to improve my personal website?', '', '2', '6', 'ahmedbaracat', '8/16/2016 9:55'], ['11337617', 'Shims, Jigs and Other Woodworking Concepts to Conquer Technical Debt', 'http://firstround.com/review/shims-jigs-and-other-woodworking-concepts-to-conquer-technical-debt/', '34', '7', 'zt', '3/22/2016 16:18'], ['10379326', 'That self-appendectomy', 'http://www.southpolestation.com/trivia/igy1/appendix.html', '91', '10', 'jimsojim', '10/13/2015 9:30']]\n"
     ]
    }
   ],
   "source": [
    "print(hn[0:10])"
   ]
  },
  {
   "cell_type": "markdown",
   "id": "62d895de-5e2e-49d2-aeda-b1aaf1b23975",
   "metadata": {},
   "source": [
    "### 3. Filtering `Ask HN` and `Show HN` Posts\n",
    "\n"
   ]
  },
  {
   "cell_type": "code",
   "execution_count": 6,
   "id": "3b933300-dc84-4bd5-a14e-e94832ccc166",
   "metadata": {},
   "outputs": [],
   "source": [
    "ask_posts = []\n",
    "show_posts = []\n",
    "other_posts = []\n",
    "\n",
    "for row in hn:\n",
    "    title = row[1]\n",
    "    title = title.lower()\n",
    "    \n",
    "    if title.startswith('ask hn'):\n",
    "        ask_posts.append(row)\n",
    "    elif title.startswith('show hn'):\n",
    "        show_posts.append(row)  \n",
    "    else:\n",
    "        other_posts.append(title)"
   ]
  },
  {
   "cell_type": "code",
   "execution_count": 7,
   "id": "d8d4ffcd-69dc-428c-a2c0-f98a70d9c69a",
   "metadata": {},
   "outputs": [
    {
     "name": "stdout",
     "output_type": "stream",
     "text": [
      "The number of ask_post is 1744\n",
      "The number of show_post is 1162\n",
      "The number of other_post is 17194\n"
     ]
    }
   ],
   "source": [
    "text = {'ask_post': ask_posts,'show_post': show_posts,'other_post':other_posts }\n",
    "\n",
    "for index in text:\n",
    "    print(\"The number of {} is {}\".format(index, len(text[index])))"
   ]
  },
  {
   "cell_type": "markdown",
   "id": "04faeea0-9e58-436e-9278-3419f2958c5e",
   "metadata": {},
   "source": [
    "### 4.  Calculating the Average Number of Comments for `Ask HN` and `Show HN` Posts\n",
    "\n",
    "Let's determine if ask posts or show posts receive more comments on average.\n",
    "\n",
    "Before calculating anything, what we are going to do is check the type of data we are going to work with"
   ]
  },
  {
   "cell_type": "code",
   "execution_count": 8,
   "id": "3e316f45-b02e-46c5-b288-6ff3a2a2add5",
   "metadata": {},
   "outputs": [
    {
     "name": "stdout",
     "output_type": "stream",
     "text": [
      "['id', 'title', 'url', 'num_points', 'num_comments', 'author', 'created_at']\n"
     ]
    }
   ],
   "source": [
    "print(header_hn)"
   ]
  },
  {
   "cell_type": "code",
   "execution_count": 9,
   "id": "6f388579-3776-4fc3-ab59-5f97bfb038b0",
   "metadata": {},
   "outputs": [
    {
     "name": "stdout",
     "output_type": "stream",
     "text": [
      "6 <class 'str'>\n",
      "29 <class 'str'>\n",
      "1 <class 'str'>\n",
      "3 <class 'str'>\n",
      "17 <class 'str'>\n"
     ]
    }
   ],
   "source": [
    "total_ask_comments = 0\n",
    "\n",
    "for comment in ask_posts[:5]:\n",
    "    num_comments = comment[4]\n",
    "    print(num_comments , type(num_comments))"
   ]
  },
  {
   "cell_type": "markdown",
   "id": "5ff8e68f-9d3f-46b0-90cb-11bc512e21ba",
   "metadata": {},
   "source": [
    "We see that the column with the value of the comments to each post is a type of text string data, so we have to do a cast conversion.\n",
    "\n",
    "### Do `Show post` or `Ask post` get more comments on average?\n",
    "\n",
    "- `avg number` on `Ask post` and in `Show post`"
   ]
  },
  {
   "cell_type": "code",
   "execution_count": 10,
   "id": "86823b4e-eb02-43c5-aa96-22b786bc1ef3",
   "metadata": {},
   "outputs": [],
   "source": [
    "def avg_comments(lista, column, name):\n",
    "    total_comments = 0\n",
    "    for post in lista:\n",
    "        total_comments += int(post[column])\n",
    "    #print(post[1:3])\n",
    "        \n",
    "    avg_ask_comments = total_comments / len(lista)\n",
    "    print(\"The number of average comments in {} is: {}\".format(name, avg_ask_comments))\n",
    "    return total_comments"
   ]
  },
  {
   "cell_type": "code",
   "execution_count": 11,
   "id": "fe1fc272-aa82-4f94-bb47-6f4636b2caec",
   "metadata": {},
   "outputs": [
    {
     "name": "stdout",
     "output_type": "stream",
     "text": [
      "The number of average comments in Ask HN is: 14.038417431192661\n"
     ]
    }
   ],
   "source": [
    "avg_ask_comments = avg_comments(ask_posts, 4, 'Ask HN')"
   ]
  },
  {
   "cell_type": "code",
   "execution_count": 12,
   "id": "9a0c8327-18bd-4d11-8acc-73574bb516c4",
   "metadata": {},
   "outputs": [
    {
     "name": "stdout",
     "output_type": "stream",
     "text": [
      "The number of average comments in Show HN is: 10.31669535283993\n"
     ]
    }
   ],
   "source": [
    "avg_show_comments = avg_comments(show_posts, 4, 'Show HN')"
   ]
  },
  {
   "cell_type": "markdown",
   "id": "ab531b3e-6826-44f5-9b1f-973009909f7c",
   "metadata": {},
   "source": [
    "And as we can see, the number of questions is double that of the other value."
   ]
  },
  {
   "cell_type": "code",
   "execution_count": 13,
   "id": "fb87d5b7-9279-4150-ab20-d7c712c2f008",
   "metadata": {},
   "outputs": [
    {
     "name": "stdout",
     "output_type": "stream",
     "text": [
      "24483\n"
     ]
    }
   ],
   "source": [
    "print(avg_ask_comments)"
   ]
  },
  {
   "cell_type": "code",
   "execution_count": 14,
   "id": "cb35c621-27d4-4012-9034-4a6ce2ee671f",
   "metadata": {},
   "outputs": [
    {
     "name": "stdout",
     "output_type": "stream",
     "text": [
      "11988\n"
     ]
    }
   ],
   "source": [
    "print(avg_show_comments)"
   ]
  },
  {
   "cell_type": "markdown",
   "id": "74a16a8e-4aa9-4d0a-afbf-38ac22bd7c45",
   "metadata": {},
   "source": [
    "| Show post vs Ask post  |   |\n",
    "|:--|:--|\n",
    "|number of ask_post   |1744|\n",
    "|number of show_post  |1162|\n",
    "|avg_ask_comments     |24483|\n",
    "|avg_show_comments    |11988|"
   ]
  },
  {
   "cell_type": "markdown",
   "id": "c95910f9-fcf1-4321-a72a-a4117b3cd079",
   "metadata": {},
   "source": [
    "### 5. Comments by Hour Created\n",
    "\n",
    "Since ask posts are more likely to receive comments, we'll focus our remaining analysis just on these posts.\n",
    "\n",
    "we'll determine if ask posts created at a certain time are more likely to attract comments. "
   ]
  },
  {
   "cell_type": "code",
   "execution_count": 15,
   "id": "2a49a36a-5514-431b-8658-5acfe894e790",
   "metadata": {},
   "outputs": [],
   "source": [
    "import datetime as dt\n",
    "\n",
    "result_list = []\n",
    "\n",
    "for row in ask_posts:\n",
    "    created_at = row[6]\n",
    "    num_comments = row[4]\n",
    "    tupla = (created_at,num_comments)\n",
    "    \n",
    "    #result_list.append(created_at)\n",
    "    result_list.append(tupla)"
   ]
  },
  {
   "cell_type": "code",
   "execution_count": 16,
   "id": "5ffd78c7-1583-450a-8518-05d5cce01288",
   "metadata": {},
   "outputs": [
    {
     "data": {
      "text/plain": [
       "[('8/16/2016 9:55', '6'),\n",
       " ('11/22/2015 13:43', '29'),\n",
       " ('5/2/2016 10:14', '1'),\n",
       " ('8/2/2016 14:20', '3'),\n",
       " ('10/15/2015 16:38', '17'),\n",
       " ('9/26/2015 23:23', '1'),\n",
       " ('4/22/2016 12:24', '4'),\n",
       " ('11/16/2015 9:22', '1'),\n",
       " ('2/24/2016 17:57', '1'),\n",
       " ('6/4/2016 17:17', '2')]"
      ]
     },
     "execution_count": 16,
     "metadata": {},
     "output_type": "execute_result"
    }
   ],
   "source": [
    "result_list[:10]"
   ]
  },
  {
   "cell_type": "code",
   "execution_count": 17,
   "id": "4c3a71ce-4e7e-4694-b3aa-6ff894dc0994",
   "metadata": {},
   "outputs": [
    {
     "name": "stdout",
     "output_type": "stream",
     "text": [
      "counts_by_hour\n",
      "{9: 45, 13: 85, 10: 59, 14: 107, 16: 108, 23: 68, 12: 73, 17: 100, 15: 116, 21: 109, 20: 80, 2: 58, 18: 109, 3: 54, 5: 46, 19: 110, 1: 60, 22: 71, 8: 48, 4: 47, 0: 55, 6: 44, 7: 34, 11: 58}\n",
      "\n",
      "comments_by_hour\n",
      "{9: 251, 13: 1253, 10: 793, 14: 1416, 16: 1814, 23: 543, 12: 687, 17: 1146, 15: 4477, 21: 1745, 20: 1722, 2: 1381, 18: 1439, 3: 421, 5: 464, 19: 1188, 1: 683, 22: 479, 8: 492, 4: 337, 0: 447, 6: 397, 7: 267, 11: 641}\n"
     ]
    }
   ],
   "source": [
    "counts_by_hour = {}   # cuántos posts por hora\n",
    "comments_by_hour = {} # total de comentarios por hora \n",
    "\n",
    "\n",
    "for row in result_list:\n",
    "    hour = row[0]\n",
    "    time_obj = dt.datetime.strptime(hour, \"%m/%d/%Y %H:%M\")\n",
    "    num_comments = int(row[1])\n",
    "\n",
    "    hour = time_obj.hour\n",
    "    \n",
    "    # Contar post por hora\n",
    "    if hour in counts_by_hour:\n",
    "        counts_by_hour[hour] +=1\n",
    "    else:\n",
    "        counts_by_hour[hour] =1\n",
    "    # Sumar comentarios por hora\n",
    "    if hour in comments_by_hour:\n",
    "        comments_by_hour[hour] +=num_comments\n",
    "    else:\n",
    "        comments_by_hour[hour] = num_comments\n",
    "\n",
    "print(\"counts_by_hour\")\n",
    "print(counts_by_hour)\n",
    "print(\"\")\n",
    "print(\"comments_by_hour\")\n",
    "print(comments_by_hour)"
   ]
  },
  {
   "cell_type": "markdown",
   "id": "7b23c93d-7c55-4490-a8ed-fe2108abda63",
   "metadata": {},
   "source": [
    "### 6 de 8 · Promedio de comentarios por hora\n"
   ]
  },
  {
   "cell_type": "code",
   "execution_count": 18,
   "id": "8d350abe-856a-4aee-9ba8-025159bb9f1b",
   "metadata": {},
   "outputs": [
    {
     "name": "stdout",
     "output_type": "stream",
     "text": [
      "#  Comentaries by hour  #\n",
      " 9 : 5.5777777777777775\n",
      " 13 : 14.741176470588234\n",
      " 10 : 13.440677966101696\n",
      " 14 : 13.233644859813085\n",
      " 16 : 16.796296296296298\n",
      " 23 : 7.985294117647059\n",
      " 12 : 9.41095890410959\n",
      " 17 : 11.46\n",
      " 15 : 38.5948275862069\n",
      " 21 : 16.009174311926607\n",
      " 20 : 21.525\n",
      " 2 : 23.810344827586206\n",
      " 18 : 13.20183486238532\n",
      " 3 : 7.796296296296297\n",
      " 5 : 10.08695652173913\n",
      " 19 : 10.8\n",
      " 1 : 11.383333333333333\n",
      " 22 : 6.746478873239437\n",
      " 8 : 10.25\n",
      " 4 : 7.170212765957447\n",
      " 0 : 8.127272727272727\n",
      " 6 : 9.022727272727273\n",
      " 7 : 7.852941176470588\n",
      " 11 : 11.051724137931034\n",
      "  - - - - - - - - - - \n"
     ]
    }
   ],
   "source": [
    "avg_by_hour = []\n",
    "swap_avg_by_hour = []\n",
    "\n",
    "print(\"#  Comentaries by hour  #\")\n",
    "for hour in counts_by_hour:\n",
    "    average = comments_by_hour[hour] / counts_by_hour[hour]\n",
    "    print(\"\",hour,\":\" , average)\n",
    "    data = (average, hour)\n",
    "    swap_avg_by_hour.append(data)\n",
    "print(\"  - - - - - - - - - - \")"
   ]
  },
  {
   "cell_type": "markdown",
   "id": "09862b4b-3a92-4624-82eb-29c1f9879c5b",
   "metadata": {},
   "source": [
    "### 7 de 8 · Ordenar y mostrar las mejores horas\n",
    "\n"
   ]
  },
  {
   "cell_type": "code",
   "execution_count": 19,
   "id": "1b31a98d-c591-4d8b-93dd-252abebdcfc4",
   "metadata": {},
   "outputs": [],
   "source": [
    "a = sorted(swap_avg_by_hour, reverse = True)"
   ]
  },
  {
   "cell_type": "code",
   "execution_count": 20,
   "id": "16709f4a-77db-4024-b339-2686543215d4",
   "metadata": {},
   "outputs": [
    {
     "name": "stdout",
     "output_type": "stream",
     "text": [
      "Comments 38.5948275862069 by hour 15\n",
      "Comments 23.810344827586206 by hour 2\n",
      "Comments 21.525 by hour 20\n",
      "Comments 16.796296296296298 by hour 16\n",
      "Comments 16.009174311926607 by hour 21\n",
      "Comments 14.741176470588234 by hour 13\n",
      "Comments 13.440677966101696 by hour 10\n",
      "Comments 13.233644859813085 by hour 14\n",
      "Comments 13.20183486238532 by hour 18\n",
      "Comments 11.46 by hour 17\n",
      "Comments 11.383333333333333 by hour 1\n",
      "Comments 11.051724137931034 by hour 11\n",
      "Comments 10.8 by hour 19\n",
      "Comments 10.25 by hour 8\n",
      "Comments 10.08695652173913 by hour 5\n",
      "Comments 9.41095890410959 by hour 12\n",
      "Comments 9.022727272727273 by hour 6\n",
      "Comments 8.127272727272727 by hour 0\n",
      "Comments 7.985294117647059 by hour 23\n",
      "Comments 7.852941176470588 by hour 7\n",
      "Comments 7.796296296296297 by hour 3\n",
      "Comments 7.170212765957447 by hour 4\n",
      "Comments 6.746478873239437 by hour 22\n",
      "Comments 5.5777777777777775 by hour 9\n"
     ]
    }
   ],
   "source": [
    "for i in a:\n",
    "    print(\"Comments {} by hour {}\".format(i[0], i[1]))"
   ]
  },
  {
   "cell_type": "code",
   "execution_count": 21,
   "id": "068b128d-4fa6-4fdf-b5cc-2d2ef8cd1ba3",
   "metadata": {},
   "outputs": [],
   "source": [
    "### Summary"
   ]
  },
  {
   "cell_type": "code",
   "execution_count": 23,
   "id": "73eb76dc-be27-4dcb-bfb4-962e0f6b0d31",
   "metadata": {},
   "outputs": [
    {
     "name": "stdout",
     "output_type": "stream",
     "text": [
      "/home/ion/Documentos/albertjimrod/dataquest_projects/01_Exploring Hacker News Posts\n"
     ]
    }
   ],
   "source": [
    "! pwd"
   ]
  }
 ],
 "metadata": {
  "kernelspec": {
   "display_name": "Python 3 (ipykernel)",
   "language": "python",
   "name": "python3"
  },
  "language_info": {
   "codemirror_mode": {
    "name": "ipython",
    "version": 3
   },
   "file_extension": ".py",
   "mimetype": "text/x-python",
   "name": "python",
   "nbconvert_exporter": "python",
   "pygments_lexer": "ipython3",
   "version": "3.9.23"
  }
 },
 "nbformat": 4,
 "nbformat_minor": 5
}
