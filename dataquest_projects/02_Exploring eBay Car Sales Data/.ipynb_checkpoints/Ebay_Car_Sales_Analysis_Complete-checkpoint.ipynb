{
 "cells": [
  {
   "cell_type": "markdown",
   "metadata": {},
   "source": [
    "![Imgur](https://image.freepik.com/free-vector/automobiles-models-icon-collection_74855-5435.jpg)\n",
    "\n",
    "<a href='https://www.freepik.com/'>models icon @freepik.com </a>\n",
    "\n",
    "\n",
    "# Exploring Ebay Car Sales Data (Consolidated Version)\n",
    "\n",
    "## Introduction\n",
    "\n",
    "In this guided project, we'll work with a dataset of used cars from eBay Kleinanzeigen, a classifieds section of the German eBay website.\n",
    "\n",
    "The dataset was originally scraped and uploaded to Kaggle by user orgesleka, the original dataset isn't available on Kaggle anymore, but you can find it [here](https://data.world/data-society/used-cars-data).\n",
    "\n",
    "This is the sort version, 50000 rows, the dataset we are going to work with is a dataset to which errors have been added to be able to work on cleaning it, so it is a little more difficult than the original.  \n",
    "\n",
    "The aim of this project is **to clean the data** and analyze the included used car listings \n",
    "\n",
    "\n",
    "### Data dictionary:\n",
    "\n",
    "- `dateCrawled` - When this ad was first crawled. All field-values are taken from this date.\n",
    "\n",
    "- `name` - Name of the car.\n",
    "\n",
    "- `seller` - Whether the seller is private or a dealer.\n",
    "\n",
    "- `offerType` - The type of listing\n",
    "\n",
    "- `price` - The price on the ad to sell the car.\n",
    "\n",
    "- `abtest` - Whether the listing is included in an A/B test.\n",
    "\n",
    "- `vehicleType` - The vehicle Type.\n",
    "\n",
    "- `yearOfRegistration` - The year in which the car was first registered.\n",
    "\n",
    "- `gearbox` - The transmission type.\n",
    "\n",
    "- `powerPS` - The power of the car in PS.\n",
    "\n",
    "- `model` - The car model name.\n",
    "\n",
    "- `kilometer` - How many kilometers the car has driven.\n",
    "\n",
    "- `monthOfRegistration` - The month in which the car was first registered.\n",
    "\n",
    "- `fuelType` - What type of fuel the car uses.\n",
    "\n",
    "- `brand` - The brand of the car.\n",
    "\n",
    "- `notRepairedDamage`- If the car has a damage which is not yet repaired.\n",
    "\n",
    "- `dateCreated` - The date on which the eBay listing was created.\n",
    "\n",
    "- `nrOfPictures` - The number of pictures in the ad.\n",
    "\n",
    "- `postalCode` - The postal code for the location of the vehicle.\n",
    "\n",
    "- `lastSeenOnline` - When the crawler saw this ad last online."
   ]
  },
  {
   "cell_type": "code",
   "execution_count": null,
   "metadata": {},
   "outputs": [],
   "source": [
    "import numpy as np\n",
    "import pandas as pd\n",
    "import chardet\n",
    "import matplotlib.pyplot as plt\n",
    "%matplotlib inline"
   ]
  },
  {
   "cell_type": "markdown",
   "metadata": {},
   "source": [
    "### 1. Initial Data Loading and Inspection"
   ]
  },
  {
   "cell_type": "code",
   "execution_count": null,
   "metadata": {},
   "outputs": [],
   "source": [
    "autos = pd.read_csv(\"autos.csv\",encoding='Windows-1252')\n",
    "autos.info()"
   ]
  },
  {
   "cell_type": "markdown",
   "metadata": {},
   "source": [
    "### 2. Cleaning Column Names"
   ]
  },
  {
   "cell_type": "code",
   "execution_count": null,
   "metadata": {},
   "outputs": [],
   "source": [
    "autos.rename({'yearOfRegistration':'registration_year','monthOfRegistration':'registration_month',\n",
    "             'notRepairedDamage':'unrepaired_damage','dateCreated':'ad_created',},axis = 1, inplace = True)\n",
    "autos.rename({'dateCrawled':'date_crawled','price':'price_in_dollars',\n",
    "              'offerType':'offer_type','vehicleType':'vehicle_type',\n",
    "              'powerPS':'CV','fuelType':'fuel_type',\n",
    "              'nrOfPictures':'nr_pictures','postalCode':'postal_code',\n",
    "              'lastSeen':'last_seen',}, axis = 1, inplace = True)"
   ]
  },
  {
   "cell_type": "markdown",
   "metadata": {},
   "source": [
    "### 3. Initial Exploration and Dropping Irrelevant Columns"
   ]
  },
  {
   "cell_type": "code",
   "execution_count": null,
   "metadata": {},
   "outputs": [],
   "source": [
    "autos.describe(include = 'all')"
   ]
  },
  {
   "cell_type": "code",
   "execution_count": null,
   "metadata": {},
   "outputs": [],
   "source": [
    "columns_todrop = ['seller','offer_type','abtest','nr_pictures']\n",
    "autos.drop(columns_todrop, axis=1, inplace=True)"
   ]
  },
  {
   "cell_type": "markdown",
   "metadata": {},
   "source": [
    "### 4. Cleaning Numeric Columns"
   ]
  },
  {
   "cell_type": "code",
   "execution_count": null,
   "metadata": {},
   "outputs": [],
   "source": [
    "autos['price_in_dollars'] = autos['price_in_dollars'].str.replace('$', '').str.replace(',', '').astype(int)\n",
    "autos.rename({'odometer':'odometer_km'}, axis = 1, inplace = True)\n",
    "autos['odometer_km'] = autos['odometer_km'].str.replace(',','').str.replace('km','').astype(int)"
   ]
  },
  {
   "cell_type": "markdown",
   "metadata": {},
   "source": [
    "### 5. Translating Categorical Columns"
   ]
  },
  {
   "cell_type": "code",
   "execution_count": null,
   "metadata": {},
   "outputs": [],
   "source": [
    "category_translator = {'bus':'monovolumen','limousine':'sedan', 'kleinwagen':'compacto','kombi':'familiar', 'coupe':'coupe','suv':'suv','cabrio':'cabrio','andere':'otros'}\n",
    "autos['vehicle_type'] = autos['vehicle_type'].map(category_translator)\n",
    "\n",
    "categorical_type_fuel_translator = {'benzin':'gasolina', 'diesel':'diesel', 'lpg':'lpg', 'cng':'cng', 'hybrid':'híbrido', 'elektro':'electrico', 'andere':'otros'}\n",
    "autos['fuel_type'] = autos['fuel_type'].map(categorical_type_fuel_translator)"
   ]
  },
  {
   "cell_type": "markdown",
   "metadata": {},
   "source": [
    "### 6. Outlier Analysis and Removal"
   ]
  },
  {
   "cell_type": "code",
   "execution_count": null,
   "metadata": {},
   "outputs": [],
   "source": [
    "autos = autos[autos['price_in_dollars'].between(850,350001)]\n",
    "autos = autos[autos['registration_year'].between(1927,2016)]"
   ]
  },
  {
   "cell_type": "markdown",
   "metadata": {},
   "source": [
    "### 7. Analysis of Price and Mileage by Brand"
   ]
  },
  {
   "cell_type": "code",
   "execution_count": null,
   "metadata": {},
   "outputs": [],
   "source": [
    "top_brands = autos['brand'].value_counts().index[:10]\n",
    "brands_price = {}\n",
    "brands_km = {}\n",
    "\n",
    "for brand in top_brands:\n",
    "    sel_brand = autos[autos['brand'] == brand]\n",
    "    brands_price[brand] = sel_brand['price_in_dollars'].mean().round()\n",
    "    brands_km[brand] = sel_brand['odometer_km'].mean().round()\n",
    "\n",
    "brands_price_series = pd.Series(brands_price)\n",
    "brands_km_series = pd.Series(brands_km)\n",
    "\n",
    "brand_analysis = pd.DataFrame({'mean_price': brands_price_series, 'mean_kilometers': brands_km_series})\n",
    "print(brand_analysis)"
   ]
  }
 ],
 "metadata": {
  "kernelspec": {
   "display_name": "Python 3",
   "language": "python",
   "name": "python3"
  },
  "language_info": {
   "codemirror_mode": {
    "name": "ipython",
    "version": 3
   },
   "file_extension": ".py",
   "mimetype": "text/x-python",
   "name": "python",
   "nbconvert_exporter": "python",
   "pygments_lexer": "ipython3",
   "version": "3.9.12"
  }
 },
 "nbformat": 4,
 "nbformat_minor": 4
}