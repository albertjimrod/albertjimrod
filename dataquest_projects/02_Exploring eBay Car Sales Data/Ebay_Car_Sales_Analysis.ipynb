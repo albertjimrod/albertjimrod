{
 "cells": [
  {
   "cell_type": "markdown",
   "metadata": {},
   "source": [
    "# Exploring Ebay Car Sales Data (Consolidated Analysis)\n",
    "## Introduction\n",
    "This notebook contains a consolidated analysis of the eBay Kleinanzeigen dataset. It incorporates the best data cleaning, outlier handling, and analysis techniques identified from various previous versions."
   ]
  },
  {
   "cell_type": "code",
   "execution_count": 1,
   "metadata": {},
   "outputs": [],
   "source": [
    "import numpy as np\n",
    "import pandas as pd\n",
    "import matplotlib.pyplot as plt\n",
    "import chardet\n",
    "%matplotlib inline"
   ]
  },
  {
   "cell_type": "markdown",
   "metadata": {},
   "source": [
    "## 1. Data Loading and Initial Cleaning"
   ]
  },
  {
   "cell_type": "code",
   "execution_count": 2,
   "metadata": {},
   "outputs": [],
   "source": [
    "# Detect encoding to prevent errors\n",
    "with open('autos.csv', 'rb') as file:\n",
    "    encoding_result = chardet.detect(file.read())\n",
    "    print(encoding_result)\n",
    "autos = pd.read_csv('autos.csv', encoding=encoding_result['encoding'])"
   ]
  },
  {
   "cell_type": "code",
   "execution_count": 3,
   "metadata": {},
   "outputs": [],
   "source": [
    "# Clean column names to snake_case and more descriptive names\n",
    "autos.columns = ['date_crawled', 'name', 'seller', 'offer_type', 'price_usd', 'abtest', 'vehicle_type', 'registration_year', 'gearbox', 'power_ps', 'model', 'odometer_km', 'registration_month', 'fuel_type', 'brand', 'unrepaired_damage', 'ad_created', 'nr_pictures', 'postal_code', 'last_seen']"
   ]
  },
  {
   "cell_type": "code",
   "execution_count": 4,
   "metadata": {},
   "outputs": [],
   "source": [
    "# Clean and convert numeric columns\n",
    "autos['price_usd'] = autos['price_usd'].str.replace('$', '').str.replace(',', '').astype(int)\n",
    "autos['odometer_km'] = autos['odometer_km'].str.replace('km', '').str.replace(',', '').astype(int)"
   ]
  },
  {
   "cell_type": "code",
   "execution_count": 5,
   "metadata": {},
   "outputs": [],
   "source": [
    "# Drop columns with low variance or relevance\n",
    "autos = autos.drop(['seller', 'offer_type', 'nr_pictures', 'abtest'], axis=1)"
   ]
  },
  {
   "cell_type": "markdown",
   "metadata": {},
   "source": [
    "## 2. Outlier Analysis and Removal"
   ]
  },
  {
   "cell_type": "code",
   "execution_count": 6,
   "metadata": {},
   "outputs": [],
   "source": [
    "# Filter out unrealistic prices and registration years\n",
    "# Prices between $850 and $350,001 are considered realistic\n",
    "autos = autos[autos['price_usd'].between(850, 350001)]\n",
    "# Registration year must be between 1927 and 2016 (the year the data was crawled)\n",
    "autos = autos[autos['registration_year'].between(1927, 2016)]"
   ]
  },
  {
   "cell_type": "markdown",
   "metadata": {},
   "source": [
    "## 3. Translating Categorical Data"
   ]
  },
  {
   "cell_type": "code",
   "execution_count": 7,
   "metadata": {},
   "outputs": [],
   "source": [
    "# Translate German categorical values to English for better understanding\n",
    "category_translator = {'bus':'bus', 'limousine':'sedan', 'kleinwagen':'compact', 'kombi':'station_wagon', 'coupe':'coupe', 'suv':'suv', 'cabrio':'convertible', 'andere':'other'}\n",
    "autos['vehicle_type'] = autos['vehicle_type'].map(category_translator)\n",
    "\n",
    "fuel_translator = {'benzin':'gasoline', 'diesel':'diesel', 'lpg':'lpg', 'cng':'cng', 'hybrid':'hybrid', 'elektro':'electric', 'andere':'other'}\n",
    "autos['fuel_type'] = autos['fuel_type'].map(fuel_translator)"
   ]
  },
  {
   "cell_type": "markdown",
   "metadata": {},
   "source": [
    "## 4. Aggregate Analysis: Price and Mileage by Brand"
   ]
  },
  {
   "cell_type": "code",
   "execution_count": 8,
   "metadata": {},
   "outputs": [],
   "source": [
    "# Identify the top 10 brands by number of listings\n",
    "top_brands = autos['brand'].value_counts().index[:10]\n",
    "\n",
    "brands_agg = {}\n",
    "\n",
    "for brand in top_brands:\n",
    "    brand_subset = autos[autos['brand'] == brand]\n",
    "    mean_price = brand_subset['price_usd'].mean()\n",
    "    mean_mileage = brand_subset['odometer_km'].mean()\n",
    "    brands_agg[brand] = {'mean_price_usd': round(mean_price, 2), 'mean_mileage_km': round(mean_mileage, 2)}\n",
    "\n",
    "brand_analysis_df = pd.DataFrame.from_dict(brands_agg, orient='index')\n",
    "print(brand_analysis_df.sort_values(by='mean_price_usd', ascending=False))"
   ]
  },
  {
   "cell_type": "markdown",
   "metadata": {},
   "source": [
    "## 5. Visualization: Average Price vs. Average Mileage"
   ]
  },
  {
   "cell_type": "code",
   "execution_count": 9,
   "metadata": {},
   "outputs": [],
   "source": [
    "fig, ax = plt.subplots(figsize=(12, 8))\n",
    "brand_analysis_df.plot(kind='scatter', x='mean_mileage_km', y='mean_price_usd', ax=ax)\n",
    "\n",
    "for idx, row in brand_analysis_df.iterrows():\n",
    "    ax.annotate(idx, (row['mean_mileage_km'], row['mean_price_usd']), fontsize=12)\n",
    "\n",
    "plt.title('Average Price vs. Average Mileage for Top 10 Brands')\n",
    "plt.xlabel('Average Mileage (km)')\n",
    "plt.ylabel('Average Price ($)')\n",
    "plt.grid(True)\n",
    "plt.show()"
   ]
  }
 ],
 "metadata": {
  "kernelspec": {
   "display_name": "Python 3 (ipykernel)",
   "language": "python",
   "name": "python3"
  },
  "language_info": {
   "codemirror_mode": {
    "name": "ipython",
    "version": 3
   },
   "file_extension": ".py",
   "mimetype": "text/x-python",
   "name": "python",
   "nbconvert_exporter": "python",
   "pygments_lexer": "ipython3",
   "version": "3.9.23"
  }
 },
 "nbformat": 4,
 "nbformat_minor": 4
}