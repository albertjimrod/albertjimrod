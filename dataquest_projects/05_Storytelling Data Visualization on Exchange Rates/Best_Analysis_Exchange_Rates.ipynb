{
 "cells": [
  {
   "cell_type": "markdown",
   "metadata": {},
   "source": [
    "# Storytelling Data Visualization on Exchange Rates\n",
    "## Best Analysis"
   ]
  },
  {
   "cell_type": "code",
   "execution_count": 1,
   "metadata": {},
   "outputs": [],
   "source": [
    "import pandas as pd\n",
    "import matplotlib.pyplot as plt\n",
    "import matplotlib.style as style\n",
    "\n",
    "exchange_rates = pd.read_csv('euro-daily-hist_1999_2020.csv')"
   ]
  },
  {
   "cell_type": "markdown",
   "metadata": {},
   "source": [
    "### Data Cleaning"
   ]
  },
  {
   "cell_type": "code",
   "execution_count": 2,
   "metadata": {},
   "outputs": [],
   "source": [
    "exchange_rates.rename(columns={'[US dollar ]': 'US_dollar', 'Period\\Unit:': 'Time'}, inplace=True)\n",
    "exchange_rates['Time'] = pd.to_datetime(exchange_rates['Time'])\n",
    "exchange_rates.sort_values('Time', inplace=True)\n",
    "exchange_rates.reset_index(drop=True, inplace=True)"
   ]
  },
  {
   "cell_type": "code",
   "execution_count": 3,
   "metadata": {},
   "outputs": [],
   "source": [
    "euro_to_dollar = exchange_rates.loc[:,['Time','US_dollar']].copy()\n",
    "euro_to_dollar = euro_to_dollar[euro_to_dollar['US_dollar'] != '-']\n",
    "euro_to_dollar['US_dollar'] = euro_to_dollar['US_dollar'].astype(float)"
   ]
  },
  {
   "cell_type": "markdown",
   "metadata": {},
   "source": [
    "### Rolling Mean"
   ]
  },
  {
   "cell_type": "code",
   "execution_count": 4,
   "metadata": {},
   "outputs": [],
   "source": [
    "euro_to_dollar['rolling_mean'] = euro_to_dollar['US_dollar'].rolling(30).mean()"
   ]
  },
  {
   "cell_type": "markdown",
   "metadata": {},
   "source": [
    "### Advanced Visualization"
   ]
  },
  {
   "cell_type": "code",
   "execution_count": 5,
   "metadata": {},
   "outputs": [
    {
     "data": {
      "image/png": "iVBORw0KGgoAAAANSUhEUgAAAXQAAAD4CAYAAAD8Zh1EAAAAOXRFWHRTb2Z0d2FyZQBNYXRwbG90bGliIHZlcnNpb24zLjUuMCwgaHR0cHM6Ly9tYXRwbG90bGliLm9yZy8/fFQqAAAACXBIWXMAAAsTAAALEwEAmpwYAAA7N0lEQVR4nO29eZRk91Xn+bnvvVhzraqsfZOsxbKEZVnyihcEbntklgYbw9j0YJo2dNMDuOlu5mANxImm5wycAQ47GvCojaf7CMwYYxu8AMZGtizbeEeWbFVJqk21ZFXuscd77zd/vPciIzMjMpaMNfN+zqlTmRGRL34vM+Ib993fvd8rxhgURVGU8cca9gIURVGU3qCCriiKsktQQVcURdklqKAriqLsElTQFUVRdgkq6IqiKLsEZ9gL6JZsNnsSeA9wBPCBP85kMsv5zGaz2wN/DtwEnAN+MJPMpIU/8wvAOwAPeGcmk/lYePt9wLuBFPAh4D9kMpmh1XPu5bneHfODwPMymczmQJ1Hs3o89/u5Bf4IuAjmAv+XzGTyRkCvqI5Ozy2bzR4A/j/gpcC7M5nMj4XHSQP/AdxCcM4fyWQyPz/g09lKF+f3esDXgDhQAf63TCbzD+GxBs6r4xyhu8B/zmcymcsAvwB+JpvNbgL+HPj5TCbzGuDj4feE970VuAt4APjDbDZrB8f6I+DPAreF/x4Y5Ikw0ovzRjabfROwK+wtbEtOzi+bzTrA7wB+eibTuRv4GvBTm55tcHh0bkAJ+GfgZxuM9RmMZvMncC/wUuys2eif6vvqW9PL8/smYDKZzG3An8D/9nvxbdDpfhfgf5nMZvJA4EfA/63bVgfXlXEN0jOZzBSAS+PXa9ls9gjwJ/C5BP/4A34q8Cngh8L7/2UymaLwzWw2e4qgK+Pz2Wz2DmAym30P8H3ARwZ1Lpvp1bkBj2Wz2UngPxG8sN47wNNoSg/P7wuAABPZbHYBmgbuDu5MttLpuWUymTzw6Ww2e+um4xSAT4RfV7LZ7JeAE4M4h+3o1fmF/BvgjvBYPoE4DpUuzu/LdT/+dSCZzWYTwH6GoCvjHKHXyGazNxFEMZ8DDod/lOiPcyh82HHgYt2PXQpvOx5+vfn2kWCH5wbwq8BvAoVBrLdTdnJ+mUymCvx74J8J0i13Av/PYFbemjbPrZ3jzALfQxAZjgw7Ob/wnAB+NZvNfimbzf5FNps93MfldkwX5/f9wJfDwGMoujL2gh5GoO8DfiaTyaxu81BpcJvZ5vahs9Nzy2az9wC3ZjKZ9/djfTulB+cXIxD0FwPHCFIuv9DzhXZBB+cW6jgO8DDwu5lM5plerW+n9OD8HIIrjkczmcy9wGPAb/RwiTui0/PLZrN3Ab8O/LvwpqHoylgLeviGfh/wPzKZzF+GN1/LZrNHw/uPAvPh7ZeAk3U/foIgqrvExkvZ6Pah0qNzeyVwX5hW+jRwezab/WT/V99aHp3fPQCZTObpcLPpvcC39n/129PhubXij4EzmUzmt3u+0C7p0fktEFw1RsHGXwD39mG5HdPp+WWz2RME5/H2TCbzdHjzUHRlbAU9m80KweX1k5lM5rfq7vogweYE4f8fqLv9rdlsNpHNZm8m2KT4fHj5tJbNZl8RHvPtdT/zFHp4bn+UyWSOZTKZm4BXA09lMpn7B3EO29Gr8wOeA+7MZrMHw8e9Hniy3+vPji7Obbtj/VfgBviZHi+za3p1fuEH8IfYz0u/Dniip4vtgk7PL0wd/Q3wC5lM5tHowcPSFRlXt8VsNvtq4FME+VM/vPkXCfJd7wVOAReAH8hkMovhz/wSwUaMS3Ap9RHw9pewXl70EeCnh1y22LNzqzvmTcBfj0jZYi//dj8B/AegCpwH/nUmk1kY3NlspMtzO0GwoRsHloE3AKsE+wbfAMrhcX4/k8m8axDn0YxenV8mk3kim82eJqgK... [truncated]