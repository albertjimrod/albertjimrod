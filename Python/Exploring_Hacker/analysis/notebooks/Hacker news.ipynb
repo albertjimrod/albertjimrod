{
 "cells": [
  {
   "cell_type": "markdown",
   "id": "6bc2bce5-0379-4344-932e-16298f732b89",
   "metadata": {},
   "source": [
    "# Hacker News\n",
    "\n",
    "\n",
    "![](https://s3.amazonaws.com/dq-content/354/hacker_news.jpg)"
   ]
  },
  {
   "cell_type": "markdown",
   "id": "70897ad0-a284-4f5f-a361-bd7332eaaeef",
   "metadata": {},
   "source": [
    "In this project, we'll work with a dataset of submissions to popular technology site **Hacker News**.\n",
    "\n",
    "[Hacker News](https://news.ycombinator.com/) is a site started by the startup incubator Y Combinator, where user-submitted stories (known as \"posts\") receive votes and comments, similar to reddit. Hacker News is extremely popular in technology and startup circles, and posts that make it to the top of the Hacker News listings can get hundreds of thousands of visitors as a result."
   ]
  },
  {
   "cell_type": "markdown",
   "id": "ca547b3d-2478-4478-af6f-5cec244f6c4f",
   "metadata": {},
   "source": [
    "### Data dictionary\n",
    "\n",
    "-`id`: the unique identifier from Hacker News for the post\n",
    "\n",
    "-`title`: the title of the post\n",
    "\n",
    "-`url`: the URL that the posts links to, if the post has a URL\n",
    "\n",
    "-`num_points`: the number of points the post acquired, calculated as the total number of upvotes minus the total number of downvotes\n",
    "\n",
    "-`num_comments`: the number of comments on the post\n",
    "\n",
    "-`author`: the username of the person who submitted the post\n",
    "\n",
    "-`created_at`: the date and time of the post's submission\n",
    "\n",
    "***\n",
    "\n",
    "We're specifically interested in posts with titles that begin with either `Ask HN` or `Show HN`. \n",
    "\n",
    "Users submit `Ask HN` posts to ask the Hacker News community a specific question.\n",
    "\n",
    "<br>\n",
    "\n",
    "We'll compare these two types of posts to determine the following:\n",
    "\n",
    "- Do `Ask HN` or `Show HN` receive more comments on average?\n",
    "- Do posts created at a certain time receive more comments on average?"
   ]
  },
  {
   "cell_type": "markdown",
   "id": "2ec0f906-d95c-415c-9f66-58391913d850",
   "metadata": {},
   "source": [
    "### 1. Load `hacker_news.csv` dataset"
   ]
  },
  {
   "cell_type": "code",
   "execution_count": 1,
   "id": "c4c1d0df-c738-4399-9b75-e3a2f107adc5",
   "metadata": {},
   "outputs": [],
   "source": [
    "from csv import reader"
   ]
  },
  {
   "cell_type": "code",
   "execution_count": 2,
   "id": "910fd4ea-d227-4d80-a566-118f3cc96751",
   "metadata": {},
   "outputs": [],
   "source": [
    "dataset = open('/home/ion/Formacion/git_repo_klone/albertjimrod/Python/Exploring_Hacker/dataset/hacker_news.csv',encoding = 'utf-8')\n",
    "dataset_read = reader(dataset)\n",
    "hn = list(dataset_read)"
   ]
  },
  {
   "cell_type": "markdown",
   "id": "ab230e13-a3d2-468e-82f6-95a87428eae4",
   "metadata": {},
   "source": [
    "### 2. Removing headers "
   ]
  },
  {
   "cell_type": "code",
   "execution_count": 3,
   "id": "d3250f0a-6c5c-432c-a9b2-02f55c9cff3e",
   "metadata": {},
   "outputs": [],
   "source": [
    "header = hn[0] # We copy the first row that corresponds to the columns of the dataset into the Header variable"
   ]
  },
  {
   "cell_type": "code",
   "execution_count": 4,
   "id": "3e6facc1-28e0-4170-9001-eea36ad987b1",
   "metadata": {},
   "outputs": [
    {
     "data": {
      "text/plain": [
       "['id', 'title', 'url', 'num_points', 'num_comments', 'author', 'created_at']"
      ]
     },
     "execution_count": 4,
     "metadata": {},
     "output_type": "execute_result"
    }
   ],
   "source": [
    "header"
   ]
  },
  {
   "cell_type": "code",
   "execution_count": 5,
   "id": "f00b18fa-f45e-4164-8776-a0f4bece7725",
   "metadata": {},
   "outputs": [],
   "source": [
    "del hn[0] # We delete the row that corresponds to the header "
   ]
  },
  {
   "cell_type": "code",
   "execution_count": 6,
   "id": "36de3bc3-fd20-406d-96a5-cc756e6e724f",
   "metadata": {
    "scrolled": true
   },
   "outputs": [
    {
     "data": {
      "text/plain": [
       "[['12224879',\n",
       "  'Interactive Dynamic Video',\n",
       "  'http://www.interactivedynamicvideo.com/',\n",
       "  '386',\n",
       "  '52',\n",
       "  'ne0phyte',\n",
       "  '8/4/2016 11:52'],\n",
       " ['10975351',\n",
       "  'How to Use Open Source and Shut the Fuck Up at the Same Time',\n",
       "  'http://hueniverse.com/2016/01/26/how-to-use-open-source-and-shut-the-fuck-up-at-the-same-time/',\n",
       "  '39',\n",
       "  '10',\n",
       "  'josep2',\n",
       "  '1/26/2016 19:30'],\n",
       " ['11964716',\n",
       "  \"Florida DJs May Face Felony for April Fools' Water Joke\",\n",
       "  'http://www.thewire.com/entertainment/2013/04/florida-djs-april-fools-water-joke/63798/',\n",
       "  '2',\n",
       "  '1',\n",
       "  'vezycash',\n",
       "  '6/23/2016 22:20'],\n",
       " ['11919867',\n",
       "  'Technology ventures: From Idea to Enterprise',\n",
       "  'https://www.amazon.com/Technology-Ventures-Enterprise-Thomas-Byers/dp/0073523429',\n",
       "  '3',\n",
       "  '1',\n",
       "  'hswarna',\n",
       "  '6/17/2016 0:01'],\n",
       " ['10301696',\n",
       "  'Note by Note: The Making of Steinway L1037 (2007)',\n",
       "  'http://www.nytimes.com/2007/11/07/movies/07stein.html?_r=0',\n",
       "  '8',\n",
       "  '2',\n",
       "  'walterbell',\n",
       "  '9/30/2015 4:12']]"
      ]
     },
     "execution_count": 6,
     "metadata": {},
     "output_type": "execute_result"
    }
   ],
   "source": [
    "hn[0:5] # and keep all the contents of the dataset"
   ]
  },
  {
   "cell_type": "markdown",
   "id": "44355161-9c87-4406-a993-5a9ed6a761ad",
   "metadata": {},
   "source": [
    "### 3. Finding posts starting with `Ask HN` and `Show HN`Posts\n",
    " \n",
    "Since we're only concerned with post titles beginning with `Ask HN` or `Show HN`, we'll create new lists of lists containing just the data for those titles."
   ]
  },
  {
   "cell_type": "code",
   "execution_count": 7,
   "id": "843ff5ae-405b-4fa2-8548-520b39e99795",
   "metadata": {},
   "outputs": [
    {
     "name": "stdout",
     "output_type": "stream",
     "text": [
      " ask posts number 1744 \n",
      " show post number 1162 \n",
      " other number     17194 \n"
     ]
    }
   ],
   "source": [
    "ask_posts = []\n",
    "show_posts = []\n",
    "other_posts = []\n",
    "\n",
    "for fila in hn:\n",
    "    title = fila[1] #title\n",
    "    title = title.lower()   # all in lower_case\n",
    "    \n",
    "    if title.startswith('ask hn'):\n",
    "        ask_posts.append(fila)\n",
    "        \n",
    "    elif title.startswith('show hn'):\n",
    "        show_posts.append(fila)\n",
    "        \n",
    "    else:\n",
    "        other_posts.append(fila)\n",
    "\n",
    "print(f\" ask posts number {len(ask_posts)} \\n show post number {len(show_posts)} \\n other number     {len(other_posts)} \")"
   ]
  },
  {
   "cell_type": "markdown",
   "id": "f26a9b0e-bdbf-4f3b-978c-680c8a51e3fc",
   "metadata": {},
   "source": [
    "### 4. Calculating the average number of comments for `Ask HN` and `Show HN` Posts\n",
    "\n",
    "Let's determine if ask posts or show posts ive more comments on average."
   ]
  },
  {
   "cell_type": "code",
   "execution_count": 8,
   "id": "6e0b02a0-ea87-42a6-87bb-5c10105a031f",
   "metadata": {},
   "outputs": [
    {
     "data": {
      "text/plain": [
       "['id', 'title', 'url', 'num_points', 'num_comments', 'author', 'created_at']"
      ]
     },
     "execution_count": 8,
     "metadata": {},
     "output_type": "execute_result"
    }
   ],
   "source": [
    "header"
   ]
  },
  {
   "cell_type": "code",
   "execution_count": 9,
   "id": "0e821acb-0fde-45f9-88cd-53140e11cef3",
   "metadata": {},
   "outputs": [
    {
     "data": {
      "text/plain": [
       "str"
      ]
     },
     "execution_count": 9,
     "metadata": {},
     "output_type": "execute_result"
    }
   ],
   "source": [
    "type(header[3]) # checking type of data"
   ]
  },
  {
   "cell_type": "code",
   "execution_count": 10,
   "id": "1fdde8fb-bae0-47a1-9d54-c2a90a718414",
   "metadata": {},
   "outputs": [],
   "source": [
    "def avg_comments(data_list):\n",
    "\n",
    "    total_comments = 0\n",
    "    total_length = len(data_list)\n",
    "    \n",
    "    for row in data_list:\n",
    "        total_comments += int(row[4]) # num_comments column\n",
    "    \n",
    "    avg_comments = ( total_length / total_comments) * 100\n",
    "    print(f\"Average: {avg_comments}%\")"
   ]
  },
  {
   "cell_type": "code",
   "execution_count": 11,
   "id": "c3f31cd9-f361-4bfb-a2bb-19fd7f7d5eee",
   "metadata": {},
   "outputs": [
    {
     "name": "stdout",
     "output_type": "stream",
     "text": [
      "Average: 7.1233100518727275%\n"
     ]
    }
   ],
   "source": [
    "avg_comments(ask_posts)"
   ]
  },
  {
   "cell_type": "code",
   "execution_count": 12,
   "id": "c56f0b38-1ede-475b-b2a6-7f6de35aaa57",
   "metadata": {},
   "outputs": [
    {
     "name": "stdout",
     "output_type": "stream",
     "text": [
      "Average: 9.693026359693025%\n"
     ]
    }
   ],
   "source": [
    "avg_comments(show_posts)"
   ]
  },
  {
   "cell_type": "code",
   "execution_count": 13,
   "id": "b2a9ec52-4320-455b-b558-a11498abfe6d",
   "metadata": {},
   "outputs": [
    {
     "data": {
      "text/plain": [
       "['id', 'title', 'url', 'num_points', 'num_comments', 'author', 'created_at']"
      ]
     },
     "execution_count": 13,
     "metadata": {},
     "output_type": "execute_result"
    }
   ],
   "source": [
    "header"
   ]
  },
  {
   "cell_type": "markdown",
   "id": "8f02497a-d568-42ec-874f-919394847326",
   "metadata": {},
   "source": [
    "### 5. Titles of the highest score for `Ask` and `Show` posts\n",
    "\n",
    "Below we are going to extract the questions and answers with the most votes and the number of votes."
   ]
  },
  {
   "cell_type": "code",
   "execution_count": 14,
   "id": "ac4fc9a2-a8a0-4db7-ba51-c6207ad4580d",
   "metadata": {},
   "outputs": [],
   "source": [
    "def max_comments(posts):\n",
    "    \"\"\"\n",
    "    Encuentra las publicaciones con el mayor número de comentarios y muestra los resultados en orden descendente.\n",
    "\n",
    "    Args:\n",
    "        posts: Lista de tuplas donde cada tupla representa una publicación y contiene al menos 5 elementos,\n",
    "              其中 el quinto elemento (índice 4) es el número de comentarios.\n",
    "\n",
    "    Returns:\n",
    "        None. La función imprime por defecto los resultados en la terminal, pero puede devolver una lista\n",
    "        con las publicaciones y sus comentarios ordenadas si se modifican los parámetros de retorno.\n",
    "\n",
    "    Side Effects:\n",
    "        - Modifica globalmente el diccionario `most_important_questions` que almacena las publicaciones\n",
    "          y su número de comentarios.\n",
    "        - Imprime en stdout.\n",
    "\n",
    "    Notes:\n",
    "        Si desea obtener una lista con los resultados sin imprimir, modifique la función para que retorne\n",
    "        `max_comments_posts` en lugar de imprimir. Esto requiere ajustar el código dentro de la función.\n",
    "    \"\"\"\n",
    "    max_comments_posts = []\n",
    "    most_important_questions = {}\n",
    "    max_comments = 0\n",
    "    \n",
    "    for comments in posts:\n",
    "        if max_comments < int(comments[4]): # compare `max_comments` with int(comments[4])\n",
    "            max_comments = int(comments[4]) # 1st is 0, but every row is updating\n",
    "            # saving into dictionary\n",
    "            num_comments = int(comments[4]) # then, this number_comments is the key of dictionary\n",
    "            most_important_questions[num_comments] = comments[1]\n",
    "\n",
    "    most_voted = list(reversed(sorted(most_important_questions.keys()))) # list of dictionary keys sorted\n",
    "    ### printing output\n",
    "    \n",
    "    print(\"-- Score --            -- Tittle -- \")\n",
    "\n",
    "    for score in most_voted:\n",
    "        texto = \"    {points}     {relevance}\".format(points = score,\n",
    "                                                      relevance = most_important_questions[score])\n",
    "        print(texto)\n",
    "        max_comments_posts.append(texto)"
   ]
  },
  {
   "cell_type": "code",
   "execution_count": 15,
   "id": "624e86db-5271-4511-8413-40a578433538",
   "metadata": {},
   "outputs": [
    {
     "name": "stdout",
     "output_type": "stream",
     "text": [
      "-- Score --            -- Tittle -- \n",
      "    947     Ask HN: Who is hiring? (August 2016)\n",
      "    910     Ask HN: Who is hiring? (September 2016)\n",
      "    266     Ask HN: What are the must-read books about economics/finance?\n",
      "    250     Ask HN: Who wants to be hired? (June 2016)\n",
      "    234     Ask HN: What are you currently building?\n",
      "    182     Ask HN: What is your go-to example for a good REST API?\n",
      "    37     Ask HN: Things you created in 2015?\n",
      "    33     Ask HN: teaching basic coding and web design offline, solely via iOS devices?\n",
      "    29     Ask HN: Am I the only one outraged by Twitter shutting down share counts?\n",
      "    6     Ask HN: How to improve my personal website?\n"
     ]
    }
   ],
   "source": [
    "max_comments(ask_posts)"
   ]
  },
  {
   "cell_type": "code",
   "execution_count": 16,
   "id": "0851cc28-86e5-4934-a918-70e0e1fb4c18",
   "metadata": {},
   "outputs": [
    {
     "name": "stdout",
     "output_type": "stream",
     "text": [
      "-- Score --            -- Tittle -- \n",
      "    306     Show HN: BitKeeper  Enterprise-ready version control, now open-source\n",
      "    168     Show HN: Nodal. Next-Generation Node.js Server and Framework\n",
      "    134     Show HN: Download any song without knowing its name\n",
      "    102     Show HN: Something pointless I made\n",
      "    22     Show HN: Wio Link  ESP8266 Based Web of Things Hardware Development Platform\n"
     ]
    }
   ],
   "source": [
    "max_comments(show_posts)"
   ]
  },
  {
   "cell_type": "markdown",
   "id": "b5e6e8c2-bce0-4225-b58c-a95535f67585",
   "metadata": {},
   "source": [
    "### 6. Finding the number of `Ask Posts` and comments by hour created."
   ]
  },
  {
   "cell_type": "code",
   "execution_count": 17,
   "id": "b766dbb6-eb0b-4654-8dc7-1f31813d0412",
   "metadata": {
    "scrolled": true
   },
   "outputs": [],
   "source": [
    "import datetime as dt\n",
    "import matplotlib.pyplot as plt"
   ]
  },
  {
   "cell_type": "code",
   "execution_count": 18,
   "id": "4499326d-9a4b-464e-be15-9a3233d106ca",
   "metadata": {},
   "outputs": [],
   "source": [
    "def comments_byhour(posts, output = 0):\n",
    "    \"\"\"\n",
    "    Docstring comments_byhour:\n",
    "    \n",
    "    Descripción de lo que hace la funcion.\n",
    "\n",
    "    Esta es una función procesa una lista de publicaciones (posts), extrae las horas de los comentarios, y calcula la media de comentarios \n",
    "    por hora. La función tiene dos objetivos principales:\n",
    "    \n",
    "    Procesa la lista dada de publicaciones: Extrae el tiempo de creación (timestamp) de cada publicación y el número de comentarios asociados.\n",
    "    Calcula la media de comentarios por hora: Utiliza dos diccionarios para almacenar los conteos de horas y el total de comentarios. \n",
    "    Luego, calcula la media de comentarios por cada hora.\n",
    "    \n",
    "    La función puede devolver:\n",
    "    Una lista ordenada de horas con sus respectivas medias si el parámetro output está configurado en 0.\n",
    "    Un mensaje específico que muestra las medias si el parámetro output está configurado en otro valor.\n",
    "\n",
    "\n",
    "    Resumen general:\n",
    "    La función analiza el comportamiento de los comentarios basado en la hora, devuelve una lista ordenada de horas \n",
    "    con sus respectivas medias y puede mostrar un resultado legible en formato humano\n",
    "\n",
    "    Argumentos:\n",
    "        posts: Lista con los post Ask o Show\n",
    "        output: selector para que la función imprima el resultado con valor 1 o para que retorne una tupla\n",
    "    \n",
    "    Devuelve:\n",
    "        La función retorna una lista ordenada de horas y un valor (el valor medio)\n",
    "    \n",
    "    \"\"\"\n",
    "    stamp = [] # aqui se guardan las horas en formato date time\n",
    "    result_list = [] # cuando se creo y el numero de comentarios sin formato date time\n",
    "    \n",
    "    counts_by_hours = {}\n",
    "    comments_by_hours = {}    \n",
    "    avg_by_hour = []\n",
    "    tuplax = []\n",
    "    num_points = 0\n",
    "    \n",
    "    for row in posts:\n",
    "        time_stamp = row[6] #created_at\n",
    "        time_obj = dt.datetime.strptime(time_stamp, \"%m/%d/%Y %H:%M\")\n",
    "        stamp.append(time_obj)\n",
    "        num_comment = row[4] #num_comments\n",
    "        tupla = (time_stamp, num_comment)\n",
    "        result_list.append(tupla)\n",
    "\n",
    "    for row in result_list:\n",
    "        time_stamp = row[0]\n",
    "        time_obj = dt.datetime.strptime(time_stamp, \"%m/%d/%Y %H:%M\") # 2016-08-16 09:55:00)\n",
    "        hour = time_obj.hour # extraigo la hora\n",
    "        num_comments = int(row[1]) #  extraigo el numero de comentarios\n",
    "\n",
    "    # Trabajando con los diccionarios para insertar horas y numero de comentarios\n",
    "    \n",
    "        if hour not in counts_by_hours:\n",
    "            counts_by_hours[hour] = 1                                  # time_stamp\n",
    "            comments_by_hours[hour] = num_comments                     # num_comment\n",
    "            \n",
    "        elif hour in counts_by_hours:\n",
    "            counts_by_hours[hour] += 1                                 # time_stamp\n",
    "            comments_by_hours[hour] += num_comments                    # num_comment\n",
    "\n",
    "\n",
    "    for horas in counts_by_hours: # {9: 45, 13: 85,...} Number of ask post by hours \n",
    "        avg = comments_by_hours[horas] / counts_by_hours[horas]\n",
    "        avg_by_hour.append([horas, avg]) #list, and the tuple.\n",
    "        \n",
    "    date_format = \"%H\"\n",
    "    accu = 0\n",
    "   \n",
    "    sorted_avg_by_hour = sorted(avg_by_hour, reverse=True)\n",
    "    \n",
    "\n",
    "\n",
    "    if output == 0:\n",
    "        return sorted_avg_by_hour, avg\n",
    "    else:\n",
    "        for row in sorted_avg_by_hour:\n",
    "            horas = row[0]\n",
    "            hora = str(horas)\n",
    "            objeto_datetime = dt.datetime.strptime(hora, date_format)\n",
    "            hora = objeto_datetime.hour\n",
    "            avg_comment = row[1]\n",
    "            accu += avg_comment\n",
    "\n",
    "            text_template =\"At {h}:00 the average comments per post is {c:.2f}\".format(h = horas, c = avg_comment)\n",
    "            print(text_template)\n",
    "        \n",
    "        leng = len(sorted_avg_by_hour)\n",
    "        print(\"\\n\" + \"average comments by day {avg}\".format(avg = (accu/leng)))\n",
    "        \n",
    "        return"
   ]
  },
  {
   "cell_type": "markdown",
   "id": "73325936-bdcc-432f-b009-906d10670fbc",
   "metadata": {},
   "source": [
    "### 7. Average number of comments per hour on `Ask post`"
   ]
  },
  {
   "cell_type": "code",
   "execution_count": 19,
   "id": "a0566a33-00d9-44f2-9572-716c06295f17",
   "metadata": {},
   "outputs": [
    {
     "name": "stdout",
     "output_type": "stream",
     "text": [
      "At 23:00 the average comments per post is 7.99\n",
      "At 22:00 the average comments per post is 6.75\n",
      "At 21:00 the average comments per post is 16.01\n",
      "At 20:00 the average comments per post is 21.52\n",
      "At 19:00 the average comments per post is 10.80\n",
      "At 18:00 the average comments per post is 13.20\n",
      "At 17:00 the average comments per post is 11.46\n",
      "At 16:00 the average comments per post is 16.80\n",
      "At 15:00 the average comments per post is 38.59\n",
      "At 14:00 the average comments per post is 13.23\n",
      "At 13:00 the average comments per post is 14.74\n",
      "At 12:00 the average comments per post is 9.41\n",
      "At 11:00 the average comments per post is 11.05\n",
      "At 10:00 the average comments per post is 13.44\n",
      "At 9:00 the average comments per post is 5.58\n",
      "At 8:00 the average comments per post is 10.25\n",
      "At 7:00 the average comments per post is 7.85\n",
      "At 6:00 the average comments per post is 9.02\n",
      "At 5:00 the average comments per post is 10.09\n",
      "At 4:00 the average comments per post is 7.17\n",
      "At 3:00 the average comments per post is 7.80\n",
      "At 2:00 the average comments per post is 23.81\n",
      "At 1:00 the average comments per post is 11.38\n",
      "At 0:00 the average comments per post is 8.13\n",
      "\n",
      "average comments by day 12.753122961891918\n"
     ]
    }
   ],
   "source": [
    "comments_byhour(ask_posts,1)"
   ]
  },
  {
   "cell_type": "markdown",
   "id": "50a0b467-c49e-4716-8df4-a6910164a05a",
   "metadata": {},
   "source": [
    "### 8. Average number of comments per hour on `Show post`"
   ]
  },
  {
   "cell_type": "code",
   "execution_count": 20,
   "id": "88b34e9a-1294-449b-ae76-37e6a2661eaa",
   "metadata": {},
   "outputs": [
    {
     "name": "stdout",
     "output_type": "stream",
     "text": [
      "At 23:00 the average comments per post is 12.42\n",
      "At 22:00 the average comments per post is 12.39\n",
      "At 21:00 the average comments per post is 5.79\n",
      "At 20:00 the average comments per post is 10.20\n",
      "At 19:00 the average comments per post is 9.80\n",
      "At 18:00 the average comments per post is 15.77\n",
      "At 17:00 the average comments per post is 9.80\n",
      "At 16:00 the average comments per post is 11.66\n",
      "At 15:00 the average comments per post is 8.10\n",
      "At 14:00 the average comments per post is 13.44\n",
      "At 13:00 the average comments per post is 9.56\n",
      "At 12:00 the average comments per post is 11.80\n",
      "At 11:00 the average comments per post is 11.16\n",
      "At 10:00 the average comments per post is 8.25\n",
      "At 9:00 the average comments per post is 9.70\n",
      "At 8:00 the average comments per post is 4.85\n",
      "At 7:00 the average comments per post is 11.50\n",
      "At 6:00 the average comments per post is 8.88\n",
      "At 5:00 the average comments per post is 3.05\n",
      "At 4:00 the average comments per post is 9.50\n",
      "At 3:00 the average comments per post is 10.63\n",
      "At 2:00 the average comments per post is 4.23\n",
      "At 1:00 the average comments per post is 8.79\n",
      "At 0:00 the average comments per post is 15.71\n",
      "\n",
      "average comments by day 9.873691121160496\n"
     ]
    }
   ],
   "source": [
    "comments_byhour(show_posts,1)"
   ]
  },
  {
   "cell_type": "markdown",
   "id": "6f65ad6e-3e1e-4ef9-991c-d14d6c28de8c",
   "metadata": {},
   "source": [
    "There are times of the day when there is more activity. \n",
    "\n",
    "What we are going to do is to do the average of votes during the 24 hours of the day and from here we will determine which hours are above that value and which hours are below.\n",
    "\n",
    "We know that the average score is 12.75, so we could filter which hours are above or below that average\n",
    "\n",
    "This function `threshold(list_name,average_value,selector = 1)` has 3 parameters. \n",
    "\n",
    "The first is the list of hours already ordered, the second parameter is the average score value among all the hours and the third determines whether what I want is to show the values that are above or below."
   ]
  },
  {
   "cell_type": "code",
   "execution_count": 21,
   "id": "99831124-cf5b-4d7b-bdf9-16fddcac012f",
   "metadata": {},
   "outputs": [],
   "source": [
    "def threshold(data,average,selector = 1):\n",
    "    texto = \">>> Average {av} <<<\".format(av = average)\n",
    "    print(texto)\n",
    "    for index in data:\n",
    "        if selector == 1: # selector == 1: muestra las horas que están relacionadas con un valor medio superior a la media\n",
    "            if index[1] > average:\n",
    "                print(index)\n",
    "        elif selector == 0: # selector == 0: muestra las horas que están relacionadas con un valor medio inferior a la media\n",
    "            if index[1] < average:\n",
    "                print(index)"
   ]
  },
  {
   "cell_type": "markdown",
   "id": "e77aaff6-1fc7-403e-a9d0-cd24c9d46846",
   "metadata": {},
   "source": [
    "### 9. Hours with above-average activity in `ask_post`"
   ]
  },
  {
   "cell_type": "code",
   "execution_count": 22,
   "id": "718a787f-4edf-448e-83a3-98f9e7c4f3b8",
   "metadata": {},
   "outputs": [
    {
     "name": "stdout",
     "output_type": "stream",
     "text": [
      ">>> Average 11.051724137931034 <<<\n",
      "[21, 16.009174311926607]\n",
      "[20, 21.525]\n",
      "[18, 13.20183486238532]\n",
      "[17, 11.46]\n",
      "[16, 16.796296296296298]\n",
      "[15, 38.5948275862069]\n",
      "[14, 13.233644859813085]\n",
      "[13, 14.741176470588234]\n",
      "[10, 13.440677966101696]\n",
      "[2, 23.810344827586206]\n",
      "[1, 11.383333333333333]\n"
     ]
    }
   ],
   "source": [
    "data,average = comments_byhour(ask_posts,0)\n",
    "threshold(data,average,1)"
   ]
  },
  {
   "cell_type": "markdown",
   "id": "6f028d20-297b-4799-aaf0-f0ca81100b99",
   "metadata": {},
   "source": [
    "### 10. hours with below-average activity in `ask_post`"
   ]
  },
  {
   "cell_type": "code",
   "execution_count": 23,
   "id": "bcaa9a03-2dcd-4235-800d-0c458f03a82e",
   "metadata": {},
   "outputs": [
    {
     "name": "stdout",
     "output_type": "stream",
     "text": [
      ">>> Average 11.051724137931034 <<<\n",
      "[23, 7.985294117647059]\n",
      "[22, 6.746478873239437]\n",
      "[19, 10.8]\n",
      "[12, 9.41095890410959]\n",
      "[9, 5.5777777777777775]\n",
      "[8, 10.25]\n",
      "[7, 7.852941176470588]\n",
      "[6, 9.022727272727273]\n",
      "[5, 10.08695652173913]\n",
      "[4, 7.170212765957447]\n",
      "[3, 7.796296296296297]\n",
      "[0, 8.127272727272727]\n"
     ]
    }
   ],
   "source": [
    "threshold(data,average,0)"
   ]
  },
  {
   "cell_type": "markdown",
   "id": "777ad1b7-76ed-4e61-adb7-a710929b4f36",
   "metadata": {},
   "source": [
    "## `show post`"
   ]
  },
  {
   "cell_type": "markdown",
   "id": "67a9a8d7-9c0b-4f6f-9b7c-7a955cb02046",
   "metadata": {},
   "source": [
    "### 11. Hours with above-average activity in `show_post`"
   ]
  },
  {
   "cell_type": "code",
   "execution_count": 24,
   "id": "e857b1cb-8853-45f6-9c3d-15fbd951ff69",
   "metadata": {},
   "outputs": [
    {
     "name": "stdout",
     "output_type": "stream",
     "text": [
      ">>> Average 15.709677419354838 <<<\n",
      "[18, 15.770491803278688]\n"
     ]
    }
   ],
   "source": [
    "data1,average1 = comments_byhour(show_posts,0)\n",
    "threshold(data1,average1,1)"
   ]
  },
  {
   "cell_type": "markdown",
   "id": "b18450b2-444a-4b6e-a0d2-46a8e857d2f7",
   "metadata": {},
   "source": [
    "### 12. Hours with below-average activity in `show_post`"
   ]
  },
  {
   "cell_type": "code",
   "execution_count": 25,
   "id": "344aef61-20f5-4c35-b0e0-6ad4c0b08507",
   "metadata": {},
   "outputs": [
    {
     "name": "stdout",
     "output_type": "stream",
     "text": [
      ">>> Average 15.709677419354838 <<<\n",
      "[23, 12.416666666666666]\n",
      "[22, 12.391304347826088]\n",
      "[21, 5.787234042553192]\n",
      "[20, 10.2]\n",
      "[19, 9.8]\n",
      "[17, 9.795698924731182]\n",
      "[16, 11.655913978494624]\n",
      "[15, 8.102564102564102]\n",
      "[14, 13.44186046511628]\n",
      "[13, 9.555555555555555]\n",
      "[12, 11.80327868852459]\n",
      "[11, 11.159090909090908]\n",
      "[10, 8.25]\n",
      "[9, 9.7]\n",
      "[8, 4.852941176470588]\n",
      "[7, 11.5]\n",
      "[6, 8.875]\n",
      "[5, 3.0526315789473686]\n",
      "[4, 9.5]\n",
      "[3, 10.62962962962963]\n",
      "[2, 4.233333333333333]\n",
      "[1, 8.785714285714286]\n"
     ]
    }
   ],
   "source": [
    "threshold(data1,average1,0)"
   ]
  },
  {
   "cell_type": "markdown",
   "id": "c0bd89bc-0950-4b78-8fd1-3b8b31c3c0a2",
   "metadata": {},
   "source": [
    "It's now much easier to get an idea of what the times are in both posts, Posts created at a certain time, receive more comments on average as we can see.\n",
    "\n",
    "---\n",
    "\n",
    "### 13. Who's the most relevant authors in `Ask_posts` and in `Show post`"
   ]
  },
  {
   "cell_type": "code",
   "execution_count": 26,
   "id": "9c0ab848-c917-40c5-9554-50215da7c5a4",
   "metadata": {},
   "outputs": [],
   "source": [
    "def most_relevant_authors(kind_of_post,limit):\n",
    "    author = {}\n",
    "    sort_dict = []\n",
    "    \n",
    "    for row in kind_of_post:\n",
    "        who = row[5]\n",
    "        \n",
    "        if who in author:\n",
    "            author[who] +=1\n",
    "        else:\n",
    "            author[who] = 1\n",
    "            \n",
    "    for (key,value) in author.items():\n",
    "        sort_dict.append((value, key))\n",
    "    if limit !=0:\n",
    "        out = sorted(sort_dict, reverse = True)\n",
    "        return out[0:limit]"
   ]
  },
  {
   "cell_type": "markdown",
   "id": "2a9f0641-d7ae-466a-8f07-7305e2f01b72",
   "metadata": {},
   "source": [
    "### 14. Most relevant authors in `Ask_posts` by number of times posted on the forum."
   ]
  },
  {
   "cell_type": "code",
   "execution_count": 27,
   "id": "5dd43020-0948-4290-9faf-889ceabe0875",
   "metadata": {},
   "outputs": [
    {
     "data": {
      "text/plain": [
       "[(16, 'hoodoof'),\n",
       " (14, 'tmaly'),\n",
       " (9, 'whoishiring'),\n",
       " (7, 'prmph'),\n",
       " (7, 'hanniabu'),\n",
       " (6, 'tixocloud'),\n",
       " (5, 'vijayr'),\n",
       " (5, 'soulbadguy'),\n",
       " (5, 'sharemywin'),\n",
       " (5, 'rayalez')]"
      ]
     },
     "execution_count": 27,
     "metadata": {},
     "output_type": "execute_result"
    }
   ],
   "source": [
    "most_relevant_authors(ask_posts,10)"
   ]
  },
  {
   "cell_type": "markdown",
   "id": "fdd4645f-f243-4fec-9d23-b17c4e05ef59",
   "metadata": {},
   "source": [
    "### 15. Most relevant authors in `Show_posts`"
   ]
  },
  {
   "cell_type": "code",
   "execution_count": 28,
   "id": "5c2d50e5-d47f-4cab-b475-ac5f2f6e7eda",
   "metadata": {},
   "outputs": [
    {
     "data": {
      "text/plain": [
       "[(4, 'vipul4vb'),\n",
       " (4, 'soheil'),\n",
       " (4, 'max0563'),\n",
       " (4, 'iisbum'),\n",
       " (4, 'emeth'),\n",
       " (4, 'chinchang'),\n",
       " (4, 'alexellisuk'),\n",
       " (3, 'stockkid'),\n",
       " (3, 'mojoe'),\n",
       " (3, 'gk_brown')]"
      ]
     },
     "execution_count": 28,
     "metadata": {},
     "output_type": "execute_result"
    }
   ],
   "source": [
    "most_relevant_authors(show_posts, 10)"
   ]
  },
  {
   "cell_type": "markdown",
   "id": "08233021-c6ec-4d18-be1a-806bd5b8a47f",
   "metadata": {},
   "source": [
    "### 16. The most significant activity by user in `Ask_posts`\n",
    "\n",
    "Now that we know who are the users who have the most activity. Let's see what their posts have been and what score they got."
   ]
  },
  {
   "cell_type": "code",
   "execution_count": 29,
   "id": "1c0df202-6066-4b44-9343-7b1269ecabe2",
   "metadata": {},
   "outputs": [],
   "source": [
    "def all_activity_post(name, posts):\n",
    "    datum_format = \"%m/%d/%Y %H:%M\"\n",
    "    time_format = '%Y/%m/%d'\n",
    "    time = 0\n",
    "    num_points = 0\n",
    "    post_published = {}\n",
    "    scoring = 0\n",
    "\n",
    "    print(\" Score:       Date:   Post: \")\n",
    "    for row in posts:\n",
    "        if row[5] == name:           # ['author']\n",
    "            time +=1\n",
    "            scoring += int(row[3])\n",
    "            num_points = int(row[3]) # ['num_points']\n",
    "            tittle = row[1]\n",
    "            \n",
    "            ask_date = row[6]       # 'created_at'\n",
    "            \n",
    "            ask_date = dt.datetime.strptime(ask_date, datum_format) # date_format = \"%m/%d/%Y %H:%M\"\n",
    "            date_object = ask_date.strftime(time_format)           # time_format = '%Y/%m/%d'\n",
    "            \n",
    "            post_published = \"  {points} -- \"  \"  {date} \" \" {tittle},\".format(tittle = row[1],\n",
    "                                                                          date = date_object, points = row[3] )\n",
    "            \n",
    "            print(post_published)\n",
    "    \n",
    "    total_number_post = \"Total number of post = {n_post}\".format(n_post = time)\n",
    "    avg_score = \"Score average = {score:.2f}\".format(score=scoring/time)\n",
    "    print(\"\\n\")\n",
    "    print(total_number_post)\n",
    "    print(avg_score)"
   ]
  },
  {
   "cell_type": "code",
   "execution_count": 30,
   "id": "b7093807-d062-46d0-96ed-51b4f13128d5",
   "metadata": {},
   "outputs": [
    {
     "name": "stdout",
     "output_type": "stream",
     "text": [
      " Score:       Date:   Post: \n",
      "  3 --   2016/07/10  Ask HN: Imagine it's 1993  what would you put in an MVP web browser?,\n",
      "  3 --   2016/01/11  Ask HN: Can anyone suggest a good RSS newsreader with a set of tech news feeds?,\n",
      "  3 --   2016/02/26  Ask HN: Someone is stealing things from my car. What security camera would help?,\n",
      "  2 --   2016/09/04  Ask HN: Why should open source support be free? I don't think it should.,\n",
      "  9 --   2016/04/12  Ask HN: What's it like working at a cannabis tech startup company?,\n",
      "  2 --   2016/04/08  Ask HN: What is the most money a bootstrapped, one-person company has sold for?,\n",
      "  1 --   2016/05/20  Ask HN: Are you building something?  How long for? How much longer to go?,\n",
      "  4 --   2016/04/07  Ask HN: Why is it still not possible to search an S3 bucket?,\n",
      "  1 --   2016/05/04  Ask HN: Why does Etsy have so many items titled DO Not PURCHASE?,\n",
      "  11 --   2016/06/03  Ask HN: Is there an up-to-date global index of conferences?,\n",
      "  2 --   2016/04/23  Ask HN: What would TV cop drama be about if drugs were legal?,\n",
      "  4 --   2016/03/26  Ask HN: With all our software built on so many dependencies, is anything secure?,\n",
      "  7 --   2016/04/11  Ask HN: Have you sat in on acquisition discussions? How to ask for a billion $?,\n",
      "  3 --   2015/12/03  Ask HN: Can anyone suggest great examples of continuation passing in JavaScript?,\n",
      "  10 --   2016/05/16  Ask HN: If you could restart your current project, what would you do different?,\n",
      "  2 --   2016/02/28  Ask HN: Could voice commands make programming easier?,\n",
      "\n",
      "\n",
      "Total number of post = 16\n",
      "Score average = 4.19\n"
     ]
    }
   ],
   "source": [
    "all_activity_post('hoodoof', ask_posts)"
   ]
  },
  {
   "cell_type": "code",
   "execution_count": 31,
   "id": "08634a57-88bc-4352-b49e-4d07d0b727c5",
   "metadata": {},
   "outputs": [
    {
     "name": "stdout",
     "output_type": "stream",
     "text": [
      " Score:       Date:   Post: \n",
      "  12 --   2016/03/21  Ask HN: How do you find unused CSS?,\n",
      "  3 --   2015/09/23  Ask HN: Laptop bag for 15 Macbook Pro for inclement weather,\n",
      "  1 --   2016/06/22  Ask HN: Operational complexity of micro services?,\n",
      "  8 --   2016/01/12  Ask HN: Online learning,\n",
      "  2 --   2015/10/20  Ask HN: Wireless HDMI for Macbook to TV,\n",
      "  3 --   2015/12/28  Ask HN: Arduino or Raspberry PI for teenager?,\n",
      "  2 --   2016/01/15  Ask HN: Website Obesity Crisis,\n",
      "  1 --   2015/10/26  Ask HN: Algorithm for Scheduling appointments by location,\n",
      "  3 --   2016/08/27  Ask HN: Accuracy of ip to geo location?,\n",
      "  2 --   2015/10/30  Ask HN: Feedback on design?,\n",
      "  2 --   2016/05/17  Ask HN: What is your favorite podcast episode?,\n",
      "  2 --   2016/03/29  Ask HN: Best use case writeups of SOA?,\n",
      "  1 --   2016/06/06  Ask HN: Collaborative RSS?,\n",
      "  2 --   2016/02/14  Ask HN: Weather site negative temps,\n",
      "\n",
      "\n",
      "Total number of post = 14\n",
      "Score average = 3.14\n"
     ]
    }
   ],
   "source": [
    "all_activity_post('tmaly', ask_posts)"
   ]
  },
  {
   "cell_type": "code",
   "execution_count": 32,
   "id": "0f673ebd-989c-4c19-a209-75b1adf812c5",
   "metadata": {},
   "outputs": [
    {
     "name": "stdout",
     "output_type": "stream",
     "text": [
      " Score:       Date:   Post: \n",
      "  137 --   2016/06/01  Ask HN: Who wants to be hired? (June 2016),\n",
      "  41 --   2015/12/01  Ask HN: Freelancer? Seeking freelancer? (December 2015),\n",
      "  521 --   2016/09/01  Ask HN: Who is hiring? (September 2016),\n",
      "  22 --   2016/08/01  Ask HN: Who wants to be hired? (August 2016),\n",
      "  72 --   2016/09/01  Ask HN: Freelancer? Seeking freelancer? (September 2016),\n",
      "  534 --   2016/08/01  Ask HN: Who is hiring? (August 2016),\n",
      "  154 --   2016/04/01  Ask HN: Who wants to be hired? (April 2016),\n",
      "  117 --   2015/11/02  Ask HN: Freelancer? Seeking freelancer? (November 2015),\n",
      "  84 --   2016/03/01  Ask HN: Who wants to be hired? (March 2016),\n",
      "\n",
      "\n",
      "Total number of post = 9\n",
      "Score average = 186.89\n"
     ]
    }
   ],
   "source": [
    "all_activity_post('whoishiring', ask_posts)"
   ]
  },
  {
   "cell_type": "markdown",
   "id": "8f2ffb11-2799-41d1-b4b9-32d59821686b",
   "metadata": {},
   "source": [
    "### 17. The most significant activity by user in `Show_posts`"
   ]
  },
  {
   "cell_type": "code",
   "execution_count": 33,
   "id": "4cc4e47c-41d4-401a-922c-dfa69eaf292a",
   "metadata": {},
   "outputs": [
    {
     "name": "stdout",
     "output_type": "stream",
     "text": [
      " Score:       Date:   Post: \n",
      "  2 --   2016/04/04  Show HN: Quantitative user research reveals useful UX observation on LinkedIn,\n",
      "  1 --   2016/06/06  Show HN: Import Balsamiq Mockups into CanvasFlip using this simple interface,\n",
      "  1 --   2016/04/25  Show HN: Donald Trump V/s Hillary Clinton Better On-Site UX?,\n",
      "  2 --   2016/04/06  Show HN: UX Insights on largest e-commerce app  Amazon,\n",
      "\n",
      "\n",
      "Total number of post = 4\n",
      "Score average = 1.50\n"
     ]
    }
   ],
   "source": [
    "all_activity_post('vipul4vb', show_posts)"
   ]
  },
  {
   "cell_type": "code",
   "execution_count": 34,
   "id": "e2d06bea-807e-4b79-ae1c-041b4c6d61b3",
   "metadata": {},
   "outputs": [
    {
     "name": "stdout",
     "output_type": "stream",
     "text": [
      " Score:       Date:   Post: \n",
      "  1 --   2016/03/28  Show HN: Get hired as a team: Work with people you know,\n",
      "  3 --   2016/02/04  Show HN: Demo: most accurate speech recognition,\n",
      "  7 --   2016/03/06  Show HN: Lightweight Twitter for Mac client,\n",
      "  2 --   2016/08/22  Show HN: 1) Build Team 2) Interview 3) Offer,\n",
      "\n",
      "\n",
      "Total number of post = 4\n",
      "Score average = 3.25\n"
     ]
    }
   ],
   "source": [
    "all_activity_post('soheil', show_posts)"
   ]
  },
  {
   "cell_type": "code",
   "execution_count": 35,
   "id": "82d271b4-fd15-4484-8eb2-d6257d50e4a8",
   "metadata": {},
   "outputs": [
    {
     "name": "stdout",
     "output_type": "stream",
     "text": [
      " Score:       Date:   Post: \n",
      "  2 --   2015/09/28  Show HN: Resume Reviewers - Get Your Resume Reviewed by Real People for Free,\n",
      "  4 --   2016/03/31  Show HN: A Highcharts Library for Polymer 1.0,\n",
      "  51 --   2016/01/22  Show HN: HNLive  Hacker News in Real Time,\n",
      "  6 --   2016/02/10  Show HN: Highcharts  JavaScript charts in one line,\n",
      "\n",
      "\n",
      "Total number of post = 4\n",
      "Score average = 15.75\n"
     ]
    }
   ],
   "source": [
    "all_activity_post('max0563', show_posts)"
   ]
  },
  {
   "cell_type": "markdown",
   "id": "0988a02a-e188-49f0-bb20-d6944e7c4e9b",
   "metadata": {},
   "source": [
    "### 18. Summary\n",
    "\n",
    "The conclusion of the analysis is that hours with above-average activity of comments on the posts analyzed were identified. This analysis made it possible to determine when it is most convenient to publish content to maximize interaction, based on real engagement data.\n",
    "\n",
    "It is also interesting to see who are the people behind the most voted posts and what their activity is."
   ]
  }
 ],
 "metadata": {
  "kernelspec": {
   "display_name": "Python 3 (ipykernel)",
   "language": "python",
   "name": "python3"
  },
  "language_info": {
   "codemirror_mode": {
    "name": "ipython",
    "version": 3
   },
   "file_extension": ".py",
   "mimetype": "text/x-python",
   "name": "python",
   "nbconvert_exporter": "python",
   "pygments_lexer": "ipython3",
   "version": "3.10.13"
  }
 },
 "nbformat": 4,
 "nbformat_minor": 5
}
