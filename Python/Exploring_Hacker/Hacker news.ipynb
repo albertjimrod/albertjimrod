{
 "cells": [
  {
   "cell_type": "markdown",
   "id": "6bc2bce5-0379-4344-932e-16298f732b89",
   "metadata": {},
   "source": [
    "![](https://s3.amazonaws.com/dq-content/354/hacker_news.jpg)"
   ]
  },
  {
   "cell_type": "markdown",
   "id": "70897ad0-a284-4f5f-a361-bd7332eaaeef",
   "metadata": {},
   "source": [
    "In this project, we'll work with a dataset of submissions to popular technology site **Hacker News**.\n",
    "\n",
    "[Hacker News](https://news.ycombinator.com/) is a site started by the startup incubator Y Combinator, where user-submitted stories (known as \"posts\") receive votes and comments, similar to reddit. Hacker News is extremely popular in technology and startup circles, and posts that make it to the top of the Hacker News listings can get hundreds of thousands of visitors as a result."
   ]
  },
  {
   "cell_type": "markdown",
   "id": "ca547b3d-2478-4478-af6f-5cec244f6c4f",
   "metadata": {},
   "source": [
    "### Data dictionary\n",
    "\n",
    "-`id`: the unique identifier from Hacker News for the post\n",
    "\n",
    "-`title`: the title of the post\n",
    "\n",
    "-`url`: the URL that the posts links to, if the post has a URL\n",
    "\n",
    "-`num_points`: the number of points the post acquired, calculated as the total number of upvotes minus the total number of downvotes\n",
    "\n",
    "-`num_comments`: the number of comments on the post\n",
    "\n",
    "-`author`: the username of the person who submitted the post\n",
    "\n",
    "-`created_at`: the date and time of the post's submission\n",
    "\n",
    "***\n",
    "\n",
    "We're specifically interested in posts with titles that begin with either `Ask HN` or `Show HN`. \n",
    "\n",
    "Users submit `Ask HN` posts to ask the Hacker News community a specific question.\n",
    "\n",
    "<br>\n",
    "\n",
    "We'll compare these two types of posts to determine the following:\n",
    "\n",
    "- Do `Ask HN` or `Show HN` receive more comments on average?\n",
    "- Do posts created at a certain time receive more comments on average?"
   ]
  },
  {
   "cell_type": "markdown",
   "id": "2ec0f906-d95c-415c-9f66-58391913d850",
   "metadata": {},
   "source": [
    "### 1. Load `hacker_news.csv` dataset"
   ]
  },
  {
   "cell_type": "code",
   "execution_count": 1,
   "id": "c4c1d0df-c738-4399-9b75-e3a2f107adc5",
   "metadata": {},
   "outputs": [],
   "source": [
    "from csv import reader"
   ]
  },
  {
   "cell_type": "code",
   "execution_count": 2,
   "id": "467438f3-1855-4445-a778-7afea343ca82",
   "metadata": {},
   "outputs": [
    {
     "name": "stdout",
     "output_type": "stream",
     "text": [
      "total 22M\n",
      "-rw-rw-r-- 1 ion ion 3,0M feb  3 08:15 hacker_news.csv\n",
      "-rw-rw-r-- 1 ion ion  20M ene 31 12:14 HN_posts_year_to_Sep_26_2016.csv.zip\n"
     ]
    }
   ],
   "source": [
    "!ls -lh dataset"
   ]
  },
  {
   "cell_type": "code",
   "execution_count": 3,
   "id": "3959d728-1271-45d0-a68e-87a5fca46cca",
   "metadata": {},
   "outputs": [
    {
     "name": "stdout",
     "output_type": "stream",
     "text": [
      "dataset/hacker_news.csv: CSV text\\012- , Unicode text, UTF-8 text, with very long lines (360), with LF, NEL line terminators\n"
     ]
    }
   ],
   "source": [
    "! file -k dataset/hacker_news.csv"
   ]
  },
  {
   "cell_type": "code",
   "execution_count": 4,
   "id": "910fd4ea-d227-4d80-a566-118f3cc96751",
   "metadata": {},
   "outputs": [],
   "source": [
    "dataset = open('dataset/hacker_news.csv',encoding = 'utf-8')\n",
    "dataset_read = reader(dataset)\n",
    "hn = list(dataset_read)"
   ]
  },
  {
   "cell_type": "markdown",
   "id": "ab230e13-a3d2-468e-82f6-95a87428eae4",
   "metadata": {},
   "source": [
    "### 2. Remove headers "
   ]
  },
  {
   "cell_type": "code",
   "execution_count": 5,
   "id": "d3250f0a-6c5c-432c-a9b2-02f55c9cff3e",
   "metadata": {},
   "outputs": [],
   "source": [
    "header = hn[0] # We copy the first row that corresponds to the columns of the dataset into the Header variable"
   ]
  },
  {
   "cell_type": "code",
   "execution_count": 6,
   "id": "3e6facc1-28e0-4170-9001-eea36ad987b1",
   "metadata": {},
   "outputs": [
    {
     "data": {
      "text/plain": [
       "['id', 'title', 'url', 'num_points', 'num_comments', 'author', 'created_at']"
      ]
     },
     "execution_count": 6,
     "metadata": {},
     "output_type": "execute_result"
    }
   ],
   "source": [
    "header"
   ]
  },
  {
   "cell_type": "code",
   "execution_count": 7,
   "id": "f00b18fa-f45e-4164-8776-a0f4bece7725",
   "metadata": {},
   "outputs": [],
   "source": [
    "del hn[0] # We delete the row that corresponds to the header "
   ]
  },
  {
   "cell_type": "code",
   "execution_count": 8,
   "id": "36de3bc3-fd20-406d-96a5-cc756e6e724f",
   "metadata": {},
   "outputs": [
    {
     "data": {
      "text/plain": [
       "[['12224879',\n",
       "  'Interactive Dynamic Video',\n",
       "  'http://www.interactivedynamicvideo.com/',\n",
       "  '386',\n",
       "  '52',\n",
       "  'ne0phyte',\n",
       "  '8/4/2016 11:52'],\n",
       " ['10975351',\n",
       "  'How to Use Open Source and Shut the Fuck Up at the Same Time',\n",
       "  'http://hueniverse.com/2016/01/26/how-to-use-open-source-and-shut-the-fuck-up-at-the-same-time/',\n",
       "  '39',\n",
       "  '10',\n",
       "  'josep2',\n",
       "  '1/26/2016 19:30'],\n",
       " ['11964716',\n",
       "  \"Florida DJs May Face Felony for April Fools' Water Joke\",\n",
       "  'http://www.thewire.com/entertainment/2013/04/florida-djs-april-fools-water-joke/63798/',\n",
       "  '2',\n",
       "  '1',\n",
       "  'vezycash',\n",
       "  '6/23/2016 22:20'],\n",
       " ['11919867',\n",
       "  'Technology ventures: From Idea to Enterprise',\n",
       "  'https://www.amazon.com/Technology-Ventures-Enterprise-Thomas-Byers/dp/0073523429',\n",
       "  '3',\n",
       "  '1',\n",
       "  'hswarna',\n",
       "  '6/17/2016 0:01'],\n",
       " ['10301696',\n",
       "  'Note by Note: The Making of Steinway L1037 (2007)',\n",
       "  'http://www.nytimes.com/2007/11/07/movies/07stein.html?_r=0',\n",
       "  '8',\n",
       "  '2',\n",
       "  'walterbell',\n",
       "  '9/30/2015 4:12']]"
      ]
     },
     "execution_count": 8,
     "metadata": {},
     "output_type": "execute_result"
    }
   ],
   "source": [
    "hn[0:5] # and keep all the contents of the dataset"
   ]
  },
  {
   "cell_type": "markdown",
   "id": "44355161-9c87-4406-a993-5a9ed6a761ad",
   "metadata": {},
   "source": [
    "### 3. Extracting Ask HN and Show HN Posts\n",
    " \n",
    "Since we're only concerned with post titles beginning with `Ask HN` or `Show HN`, we'll create new lists of lists containing just the data for those titles."
   ]
  },
  {
   "cell_type": "code",
   "execution_count": 9,
   "id": "843ff5ae-405b-4fa2-8548-520b39e99795",
   "metadata": {},
   "outputs": [
    {
     "name": "stdout",
     "output_type": "stream",
     "text": [
      " ask posts number 1745 \n",
      " show post number 1165 \n",
      " other number     17190 \n"
     ]
    }
   ],
   "source": [
    "ask_posts = []\n",
    "show_posts = []\n",
    "other_posts = []\n",
    "\n",
    "for row in hn:\n",
    "    title = row[1].lower()\n",
    "    if 'ask hn' in title:\n",
    "        ask_posts.append(title)\n",
    "    elif 'show hn' in title:\n",
    "        show_posts.append(title)\n",
    "    else:\n",
    "        other_posts.append(title)\n",
    "\n",
    "print(f\" ask posts number {len(ask_posts)} \\n show post number {len(show_posts)} \\n other number     {len(other_posts)} \")"
   ]
  },
  {
   "cell_type": "markdown",
   "id": "f26a9b0e-bdbf-4f3b-978c-680c8a51e3fc",
   "metadata": {},
   "source": [
    "### 4. Calculating the Average Number of Comments for `Ask HN` and `Show HN` Posts\n",
    "\n",
    "Let's determine if ask posts or show posts receive more comments on average."
   ]
  },
  {
   "cell_type": "code",
   "execution_count": 10,
   "id": "6e0b02a0-ea87-42a6-87bb-5c10105a031f",
   "metadata": {},
   "outputs": [
    {
     "data": {
      "text/plain": [
       "['id', 'title', 'url', 'num_points', 'num_comments', 'author', 'created_at']"
      ]
     },
     "execution_count": 10,
     "metadata": {},
     "output_type": "execute_result"
    }
   ],
   "source": [
    "header"
   ]
  },
  {
   "cell_type": "code",
   "execution_count": 11,
   "id": "ac4fc9a2-a8a0-4db7-ba51-c6207ad4580d",
   "metadata": {},
   "outputs": [
    {
     "name": "stdout",
     "output_type": "stream",
     "text": [
      "Average ask comments: 4.031885999927788%\n"
     ]
    }
   ],
   "source": [
    "total_ask_comments = 0\n",
    "total_ask_length = len(hn)\n",
    "\n",
    "for row in hn:\n",
    "    total_ask_comments += int(row[4]) # num_comments column\n",
    "\n",
    "avg_ask_comments = (total_ask_length / total_ask_comments) * 100\n",
    "print(f\"Average ask comments: {avg_ask_comments}%\")"
   ]
  },
  {
   "cell_type": "code",
   "execution_count": 12,
   "id": "ad087dcc-a0ef-4997-b4e1-e3e84c74dd28",
   "metadata": {},
   "outputs": [
    {
     "name": "stdout",
     "output_type": "stream",
     "text": [
      "Average show comments: 2.015942999963894%\n"
     ]
    }
   ],
   "source": [
    "total_show_comments = 0\n",
    "total_show_length = len(hn)\n",
    "\n",
    "for row in hn:\n",
    "    total_ask_comments += int(row[4]) # num_comments column\n",
    "\n",
    "avg_show_comments = (total_show_length / total_ask_comments) * 100\n",
    "print(f\"Average show comments: {avg_show_comments}%\")"
   ]
  },
  {
   "cell_type": "markdown",
   "id": "12227932-3fc9-4c85-b16b-f3cb89a58a05",
   "metadata": {},
   "source": [
    "### Summary:\n",
    "\n",
    "We can see that the number of comments received by the posts where the questions are asked is practically double that in the posts where the comments are shown."
   ]
  },
  {
   "cell_type": "markdown",
   "id": "b5e6e8c2-bce0-4225-b58c-a95535f67585",
   "metadata": {},
   "source": [
    "### 5. Finding the Number of Ask Posts and Comments by Hour Created"
   ]
  },
  {
   "cell_type": "code",
   "execution_count": null,
   "id": "984e09a1-45b7-4964-b712-6f0bd92b296c",
   "metadata": {},
   "outputs": [],
   "source": []
  },
  {
   "cell_type": "code",
   "execution_count": null,
   "id": "d186d00c-1ca2-4d49-996d-d82747d9545d",
   "metadata": {},
   "outputs": [],
   "source": []
  },
  {
   "cell_type": "code",
   "execution_count": null,
   "id": "024d0b9c-80db-41ab-b981-2fe217e208b0",
   "metadata": {},
   "outputs": [],
   "source": []
  },
  {
   "cell_type": "code",
   "execution_count": null,
   "id": "e0c54da4-9dce-4ab2-b348-3a32646e0265",
   "metadata": {},
   "outputs": [],
   "source": []
  },
  {
   "cell_type": "code",
   "execution_count": null,
   "id": "91138d06-0ce7-46ff-97b8-3db382d08e44",
   "metadata": {},
   "outputs": [],
   "source": []
  },
  {
   "cell_type": "code",
   "execution_count": null,
   "id": "801032f3-7813-4422-9587-4da4414dafa9",
   "metadata": {},
   "outputs": [],
   "source": []
  },
  {
   "cell_type": "code",
   "execution_count": null,
   "id": "6b6a13d5-0d0e-4610-8240-0ce95cd245b9",
   "metadata": {},
   "outputs": [],
   "source": []
  }
 ],
 "metadata": {
  "kernelspec": {
   "display_name": "Python 3 (ipykernel)",
   "language": "python",
   "name": "python3"
  },
  "language_info": {
   "codemirror_mode": {
    "name": "ipython",
    "version": 3
   },
   "file_extension": ".py",
   "mimetype": "text/x-python",
   "name": "python",
   "nbconvert_exporter": "python",
   "pygments_lexer": "ipython3",
   "version": "3.10.13"
  }
 },
 "nbformat": 4,
 "nbformat_minor": 5
}
