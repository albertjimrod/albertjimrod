{
 "cells": [
  {
   "cell_type": "markdown",
   "id": "6bc2bce5-0379-4344-932e-16298f732b89",
   "metadata": {},
   "source": [
    "# Hacker News\n",
    "\n",
    "\n",
    "![](https://s3.amazonaws.com/dq-content/354/hacker_news.jpg)"
   ]
  },
  {
   "cell_type": "markdown",
   "id": "70897ad0-a284-4f5f-a361-bd7332eaaeef",
   "metadata": {},
   "source": [
    "In this project, we'll work with a dataset of submissions to popular technology site **Hacker News**.\n",
    "\n",
    "[Hacker News](https://news.ycombinator.com/) is a site started by the startup incubator Y Combinator, where user-submitted stories (known as \"posts\") receive votes and comments, similar to reddit. Hacker News is extremely popular in technology and startup circles, and posts that make it to the top of the Hacker News listings can get hundreds of thousands of visitors as a result."
   ]
  },
  {
   "cell_type": "markdown",
   "id": "ca547b3d-2478-4478-af6f-5cec244f6c4f",
   "metadata": {},
   "source": [
    "### Data dictionary\n",
    "\n",
    "-`id`: the unique identifier from Hacker News for the post\n",
    "\n",
    "-`title`: the title of the post\n",
    "\n",
    "-`url`: the URL that the posts links to, if the post has a URL\n",
    "\n",
    "-`num_points`: the number of points the post acquired, calculated as the total number of upvotes minus the total number of downvotes\n",
    "\n",
    "-`num_comments`: the number of comments on the post\n",
    "\n",
    "-`author`: the username of the person who submitted the post\n",
    "\n",
    "-`created_at`: the date and time of the post's submission\n",
    "\n",
    "***\n",
    "\n",
    "We're specifically interested in posts with titles that begin with either `Ask HN` or `Show HN`. \n",
    "\n",
    "Users submit `Ask HN` posts to ask the Hacker News community a specific question.\n",
    "\n",
    "<br>\n",
    "\n",
    "We'll compare these two types of posts to determine the following:\n",
    "\n",
    "- Do `Ask HN` or `Show HN` receive more comments on average?\n",
    "- Do posts created at a certain time receive more comments on average?"
   ]
  },
  {
   "cell_type": "markdown",
   "id": "2ec0f906-d95c-415c-9f66-58391913d850",
   "metadata": {},
   "source": [
    "### 1. Load `hacker_news.csv` dataset"
   ]
  },
  {
   "cell_type": "code",
   "execution_count": 1,
   "id": "c4c1d0df-c738-4399-9b75-e3a2f107adc5",
   "metadata": {},
   "outputs": [],
   "source": [
    "from csv import reader"
   ]
  },
  {
   "cell_type": "code",
   "execution_count": 2,
   "id": "467438f3-1855-4445-a778-7afea343ca82",
   "metadata": {},
   "outputs": [
    {
     "name": "stdout",
     "output_type": "stream",
     "text": [
      "total 23M\n",
      "-rw-rw-r-- 1 ion ion 3,0M feb  3 08:15 hacker_news.csv\n",
      "-rw-rw-r-- 1 ion ion  20M ene 31 12:14 HN_posts_year_to_Sep_26_2016.csv.zip\n",
      "-rw-rw-r-- 1 ion ion   72 feb  3 09:44 Untitled.ipynb\n"
     ]
    }
   ],
   "source": [
    "!ls -lh dataset"
   ]
  },
  {
   "cell_type": "code",
   "execution_count": 3,
   "id": "3959d728-1271-45d0-a68e-87a5fca46cca",
   "metadata": {},
   "outputs": [
    {
     "name": "stdout",
     "output_type": "stream",
     "text": [
      "dataset/hacker_news.csv: CSV text\\012- , Unicode text, UTF-8 text, with very long lines (360), with LF, NEL line terminators\n"
     ]
    }
   ],
   "source": [
    "! file -k dataset/hacker_news.csv"
   ]
  },
  {
   "cell_type": "code",
   "execution_count": 4,
   "id": "910fd4ea-d227-4d80-a566-118f3cc96751",
   "metadata": {},
   "outputs": [],
   "source": [
    "dataset = open('dataset/hacker_news.csv',encoding = 'utf-8')\n",
    "dataset_read = reader(dataset)\n",
    "hn = list(dataset_read)"
   ]
  },
  {
   "cell_type": "markdown",
   "id": "ab230e13-a3d2-468e-82f6-95a87428eae4",
   "metadata": {},
   "source": [
    "### 2. Remove headers "
   ]
  },
  {
   "cell_type": "code",
   "execution_count": 5,
   "id": "d3250f0a-6c5c-432c-a9b2-02f55c9cff3e",
   "metadata": {},
   "outputs": [],
   "source": [
    "header = hn[0] # We copy the first row that corresponds to the columns of the dataset into the Header variable"
   ]
  },
  {
   "cell_type": "code",
   "execution_count": 6,
   "id": "3e6facc1-28e0-4170-9001-eea36ad987b1",
   "metadata": {},
   "outputs": [
    {
     "data": {
      "text/plain": [
       "['id', 'title', 'url', 'num_points', 'num_comments', 'author', 'created_at']"
      ]
     },
     "execution_count": 6,
     "metadata": {},
     "output_type": "execute_result"
    }
   ],
   "source": [
    "header"
   ]
  },
  {
   "cell_type": "code",
   "execution_count": 7,
   "id": "f00b18fa-f45e-4164-8776-a0f4bece7725",
   "metadata": {},
   "outputs": [],
   "source": [
    "del hn[0] # We delete the row that corresponds to the header "
   ]
  },
  {
   "cell_type": "code",
   "execution_count": 8,
   "id": "36de3bc3-fd20-406d-96a5-cc756e6e724f",
   "metadata": {},
   "outputs": [
    {
     "data": {
      "text/plain": [
       "[['12224879',\n",
       "  'Interactive Dynamic Video',\n",
       "  'http://www.interactivedynamicvideo.com/',\n",
       "  '386',\n",
       "  '52',\n",
       "  'ne0phyte',\n",
       "  '8/4/2016 11:52'],\n",
       " ['10975351',\n",
       "  'How to Use Open Source and Shut the Fuck Up at the Same Time',\n",
       "  'http://hueniverse.com/2016/01/26/how-to-use-open-source-and-shut-the-fuck-up-at-the-same-time/',\n",
       "  '39',\n",
       "  '10',\n",
       "  'josep2',\n",
       "  '1/26/2016 19:30'],\n",
       " ['11964716',\n",
       "  \"Florida DJs May Face Felony for April Fools' Water Joke\",\n",
       "  'http://www.thewire.com/entertainment/2013/04/florida-djs-april-fools-water-joke/63798/',\n",
       "  '2',\n",
       "  '1',\n",
       "  'vezycash',\n",
       "  '6/23/2016 22:20'],\n",
       " ['11919867',\n",
       "  'Technology ventures: From Idea to Enterprise',\n",
       "  'https://www.amazon.com/Technology-Ventures-Enterprise-Thomas-Byers/dp/0073523429',\n",
       "  '3',\n",
       "  '1',\n",
       "  'hswarna',\n",
       "  '6/17/2016 0:01'],\n",
       " ['10301696',\n",
       "  'Note by Note: The Making of Steinway L1037 (2007)',\n",
       "  'http://www.nytimes.com/2007/11/07/movies/07stein.html?_r=0',\n",
       "  '8',\n",
       "  '2',\n",
       "  'walterbell',\n",
       "  '9/30/2015 4:12']]"
      ]
     },
     "execution_count": 8,
     "metadata": {},
     "output_type": "execute_result"
    }
   ],
   "source": [
    "hn[0:5] # and keep all the contents of the dataset"
   ]
  },
  {
   "cell_type": "markdown",
   "id": "44355161-9c87-4406-a993-5a9ed6a761ad",
   "metadata": {},
   "source": [
    "### 3. Extracting Ask HN and Show HN Posts\n",
    " \n",
    "Since we're only concerned with post titles beginning with `Ask HN` or `Show HN`, we'll create new lists of lists containing just the data for those titles."
   ]
  },
  {
   "cell_type": "code",
   "execution_count": 9,
   "id": "843ff5ae-405b-4fa2-8548-520b39e99795",
   "metadata": {},
   "outputs": [
    {
     "name": "stdout",
     "output_type": "stream",
     "text": [
      " ask posts number 1744 \n",
      " show post number 1162 \n",
      " other number     17194 \n"
     ]
    }
   ],
   "source": [
    "ask_posts = []\n",
    "show_posts = []\n",
    "other_posts = []\n",
    "\n",
    "for fila in hn:\n",
    "    title = fila[1] #title\n",
    "    title = title.lower()   # all in lower_case\n",
    "    \n",
    "    if title.startswith('ask hn'):\n",
    "        ask_posts.append(fila)\n",
    "        \n",
    "    elif title.startswith('show hn'):\n",
    "        show_posts.append(fila)\n",
    "        \n",
    "    else:\n",
    "        other_posts.append(fila)\n",
    "\n",
    "print(f\" ask posts number {len(ask_posts)} \\n show post number {len(show_posts)} \\n other number     {len(other_posts)} \")"
   ]
  },
  {
   "cell_type": "markdown",
   "id": "f26a9b0e-bdbf-4f3b-978c-680c8a51e3fc",
   "metadata": {},
   "source": [
    "### 4. Calculating the average number of comments for `Ask HN` and `Show HN` Posts\n",
    "\n",
    "Let's determine if ask posts or show posts receive more comments on average."
   ]
  },
  {
   "cell_type": "code",
   "execution_count": 11,
   "id": "6e0b02a0-ea87-42a6-87bb-5c10105a031f",
   "metadata": {},
   "outputs": [
    {
     "data": {
      "text/plain": [
       "['id', 'title', 'url', 'num_points', 'num_comments', 'author', 'created_at']"
      ]
     },
     "execution_count": 11,
     "metadata": {},
     "output_type": "execute_result"
    }
   ],
   "source": [
    "header"
   ]
  },
  {
   "cell_type": "code",
   "execution_count": 12,
   "id": "ac4fc9a2-a8a0-4db7-ba51-c6207ad4580d",
   "metadata": {},
   "outputs": [
    {
     "name": "stdout",
     "output_type": "stream",
     "text": [
      "Average ask comments: 4.031885999927788%\n"
     ]
    }
   ],
   "source": [
    "total_ask_comments = 0\n",
    "total_ask_length = len(hn)\n",
    "\n",
    "for row in hn:\n",
    "    total_ask_comments += int(row[4]) # num_comments column\n",
    "\n",
    "avg_ask_comments = (total_ask_length / total_ask_comments) * 100\n",
    "print(f\"Average ask comments: {avg_ask_comments}%\")"
   ]
  },
  {
   "cell_type": "code",
   "execution_count": 13,
   "id": "ad087dcc-a0ef-4997-b4e1-e3e84c74dd28",
   "metadata": {},
   "outputs": [
    {
     "name": "stdout",
     "output_type": "stream",
     "text": [
      "Average show comments: 2.015942999963894%\n"
     ]
    }
   ],
   "source": [
    "total_show_comments = 0\n",
    "total_show_length = len(hn)\n",
    "\n",
    "for row in hn:\n",
    "    total_ask_comments += int(row[4]) # num_comments column\n",
    "\n",
    "avg_show_comments = (total_show_length / total_ask_comments) * 100\n",
    "print(f\"Average show comments: {avg_show_comments}%\")"
   ]
  },
  {
   "cell_type": "markdown",
   "id": "12227932-3fc9-4c85-b16b-f3cb89a58a05",
   "metadata": {},
   "source": [
    "### Summary:\n",
    "\n",
    "We can see that the number of comments received by the posts where the questions are asked is practically double that in the posts where the comments are shown."
   ]
  },
  {
   "cell_type": "markdown",
   "id": "b5e6e8c2-bce0-4225-b58c-a95535f67585",
   "metadata": {},
   "source": [
    "### 5. Finding the number of `Ask Posts` and comments by hour created."
   ]
  },
  {
   "cell_type": "code",
   "execution_count": 14,
   "id": "b766dbb6-eb0b-4654-8dc7-1f31813d0412",
   "metadata": {
    "scrolled": true
   },
   "outputs": [],
   "source": [
    "import datetime as dt"
   ]
  },
  {
   "cell_type": "code",
   "execution_count": 15,
   "id": "d186d00c-1ca2-4d49-996d-d82747d9545d",
   "metadata": {},
   "outputs": [
    {
     "data": {
      "text/plain": [
       "[('8/16/2016 9:55', '6'),\n",
       " ('11/22/2015 13:43', '29'),\n",
       " ('5/2/2016 10:14', '1'),\n",
       " ('8/2/2016 14:20', '3'),\n",
       " ('10/15/2015 16:38', '17')]"
      ]
     },
     "execution_count": 15,
     "metadata": {},
     "output_type": "execute_result"
    }
   ],
   "source": [
    "stamp = []\n",
    "result_list = []\n",
    "\n",
    "for row in ask_posts:\n",
    "    time_stamp = row[6]  #created_at\n",
    "    time_obj = dt.datetime.strptime(time_stamp, \"%m/%d/%Y %H:%M\")\n",
    "    stamp.append(time_obj)\n",
    "    \n",
    "    num_comment = row[4] #num_comments\n",
    "\n",
    "    tupla = (time_stamp, num_comment)\n",
    "    result_list.append(tupla)\n",
    "\n",
    "result_list[0:5]"
   ]
  },
  {
   "cell_type": "code",
   "execution_count": 16,
   "id": "e0c54da4-9dce-4ab2-b348-3a32646e0265",
   "metadata": {},
   "outputs": [
    {
     "name": "stdout",
     "output_type": "stream",
     "text": [
      "Counts by hour: {9: 45, 13: 85, 10: 59, 14: 107, 16: 108, 23: 68, 12: 73, 17: 100, 15: 116, 21: 109, 20: 80, 2: 58, 18: 109, 3: 54, 5: 46, 19: 110, 1: 60, 22: 71, 8: 48, 4: 47, 0: 55, 6: 44, 7: 34, 11: 58}\n",
      "---\n",
      "Comments by hour: {9: 251, 13: 1253, 10: 793, 14: 1416, 16: 1814, 23: 543, 12: 687, 17: 1146, 15: 4477, 21: 1745, 20: 1722, 2: 1381, 18: 1439, 3: 421, 5: 464, 19: 1188, 1: 683, 22: 479, 8: 492, 4: 337, 0: 447, 6: 397, 7: 267, 11: 641}\n"
     ]
    }
   ],
   "source": [
    "# ('8/28/2016 18:06', '2') <- date and number of comments (tuple)\n",
    "\n",
    "counts_by_hour   = {} # Contains the number of ask posts created during each hour of the day.\n",
    "comments_by_hour = {} # Contains the corresponding number of comments ask posts created at each hour received.\n",
    "tittle_by_hour = {}\n",
    "\n",
    "num_points = 0\n",
    "\n",
    "for row in result_list: # result_list content (-->'8/28/2016 18:06'<--, '2')\n",
    "    time_stamp = row[0]\n",
    "    time_obj = dt.datetime.strptime(time_stamp, \"%m/%d/%Y %H:%M\")\n",
    "    \n",
    "    hour = time_obj.hour #Extracting the hour from the `time_stamp`.\n",
    "    num_comments = int(row[1])# ('8/28/2016 18:06',-->'2'<--) num coments\n",
    "    \n",
    "    if hour not in counts_by_hour:\n",
    "        counts_by_hour[hour] = 1              # times per hour\n",
    "        comments_by_hour[hour] = num_comments # coments por hour\n",
    "        \n",
    "    elif hour in counts_by_hour:\n",
    "        counts_by_hour[hour] += 1             # times per hour\n",
    "        comments_by_hour[hour] += num_comments # coments por hour\n",
    "        \n",
    "\n",
    "print(f\"Counts by hour: {counts_by_hour}\")\n",
    "print(\"---\")\n",
    "print(f\"Comments by hour: {comments_by_hour}\")"
   ]
  },
  {
   "cell_type": "markdown",
   "id": "24836ef5-d204-4a2c-8cf1-500c5f2d2815",
   "metadata": {},
   "source": [
    "### 6. Calculating the Average Number of Comments for `Ask HN` Posts by Hour\n",
    "\n"
   ]
  },
  {
   "cell_type": "code",
   "execution_count": 17,
   "id": "801032f3-7813-4422-9587-4da4414dafa9",
   "metadata": {},
   "outputs": [
    {
     "data": {
      "text/plain": [
       "[[9, 5.5777777777777775],\n",
       " [13, 14.741176470588234],\n",
       " [10, 13.440677966101696],\n",
       " [14, 13.233644859813085],\n",
       " [16, 16.796296296296298],\n",
       " [23, 7.985294117647059],\n",
       " [12, 9.41095890410959],\n",
       " [17, 11.46],\n",
       " [15, 38.5948275862069],\n",
       " [21, 16.009174311926607],\n",
       " [20, 21.525],\n",
       " [2, 23.810344827586206],\n",
       " [18, 13.20183486238532],\n",
       " [3, 7.796296296296297],\n",
       " [5, 10.08695652173913],\n",
       " [19, 10.8],\n",
       " [1, 11.383333333333333],\n",
       " [22, 6.746478873239437],\n",
       " [8, 10.25],\n",
       " [4, 7.170212765957447],\n",
       " [0, 8.127272727272727],\n",
       " [6, 9.022727272727273],\n",
       " [7, 7.852941176470588],\n",
       " [11, 11.051724137931034]]"
      ]
     },
     "execution_count": 17,
     "metadata": {},
     "output_type": "execute_result"
    }
   ],
   "source": [
    "avg_by_hour = []\n",
    "\n",
    "for horas in counts_by_hour: # {9: 45, 13: 85,...}\n",
    "    avg = comments_by_hour[horas] / counts_by_hour[horas]\n",
    "    avg_by_hour.append([horas, avg]) #list, and the tuple.\n",
    "    \n",
    "avg_by_hour # result in another tupla"
   ]
  },
  {
   "cell_type": "markdown",
   "id": "d0610149-aef9-4ef0-b329-2e773c0e6b79",
   "metadata": {},
   "source": [
    "With this format its difficult to identify the hours with the highest values:\n",
    "\n",
    "        [[9, 5.5777777777777775],\n",
    "         [13, 14.741176470588234],\n",
    "         [10, 13.440677966101696],\n",
    "         [14, 13.233644859813085],\n",
    "         ...\n",
    "         ]\n",
    "\n",
    "Let's sorting the list of lists `avg_by_hour` \n",
    "\n",
    "### 7. Sorting and Printing Values from a List of Lists `avg_by_hour`."
   ]
  },
  {
   "cell_type": "code",
   "execution_count": 18,
   "id": "5f44eddf-f4dd-47d6-ab2c-8381aa31bda3",
   "metadata": {},
   "outputs": [
    {
     "data": {
      "text/plain": [
       "[[23, 7.985294117647059],\n",
       " [22, 6.746478873239437],\n",
       " [21, 16.009174311926607],\n",
       " [20, 21.525],\n",
       " [19, 10.8],\n",
       " [18, 13.20183486238532],\n",
       " [17, 11.46],\n",
       " [16, 16.796296296296298],\n",
       " [15, 38.5948275862069],\n",
       " [14, 13.233644859813085],\n",
       " [13, 14.741176470588234],\n",
       " [12, 9.41095890410959],\n",
       " [11, 11.051724137931034],\n",
       " [10, 13.440677966101696],\n",
       " [9, 5.5777777777777775],\n",
       " [8, 10.25],\n",
       " [7, 7.852941176470588],\n",
       " [6, 9.022727272727273],\n",
       " [5, 10.08695652173913],\n",
       " [4, 7.170212765957447],\n",
       " [3, 7.796296296296297],\n",
       " [2, 23.810344827586206],\n",
       " [1, 11.383333333333333],\n",
       " [0, 8.127272727272727]]"
      ]
     },
     "execution_count": 18,
     "metadata": {},
     "output_type": "execute_result"
    }
   ],
   "source": [
    "sorted_avg_by_hour = sorted(avg_by_hour, reverse=True)\n",
    "sorted_avg_by_hour"
   ]
  },
  {
   "cell_type": "code",
   "execution_count": 19,
   "id": "e559af88-7baf-48ed-bfc0-3424f5ebbd99",
   "metadata": {},
   "outputs": [],
   "source": [
    "import matplotlib.pyplot as plt"
   ]
  },
  {
   "cell_type": "code",
   "execution_count": 20,
   "id": "2c40f594-f728-415d-bd85-d58400422d0f",
   "metadata": {},
   "outputs": [
    {
     "data": {
      "image/png": "[encoded data removed]",
      "text/plain": [
       "<Figure size 640x480 with 1 Axes>"
      ]
     },
     "metadata": {},
     "output_type": "display_data"
    }
   ],
   "source": [
    "plt.title(\"Amount of comments by hour\")\n",
    "plt.hist(counts_by_hour)\n",
    "plt.ticklabel_format(axis='y', style='plain')\n",
    "plt.show()"
   ]
  }
 ],
 "metadata": {
  "kernelspec": {
   "display_name": "Python 3 (ipykernel)",
   "language": "python",
   "name": "python3"
  },
  "language_info": {
   "codemirror_mode": {
    "name": "ipython",
    "version": 3
   },
   "file_extension": ".py",
   "mimetype": "text/x-python",
   "name": "python",
   "nbconvert_exporter": "python",
   "pygments_lexer": "ipython3",
   "version": "3.10.13"
  }
 },
 "nbformat": 4,
 "nbformat_minor": 5
}
