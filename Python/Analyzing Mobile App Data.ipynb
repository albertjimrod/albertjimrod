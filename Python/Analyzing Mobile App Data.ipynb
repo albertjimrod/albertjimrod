{
 "cells": [
  {
   "cell_type": "markdown",
   "id": "fcfe8d5b-3775-4395-9eef-b90985d734a8",
   "metadata": {},
   "source": [
    "# Data analysis to help developers understand what type of apps are likely to attract more users.\n",
    "\n",
    "<br>\n",
    "\n",
    "**Introduction to the Project**\n",
    "\n",
    "\n",
    "\n",
    "In today's mobile development landscape, it is crucial to understand which types of applications attract more users in both Android and Apple ecosystems. With the goal of providing valuable information to developers, this project focuses on data analysis to identify common characteristics among the applications that receive a higher number of downloads and engagement.\n",
    "\n",
    "1. **What Does the Project Entail?**\n",
    "\n",
    "    This data analysis combines information from various sources, such as Google Play Store and iTunes App Store, along with usage and performance metrics. Using statistical techniques and machine learning algorithms, patterns and trends are identified to indicate which types of applications perform better in each platform.\n",
    "\n",
    "2. **Project Objective**\n",
    "\n",
    "    The primary objective of this project is to provide developers with precise information about the characteristics that resonate best with users on Android and iOS. By understanding better what types of applications perform well in terms of downloads, engagement, and retention, developers can make more informed decisions for the design and optimization of their own apps.\n",
    "\n",
    "Lo primero es la recopilar y analizar datos sobre aplicaciones móviles disponibles en Google Play y App Store.\n",
    "\n",
    "Para evitar gastar recursos en la recopilación de nuevos datos, primero debemos tratar de ver si podemos encontrar datos existentes relevantes sin costo alguno. Afortunadamente, aquí hay dos conjuntos de datos que parecen adecuados para nuestros objetivos:\n",
    "\n",
    "<br>\n",
    "\n",
    "Un conjunto de datos contiene datos de aproximadamente 10,000 aplicaciones de **Android de Google Play**; los datos se recopilaron en agosto de 2018. \n",
    "\n",
    "Un conjunto de datos contiene datos de aproximadamente 7,000 aplicaciones de **iOS de la App Store**; los datos se recopilaron en julio de 2017. \n",
    "\n",
    "Vamos a abrir y a explorar estos conjuntos de datos con la función `explore_data()`\n",
    "\n",
    "Parámetros:\n",
    "\n",
    "- `dataset`: Una lista de listas que representa el conjunto de datos.\n",
    "\n",
    "- `start`: Un entero que indica el índice inicial del segmento a mostrar.\n",
    "\n",
    "- `end`: Un entero que indica el índice final (exclusivo) del segmento a mostrar.\n",
    "\n",
    "- `rows_and_columns` (opcional): Un booleano con valor predeterminado False. Si es True, imprimirá el número de filas y columnas.\n",
    "\n",
    "* * *\n",
    "\n",
    "The datasets are in two documents of type csv's i.e. **Comma Separated Values file** for read the content, it is necessary to load a function called `reader` of the python `csv` module."
   ]
  },
  {
   "cell_type": "code",
   "execution_count": 1,
   "id": "c21947ce-7194-41e9-a466-50d0190d6977",
   "metadata": {},
   "outputs": [
    {
     "name": "stdout",
     "output_type": "stream",
     "text": [
      "total 336\n",
      "268 -rw-rw-r-- 1 ion ion 272175 ene 23 18:02  00_For_Loops_Conditionals.ipynb\n",
      " 52 -rw-rw-r-- 1 ion ion  50707 ene 24 19:51 'Analyzing Mobile App Data.ipynb'\n",
      "  4 drwxrwxr-x 2 ion ion   4096 ene 23 18:07  datasets\n",
      "  4 -rw-rw-r-- 1 ion ion    159 ene 23 18:00  enlace_DQ\n",
      "  4 -rw-rw-r-- 1 ion ion    538 ene 23 18:01  README.md\n",
      "  4 -rw-rw-r-- 1 ion ion    618 ene 23 16:02  Untitled.ipynb\n"
     ]
    }
   ],
   "source": [
    "! ls -ls"
   ]
  },
  {
   "cell_type": "code",
   "execution_count": 2,
   "id": "6340b57d-54d7-4d35-9f45-74bdb2908d18",
   "metadata": {},
   "outputs": [
    {
     "name": "stdout",
     "output_type": "stream",
     "text": [
      " AppleStore.csv  'data dictionary.txt'\t googleplaystore.csv\n"
     ]
    }
   ],
   "source": [
    "! ls datasets"
   ]
  },
  {
   "cell_type": "code",
   "execution_count": 3,
   "id": "11aa5cde-7268-4c2e-bb31-34fa9faf7339",
   "metadata": {},
   "outputs": [],
   "source": [
    "from csv import reader"
   ]
  },
  {
   "cell_type": "markdown",
   "id": "5f4a99b5-341e-4bd1-ad1d-27cf7ffac722",
   "metadata": {},
   "source": [
    "## 1. Exploring datasets:\n",
    "\n",
    "We are going to explore the two sets of data, but first we are going to kwon what type of [character encoding](https://en.wikipedia.org/wiki/Character_encoding) both datasets have.\n",
    "\n",
    "A command called [file](https://www.man7.org/linux/man-pages/man1/file.1.html), will help us to kwon the type of file regardless of its extension and avoid a error called `UnicodeDecodeError`.\n",
    "\n",
    "\n",
    "```\n",
    "FILE(1)                                         BSD General Commands Manual                                         FILE(1)\n",
    "\n",
    "NAME\n",
    "     file — determine file type\n",
    "\n",
    "SYNOPSIS\n",
    "     file [-bcdEhiklLNnprsSvzZ0] [--apple] [--exclude-quiet] [--extension] [--mime-encoding] [--mime-type] [-e testname]\n",
    "          [-F separator] [-f namefile] [-m magicfiles] [-P name=value] file ...\n",
    "     file -C [-m magicfiles]\n",
    "     file [--help]\n",
    "\n",
    "DESCRIPTION\n",
    "     This manual page documents version 5.41 of the file command.\n",
    "\n",
    "     file tests each argument in an attempt to classify it.  There are three sets of tests, performed in this order:\n",
    "     filesystem tests, magic tests, and language tests.  The first test that succeeds causes the file type to be printed.\n",
    "\n",
    "     The type printed will usually contain one of the words text (the file contains only printing characters and a few com‐\n",
    "     mon control characters and is probably safe to read on an ASCII terminal), executable (the file contains the result of\n",
    "     compiling a program in a form understandable to some UNIX kernel or another), or data meaning anything else (data is\n",
    "     usually “binary” or non-printable).  Exceptions are well-known file formats (core files, tar archives) that are known\n",
    "     to contain binary data.  When modifying magic files or the program itself, make sure to preserve these keywords.\n",
    "     Users depend on knowing that all the readable files in a directory have the word “text” printed.  Don't do as Berkeley\n",
    "     did and change “shell commands text” to “shell script”.\n",
    "\n",
    "```"
   ]
  },
  {
   "cell_type": "code",
   "execution_count": 4,
   "id": "4ec1c914-dec8-43ff-9aa4-d3de6228e086",
   "metadata": {},
   "outputs": [
    {
     "name": "stdout",
     "output_type": "stream",
     "text": [
      "datasets/AppleStore.csv: text/csv; charset=utf-8\n"
     ]
    }
   ],
   "source": [
    "! file -i datasets/AppleStore.csv"
   ]
  },
  {
   "cell_type": "code",
   "execution_count": 5,
   "id": "37519e37-52ee-4536-a054-cd76216acb3e",
   "metadata": {},
   "outputs": [
    {
     "name": "stdout",
     "output_type": "stream",
     "text": [
      "datasets/googleplaystore.csv: text/csv; charset=utf-8\n"
     ]
    }
   ],
   "source": [
    "! file -i datasets/googleplaystore.csv"
   ]
  },
  {
   "cell_type": "markdown",
   "id": "8c24dcd5-82e0-4ad0-be5f-5c832048956f",
   "metadata": {},
   "source": [
    "Our files have the same type of charset https://en.wikipedia.org/wiki/UTF-8.\n",
    "\n",
    "\n",
    "Quick idea:\n",
    "\n",
    "- **charset:** is the set of characters you can use.\n",
    "- **encoding:** is the way these characters are stored into memory.\n",
    "\n",
    "[source](https://stackoverflow.com/questions/2281646/whats-the-difference-between-encoding-and-charset)"
   ]
  },
  {
   "cell_type": "code",
   "execution_count": 6,
   "id": "0d7a39f5-f8d8-429e-8b87-52e006980825",
   "metadata": {},
   "outputs": [],
   "source": [
    "opened_ios = open('datasets/AppleStore.csv')\n",
    "opened_android = open('datasets/googleplaystore.csv')\n",
    "\n",
    "readed_ios = reader(opened_ios)\n",
    "readed_android = reader(opened_android)\n",
    "\n",
    "# The datasets we are going to work with\n",
    "data_ios = list(readed_ios) \n",
    "data_android = list(readed_android)"
   ]
  },
  {
   "cell_type": "code",
   "execution_count": 7,
   "id": "b5c95bf8-7d51-4b86-bf6b-2fb72f6a7d22",
   "metadata": {
    "jp-MarkdownHeadingCollapsed": true
   },
   "outputs": [],
   "source": [
    "def explore_data(dataset, start, end, rows_and_columns = False):\n",
    "    offset = 1\n",
    "    cnt = 1\n",
    "    columns = len(dataset[0])\n",
    "    \n",
    "    if rows_and_columns == True:\n",
    "        print(\"\\n\")\n",
    "\n",
    "        for row in dataset[offset+start:end+offset]:\n",
    "            print(\"row:\",cnt, row)\n",
    "            print(\"\\n\")\n",
    "            cnt +=1\n",
    "            \n",
    "        print(\"columns \",columns , dataset[0])\n",
    "        print(\"\\n\")\n",
    "        print('Number of rows:', len(dataset))\n",
    "        \n",
    "    else:\n",
    "        for row in dataset[offset+start:end+offset]:\n",
    "            print(row)\n",
    "            print(\"\\n\")"
   ]
  },
  {
   "cell_type": "code",
   "execution_count": 8,
   "id": "ba2c0a48-3f16-4b7c-a32d-cb8cfd317aa9",
   "metadata": {
    "scrolled": true
   },
   "outputs": [
    {
     "name": "stdout",
     "output_type": "stream",
     "text": [
      "\n",
      "\n",
      "row: 1 ['284882215', 'Facebook', '389879808', 'USD', '0.0', '2974676', '212', '3.5', '3.5', '95.0', '4+', 'Social Networking', '37', '1', '29', '1']\n",
      "\n",
      "\n",
      "row: 2 ['389801252', 'Instagram', '113954816', 'USD', '0.0', '2161558', '1289', '4.5', '4.0', '10.23', '12+', 'Photo & Video', '37', '0', '29', '1']\n",
      "\n",
      "\n",
      "row: 3 ['529479190', 'Clash of Clans', '116476928', 'USD', '0.0', '2130805', '579', '4.5', '4.5', '9.24.12', '9+', 'Games', '38', '5', '18', '1']\n",
      "\n",
      "\n",
      "row: 4 ['420009108', 'Temple Run', '65921024', 'USD', '0.0', '1724546', '3842', '4.5', '4.0', '1.6.2', '9+', 'Games', '40', '5', '1', '1']\n",
      "\n",
      "\n",
      "row: 5 ['284035177', 'Pandora - Music & Radio', '130242560', 'USD', '0.0', '1126879', '3594', '4.0', '4.5', '8.4.1', '12+', 'Music', '37', '4', '1', '1']\n",
      "\n",
      "\n",
      "row: 6 ['429047995', 'Pinterest', '74778624', 'USD', '0.0', '1061624', '1814', '4.5', '4.0', '6.26', '12+', 'Social Networking', '37', '5', '27', '1']\n",
      "\n",
      "\n",
      "row: 7 ['282935706', 'Bible', '92774400', 'USD', '0.0', '985920', '5320', '4.5', '5.0', '7.5.1', '4+', 'Reference', '37', '5', '45', '1']\n",
      "\n",
      "\n",
      "row: 8 ['553834731', 'Candy Crush Saga', '222846976', 'USD', '0.0', '961794', '2453', '4.5', '4.5', '1.101.0', '4+', 'Games', '43', '5', '24', '1']\n",
      "\n",
      "\n",
      "row: 9 ['324684580', 'Spotify Music', '132510720', 'USD', '0.0', '878563', '8253', '4.5', '4.5', '8.4.3', '12+', 'Music', '37', '5', '18', '1']\n",
      "\n",
      "\n",
      "row: 10 ['343200656', 'Angry Birds', '175966208', 'USD', '0.0', '824451', '107', '4.5', '3.0', '7.4.0', '4+', 'Games', '38', '0', '10', '1']\n",
      "\n",
      "\n",
      "columns  16 ['id', 'track_name', 'size_bytes', 'currency', 'price', 'rating_count_tot', 'rating_count_ver', 'user_rating', 'user_rating_ver', 'ver', 'cont_rating', 'prime_genre', 'sup_devices.num', 'ipadSc_urls.num', 'lang.num', 'vpp_lic']\n",
      "\n",
      "\n",
      "Number of rows: 7198\n"
     ]
    }
   ],
   "source": [
    "explore_data(data_ios, 0, 10, True)"
   ]
  },
  {
   "cell_type": "code",
   "execution_count": 9,
   "id": "2b3e5f5e-5866-4a2a-81ce-b57bf7ad4e7a",
   "metadata": {
    "scrolled": true
   },
   "outputs": [
    {
     "name": "stdout",
     "output_type": "stream",
     "text": [
      "\n",
      "\n",
      "row: 1 ['Photo Editor & Candy Camera & Grid & ScrapBook', 'ART_AND_DESIGN', '4.1', '159', '19M', '10,000+', 'Free', '0', 'Everyone', 'Art & Design', 'January 7, 2018', '1.0.0', '4.0.3 and up']\n",
      "\n",
      "\n",
      "row: 2 ['Coloring book moana', 'ART_AND_DESIGN', '3.9', '967', '14M', '500,000+', 'Free', '0', 'Everyone', 'Art & Design;Pretend Play', 'January 15, 2018', '2.0.0', '4.0.3 and up']\n",
      "\n",
      "\n",
      "row: 3 ['U Launcher Lite – FREE Live Cool Themes, Hide Apps', 'ART_AND_DESIGN', '4.7', '87510', '8.7M', '5,000,000+', 'Free', '0', 'Everyone', 'Art & Design', 'August 1, 2018', '1.2.4', '4.0.3 and up']\n",
      "\n",
      "\n",
      "row: 4 ['Sketch - Draw & Paint', 'ART_AND_DESIGN', '4.5', '215644', '25M', '50,000,000+', 'Free', '0', 'Teen', 'Art & Design', 'June 8, 2018', 'Varies with device', '4.2 and up']\n",
      "\n",
      "\n",
      "row: 5 ['Pixel Draw - Number Art Coloring Book', 'ART_AND_DESIGN', '4.3', '967', '2.8M', '100,000+', 'Free', '0', 'Everyone', 'Art & Design;Creativity', 'June 20, 2018', '1.1', '4.4 and up']\n",
      "\n",
      "\n",
      "row: 6 ['Paper flowers instructions', 'ART_AND_DESIGN', '4.4', '167', '5.6M', '50,000+', 'Free', '0', 'Everyone', 'Art & Design', 'March 26, 2017', '1.0', '2.3 and up']\n",
      "\n",
      "\n",
      "row: 7 ['Smoke Effect Photo Maker - Smoke Editor', 'ART_AND_DESIGN', '3.8', '178', '19M', '50,000+', 'Free', '0', 'Everyone', 'Art & Design', 'April 26, 2018', '1.1', '4.0.3 and up']\n",
      "\n",
      "\n",
      "row: 8 ['Infinite Painter', 'ART_AND_DESIGN', '4.1', '36815', '29M', '1,000,000+', 'Free', '0', 'Everyone', 'Art & Design', 'June 14, 2018', '6.1.61.1', '4.2 and up']\n",
      "\n",
      "\n",
      "row: 9 ['Garden Coloring Book', 'ART_AND_DESIGN', '4.4', '13791', '33M', '1,000,000+', 'Free', '0', 'Everyone', 'Art & Design', 'September 20, 2017', '2.9.2', '3.0 and up']\n",
      "\n",
      "\n",
      "row: 10 ['Kids Paint Free - Drawing Fun', 'ART_AND_DESIGN', '4.7', '121', '3.1M', '10,000+', 'Free', '0', 'Everyone', 'Art & Design;Creativity', 'July 3, 2018', '2.8', '4.0.3 and up']\n",
      "\n",
      "\n",
      "columns  13 ['App', 'Category', 'Rating', 'Reviews', 'Size', 'Installs', 'Type', 'Price', 'Content Rating', 'Genres', 'Last Updated', 'Current Ver', 'Android Ver']\n",
      "\n",
      "\n",
      "Number of rows: 10842\n"
     ]
    }
   ],
   "source": [
    "explore_data(data_android, 0, 10, True)"
   ]
  },
  {
   "cell_type": "markdown",
   "id": "0a29a845-9a77-4138-b32f-0581609d948e",
   "metadata": {},
   "source": [
    "Aparentemente parece que todo está bien."
   ]
  },
  {
   "cell_type": "markdown",
   "id": "261e0965-6b44-4ab0-a917-c201b9794521",
   "metadata": {},
   "source": [
    "### Knowing the size in both data sets\n",
    "\n",
    "|`data_ios`|`data_android`|\n",
    "|:----|:----|\n",
    "|Number of rows: 7198| Number of rows: 10842|\n",
    "|Number of columns: 16|Number of columns: 13|\n",
    "|________________________________________________________________________________________________|_______________________________________________________________"
   ]
  },
  {
   "cell_type": "markdown",
   "id": "31deafd8-9968-46b4-8251-5812890041b0",
   "metadata": {
    "jp-MarkdownHeadingCollapsed": true
   },
   "source": [
    "Estas son las columnas que tenemos en los datasets y la cantidad de filas.\n",
    "\n",
    "\n",
    "### Diccionario de datos de IOS (`data_ios`)\n",
    "\n",
    "|||\n",
    "|:--|:--|\n",
    "|**id**| App ID|\n",
    "|**track_name**| App Name|\n",
    "|**size_bytes**| Size (in Bytes)|\n",
    "|**currency**| Currency Type|\n",
    "|**price**| Price amount|\n",
    "|**rating_count_tot**| User Rating counts (for all version)|\n",
    "|**rating_count_ver**| User Rating counts (for current version)|\n",
    "|**user_rating**| Average User Rating value (for all version)|\n",
    "|**user_rating_ver**| Average User Rating value (for current version) |\n",
    "|**ver**| Latest version code|\n",
    "|**cont_rating**| Content Rating|\n",
    "|**prime_genre**| Primary Genre|\n",
    "|**sup_devices.num**| Number of supporting devices|\n",
    "|**ipadSc_urls.num**| Number of screenshots showed for display|\n",
    "|**lang.num**| Number of supported languages|\n",
    "|**vpp_lic**| Vpp Device Based Licensing Enabled|\n",
    "||_________________________________________________________________________________________________________________________|"
   ]
  },
  {
   "cell_type": "markdown",
   "id": "9f410d0f-c87b-464c-b925-7743c4fa0951",
   "metadata": {},
   "source": [
    "### Diccionario de datos de Android (`data_android`)\n",
    "\n",
    "|||\n",
    "|:--|:--|\n",
    "|**App**| Application name|\n",
    "|**Category**| Category the app belongs to|\n",
    "|**Rating**| Overall user rating of the app (as when scraped)|\n",
    "|**Reviews**| Number of user reviews for the app (as when scraped)|\n",
    "|**Size**| Size of the app (as when scraped)|\n",
    "|**Installs**| Number of user downloads/installs for the app (as when scraped)|\n",
    "|**Type**| Paid or Free|\n",
    "|**Price**| Price of the app (as when scraped)|\n",
    "|**Content Rating**| Age group the app is targeted at - Children / Mature 21+ / Adult|\n",
    "|**Genres**| An app can belong to multiple genres (apart from its main category). For eg, a musical family game will belong to Music, Game, Family genres.|\n",
    "|**Last Updated**| Date when the app was last updated on Play Store (as when scraped)|\n",
    "|**Current Ver**| Current version of the app available on Play Store (as when scraped)|\n",
    "|**Android Ver**| Min required Android version (as when scraped)|\n",
    "||_________________________________________________________________________________________________________________________|"
   ]
  },
  {
   "cell_type": "markdown",
   "id": "82b9a49b-59b7-488e-b7fa-0d958b77b399",
   "metadata": {},
   "source": [
    "Here are the columns that might help us in our analysis in the quest to understand what kind of apps are likely to attract the most users:\n",
    "\n",
    "### 2. Data cleaning\n",
    "\n",
    "**We have a number of requirements:**\n",
    "\n",
    "- Detect inaccurate data and correct or delete it. - Detect and remove duplicates.\n",
    "\n",
    "Considering that we create free applications in English, simply to download and install, we must **remove the applications that are not free and those that are not in English**.\n",
    "\n",
    "**Therefore, before the analysis, we perform a data cleansing that involves:**\n",
    "\n",
    "- 1. **Detect inaccurate data, and correct or remove it**.\n",
    "\n",
    "- 2. **Detect duplicate data, and remove the duplicates**.\n",
    "\n",
    "- 3. **Remove non-English apps like 爱奇艺PPS -《欢乐颂2》电视剧热播**.\n",
    "\n",
    "- 4. **Remove apps that aren't free##**.\n",
    "\n",
    "<br>\n",
    "\n",
    "**Detect inaccurate data... remove it.**\n",
    "\n",
    "The Google Play dataset has a dedicated [discussion section](https://www.kaggle.com/datasets/lava18/google-play-store-apps/discussion?sort=votes), and we can see that [one of the discussions](https://www.kaggle.com/datasets/lava18/google-play-store-apps/discussion/66015) describes an error for a certain row.\n",
    "\n",
    "If the number of columns in a row varies then some data is missing.\n",
    "\n",
    "This function `field_number` has a pair of parameters `dataset`, `header` in which we enter the dataset and the header.\n",
    "\n",
    "The passage of each row compare the number of fields with the number of fields in header if they do not coincide then in that line **some type of data is missing**."
   ]
  },
  {
   "cell_type": "code",
   "execution_count": 10,
   "id": "694d2504-67a0-433e-b21a-d744e1704279",
   "metadata": {},
   "outputs": [],
   "source": [
    "def field_number(dataset):\n",
    "    index_number = 0\n",
    "    header = len(dataset[0])\n",
    "    for row in range(len(dataset)):\n",
    "        if len(dataset[row]) != header:\n",
    "            print(dataset[row])\n",
    "            print(\"\\n\")\n",
    "            print(\"error in index number: \",index_number)\n",
    "            print(\"number of columns has an error: \",len(dataset[row]))\n",
    "        index_number +=1"
   ]
  },
  {
   "cell_type": "code",
   "execution_count": 11,
   "id": "380132f8-022e-4b49-8b29-537f0dc044a8",
   "metadata": {},
   "outputs": [],
   "source": [
    "field_number(data_ios)"
   ]
  },
  {
   "cell_type": "markdown",
   "id": "fb54ed1e-8e03-4b69-a401-0e6dff599b0e",
   "metadata": {},
   "source": [
    "En el dataset `data_ios` no tenemos ningun problema con las columnas."
   ]
  },
  {
   "cell_type": "code",
   "execution_count": 12,
   "id": "8d5fb33c-eae4-4ab1-afaa-fc488f4f2688",
   "metadata": {},
   "outputs": [
    {
     "name": "stdout",
     "output_type": "stream",
     "text": [
      "['Life Made WI-Fi Touchscreen Photo Frame', '1.9', '19', '3.0M', '1,000+', 'Free', '0', 'Everyone', '', 'February 11, 2018', '1.0.19', '4.0 and up']\n",
      "\n",
      "\n",
      "error in index number:  10473\n",
      "number of columns has an error:  12\n"
     ]
    }
   ],
   "source": [
    "field_number(data_android)"
   ]
  },
  {
   "cell_type": "markdown",
   "id": "12e527e7-eb67-40f8-b473-2fdd8414cd80",
   "metadata": {},
   "source": [
    "Sin embargo en el conjunto de android, podemos comprobar que hay un aviso:\n",
    "\n",
    "En la fila **10473** el número de columnas no coincide, por lo tanto debemos eliminarla. "
   ]
  },
  {
   "cell_type": "code",
   "execution_count": 13,
   "id": "301ba8e8-1915-4dbb-840d-a00c7fb716bf",
   "metadata": {},
   "outputs": [
    {
     "data": {
      "text/plain": [
       "['Life Made WI-Fi Touchscreen Photo Frame',\n",
       " '1.9',\n",
       " '19',\n",
       " '3.0M',\n",
       " '1,000+',\n",
       " 'Free',\n",
       " '0',\n",
       " 'Everyone',\n",
       " '',\n",
       " 'February 11, 2018',\n",
       " '1.0.19',\n",
       " '4.0 and up']"
      ]
     },
     "execution_count": 13,
     "metadata": {},
     "output_type": "execute_result"
    }
   ],
   "source": [
    "data_android[10473]"
   ]
  },
  {
   "cell_type": "code",
   "execution_count": 14,
   "id": "e6962fbf-cc6d-40e6-86b2-d301483219d9",
   "metadata": {},
   "outputs": [],
   "source": [
    "del data_android[10473]"
   ]
  },
  {
   "cell_type": "markdown",
   "id": "4641a420-dfee-4873-9895-343fc5df664f",
   "metadata": {},
   "source": [
    "### Detect duplicate data, and remove the duplicates\n",
    "\n",
    "We have already checked that there is a coherence between the columns and columns of each of the rows of both datasets, so we must check the existence of applications with the repeated name. So let's check if this is true in both datasets:\n",
    "\n",
    "`for` is running through each row extracting the name of the application.\n",
    "\n",
    "- Checking if it already exists or not.\n",
    "\n",
    "- if not exist then the name is inserted in `unique_apps` else is inserted into `duplicate_apps`."
   ]
  },
  {
   "cell_type": "code",
   "execution_count": 15,
   "id": "7a360fdf-f50f-498d-9227-797e0cbae825",
   "metadata": {},
   "outputs": [],
   "source": [
    "def detect_duplicated(dataset):\n",
    "    duplicate_apps = []\n",
    "    unique_apps = []\n",
    "    \n",
    "    for app in dataset:\n",
    "        name = app[0]\n",
    "        if name in unique_apps:\n",
    "            duplicate_apps.append(name)\n",
    "        else:\n",
    "            unique_apps.append(name)\n",
    "    if len(duplicate_apps) == 0:\n",
    "        print(\"In this dataset there are no duplicate apps\")\n",
    "    else:\n",
    "        times=len(duplicate_apps)\n",
    "        print(\"There are {reapeated} repeated apps\".format(reapeated=times,dataset=dataset))\n",
    "        print(\"\\n\")\n",
    "        print('Examples of duplicate apps:',\"\\n\"+\"\\n\" , duplicate_apps[:25])"
   ]
  },
  {
   "cell_type": "code",
   "execution_count": 16,
   "id": "4826456f-ce3a-4468-b209-8811385811f9",
   "metadata": {},
   "outputs": [
    {
     "name": "stdout",
     "output_type": "stream",
     "text": [
      "In this dataset there are no duplicate apps\n"
     ]
    }
   ],
   "source": [
    "detect_duplicated(data_ios)"
   ]
  },
  {
   "cell_type": "code",
   "execution_count": 17,
   "id": "8de9c726-75e0-4cc4-b8ee-336fb5b59693",
   "metadata": {},
   "outputs": [
    {
     "name": "stdout",
     "output_type": "stream",
     "text": [
      "There are 1181 repeated apps\n",
      "\n",
      "\n",
      "Examples of duplicate apps: \n",
      "\n",
      " ['Quick PDF Scanner + OCR FREE', 'Box', 'Google My Business', 'ZOOM Cloud Meetings', 'join.me - Simple Meetings', 'Box', 'Zenefits', 'Google Ads', 'Google My Business', 'Slack', 'FreshBooks Classic', 'Insightly CRM', 'QuickBooks Accounting: Invoicing & Expenses', 'HipChat - Chat Built for Teams', 'Xero Accounting Software', 'MailChimp - Email, Marketing Automation', 'Crew - Free Messaging and Scheduling', 'Asana: organize team projects', 'Google Analytics', 'AdWords Express', 'Accounting App - Zoho Books', 'Invoice & Time Tracking - Zoho', 'join.me - Simple Meetings', 'Invoice 2go — Professional Invoices and Estimates', 'SignEasy | Sign and Fill PDF and other Documents']\n"
     ]
    }
   ],
   "source": [
    "detect_duplicated(data_android)"
   ]
  },
  {
   "cell_type": "markdown",
   "id": "bcb4329a-4612-458b-96f0-791442ad4796",
   "metadata": {},
   "source": [
    "This list that has appeared shows an example of the `1181` repeated applications that are in the dataset, but that does not mean that they are duplicates, there are some that are even quadrupled. \n",
    "\n",
    "<br>\n",
    "\n",
    "By entering in this piece of code the applications that appeared as repeated in the previous cell we can get an idea of what it looks like.\n",
    "\n",
    "### 2.3 What differentiates duplicate applications?\n",
    "\n",
    "If we take one of this as an example of a repeated application, we see that out of all the fields that make up the row **there is only one that differs**.\n",
    "\n",
    "Once we have verified that there are many applications (some) repeated more than once, the next step would be to determine which criterion to follow for removing the applications:\n",
    "\n",
    "In this case, the criterion has been: **the application with the higher number of reviews should have the most recent data**.\""
   ]
  },
  {
   "cell_type": "code",
   "execution_count": 18,
   "id": "ab7fc008-8b60-4607-bac7-4295c511dd01",
   "metadata": {},
   "outputs": [
    {
     "name": "stdout",
     "output_type": "stream",
     "text": [
      "['Quick PDF Scanner + OCR FREE', 'BUSINESS', '4.2', '80805', 'Varies with device', '5,000,000+', 'Free', '0', 'Everyone', 'Business', 'February 26, 2018', 'Varies with device', '4.0.3 and up']\n",
      "['Quick PDF Scanner + OCR FREE', 'BUSINESS', '4.2', '80805', 'Varies with device', '5,000,000+', 'Free', '0', 'Everyone', 'Business', 'February 26, 2018', 'Varies with device', '4.0.3 and up']\n",
      "['Quick PDF Scanner + OCR FREE', 'BUSINESS', '4.2', '80804', 'Varies with device', '5,000,000+', 'Free', '0', 'Everyone', 'Business', 'February 26, 2018', 'Varies with device', '4.0.3 and up']\n"
     ]
    }
   ],
   "source": [
    "for app in data_android[1:]:\n",
    "    if app[0] == 'Quick PDF Scanner + OCR FREE':\n",
    "        print(app)"
   ]
  },
  {
   "cell_type": "code",
   "execution_count": 19,
   "id": "1f1c45d9-9869-44e4-9980-cd8e82c3f3dd",
   "metadata": {},
   "outputs": [
    {
     "name": "stdout",
     "output_type": "stream",
     "text": [
      "['MailChimp - Email, Marketing Automation', 'BUSINESS', '4.1', '5448', '12M', '500,000+', 'Free', '0', 'Everyone', 'Business', 'July 25, 2018', '4.9.1', '5.0 and up']\n",
      "['MailChimp - Email, Marketing Automation', 'BUSINESS', '4.1', '5448', '12M', '500,000+', 'Free', '0', 'Everyone', 'Business', 'July 25, 2018', '4.9.1', '5.0 and up']\n"
     ]
    }
   ],
   "source": [
    "for app in data_android[1:]:\n",
    "    if app[0] == 'MailChimp - Email, Marketing Automation':\n",
    "        print(app)"
   ]
  },
  {
   "cell_type": "markdown",
   "id": "ba9b77a7-555b-4f32-92ca-00801563d07a",
   "metadata": {},
   "source": [
    "Once we have verified that there are applications (many) repeated more than once, the next step would be to determine what criteria to follow to remove the applications:\n",
    "\n",
    "In this case, the criterion has been:\n",
    "\n",
    "- **The higher the number of reviews, the more recent the data should be!** \n",
    "\n",
    "<br> \n",
    "Therefore, instead of eliminating random duplicates we will only keep those applications that are repeated and have the highest number of reviews, they will be the ones that will prevail in our dataset, the others will be eliminated.\n",
    "\n",
    "We will start by discriminating the applications by their name and by their number of reviews in the android dataset"
   ]
  },
  {
   "cell_type": "code",
   "execution_count": 20,
   "id": "0f7ea024-7eeb-4eac-a2c7-20365c9365d3",
   "metadata": {},
   "outputs": [
    {
     "data": {
      "text/plain": [
       "['App = 0',\n",
       " 'Category = 1',\n",
       " 'Rating = 2',\n",
       " 'Reviews = 3',\n",
       " 'Size = 4',\n",
       " 'Installs = 5',\n",
       " 'Type = 6',\n",
       " 'Price = 7',\n",
       " 'Content Rating = 8',\n",
       " 'Genres = 9',\n",
       " 'Last Updated = 10',\n",
       " 'Current Ver = 11',\n",
       " 'Android Ver = 12']"
      ]
     },
     "execution_count": 20,
     "metadata": {},
     "output_type": "execute_result"
    }
   ],
   "source": [
    "android_header = [f\"{x} = {i}\" for i, x in enumerate(data_android[0])]\n",
    "android_header"
   ]
  },
  {
   "cell_type": "code",
   "execution_count": 21,
   "id": "6d6bc044-ee78-4fe9-9aaf-47bde9278f1a",
   "metadata": {},
   "outputs": [
    {
     "data": {
      "text/plain": [
       "['id = 0',\n",
       " 'track_name = 1',\n",
       " 'size_bytes = 2',\n",
       " 'currency = 3',\n",
       " 'price = 4',\n",
       " 'rating_count_tot = 5',\n",
       " 'rating_count_ver = 6',\n",
       " 'user_rating = 7',\n",
       " 'user_rating_ver = 8',\n",
       " 'ver = 9',\n",
       " 'cont_rating = 10',\n",
       " 'prime_genre = 11',\n",
       " 'sup_devices.num = 12',\n",
       " 'ipadSc_urls.num = 13',\n",
       " 'lang.num = 14',\n",
       " 'vpp_lic = 15']"
      ]
     },
     "execution_count": 21,
     "metadata": {},
     "output_type": "execute_result"
    }
   ],
   "source": [
    "ios_header = [f\"{x} = {i}\" for i, x in enumerate(data_ios[0])]\n",
    "ios_header"
   ]
  },
  {
   "cell_type": "markdown",
   "id": "ad6b6585-5067-4e6e-855b-b4a49bad92c2",
   "metadata": {},
   "source": [
    "## cuidado con el nombre de las columnas.\n",
    "\n",
    "Cuando el dataset de android pasa por aqui me quedo sin la linea de las columnas."
   ]
  },
  {
   "cell_type": "code",
   "execution_count": 22,
   "id": "a26f819c-85a7-4d95-a18e-52556748b90f",
   "metadata": {},
   "outputs": [],
   "source": [
    "def uniq_apps_top_reviews(dataset):  # diccionario con el nombre de las aplicaciones con su máximo review\n",
    "    reviews_max = {} #key=name[0], value=review[3]\n",
    "    \n",
    "    for app in dataset[1:]: # No tengo que tener en cuenta la fila de las columnas\n",
    "        name = app\n",
    "        n_reviews = float(app[3]) # porque si lo hiciera tendría un error al convertir a float \n",
    "                                  # pero esto me deja el dataset sin nombres de columnas! Debo hacer lo mismo en el de Apple.  \n",
    "        \n",
    "        if name in reviews_max and reviews_max[name] < n_reviews:\n",
    "            reviews_max[name] = n_reviews\n",
    "            \n",
    "        elif name is not reviews_max:\n",
    "            reviews_max[name] = n_reviews\n",
    "    \n",
    "    print('length of the dictionary:',len(reviews_max))\n",
    "    return reviews_max"
   ]
  },
  {
   "cell_type": "markdown",
   "id": "c96b8e6f-9086-4fe3-85f7-a83d6b81eb53",
   "metadata": {},
   "source": [
    "Hemos creado un diccionario donde tenemos el `name` de las aplicaciones con el valor de `reviews_max`, procedemos a eliminar aquellas que no necesitamos."
   ]
  },
  {
   "cell_type": "code",
   "execution_count": 24,
   "id": "b7587c22-3025-4432-ba2c-a2b47bd243dd",
   "metadata": {},
   "outputs": [
    {
     "name": "stdout",
     "output_type": "stream",
     "text": [
      "/home/ion/Formacion/git_repo_klone/albertjimrod/Python\n"
     ]
    }
   ],
   "source": [
    "! pwd"
   ]
  },
  {
   "cell_type": "code",
   "execution_count": 23,
   "id": "18884a8e-4fe4-46dc-abca-c826a1884837",
   "metadata": {
    "editable": true,
    "slideshow": {
     "slide_type": ""
    },
    "tags": []
   },
   "outputs": [
    {
     "ename": "SyntaxError",
     "evalue": "invalid syntax (1520508044.py, line 1)",
     "output_type": "error",
     "traceback": [
      "\u001b[0;36m  Cell \u001b[0;32mIn[23], line 1\u001b[0;36m\u001b[0m\n\u001b[0;31m    ...........salida = uniq_apps_top_reviews(data_android)\u001b[0m\n\u001b[0m       ^\u001b[0m\n\u001b[0;31mSyntaxError\u001b[0m\u001b[0;31m:\u001b[0m invalid syntax\n"
     ]
    }
   ],
   "source": [
    "...........salida = uniq_apps_top_reviews(data_android)"
   ]
  },
  {
   "cell_type": "code",
   "execution_count": null,
   "id": "d64c8eea-f2e7-4d9f-a4c5-413d8a6f654d",
   "metadata": {},
   "outputs": [],
   "source": [
    "............def rev_apps(dataset, dict):\n",
    "    android_clean = []\n",
    "    already_added = []\n",
    "    for app in dataset[1:]:\n",
    "        name = app[0]\n",
    "        n_reviews = float(app[3])\n",
    "        \n",
    "        if ((dict[name] == n_reviews) and (name not in already_added)):\n",
    "            android_clean.append(app)\n",
    "            already_added.append(name)\n",
    "    \n",
    "    return android_clean"
   ]
  },
  {
   "cell_type": "code",
   "execution_count": null,
   "id": "cd9d1032-d3db-4d56-95c0-37b532c98b07",
   "metadata": {},
   "outputs": [],
   "source": [
    "reviews_max = uniq_apps_top_reviews(data_android)\n",
    "reviews_max"
   ]
  },
  {
   "cell_type": "code",
   "execution_count": null,
   "id": "e2697c26-e41f-4886-9f3e-b61039f8fe9d",
   "metadata": {},
   "outputs": [],
   "source": []
  },
  {
   "cell_type": "code",
   "execution_count": null,
   "id": "f95b4eef-4b77-4c05-b937-71dd7b94229b",
   "metadata": {},
   "outputs": [],
   "source": [
    "dict_names_maxreviews = uniq_apps_top_reviews(data_android) # diccionario con el nombre de las aplicaciones con su máximo review"
   ]
  },
  {
   "cell_type": "code",
   "execution_count": null,
   "id": "e067769e-d716-4eef-9b8a-0c62bd886553",
   "metadata": {},
   "outputs": [],
   "source": [
    "android_clean = rev_apps(data_android,dict_names_maxreviews) # cleaning all dataset"
   ]
  },
  {
   "cell_type": "markdown",
   "id": "2e0059f1-e3a2-42c4-8378-167bfd0da8f2",
   "metadata": {},
   "source": [
    "Once we have cleaned the dataset, we will check the absence of repeated applications in both datasets."
   ]
  },
  {
   "cell_type": "code",
   "execution_count": null,
   "id": "23f003db-e927-4baa-8e5a-3658679091d7",
   "metadata": {},
   "outputs": [],
   "source": [
    "header_android_clean = [f\"{x} = {i}\" for i, x in enumerate(android_clean[0])]\n",
    "header_android_clean"
   ]
  },
  {
   "cell_type": "code",
   "execution_count": null,
   "id": "cc6800c2-173a-4642-9211-562673d939d8",
   "metadata": {},
   "outputs": [],
   "source": [
    "remove_dupli(header_android_clean)"
   ]
  },
  {
   "cell_type": "markdown",
   "id": "035064ea-8e41-4299-8e50-ca229eb8b980",
   "metadata": {},
   "source": [
    "Comprobemos si permanecen las aplicaciones repetidas en el conjunto de datos de "
   ]
  },
  {
   "cell_type": "code",
   "execution_count": null,
   "id": "4674319a-6aca-46ef-92e6-bd52b74a0696",
   "metadata": {},
   "outputs": [],
   "source": [
    "remove_dupli(data_ios)"
   ]
  },
  {
   "cell_type": "markdown",
   "id": "7e42f8cc-b028-41fa-9b27-0b95bcaac55c",
   "metadata": {},
   "source": [
    "We update the status of the datasets\n",
    "|`data_ios`|`android_clean`|\n",
    "|:----|:----|\n",
    "|Number of rows: 7198| Number of rows: 9659|\n",
    "|Number of columns: 16|Number of columns: 13|\n",
    "|________________________________________________________________________________________________|_______________________________________________________________|"
   ]
  },
  {
   "cell_type": "markdown",
   "id": "9703e5bc-9bd3-460f-b6c8-065ae063f678",
   "metadata": {},
   "source": [
    " ### Aqui quiero explicar de donde sale el 1183 "
   ]
  },
  {
   "cell_type": "markdown",
   "id": "58437957-b20a-4249-adf7-54818973658a",
   "metadata": {},
   "source": [
    "We have removed 1183 duplicate apps, so, we have a new dataset for android with **9659** different apps in different languages, so now what we're going to do is filter those apps."
   ]
  },
  {
   "cell_type": "markdown",
   "id": "87fb1646-f872-4c2a-8a7e-2dbd80be462c",
   "metadata": {},
   "source": [
    "### Removing Non-English Apps\n",
    "\n",
    "1. **General Objective**: Our company develops applications in English and we are interested in analyzing only those applications aimed at an English-speaking audience.\n",
    "\n",
    "2. **Identified Problem**: Upon examining the data, we have found that some application names suggest they are not intended for an English-speaking audience. This is often due to the presence of symbols or characters that are not commonly used in English text.\n",
    "\n",
    "3. **Proposed Strategy**: To address this problem, we will remove all applications whose names contain symbols that are not typically used in English. These symbols include letters from other alphabets, punctuation marks (., !, ?, ;), and other non-alphabetic characters such as (+, *, /).\n",
    "\n",
    "4. **Detailed Method**:\n",
    "   - Each character (letter, number, dot, comma, etc.) has a corresponding number that can be obtained using the built-in function `ord()`.\n",
    "   - For example, the character \"a\" corresponds to 97, \"A\" corresponds to 65, and any other non-alphabetic character might have a different value (for instance, \"爱\" is 29.233).\n",
    "\n",
    "   - We will use the `ord()` function to get the numerical value of each character in a string.\n",
    "   - If a character has a number that falls outside the common range for English characters (i.e., not within the range 65-90 for uppercase and 97-122 for lowercase), we will remove that application.\n",
    "\n",
    "In summary, our strategy is:\n",
    "- Use `ord()` to get the numerical value of each character in the names of the applications.\n",
    "- Compare this value with the common range of values for English characters (65-90 for uppercase and 97-122 for lowercase).\n",
    "- Remove any applications whose names contain at least one character outside this range.\n",
    "\n",
    "This strategy will ensure that we only analyze applications with names clearly in English."
   ]
  },
  {
   "cell_type": "markdown",
   "id": "0d910a70-3015-40de-be4c-06dea82611c8",
   "metadata": {},
   "source": [
    "### Code Explanation\n",
    "\n",
    "The function `english_speak(text)` checks if a given text is primarily composed of English characters. It does this by:\n",
    "1. **Checking Each Character**: For each character in the input text.\n",
    "2. **Determining Ordinal Value**: Using the `ord()` function to get the ordinal value of each character.\n",
    "3. **Marking Non-English Characters**: If the ordinal value is greater than 127, it marks that character as non-English.\n",
    "4. **Returning Result**:\n",
    "   - Returns `False` if there are more than two non-English characters.\n",
    "   - Returns `True` otherwise.\n",
    "\n",
    "### Examples\n",
    "\n",
    "#### Example 1: \"hello\"\n",
    "- Each character is checked: `'h'`, `'e'`, `'l'`, `'l'`, `'o'`.\n",
    "- All characters have ordinal values between 33 and 126, so it returns `True`.\n",
    "\n",
    "#### Example 2: \"¡hola\"\n",
    "- Each character is checked: `'¡'`, `'h'`, `'o'`, `'l'`, `'a'`.\n",
    "- `'¡'` has an ordinal value of 161 (greater than 127), so it is marked as non-English.\n",
    "- Only one character is marked, so it returns `True`.\n",
    "\n",
    "#### Example 3: \"我爱你\"\n",
    "- Each character is checked: `'我'`, `'爱'`, `'你'`.\n",
    "- Both `'我'` and `'爱'` have ordinal values greater than 127, so they are marked as non-English.\n",
    "- More than two characters are marked, so it returns `False`.\n",
    "\n",
    "### Summary\n",
    "\n",
    "- The function checks if there are more than two non-English characters in the text.\n",
    "- If there are more than two, it returns `False`.\n",
    "- Otherwise, it returns `True`.\n",
    "\n",
    "This way, the function ensures that only texts with primarily English characters are considered."
   ]
  },
  {
   "cell_type": "code",
   "execution_count": null,
   "id": "79c0d0f8-07f2-4930-8155-e9d783e4d9a8",
   "metadata": {},
   "outputs": [],
   "source": [
    "def english_speak(text):\n",
    "    non_validchar = [] #aux list\n",
    "    for character in text:\n",
    "        valor_character = ord(character)\n",
    "        if valor_character > 127:\n",
    "            non_validchar.append(valor_character)\n",
    "    if len(non_validchar) >= 3:\n",
    "        return False\n",
    "    else:\n",
    "        return True"
   ]
  },
  {
   "cell_type": "markdown",
   "id": "5284f55d-a7df-4281-af7f-b1515572627e",
   "metadata": {},
   "source": [
    "Recordamos en que indice tanto android como ios tienen los indices que corresponden a los nombres"
   ]
  },
  {
   "cell_type": "code",
   "execution_count": null,
   "id": "b123845b-e7c2-4174-b8dc-bd5aab8558b0",
   "metadata": {},
   "outputs": [],
   "source": [
    "english_speak('Docs To Go™ Free Office Suite')"
   ]
  },
  {
   "cell_type": "code",
   "execution_count": null,
   "id": "47e85d07-7e3a-4f67-a208-005657795aad",
   "metadata": {},
   "outputs": [],
   "source": [
    "english_speak('Instachat 😜 😜')"
   ]
  },
  {
   "cell_type": "code",
   "execution_count": null,
   "id": "4479a76c-7047-454e-97d0-230e01329144",
   "metadata": {},
   "outputs": [],
   "source": [
    "english_speak('爱奇艺PPS -《欢乐颂2》电视剧热播')"
   ]
  },
  {
   "cell_type": "code",
   "execution_count": null,
   "id": "b0e0170f-c3bf-4e51-b51d-37a632b1cc76",
   "metadata": {},
   "outputs": [],
   "source": [
    "english_speak('Instachat 😜 😜 😜')"
   ]
  },
  {
   "cell_type": "markdown",
   "id": "b4e09b80-4c89-4c22-a5d5-a2e557809b90",
   "metadata": {},
   "source": [
    "### Filter non-English applications from both datasets"
   ]
  },
  {
   "cell_type": "code",
   "execution_count": null,
   "id": "32550b06-4c9c-4aa7-bf55-95f206b72c11",
   "metadata": {},
   "outputs": [],
   "source": [
    "header_clean_ios = [f\"{x} = {i}\" for i, x in enumerate(android_clean[0])]\n",
    "header_clean_ios"
   ]
  },
  {
   "cell_type": "code",
   "execution_count": null,
   "id": "4420580a-7eec-4907-9399-e4fdf6258451",
   "metadata": {},
   "outputs": [],
   "source": [
    "header_clean_ios = [f\"{x} = {i}\" for i, x in enumerate(data_ios[0])]\n",
    "header_clean_ios"
   ]
  },
  {
   "cell_type": "code",
   "execution_count": null,
   "id": "6807ca20-f7b4-46ff-a040-b4e9b64728dd",
   "metadata": {},
   "outputs": [],
   "source": [
    "def cleaning_dataset(dataset):\n",
    "    list_clean = []\n",
    "    for row in dataset[1:]:\n",
    "        name = row[1]\n",
    "        if english_speak(name):\n",
    "            list_clean.append(row)\n",
    "        else:\n",
    "            pass\n",
    "    return list_clean"
   ]
  },
  {
   "cell_type": "code",
   "execution_count": null,
   "id": "3365cafa-1155-490b-8a4c-35891bd153ea",
   "metadata": {},
   "outputs": [],
   "source": [
    "# AppleStore\n",
    "\n",
    "clean_android = cleaning_dataset(android_clean)"
   ]
  },
  {
   "cell_type": "code",
   "execution_count": null,
   "id": "61c261e0-4a4f-4107-b7e4-00e92ba63fe6",
   "metadata": {},
   "outputs": [],
   "source": [
    "# AppleStore\n",
    "\n",
    "clean_ios = cleaning_dataset(data_ios)"
   ]
  },
  {
   "cell_type": "code",
   "execution_count": null,
   "id": "3d3f1c43-3bb3-4b81-af46-f1d44b9b48c0",
   "metadata": {},
   "outputs": [],
   "source": [
    "header_clean_ios = [f\"{x} = {i}\" for i, x in enumerate(clean_android[0])]\n",
    "header_clean_ios"
   ]
  },
  {
   "cell_type": "code",
   "execution_count": null,
   "id": "532160a4-5d40-441c-af36-f9128ed3567e",
   "metadata": {},
   "outputs": [],
   "source": [
    "header_clean_ios = [f\"{x} = {i}\" for i, x in enumerate(clean_ios[0])]\n",
    "header_clean_ios"
   ]
  },
  {
   "cell_type": "markdown",
   "id": "4a7bc6ad-b2c2-46e2-becb-ff94ec7b5d93",
   "metadata": {},
   "source": [
    "### 2.6 Exploring datasets and see how many rows we have left for each dataset."
   ]
  },
  {
   "cell_type": "code",
   "execution_count": null,
   "id": "37dc21d2-3ddf-4e13-ae6d-246af81228bc",
   "metadata": {},
   "outputs": [],
   "source": [
    "..........."
   ]
  },
  {
   "cell_type": "code",
   "execution_count": null,
   "id": "436adb35-d900-4026-b2af-cb4faec8d578",
   "metadata": {},
   "outputs": [],
   "source": [
    "explore_data(clean_ios, 0, 5, True)"
   ]
  },
  {
   "cell_type": "code",
   "execution_count": null,
   "id": "8addfead-5c52-43bd-a0fa-b088ee4b672c",
   "metadata": {},
   "outputs": [],
   "source": [
    "explore_data(clean_android, 0, 5, True)"
   ]
  },
  {
   "cell_type": "markdown",
   "id": "2f246174-0845-47b2-b1db-f0be16099156",
   "metadata": {},
   "source": [
    "We update the status of the datasets\n",
    "|`clean_ios`|`clean_android`|\n",
    "|:----|:----|\n",
    "|Number of rows: 9659| Number of rows: 6156|\n",
    "|Number of columns: 16|Number of columns: 13|\n",
    "|________________________________________________________________________________________________|_______________________________________________________________|"
   ]
  },
  {
   "cell_type": "markdown",
   "id": "dbf7b677-4a35-47cd-bd82-50a88ec52a2b",
   "metadata": {},
   "source": [
    "### 3. Isolating Free Apps\n",
    "\n",
    "Our datasets contain **free and non-free applications** we need to isolate only the free applications for our analysis.\n",
    "\n",
    "Checking the length of each dataset to see how many apps have left."
   ]
  },
  {
   "cell_type": "code",
   "execution_count": null,
   "id": "1fa1c176-2e5f-47a3-99ac-163fc5fc81fa",
   "metadata": {},
   "outputs": [],
   "source": [
    "header_clean_android = [f\"{x} = {i}\" for i, x in enumerate(clean_android[0])]\n",
    "header_clean_android"
   ]
  },
  {
   "cell_type": "code",
   "execution_count": null,
   "id": "f827baa3-0351-4eb8-a435-245e618180e4",
   "metadata": {},
   "outputs": [],
   "source": [
    "header_clean_ios = [f\"{x} = {i}\" for i, x in enumerate(clean_ios[0])]\n",
    "header_clean_ios"
   ]
  },
  {
   "cell_type": "code",
   "execution_count": null,
   "id": "06ee09b4-8c76-4a22-8df1-cf3729cdd115",
   "metadata": {},
   "outputs": [],
   "source": [
    "....."
   ]
  },
  {
   "cell_type": "code",
   "execution_count": null,
   "id": "e769f3ba-96e2-491f-81bb-99d2f8787216",
   "metadata": {},
   "outputs": [],
   "source": []
  },
  {
   "cell_type": "code",
   "execution_count": null,
   "id": "34f8f9f3-4f9c-45c7-ba56-36ad6b5a12e2",
   "metadata": {},
   "outputs": [],
   "source": [
    "def free_apps(dataset, number_col): # Depending on the dataset, the number of column is one or the other\n",
    "    free_clean = [] \n",
    "    \n",
    "    for row in dataset:\n",
    "        prix = row\n",
    "        if prix == '0.0' or prix == '0': #not numbers just characters! \n",
    "            free_clean.append(row)\n",
    "        else:\n",
    "            pass\n",
    "    return free_clean"
   ]
  },
  {
   "cell_type": "code",
   "execution_count": null,
   "id": "f6577ad8-a483-4891-806d-6c7acca62a24",
   "metadata": {},
   "outputs": [],
   "source": [
    "print(free_apps(clean_android, ))"
   ]
  },
  {
   "cell_type": "code",
   "execution_count": null,
   "id": "3c34e560-606c-4b5f-ad9b-05e034bad6b5",
   "metadata": {},
   "outputs": [],
   "source": []
  }
 ],
 "metadata": {
  "kernelspec": {
   "display_name": "Python 3 (ipykernel)",
   "language": "python",
   "name": "python3"
  },
  "language_info": {
   "codemirror_mode": {
    "name": "ipython",
    "version": 3
   },
   "file_extension": ".py",
   "mimetype": "text/x-python",
   "name": "python",
   "nbconvert_exporter": "python",
   "pygments_lexer": "ipython3",
   "version": "3.10.13"
  }
 },
 "nbformat": 4,
 "nbformat_minor": 5
}
