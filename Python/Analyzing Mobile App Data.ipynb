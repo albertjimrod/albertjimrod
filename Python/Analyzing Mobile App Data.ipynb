{
 "cells": [
  {
   "cell_type": "markdown",
   "id": "fcfe8d5b-3775-4395-9eef-b90985d734a8",
   "metadata": {},
   "source": [
    "# Data analysis to help developers understand what type of apps are likely to attract more users.\n",
    "\n",
    "<br>\n",
    "\n",
    "**Introduction to the Project**\n",
    "\n",
    "\n",
    "\n",
    "In today's mobile development landscape, it is crucial to understand which types of applications attract more users in both Android and Apple ecosystems. With the goal of providing valuable information to developers, this project focuses on data analysis to identify common characteristics among the applications that receive a higher number of downloads and engagement.\n",
    "\n",
    "1. **What Does the Project Entail?**\n",
    "\n",
    "    This data analysis combines information from various sources, such as Google Play Store and iTunes App Store, along with usage and performance metrics. Using statistical techniques and machine learning algorithms, patterns and trends are identified to indicate which types of applications perform better in each platform.\n",
    "\n",
    "2. **Project Objective**\n",
    "\n",
    "    The primary objective of this project is to provide developers with precise information about the characteristics that resonate best with users on Android and iOS. By understanding better what types of applications perform well in terms of downloads, engagement, and retention, developers can make more informed decisions for the design and optimization of their own apps.\n",
    "\n",
    "Lo primero es la recopilar y analizar datos sobre aplicaciones móviles disponibles en Google Play y App Store.\n",
    "\n",
    "Para evitar gastar recursos en la recopilación de nuevos datos, primero debemos tratar de ver si podemos encontrar datos existentes relevantes sin costo alguno. Afortunadamente, aquí hay dos conjuntos de datos que parecen adecuados para nuestros objetivos:\n",
    "\n",
    "<br>\n",
    "\n",
    "Un conjunto de datos contiene datos de aproximadamente 10,000 aplicaciones de **Android de Google Play**; los datos se recopilaron en agosto de 2018. \n",
    "\n",
    "Un conjunto de datos contiene datos de aproximadamente 7,000 aplicaciones de **iOS de la App Store**; los datos se recopilaron en julio de 2017. \n",
    "\n",
    "Vamos a abrir y a explorar estos conjuntos de datos con la función `explore_data()`\n",
    "\n",
    "Parámetros:\n",
    "\n",
    "- `dataset`: Una lista de listas que representa el conjunto de datos.\n",
    "\n",
    "- `start`: Un entero que indica el índice inicial del segmento a mostrar.\n",
    "\n",
    "- `end`: Un entero que indica el índice final (exclusivo) del segmento a mostrar.\n",
    "\n",
    "- `rows_and_columns` (opcional): Un booleano con valor predeterminado False. Si es True, imprimirá el número de filas y columnas."
   ]
  },
  {
   "cell_type": "code",
   "execution_count": 1,
   "id": "5397d26e-5e19-4fd4-a3e8-af1825adc6df",
   "metadata": {},
   "outputs": [
    {
     "name": "stdout",
     "output_type": "stream",
     "text": [
      "/home/ion/Formacion/git_repo_klone/albertjimrod/Python\n"
     ]
    }
   ],
   "source": [
    "! pwd"
   ]
  },
  {
   "cell_type": "code",
   "execution_count": 2,
   "id": "d3439c1f-2438-4a2f-9b5a-a0f961b60d33",
   "metadata": {},
   "outputs": [
    {
     "name": "stdout",
     "output_type": "stream",
     "text": [
      "total 304\n",
      "268 -rw-rw-r-- 1 ion ion 272175 ene 23 18:02  00_For_Loops_Conditionals.ipynb\n",
      " 20 -rw-rw-r-- 1 ion ion  18343 ene 23 18:08 'Analyzing Mobile App Data.ipynb'\n",
      "  4 drwxrwxr-x 2 ion ion   4096 ene 23 18:07  datasets\n",
      "  4 -rw-rw-r-- 1 ion ion    159 ene 23 18:00  enlace_DQ\n",
      "  4 -rw-rw-r-- 1 ion ion    538 ene 23 18:01  README.md\n",
      "  4 -rw-rw-r-- 1 ion ion    618 ene 23 16:02  Untitled.ipynb\n"
     ]
    }
   ],
   "source": [
    "! ls -ls "
   ]
  },
  {
   "cell_type": "code",
   "execution_count": 3,
   "id": "45b7bb87-e10b-493b-aaf0-4338643d9de4",
   "metadata": {},
   "outputs": [],
   "source": [
    "from csv import reader\n",
    "\n",
    "opened_ios = open('datasets/AppleStore.csv')\n",
    "opened_android = open('datasets/googleplaystore.csv')\n",
    "\n",
    "readed_ios = reader(opened_ios)\n",
    "readed_android = reader(opened_android)\n",
    "\n",
    "data_ios = list(readed_ios)\n",
    "data_android = list(readed_android)"
   ]
  },
  {
   "cell_type": "code",
   "execution_count": 4,
   "id": "7a5ef1dd-5152-46b9-b93b-8ba1c5a63985",
   "metadata": {},
   "outputs": [],
   "source": [
    "def explore_data(dataset, start, end, rows_and_columns = False):\n",
    "    offset = 1\n",
    "    cnt = 1\n",
    "    columns = len(dataset[0])\n",
    "    \n",
    "    if rows_and_columns == True:\n",
    "        print(\"columns \",columns , dataset[0])\n",
    "        print(\"\\n\")\n",
    "        \n",
    "        for row in dataset[offset+start:end+offset]:\n",
    "            print(\"row:\",cnt, row)\n",
    "            print(\"\\n\")\n",
    "            cnt +=1\n",
    "    else:\n",
    "        for row in dataset[offset+start:end+offset]:\n",
    "            print(row)\n",
    "            print(\"\\n\")"
   ]
  },
  {
   "cell_type": "code",
   "execution_count": 5,
   "id": "5fb7fc8e-26d9-4c2c-87fe-c28a6e5d1c4c",
   "metadata": {},
   "outputs": [
    {
     "name": "stdout",
     "output_type": "stream",
     "text": [
      "columns  16 ['id', 'track_name', 'size_bytes', 'currency', 'price', 'rating_count_tot', 'rating_count_ver', 'user_rating', 'user_rating_ver', 'ver', 'cont_rating', 'prime_genre', 'sup_devices.num', 'ipadSc_urls.num', 'lang.num', 'vpp_lic']\n",
      "\n",
      "\n",
      "row: 1 ['284882215', 'Facebook', '389879808', 'USD', '0.0', '2974676', '212', '3.5', '3.5', '95.0', '4+', 'Social Networking', '37', '1', '29', '1']\n",
      "\n",
      "\n",
      "row: 2 ['389801252', 'Instagram', '113954816', 'USD', '0.0', '2161558', '1289', '4.5', '4.0', '10.23', '12+', 'Photo & Video', '37', '0', '29', '1']\n",
      "\n",
      "\n",
      "row: 3 ['529479190', 'Clash of Clans', '116476928', 'USD', '0.0', '2130805', '579', '4.5', '4.5', '9.24.12', '9+', 'Games', '38', '5', '18', '1']\n",
      "\n",
      "\n"
     ]
    }
   ],
   "source": [
    "explore_data(data_ios, 0, 3, True)"
   ]
  },
  {
   "cell_type": "code",
   "execution_count": 6,
   "id": "9eee6bdf-1d9f-4cee-ba8b-7d343ebab2fc",
   "metadata": {},
   "outputs": [
    {
     "name": "stdout",
     "output_type": "stream",
     "text": [
      "columns  13 ['App', 'Category', 'Rating', 'Reviews', 'Size', 'Installs', 'Type', 'Price', 'Content Rating', 'Genres', 'Last Updated', 'Current Ver', 'Android Ver']\n",
      "\n",
      "\n",
      "row: 1 ['Photo Editor & Candy Camera & Grid & ScrapBook', 'ART_AND_DESIGN', '4.1', '159', '19M', '10,000+', 'Free', '0', 'Everyone', 'Art & Design', 'January 7, 2018', '1.0.0', '4.0.3 and up']\n",
      "\n",
      "\n",
      "row: 2 ['Coloring book moana', 'ART_AND_DESIGN', '3.9', '967', '14M', '500,000+', 'Free', '0', 'Everyone', 'Art & Design;Pretend Play', 'January 15, 2018', '2.0.0', '4.0.3 and up']\n",
      "\n",
      "\n",
      "row: 3 ['U Launcher Lite – FREE Live Cool Themes, Hide Apps', 'ART_AND_DESIGN', '4.7', '87510', '8.7M', '5,000,000+', 'Free', '0', 'Everyone', 'Art & Design', 'August 1, 2018', '1.2.4', '4.0.3 and up']\n",
      "\n",
      "\n"
     ]
    }
   ],
   "source": [
    "explore_data(data_android, 0, 3, True)"
   ]
  },
  {
   "cell_type": "markdown",
   "id": "31deafd8-9968-46b4-8251-5812890041b0",
   "metadata": {
    "jp-MarkdownHeadingCollapsed": true
   },
   "source": [
    "### Diccionario de datos de IOS\n",
    "\n",
    "|||\n",
    "|:--|:--|\n",
    "|**id**| App ID|\n",
    "|**track_name**| App Name|\n",
    "|**size_bytes**| Size (in Bytes)|\n",
    "|**currency**| Currency Type|\n",
    "|**price**| Price amount|\n",
    "|**rating_count_tot**| User Rating counts (for all version)|\n",
    "|**rating_count_ver**| User Rating counts (for current version)|\n",
    "|**user_rating**| Average User Rating value (for all version)|\n",
    "|**user_rating_ver**| Average User Rating value (for current version) |\n",
    "|**ver**| Latest version code|\n",
    "|**cont_rating**| Content Rating|\n",
    "|**prime_genre**| Primary Genre|\n",
    "|**sup_devices.num**| Number of supporting devices|\n",
    "|**ipadSc_urls.num**| Number of screenshots showed for display|\n",
    "|**lang.num**| Number of supported languages|\n",
    "|**vpp_lic**| Vpp Device Based Licensing Enabled|\n",
    "||_________________________________________________________________________________________________________________________|"
   ]
  },
  {
   "cell_type": "markdown",
   "id": "9f410d0f-c87b-464c-b925-7743c4fa0951",
   "metadata": {},
   "source": [
    "### Diccionario de datos de Android\n",
    "\n",
    "|||\n",
    "|:--|:--|\n",
    "|**App**| Application name|\n",
    "|**Category**| Category the app belongs to|\n",
    "|**Rating**| Overall user rating of the app (as when scraped)|\n",
    "|**Reviews**| Number of user reviews for the app (as when scraped)|\n",
    "|**Size**| Size of the app (as when scraped)|\n",
    "|**Installs**| Number of user downloads/installs for the app (as when scraped)|\n",
    "|**Type**| Paid or Free|\n",
    "|**Price**| Price of the app (as when scraped)|\n",
    "|**Content Rating**| Age group the app is targeted at - Children / Mature 21+ / Adult|\n",
    "|**Genres**| An app can belong to multiple genres (apart from its main category). For eg, a musical family game will belong to Music, Game, Family genres.|\n",
    "|**Last Updated**| Date when the app was last updated on Play Store (as when scraped)|\n",
    "|**Current Ver**| Current version of the app available on Play Store (as when scraped)|\n",
    "|**Android Ver**| Min required Android version (as when scraped)|\n",
    "||_________________________________________________________________________________________________________________________|"
   ]
  },
  {
   "cell_type": "markdown",
   "id": "cba39f59-477d-453d-a455-2145cf4ab810",
   "metadata": {},
   "source": [
    "Estas son las columnas que podrían ayudarnos en nuestro análisis en la busqueda en comprender qué tipo de aplicaciones es probable que atraigan a más usuarios:\n",
    "\n"
   ]
  },
  {
   "cell_type": "markdown",
   "id": "82b9a49b-59b7-488e-b7fa-0d958b77b399",
   "metadata": {},
   "source": [
    "### Data cleaning\n",
    "\n",
    "\n",
    "**Tenemos una serie de requisitos:**\n",
    "\n",
    "- Detectar datos inexactos y corregirlos o eliminarlos.\n",
    "- Detectar y eliminar duplicados.\n",
    "\n",
    "En nuestras empresas, únicamente creamos aplicaciones que son gratuitas en inglés, simplemente para descargar e instalar. Por lo tanto, debemos eliminar las aplicaciones que no sean gratuitas y aquellas que no estén en inglés.\n",
    "\n",
    "**Por lo tanto, antes del análisis, realizamos una limpieza de datos que implica:**\n",
    "- Corregir o eliminar datos incorrectos.\n",
    "- Eliminar datos duplicados.\n",
    "- Modificar datos para que se ajusten a nuestro propósito.\n",
    "\n",
    "**Comenzamos detectando y eliminando datos incorrectos.**\n",
    "\n",
    "El conjunto de datos de Google Play tiene un sección de discusión, y podemos ver que una de las discusiones describe <span style=\"color:blue\">un error</span> para una fila determinada.\n",
    "\n",
    "**Por lo tanto:**\n",
    "- **Encontrar donde está el [error](https://www.kaggle.com/datasets/lava18/google-play-store-apps/discussion/66015) y eliminarlo del conjunto de datos de Google Play.**\n",
    "\n",
    "- Lo primero es comprobar las columnas que debe de haber en todo el dataset, para ello lo que hacemos es mirar el numero de columnas."
   ]
  },
  {
   "cell_type": "code",
   "execution_count": 7,
   "id": "2d8252b7-f235-4472-86cd-48f87f69bc54",
   "metadata": {},
   "outputs": [
    {
     "name": "stdout",
     "output_type": "stream",
     "text": [
      "columns  13 ['App', 'Category', 'Rating', 'Reviews', 'Size', 'Installs', 'Type', 'Price', 'Content Rating', 'Genres', 'Last Updated', 'Current Ver', 'Android Ver']\n",
      "\n",
      "\n"
     ]
    }
   ],
   "source": [
    "explore_data(data_android, 0, 0, True)"
   ]
  },
  {
   "cell_type": "code",
   "execution_count": 8,
   "id": "879028d4-76fe-43a5-b5b1-13e1ab455cf2",
   "metadata": {},
   "outputs": [
    {
     "name": "stdout",
     "output_type": "stream",
     "text": [
      "10473\n",
      "12\n"
     ]
    }
   ],
   "source": [
    "for row in data_android[1:]:\n",
    "    if len(row) != len(data_android[0]):\n",
    "        print(data_android.index(row))\n",
    "        print(len(row))"
   ]
  },
  {
   "cell_type": "markdown",
   "id": "12e527e7-eb67-40f8-b473-2fdd8414cd80",
   "metadata": {},
   "source": [
    "Esto permite ver que en la fila **10473** el número de columnas no coincide, por lo tanto debemos eliminarla. "
   ]
  },
  {
   "cell_type": "code",
   "execution_count": 9,
   "id": "e6962fbf-cc6d-40e6-86b2-d301483219d9",
   "metadata": {},
   "outputs": [],
   "source": [
    "del data_android[10473]"
   ]
  },
  {
   "cell_type": "markdown",
   "id": "4641a420-dfee-4873-9895-343fc5df664f",
   "metadata": {},
   "source": [
    "### Eliminación de Entradas Duplicadas\n",
    "\n",
    "Podemos observar que hay algunas aplicaciones con entradas duplicadas"
   ]
  },
  {
   "cell_type": "code",
   "execution_count": 10,
   "id": "7a360fdf-f50f-498d-9227-797e0cbae825",
   "metadata": {},
   "outputs": [],
   "source": [
    "def remove_dupli(dataset):\n",
    "    duplicate_apps = []\n",
    "    unique_apps = []\n",
    "    \n",
    "    for app in dataset[1:]:\n",
    "        name = app[0]\n",
    "        if name in unique_apps:\n",
    "            duplicate_apps.append(name)\n",
    "        else:\n",
    "            unique_apps.append(name)\n",
    "            \n",
    "    print(\"Number of duplicate apps:\", len(duplicate_apps))\n",
    "    print(\"\\n\")\n",
    "    print(\"Examples of duplicate apps:\"\"\\n\" + \"\\n\",duplicate_apps[:15])"
   ]
  },
  {
   "cell_type": "code",
   "execution_count": 11,
   "id": "de4f634e-d6de-4fde-9725-efb3b2295203",
   "metadata": {},
   "outputs": [
    {
     "name": "stdout",
     "output_type": "stream",
     "text": [
      "Number of duplicate apps: 1181\n",
      "\n",
      "\n",
      "Examples of duplicate apps:\n",
      "\n",
      " ['Quick PDF Scanner + OCR FREE', 'Box', 'Google My Business', 'ZOOM Cloud Meetings', 'join.me - Simple Meetings', 'Box', 'Zenefits', 'Google Ads', 'Google My Business', 'Slack', 'FreshBooks Classic', 'Insightly CRM', 'QuickBooks Accounting: Invoicing & Expenses', 'HipChat - Chat Built for Teams', 'Xero Accounting Software']\n"
     ]
    }
   ],
   "source": [
    "remove_dupli(data_android)"
   ]
  },
  {
   "cell_type": "markdown",
   "id": "ba9b77a7-555b-4f32-92ca-00801563d07a",
   "metadata": {},
   "source": [
    "Un criterio para eliminar los duplicados:\n",
    "\n",
    "**Cuanto mayor sea el número de reseñas, más recientes deben ser los datos!** \n",
    "\n",
    "En lugar de eliminar los duplicados al azar, sólo mantendremos la fila con el mayor número de reseñas y eliminaremos las demás entradas para cualquier aplicación."
   ]
  },
  {
   "cell_type": "code",
   "execution_count": null,
   "id": "a26f819c-85a7-4d95-a18e-52556748b90f",
   "metadata": {},
   "outputs": [],
   "source": []
  },
  {
   "cell_type": "code",
   "execution_count": null,
   "id": "5ecfaeb0-d3fb-4697-b8c4-3ccf3761d6d1",
   "metadata": {},
   "outputs": [],
   "source": []
  },
  {
   "cell_type": "code",
   "execution_count": null,
   "id": "d75231e4-0534-4c5b-9b9d-1edd25fd8e56",
   "metadata": {},
   "outputs": [],
   "source": []
  },
  {
   "cell_type": "code",
   "execution_count": null,
   "id": "dddec837-228f-4892-8a53-2dc545392574",
   "metadata": {},
   "outputs": [],
   "source": []
  },
  {
   "cell_type": "code",
   "execution_count": null,
   "id": "d64c8eea-f2e7-4d9f-a4c5-413d8a6f654d",
   "metadata": {},
   "outputs": [],
   "source": []
  },
  {
   "cell_type": "code",
   "execution_count": null,
   "id": "e067769e-d716-4eef-9b8a-0c62bd886553",
   "metadata": {},
   "outputs": [],
   "source": []
  },
  {
   "cell_type": "code",
   "execution_count": null,
   "id": "3c60b9d6-9391-4080-b7e0-7b8a897a0469",
   "metadata": {},
   "outputs": [],
   "source": []
  },
  {
   "cell_type": "code",
   "execution_count": null,
   "id": "1c80ca9a-ce0e-4c1a-aa98-2910dad9850c",
   "metadata": {},
   "outputs": [],
   "source": []
  },
  {
   "cell_type": "code",
   "execution_count": null,
   "id": "512f5107-4b1f-41c8-9728-79ddf0fde756",
   "metadata": {},
   "outputs": [],
   "source": []
  },
  {
   "cell_type": "code",
   "execution_count": null,
   "id": "ecb379a0-a977-42ab-8d0f-1eb094322da5",
   "metadata": {},
   "outputs": [],
   "source": []
  },
  {
   "cell_type": "code",
   "execution_count": null,
   "id": "557e740b-d8bf-489b-b5b2-2ad74589d282",
   "metadata": {},
   "outputs": [],
   "source": []
  },
  {
   "cell_type": "code",
   "execution_count": null,
   "id": "cc209ed5-a16c-4c89-9bac-c3ce1802f069",
   "metadata": {},
   "outputs": [],
   "source": []
  },
  {
   "cell_type": "code",
   "execution_count": null,
   "id": "1674d74b-4a98-4d99-b01e-6883985ea544",
   "metadata": {},
   "outputs": [],
   "source": []
  },
  {
   "cell_type": "code",
   "execution_count": null,
   "id": "62e60375-46bd-4f79-9fef-ad02627da384",
   "metadata": {},
   "outputs": [],
   "source": []
  }
 ],
 "metadata": {
  "kernelspec": {
   "display_name": "Python 3 (ipykernel)",
   "language": "python",
   "name": "python3"
  },
  "language_info": {
   "codemirror_mode": {
    "name": "ipython",
    "version": 3
   },
   "file_extension": ".py",
   "mimetype": "text/x-python",
   "name": "python",
   "nbconvert_exporter": "python",
   "pygments_lexer": "ipython3",
   "version": "3.10.13"
  }
 },
 "nbformat": 4,
 "nbformat_minor": 5
}
