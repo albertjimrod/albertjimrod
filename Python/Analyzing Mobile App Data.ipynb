{
 "cells": [
  {
   "cell_type": "markdown",
   "id": "fcfe8d5b-3775-4395-9eef-b90985d734a8",
   "metadata": {
    "editable": true,
    "slideshow": {
     "slide_type": ""
    },
    "tags": []
   },
   "source": [
    "# Data analysis to help developers understand what type of apps are likely to attract more users.\n",
    "\n",
    "<br>\n",
    "\n",
    "**Introduction to the Project**\n",
    "\n",
    "\n",
    "\n",
    "In today's mobile development landscape, it is crucial to understand which types of applications attract more users in both Android and Apple ecosystems. With the goal of providing valuable information to developers, this project focuses on data analysis to identify common characteristics among the applications that receive a higher number of downloads and engagement.\n",
    "\n",
    "1. **What Does the Project Entail?**\n",
    "\n",
    "    This data analysis combines information from various sources, such as Google Play Store and iTunes App Store, along with usage and performance metrics. Using statistical techniques and machine learning algorithms, patterns and trends are identified to indicate which types of applications perform better in each platform.\n",
    "\n",
    "2. **Project Objective**\n",
    "\n",
    "    The primary objective of this project is to provide developers with precise information about the characteristics that resonate best with users on Android and iOS. By understanding better what types of applications perform well in terms of downloads, engagement, and retention, developers can make more informed decisions for the design and optimization of their own apps.\n",
    "\n",
    "Lo primero es la recopilar y analizar datos sobre aplicaciones móviles disponibles en Google Play y App Store.\n",
    "\n",
    "Para evitar gastar recursos en la recopilación de nuevos datos, primero debemos tratar de ver si podemos encontrar datos existentes relevantes sin costo alguno. Afortunadamente, aquí hay dos conjuntos de datos que parecen adecuados para nuestros objetivos:\n",
    "\n",
    "<br>\n",
    "\n",
    "Un conjunto de datos contiene datos de aproximadamente 10,000 aplicaciones de **Android de Google Play**; los datos se recopilaron en agosto de 2018. \n",
    "\n",
    "Un conjunto de datos contiene datos de aproximadamente 7,000 aplicaciones de **iOS de la App Store**; los datos se recopilaron en julio de 2017. \n",
    "\n",
    "Vamos a abrir y a explorar estos conjuntos de datos con la función `explore_data()`\n",
    "\n",
    "Parámetros:\n",
    "\n",
    "- `dataset`: Una lista de listas que representa el conjunto de datos.\n",
    "\n",
    "- `start`: Un entero que indica el índice inicial del segmento a mostrar.\n",
    "\n",
    "- `end`: Un entero que indica el índice final (exclusivo) del segmento a mostrar.\n",
    "\n",
    "- `rows_and_columns` (opcional): Un booleano con valor predeterminado False. Si es True, imprimirá el número de filas y columnas.\n",
    "\n",
    "* * *\n",
    "\n",
    "The datasets are in two documents of type csv's i.e. **Comma Separated Values file** for read the content, it is necessary to load a function called `reader` of the python `csv` module."
   ]
  },
  {
   "cell_type": "code",
   "execution_count": 1,
   "id": "c21947ce-7194-41e9-a466-50d0190d6977",
   "metadata": {},
   "outputs": [
    {
     "name": "stdout",
     "output_type": "stream",
     "text": [
      "total 440\n",
      "268 -rw-rw-r-- 1 ion ion 272175 ene 23 18:02  00_For_Loops_Conditionals.ipynb\n",
      " 52 -rw-rw-r-- 1 ion ion  49612 ene 24 19:55 'Analyzing Mobile App Data_copy.ipynb'\n",
      "104 -rw-rw-r-- 1 ion ion 104441 ene 27 18:27 'Analyzing Mobile App Data.ipynb'\n",
      "  4 drwxrwxr-x 2 ion ion   4096 ene 23 18:07  datasets\n",
      "  4 -rw-rw-r-- 1 ion ion    159 ene 23 18:00  enlace_DQ\n",
      "  4 -rw-rw-r-- 1 ion ion    538 ene 23 18:01  README.md\n",
      "  4 -rw-rw-r-- 1 ion ion    618 ene 23 16:02  Untitled.ipynb\n"
     ]
    }
   ],
   "source": [
    "! ls -ls"
   ]
  },
  {
   "cell_type": "code",
   "execution_count": 2,
   "id": "6340b57d-54d7-4d35-9f45-74bdb2908d18",
   "metadata": {},
   "outputs": [
    {
     "name": "stdout",
     "output_type": "stream",
     "text": [
      " AppleStore.csv  'data dictionary.txt'\t googleplaystore.csv\n"
     ]
    }
   ],
   "source": [
    "! ls datasets"
   ]
  },
  {
   "cell_type": "code",
   "execution_count": 3,
   "id": "11aa5cde-7268-4c2e-bb31-34fa9faf7339",
   "metadata": {},
   "outputs": [],
   "source": [
    "from csv import reader"
   ]
  },
  {
   "cell_type": "markdown",
   "id": "5f4a99b5-341e-4bd1-ad1d-27cf7ffac722",
   "metadata": {
    "editable": true,
    "slideshow": {
     "slide_type": ""
    },
    "tags": []
   },
   "source": [
    "## 1. Exploring datasets:\n",
    "\n",
    "We are going to explore the two sets of data, but first we are going to kwon what type of [character encoding](https://en.wikipedia.org/wiki/Character_encoding) both datasets have.\n",
    "\n",
    "A command called [file](https://www.man7.org/linux/man-pages/man1/file.1.html), will help us to kwon the type of file regardless of its extension and avoid a error called `UnicodeDecodeError`.\n",
    "\n",
    "\n",
    "```\n",
    "FILE(1)                                         BSD General Commands Manual                                         FILE(1)\n",
    "\n",
    "NAME\n",
    "     file — determine file type\n",
    "\n",
    "SYNOPSIS\n",
    "     file [-bcdEhiklLNnprsSvzZ0] [--apple] [--exclude-quiet] [--extension] [--mime-encoding] [--mime-type] [-e testname]\n",
    "          [-F separator] [-f namefile] [-m magicfiles] [-P name=value] file ...\n",
    "     file -C [-m magicfiles]\n",
    "     file [--help]\n",
    "\n",
    "DESCRIPTION\n",
    "     This manual page documents version 5.41 of the file command.\n",
    "\n",
    "     file tests each argument in an attempt to classify it.  There are three sets of tests, performed in this order:\n",
    "     filesystem tests, magic tests, and language tests.  The first test that succeeds causes the file type to be printed.\n",
    "\n",
    "     The type printed will usually contain one of the words text (the file contains only printing characters and a few com‐\n",
    "     mon control characters and is probably safe to read on an ASCII terminal), executable (the file contains the result of\n",
    "     compiling a program in a form understandable to some UNIX kernel or another), or data meaning anything else (data is\n",
    "     usually “binary” or non-printable).  Exceptions are well-known file formats (core files, tar archives) that are known\n",
    "     to contain binary data.  When modifying magic files or the program itself, make sure to preserve these keywords.\n",
    "     Users depend on knowing that all the readable files in a directory have the word “text” printed.  Don't do as Berkeley\n",
    "     did and change “shell commands text” to “shell script”.\n",
    "\n",
    "```"
   ]
  },
  {
   "cell_type": "code",
   "execution_count": 4,
   "id": "4ec1c914-dec8-43ff-9aa4-d3de6228e086",
   "metadata": {},
   "outputs": [
    {
     "name": "stdout",
     "output_type": "stream",
     "text": [
      "datasets/AppleStore.csv: text/csv; charset=utf-8\n"
     ]
    }
   ],
   "source": [
    "! file -i datasets/AppleStore.csv"
   ]
  },
  {
   "cell_type": "code",
   "execution_count": 5,
   "id": "37519e37-52ee-4536-a054-cd76216acb3e",
   "metadata": {},
   "outputs": [
    {
     "name": "stdout",
     "output_type": "stream",
     "text": [
      "datasets/googleplaystore.csv: text/csv; charset=utf-8\n"
     ]
    }
   ],
   "source": [
    "! file -i datasets/googleplaystore.csv"
   ]
  },
  {
   "cell_type": "markdown",
   "id": "8c24dcd5-82e0-4ad0-be5f-5c832048956f",
   "metadata": {},
   "source": [
    "Our files have the same type of charset https://en.wikipedia.org/wiki/UTF-8.\n",
    "\n",
    "\n",
    "Quick idea:\n",
    "\n",
    "- **charset:** is the set of characters you can use.\n",
    "- **encoding:** is the way these characters are stored into memory.\n",
    "\n",
    "[source](https://stackoverflow.com/questions/2281646/whats-the-difference-between-encoding-and-charset)"
   ]
  },
  {
   "cell_type": "code",
   "execution_count": 6,
   "id": "0d7a39f5-f8d8-429e-8b87-52e006980825",
   "metadata": {},
   "outputs": [],
   "source": [
    "opened_ios = open('datasets/AppleStore.csv', encoding = 'utf8')\n",
    "opened_android = open('datasets/googleplaystore.csv', encoding = 'utf8')\n",
    "\n",
    "readed_ios = reader(opened_ios)\n",
    "readed_android = reader(opened_android)\n",
    "\n",
    "# The datasets we are going to work with\n",
    "ios = list(readed_ios) \n",
    "android = list(readed_android)"
   ]
  },
  {
   "cell_type": "markdown",
   "id": "d78ef557-c151-4d8a-a9df-3b6e46344e24",
   "metadata": {},
   "source": [
    "Separating the row corresponding to the headers from the rest of the data in both datasets"
   ]
  },
  {
   "cell_type": "code",
   "execution_count": 7,
   "id": "8a7b452f-1521-4ff8-8e23-e201692701d0",
   "metadata": {},
   "outputs": [
    {
     "data": {
      "text/plain": [
       "['id',\n",
       " 'track_name',\n",
       " 'size_bytes',\n",
       " 'currency',\n",
       " 'price',\n",
       " 'rating_count_tot',\n",
       " 'rating_count_ver',\n",
       " 'user_rating',\n",
       " 'user_rating_ver',\n",
       " 'ver',\n",
       " 'cont_rating',\n",
       " 'prime_genre',\n",
       " 'sup_devices.num',\n",
       " 'ipadSc_urls.num',\n",
       " 'lang.num',\n",
       " 'vpp_lic']"
      ]
     },
     "execution_count": 7,
     "metadata": {},
     "output_type": "execute_result"
    }
   ],
   "source": [
    "header_ios = [x for x in ios[0]]\n",
    "header_ios #Columns on AppleStore"
   ]
  },
  {
   "cell_type": "code",
   "execution_count": 8,
   "id": "7b1e41bb-bac7-4cd9-99b3-2ccef2c39059",
   "metadata": {},
   "outputs": [
    {
     "data": {
      "text/plain": [
       "['App',\n",
       " 'Category',\n",
       " 'Rating',\n",
       " 'Reviews',\n",
       " 'Size',\n",
       " 'Installs',\n",
       " 'Type',\n",
       " 'Price',\n",
       " 'Content Rating',\n",
       " 'Genres',\n",
       " 'Last Updated',\n",
       " 'Current Ver',\n",
       " 'Android Ver']"
      ]
     },
     "execution_count": 8,
     "metadata": {},
     "output_type": "execute_result"
    }
   ],
   "source": [
    "header_android = [x for x in android[0]]\n",
    "header_android #Columns on AppleStore"
   ]
  },
  {
   "cell_type": "markdown",
   "id": "8d0f3d07-da08-46f6-95f2-c0ecb8147e0d",
   "metadata": {},
   "source": [
    "Creating the Datasets `data_ios` and `data_android`"
   ]
  },
  {
   "cell_type": "code",
   "execution_count": 9,
   "id": "ad930138-e08b-43de-902c-7115af69f75c",
   "metadata": {},
   "outputs": [],
   "source": [
    "data_ios = ios[1:]\n",
    "data_android = android[1:]"
   ]
  },
  {
   "cell_type": "code",
   "execution_count": 10,
   "id": "b5c95bf8-7d51-4b86-bf6b-2fb72f6a7d22",
   "metadata": {
    "jp-MarkdownHeadingCollapsed": true
   },
   "outputs": [],
   "source": [
    "def explore_data(dataset, start, end, rows_and_columns = False):\n",
    "    offset = 1\n",
    "    cnt = 1\n",
    "    columns = len(dataset[0])\n",
    "    \n",
    "    if rows_and_columns == True:\n",
    "        print(\"\\n\")\n",
    "\n",
    "        for row in dataset[offset+start:end+offset]:\n",
    "            print(\"row:\",cnt, row)\n",
    "            print(\"\\n\")\n",
    "            cnt +=1\n",
    "            \n",
    "        print(\"columns \",columns , dataset[0])\n",
    "        print(\"\\n\")\n",
    "        print('Number of rows:', len(dataset))\n",
    "        \n",
    "    else:\n",
    "        for row in dataset[offset+start:end+offset]:\n",
    "            print(row)\n",
    "            print(\"\\n\")"
   ]
  },
  {
   "cell_type": "code",
   "execution_count": 11,
   "id": "ba2c0a48-3f16-4b7c-a32d-cb8cfd317aa9",
   "metadata": {
    "scrolled": true
   },
   "outputs": [
    {
     "name": "stdout",
     "output_type": "stream",
     "text": [
      "\n",
      "\n",
      "row: 1 ['389801252', 'Instagram', '113954816', 'USD', '0.0', '2161558', '1289', '4.5', '4.0', '10.23', '12+', 'Photo & Video', '37', '0', '29', '1']\n",
      "\n",
      "\n",
      "row: 2 ['529479190', 'Clash of Clans', '116476928', 'USD', '0.0', '2130805', '579', '4.5', '4.5', '9.24.12', '9+', 'Games', '38', '5', '18', '1']\n",
      "\n",
      "\n",
      "row: 3 ['420009108', 'Temple Run', '65921024', 'USD', '0.0', '1724546', '3842', '4.5', '4.0', '1.6.2', '9+', 'Games', '40', '5', '1', '1']\n",
      "\n",
      "\n",
      "row: 4 ['284035177', 'Pandora - Music & Radio', '130242560', 'USD', '0.0', '1126879', '3594', '4.0', '4.5', '8.4.1', '12+', 'Music', '37', '4', '1', '1']\n",
      "\n",
      "\n",
      "row: 5 ['429047995', 'Pinterest', '74778624', 'USD', '0.0', '1061624', '1814', '4.5', '4.0', '6.26', '12+', 'Social Networking', '37', '5', '27', '1']\n",
      "\n",
      "\n",
      "row: 6 ['282935706', 'Bible', '92774400', 'USD', '0.0', '985920', '5320', '4.5', '5.0', '7.5.1', '4+', 'Reference', '37', '5', '45', '1']\n",
      "\n",
      "\n",
      "row: 7 ['553834731', 'Candy Crush Saga', '222846976', 'USD', '0.0', '961794', '2453', '4.5', '4.5', '1.101.0', '4+', 'Games', '43', '5', '24', '1']\n",
      "\n",
      "\n",
      "row: 8 ['324684580', 'Spotify Music', '132510720', 'USD', '0.0', '878563', '8253', '4.5', '4.5', '8.4.3', '12+', 'Music', '37', '5', '18', '1']\n",
      "\n",
      "\n",
      "row: 9 ['343200656', 'Angry Birds', '175966208', 'USD', '0.0', '824451', '107', '4.5', '3.0', '7.4.0', '4+', 'Games', '38', '0', '10', '1']\n",
      "\n",
      "\n",
      "row: 10 ['512939461', 'Subway Surfers', '156038144', 'USD', '0.0', '706110', '97', '4.5', '4.0', '1.72.1', '9+', 'Games', '38', '5', '1', '1']\n",
      "\n",
      "\n",
      "columns  16 ['284882215', 'Facebook', '389879808', 'USD', '0.0', '2974676', '212', '3.5', '3.5', '95.0', '4+', 'Social Networking', '37', '1', '29', '1']\n",
      "\n",
      "\n",
      "Number of rows: 7197\n"
     ]
    }
   ],
   "source": [
    "explore_data(data_ios, 0, 10, True)"
   ]
  },
  {
   "cell_type": "code",
   "execution_count": 12,
   "id": "2b3e5f5e-5866-4a2a-81ce-b57bf7ad4e7a",
   "metadata": {
    "scrolled": true
   },
   "outputs": [
    {
     "name": "stdout",
     "output_type": "stream",
     "text": [
      "\n",
      "\n",
      "row: 1 ['Coloring book moana', 'ART_AND_DESIGN', '3.9', '967', '14M', '500,000+', 'Free', '0', 'Everyone', 'Art & Design;Pretend Play', 'January 15, 2018', '2.0.0', '4.0.3 and up']\n",
      "\n",
      "\n",
      "row: 2 ['U Launcher Lite – FREE Live Cool Themes, Hide Apps', 'ART_AND_DESIGN', '4.7', '87510', '8.7M', '5,000,000+', 'Free', '0', 'Everyone', 'Art & Design', 'August 1, 2018', '1.2.4', '4.0.3 and up']\n",
      "\n",
      "\n",
      "row: 3 ['Sketch - Draw & Paint', 'ART_AND_DESIGN', '4.5', '215644', '25M', '50,000,000+', 'Free', '0', 'Teen', 'Art & Design', 'June 8, 2018', 'Varies with device', '4.2 and up']\n",
      "\n",
      "\n",
      "row: 4 ['Pixel Draw - Number Art Coloring Book', 'ART_AND_DESIGN', '4.3', '967', '2.8M', '100,000+', 'Free', '0', 'Everyone', 'Art & Design;Creativity', 'June 20, 2018', '1.1', '4.4 and up']\n",
      "\n",
      "\n",
      "row: 5 ['Paper flowers instructions', 'ART_AND_DESIGN', '4.4', '167', '5.6M', '50,000+', 'Free', '0', 'Everyone', 'Art & Design', 'March 26, 2017', '1.0', '2.3 and up']\n",
      "\n",
      "\n",
      "row: 6 ['Smoke Effect Photo Maker - Smoke Editor', 'ART_AND_DESIGN', '3.8', '178', '19M', '50,000+', 'Free', '0', 'Everyone', 'Art & Design', 'April 26, 2018', '1.1', '4.0.3 and up']\n",
      "\n",
      "\n",
      "row: 7 ['Infinite Painter', 'ART_AND_DESIGN', '4.1', '36815', '29M', '1,000,000+', 'Free', '0', 'Everyone', 'Art & Design', 'June 14, 2018', '6.1.61.1', '4.2 and up']\n",
      "\n",
      "\n",
      "row: 8 ['Garden Coloring Book', 'ART_AND_DESIGN', '4.4', '13791', '33M', '1,000,000+', 'Free', '0', 'Everyone', 'Art & Design', 'September 20, 2017', '2.9.2', '3.0 and up']\n",
      "\n",
      "\n",
      "row: 9 ['Kids Paint Free - Drawing Fun', 'ART_AND_DESIGN', '4.7', '121', '3.1M', '10,000+', 'Free', '0', 'Everyone', 'Art & Design;Creativity', 'July 3, 2018', '2.8', '4.0.3 and up']\n",
      "\n",
      "\n",
      "row: 10 ['Text on Photo - Fonteee', 'ART_AND_DESIGN', '4.4', '13880', '28M', '1,000,000+', 'Free', '0', 'Everyone', 'Art & Design', 'October 27, 2017', '1.0.4', '4.1 and up']\n",
      "\n",
      "\n",
      "columns  13 ['Photo Editor & Candy Camera & Grid & ScrapBook', 'ART_AND_DESIGN', '4.1', '159', '19M', '10,000+', 'Free', '0', 'Everyone', 'Art & Design', 'January 7, 2018', '1.0.0', '4.0.3 and up']\n",
      "\n",
      "\n",
      "Number of rows: 10841\n"
     ]
    }
   ],
   "source": [
    "explore_data(data_android, 0, 10, True)"
   ]
  },
  {
   "cell_type": "markdown",
   "id": "0a29a845-9a77-4138-b32f-0581609d948e",
   "metadata": {},
   "source": [
    "Aparentemente parece que todo está bien."
   ]
  },
  {
   "cell_type": "markdown",
   "id": "261e0965-6b44-4ab0-a917-c201b9794521",
   "metadata": {},
   "source": [
    "### Featuring Data sets \n",
    "\n",
    "|`data_ios`|`data_android`|\n",
    "|:----|:----|\n",
    "|Number of rows: 7198| Number of rows: 10842|\n",
    "|Number of columns: 16|Number of columns: 13|\n",
    "|________________________________________________________________________________________________|_______________________________________________________________"
   ]
  },
  {
   "cell_type": "markdown",
   "id": "31deafd8-9968-46b4-8251-5812890041b0",
   "metadata": {
    "jp-MarkdownHeadingCollapsed": true
   },
   "source": [
    "### Data dictionary (`data_ios`)\n",
    "\n",
    "||Name | Description|\n",
    "|:--|:---|:--|\n",
    "|1|\"id\" : |App ID|\n",
    "|2|\"track_name\": |App Name|\n",
    "|3|\"size_bytes\": |Size (in Bytes)|\n",
    "|4|\"currency\": |Currency Type|\n",
    "|5|\"price\": |Price amount|\n",
    "|6|\"ratingcounttot\": |User Rating counts (for all version)|\n",
    "|7|\"ratingcountver\": |User Rating counts (for current version)|\n",
    "|8|\"user_rating\" : |Average User Rating value (for all version)|\n",
    "|9|\"userratingver\": |Average User Rating value (for current version)|\n",
    "|10|\"ver\" : |Latest version code|\n",
    "|11|\"cont_rating\": |Content Rating|\n",
    "|12|\"prime_genre\": |Primary Genre|\n",
    "|13|\"sup_devices.num\": |Number of supporting devices|\n",
    "|14|\"ipadSc_urls.num\": |Number of screenshots showed for display|\n",
    "|15|\"lang.num\": |Number of supported languages|\n",
    "|16|\"vpp_lic\": |Vpp Device Based Licensing Enabled|"
   ]
  },
  {
   "cell_type": "markdown",
   "id": "9f410d0f-c87b-464c-b925-7743c4fa0951",
   "metadata": {},
   "source": [
    "### Diccionario de datos de Android (`data_android`)\n",
    "\n",
    "|||\n",
    "|:--|:--|\n",
    "|**App**| Application name|\n",
    "|**Category**| Category the app belongs to|\n",
    "|**Rating**| Overall user rating of the app (as when scraped)|\n",
    "|**Reviews**| Number of user reviews for the app (as when scraped)|\n",
    "|**Size**| Size of the app (as when scraped)|\n",
    "|**Installs**| Number of user downloads/installs for the app (as when scraped)|\n",
    "|**Type**| Paid or Free|\n",
    "|**Price**| Price of the app (as when scraped)|\n",
    "|**Content Rating**| Age group the app is targeted at - Children / Mature 21+ / Adult|\n",
    "|**Genres**| An app can belong to multiple genres (apart from its main category). For eg, a musical family game will belong to Music, Game, Family genres.|\n",
    "|**Last Updated**| Date when the app was last updated on Play Store (as when scraped)|\n",
    "|**Current Ver**| Current version of the app available on Play Store (as when scraped)|\n",
    "|**Android Ver**| Min required Android version (as when scraped)|\n",
    "||_____________________________________________________________________________________________________________________|"
   ]
  },
  {
   "cell_type": "markdown",
   "id": "18fbacda-8f2b-4b43-8b56-f1d4b1a864ed",
   "metadata": {
    "jp-MarkdownHeadingCollapsed": true
   },
   "source": [
    "#### Googleplaystore.csv\n",
    "\n",
    "\n",
    "||Name | Description|\n",
    "|:--|:---|:--|\n",
    "|1 | App: |Application name|\n",
    "|2 | Category: |Category the app belongs to|\n",
    "|3 | Rating: |Overall user rating of the app (as when scraped)|\n",
    "|4 | Reviews: | Number of user reviews for the app (as when scraped)|\n",
    "|5 | Size: | Size of the app (as when scraped)|\n",
    "|6 | Installs: | Number of user downloads/installs for the app (as when scraped)|\n",
    "|7 | Type: | Paid or Free|\n",
    "|8 | Price: | Price of the app (as when scraped)|\n",
    "|9 | Content: | Rating Age group the app is targeted at - Children / Mature 21+ / Adult|\n",
    "|10 |  Genres: | An app can belong to multiple genres (apart from its main category). For eg, a musical family game will belong to Music, Game, Family genres.|"
   ]
  },
  {
   "cell_type": "markdown",
   "id": "82b9a49b-59b7-488e-b7fa-0d958b77b399",
   "metadata": {},
   "source": [
    "Here are the columns that might help us in our analysis in the quest to understand what kind of apps are likely to attract the most users:\n",
    "\n",
    "## 2. Data cleaning\n",
    "\n",
    "Once we have explored the datasets, considering that we create free applications in English, simply to download and install, we must remove the applications that are not free and those that are not in English. The next step we have to do is to perform a data cleansing before the analysis, which involves:\n",
    "\n",
    "- 1. **Detect inaccurate data, and correct or remove it**.\n",
    "\n",
    "- 2. **Detect duplicate data, and remove the duplicates**.\n",
    "\n",
    "- 3. **Remove non-English apps like 爱奇艺PPS -《欢乐颂2》电视剧热播**.\n",
    "\n",
    "- 4. **Remove apps that aren't free##**.\n",
    "\n",
    "<br>\n",
    "\n",
    "**Detect inaccurate data... remove it.**\n",
    "\n",
    "The Google Play dataset has a dedicated [discussion section](https://www.kaggle.com/datasets/lava18/google-play-store-apps/discussion?sort=votes), and we can see that [one of the discussions](https://www.kaggle.com/datasets/lava18/google-play-store-apps/discussion/66015) describes an error for a certain row.\n",
    "\n",
    "If the number of columns in a row varies then some data is missing.\n",
    "\n",
    "<br>\n",
    "\n",
    "This function `field_number` has a pair of parameters `dataset`, `header` in which we enter the dataset and the header.\n",
    "\n",
    "The passage of each row compare the number of fields with the number of fields in header if they do not coincide then in that line **some type of data is missing**."
   ]
  },
  {
   "cell_type": "code",
   "execution_count": 13,
   "id": "694d2504-67a0-433e-b21a-d744e1704279",
   "metadata": {},
   "outputs": [],
   "source": [
    "def field_number(dataset):\n",
    "    index_number = 0\n",
    "    header = len(dataset[0]) \n",
    "    for row in range(len(dataset)):\n",
    "        if len(dataset[row]) != header:\n",
    "            print(dataset[row])\n",
    "            print(\"\\n\")\n",
    "            print(\"error in index number: \",index_number)\n",
    "            print(\"number of columns has an error: \",len(dataset[row]))\n",
    "        index_number +=1"
   ]
  },
  {
   "cell_type": "code",
   "execution_count": 14,
   "id": "380132f8-022e-4b49-8b29-537f0dc044a8",
   "metadata": {},
   "outputs": [],
   "source": [
    "field_number(data_ios)"
   ]
  },
  {
   "cell_type": "markdown",
   "id": "fb54ed1e-8e03-4b69-a401-0e6dff599b0e",
   "metadata": {},
   "source": [
    "En el dataset `data_ios` no tenemos ningun problema con las columnas."
   ]
  },
  {
   "cell_type": "code",
   "execution_count": 15,
   "id": "4aa3defa-dd72-4057-afec-1e9518805121",
   "metadata": {},
   "outputs": [
    {
     "data": {
      "text/plain": [
       "['Life Made WI-Fi Touchscreen Photo Frame',\n",
       " '1.9',\n",
       " '19',\n",
       " '3.0M',\n",
       " '1,000+',\n",
       " 'Free',\n",
       " '0',\n",
       " 'Everyone',\n",
       " '',\n",
       " 'February 11, 2018',\n",
       " '1.0.19',\n",
       " '4.0 and up']"
      ]
     },
     "execution_count": 15,
     "metadata": {},
     "output_type": "execute_result"
    }
   ],
   "source": [
    "data_android[10472]"
   ]
  },
  {
   "cell_type": "code",
   "execution_count": 16,
   "id": "8d5fb33c-eae4-4ab1-afaa-fc488f4f2688",
   "metadata": {},
   "outputs": [
    {
     "name": "stdout",
     "output_type": "stream",
     "text": [
      "['Life Made WI-Fi Touchscreen Photo Frame', '1.9', '19', '3.0M', '1,000+', 'Free', '0', 'Everyone', '', 'February 11, 2018', '1.0.19', '4.0 and up']\n",
      "\n",
      "\n",
      "error in index number:  10472\n",
      "number of columns has an error:  12\n"
     ]
    }
   ],
   "source": [
    "field_number(data_android)"
   ]
  },
  {
   "cell_type": "code",
   "execution_count": 17,
   "id": "3751362b-2336-4c90-b3c7-c46313b9d8b4",
   "metadata": {},
   "outputs": [
    {
     "data": {
      "text/plain": [
       "12"
      ]
     },
     "execution_count": 17,
     "metadata": {},
     "output_type": "execute_result"
    }
   ],
   "source": [
    "len(data_android[10472])"
   ]
  },
  {
   "cell_type": "markdown",
   "id": "6d47e7fb-0a01-49c2-917a-6df8ce18b9ba",
   "metadata": {},
   "source": [
    "We can check that the number of columns in this row `10472` is less than the number of columns in the header, so let's delete this row from our dataset."
   ]
  },
  {
   "cell_type": "code",
   "execution_count": 18,
   "id": "e6962fbf-cc6d-40e6-86b2-d301483219d9",
   "metadata": {},
   "outputs": [],
   "source": [
    "del data_android[10472]"
   ]
  },
  {
   "cell_type": "markdown",
   "id": "61bece4f-6362-4d01-b5f8-6c2aaca517eb",
   "metadata": {},
   "source": [
    "Checking if row has been removed properlly."
   ]
  },
  {
   "cell_type": "code",
   "execution_count": 19,
   "id": "7c00de80-26bb-46a6-a8b8-93cefe517d45",
   "metadata": {},
   "outputs": [
    {
     "data": {
      "text/plain": [
       "['osmino Wi-Fi: free WiFi',\n",
       " 'TOOLS',\n",
       " '4.2',\n",
       " '134203',\n",
       " '4.1M',\n",
       " '10,000,000+',\n",
       " 'Free',\n",
       " '0',\n",
       " 'Everyone',\n",
       " 'Tools',\n",
       " 'August 7, 2018',\n",
       " '6.06.14',\n",
       " '4.4 and up']"
      ]
     },
     "execution_count": 19,
     "metadata": {},
     "output_type": "execute_result"
    }
   ],
   "source": [
    "data_android[10472]"
   ]
  },
  {
   "cell_type": "markdown",
   "id": "4641a420-dfee-4873-9895-343fc5df664f",
   "metadata": {
    "editable": true,
    "slideshow": {
     "slide_type": ""
    },
    "tags": []
   },
   "source": [
    "#### yes ...It has been removed\n",
    "\n",
    "### Detect duplicate data, and remove the duplicates\n",
    "\n",
    "We have already checked that there is a coherence between the columns and columns of each of the rows of both datasets, so we must check the existence of applications with the repeated name. So let's check if this is true in both datasets:\n",
    "\n",
    "`for` is running through each row extracting the name of the application.\n",
    "\n",
    "- Checking if it already exists or not.\n",
    "\n",
    "- if not exist then the name is inserted in `unique_apps` else is inserted into `duplicate_apps`."
   ]
  },
  {
   "cell_type": "code",
   "execution_count": 20,
   "id": "7a360fdf-f50f-498d-9227-797e0cbae825",
   "metadata": {},
   "outputs": [],
   "source": [
    "def detect_duplicated(dataset):\n",
    "    duplicate_apps = []\n",
    "    unique_apps = []\n",
    "    \n",
    "    for app in dataset:\n",
    "        name = app[0]\n",
    "        if name in unique_apps:\n",
    "            duplicate_apps.append(name)\n",
    "        else:\n",
    "            unique_apps.append(name)\n",
    "    if len(duplicate_apps) == 0:\n",
    "        print(\"In this dataset there are no duplicate apps\")\n",
    "    else:\n",
    "        times=len(duplicate_apps)\n",
    "        print(\"There are {reapeated} repeated apps\".format(reapeated=times,dataset=dataset))\n",
    "        print(\"\\n\")\n",
    "        print('Examples of duplicate apps:',\"\\n\"+\"\\n\" , duplicate_apps[:25])"
   ]
  },
  {
   "cell_type": "code",
   "execution_count": 21,
   "id": "4826456f-ce3a-4468-b209-8811385811f9",
   "metadata": {},
   "outputs": [
    {
     "name": "stdout",
     "output_type": "stream",
     "text": [
      "In this dataset there are no duplicate apps\n"
     ]
    }
   ],
   "source": [
    "detect_duplicated(data_ios)"
   ]
  },
  {
   "cell_type": "code",
   "execution_count": 22,
   "id": "8de9c726-75e0-4cc4-b8ee-336fb5b59693",
   "metadata": {},
   "outputs": [
    {
     "name": "stdout",
     "output_type": "stream",
     "text": [
      "There are 1181 repeated apps\n",
      "\n",
      "\n",
      "Examples of duplicate apps: \n",
      "\n",
      " ['Quick PDF Scanner + OCR FREE', 'Box', 'Google My Business', 'ZOOM Cloud Meetings', 'join.me - Simple Meetings', 'Box', 'Zenefits', 'Google Ads', 'Google My Business', 'Slack', 'FreshBooks Classic', 'Insightly CRM', 'QuickBooks Accounting: Invoicing & Expenses', 'HipChat - Chat Built for Teams', 'Xero Accounting Software', 'MailChimp - Email, Marketing Automation', 'Crew - Free Messaging and Scheduling', 'Asana: organize team projects', 'Google Analytics', 'AdWords Express', 'Accounting App - Zoho Books', 'Invoice & Time Tracking - Zoho', 'join.me - Simple Meetings', 'Invoice 2go — Professional Invoices and Estimates', 'SignEasy | Sign and Fill PDF and other Documents']\n"
     ]
    }
   ],
   "source": [
    "detect_duplicated(data_android)"
   ]
  },
  {
   "cell_type": "markdown",
   "id": "bcb4329a-4612-458b-96f0-791442ad4796",
   "metadata": {},
   "source": [
    "This list that has appeared shows an example of the `1181` repeated applications that are in the dataset, but that does not mean that they are duplicates, there are some that are even quadrupled. \n",
    "\n",
    "<br>\n",
    "\n",
    "By entering in this piece of code the applications that appeared as repeated in the previous cell we can get an idea of what it looks like.\n",
    "\n",
    "### 2.3 What differentiates duplicate applications?\n",
    "\n",
    "If we take one of this as an example of a repeated application, we see that out of all the fields that make up the row **there is only one that differs**.\n",
    "\n",
    "Once we have verified that there are many applications (some) repeated more than once, the next step would be to determine which criterion to follow for removing the applications:\n",
    "\n",
    "In this case, the criterion has been: **the application with the higher number of reviews should have the most recent data**.\""
   ]
  },
  {
   "cell_type": "code",
   "execution_count": 23,
   "id": "ab7fc008-8b60-4607-bac7-4295c511dd01",
   "metadata": {
    "editable": true,
    "slideshow": {
     "slide_type": ""
    },
    "tags": []
   },
   "outputs": [
    {
     "name": "stdout",
     "output_type": "stream",
     "text": [
      "['Quick PDF Scanner + OCR FREE', 'BUSINESS', '4.2', '80805', 'Varies with device', '5,000,000+', 'Free', '0', 'Everyone', 'Business', 'February 26, 2018', 'Varies with device', '4.0.3 and up']\n",
      "['Quick PDF Scanner + OCR FREE', 'BUSINESS', '4.2', '80805', 'Varies with device', '5,000,000+', 'Free', '0', 'Everyone', 'Business', 'February 26, 2018', 'Varies with device', '4.0.3 and up']\n",
      "['Quick PDF Scanner + OCR FREE', 'BUSINESS', '4.2', '80804', 'Varies with device', '5,000,000+', 'Free', '0', 'Everyone', 'Business', 'February 26, 2018', 'Varies with device', '4.0.3 and up']\n"
     ]
    }
   ],
   "source": [
    "for app in data_android[1:]:\n",
    "    if app[0] == 'Quick PDF Scanner + OCR FREE':\n",
    "        print(app)"
   ]
  },
  {
   "cell_type": "code",
   "execution_count": 24,
   "id": "1f1c45d9-9869-44e4-9980-cd8e82c3f3dd",
   "metadata": {
    "editable": true,
    "slideshow": {
     "slide_type": ""
    },
    "tags": []
   },
   "outputs": [
    {
     "name": "stdout",
     "output_type": "stream",
     "text": [
      "['MailChimp - Email, Marketing Automation', 'BUSINESS', '4.1', '5448', '12M', '500,000+', 'Free', '0', 'Everyone', 'Business', 'July 25, 2018', '4.9.1', '5.0 and up']\n",
      "['MailChimp - Email, Marketing Automation', 'BUSINESS', '4.1', '5448', '12M', '500,000+', 'Free', '0', 'Everyone', 'Business', 'July 25, 2018', '4.9.1', '5.0 and up']\n"
     ]
    }
   ],
   "source": [
    "for app in data_android[1:]:\n",
    "    if app[0] == 'MailChimp - Email, Marketing Automation':\n",
    "        print(app)"
   ]
  },
  {
   "cell_type": "markdown",
   "id": "ba9b77a7-555b-4f32-92ca-00801563d07a",
   "metadata": {
    "editable": true,
    "slideshow": {
     "slide_type": ""
    },
    "tags": []
   },
   "source": [
    "Once we have verified that there are applications (many) repeated more than once, the next step would be to determine what criteria to follow to remove the applications:\n",
    "\n",
    "In this case, the criterion has been:\n",
    "\n",
    "- **The higher the number of reviews, the more recent the data should be!** \n",
    "\n",
    "<br> \n",
    ", instead of eliminating random duplicates we will only keep those applications that are repeated and have the highest number of reviews, they will be the ones that will prevail in our dataset, the others will be eliminated.\n",
    "\n",
    "This function takes a dataset (usually a list of lists) and creates a dictionary where the key is the name of the app and the value is the maximum number of reviews associated with that app."
   ]
  },
  {
   "cell_type": "code",
   "execution_count": 25,
   "id": "a26f819c-85a7-4d95-a18e-52556748b90f",
   "metadata": {},
   "outputs": [],
   "source": [
    "def uniq_apps_top_reviews(dataset):  # diccionario con el nombre de las aplicaciones con su máximo review\n",
    "    reviews_max = {} #key=name[0], value=review[3]\n",
    "    \n",
    "    for app in dataset: # No tengo que tener en cuenta la fila de las columnas\n",
    "        name = app[0]\n",
    "        n_reviews = float(app[3]) # porque si lo hiciera tendría un error al convertir a float \n",
    "                                  # pero esto me deja el dataset sin nombres de columnas! Debo hacer lo mismo en el de Apple.  \n",
    "        \n",
    "        if name in reviews_max and reviews_max[name] < n_reviews:\n",
    "            reviews_max[name] = n_reviews\n",
    "            \n",
    "        elif name is not reviews_max:\n",
    "            reviews_max[name] = n_reviews\n",
    "    \n",
    "    print('length of the dictionary:',len(reviews_max))\n",
    "    return reviews_max"
   ]
  },
  {
   "cell_type": "markdown",
   "id": "c96b8e6f-9086-4fe3-85f7-a83d6b81eb53",
   "metadata": {},
   "source": [
    "We have created a dictionary name `dicty` containing the name of the apps with the highest number of reviews"
   ]
  },
  {
   "cell_type": "code",
   "execution_count": 26,
   "id": "18884a8e-4fe4-46dc-abca-c826a1884837",
   "metadata": {
    "editable": true,
    "slideshow": {
     "slide_type": ""
    },
    "tags": []
   },
   "outputs": [
    {
     "name": "stdout",
     "output_type": "stream",
     "text": [
      "length of the dictionary: 9659\n"
     ]
    }
   ],
   "source": [
    "dicty = uniq_apps_top_reviews(data_android)"
   ]
  },
  {
   "cell_type": "markdown",
   "id": "a93997c8-62aa-47d8-8d6c-e2c8ad9fee07",
   "metadata": {},
   "source": [
    "This function takes a dataset and a dictionary as inputs. It filters the dataset to include only those entries where the number of reviews matches the maximum number of reviews for that application, based on the dictionary. "
   ]
  },
  {
   "cell_type": "code",
   "execution_count": 27,
   "id": "d64c8eea-f2e7-4d9f-a4c5-413d8a6f654d",
   "metadata": {},
   "outputs": [],
   "source": [
    "def rev_apps(dataset, dict):\n",
    "    android_clean = []\n",
    "    already_added = []\n",
    "    for app in dataset:\n",
    "        name = app[0]\n",
    "        n_reviews = float(app[3])\n",
    "        \n",
    "        if ((dict[name] == n_reviews) and (name not in already_added)):\n",
    "            android_clean.append(app)\n",
    "            already_added.append(name)\n",
    "    \n",
    "    return android_clean"
   ]
  },
  {
   "cell_type": "code",
   "execution_count": 28,
   "id": "e067769e-d716-4eef-9b8a-0c62bd886553",
   "metadata": {},
   "outputs": [],
   "source": [
    "android_clean = rev_apps(data_android,dicty) # cleaning all dataset"
   ]
  },
  {
   "cell_type": "markdown",
   "id": "2e0059f1-e3a2-42c4-8378-167bfd0da8f2",
   "metadata": {},
   "source": [
    "Once we have cleaned the dataset, we will check the absence of repeated applications in both datasets, just for be sure"
   ]
  },
  {
   "cell_type": "code",
   "execution_count": 29,
   "id": "cc6800c2-173a-4642-9211-562673d939d8",
   "metadata": {},
   "outputs": [
    {
     "name": "stdout",
     "output_type": "stream",
     "text": [
      "In this dataset there are no duplicate apps\n"
     ]
    }
   ],
   "source": [
    "detect_duplicated(android_clean)"
   ]
  },
  {
   "cell_type": "code",
   "execution_count": 30,
   "id": "c618e27c-d08c-4345-bf25-c34260023c7e",
   "metadata": {},
   "outputs": [
    {
     "name": "stdout",
     "output_type": "stream",
     "text": [
      "9659\n"
     ]
    }
   ],
   "source": [
    "print(len(android_clean))"
   ]
  },
  {
   "cell_type": "code",
   "execution_count": 31,
   "id": "9ad57885-59fb-40aa-9ae0-cd06fdc80143",
   "metadata": {},
   "outputs": [
    {
     "name": "stdout",
     "output_type": "stream",
     "text": [
      "7197\n"
     ]
    }
   ],
   "source": [
    "print(len(data_ios))"
   ]
  },
  {
   "cell_type": "markdown",
   "id": "7e42f8cc-b028-41fa-9b27-0b95bcaac55c",
   "metadata": {},
   "source": [
    "We update the status of the datasets\n",
    "|`data_ios`|`android_clean`|\n",
    "|:----|:----|\n",
    "|Number of rows: 7197| Number of rows: 9659|\n",
    "|Number of columns: 16|Number of columns: 13|\n",
    "|________________________________________________________________________________________________|_______________________________________________________________|"
   ]
  },
  {
   "cell_type": "markdown",
   "id": "58437957-b20a-4249-adf7-54818973658a",
   "metadata": {},
   "source": [
    "Now we have a new dataset for android with **9659** different apps in different languages, so now what we're going to do is filter those apps."
   ]
  },
  {
   "cell_type": "markdown",
   "id": "87fb1646-f872-4c2a-8a7e-2dbd80be462c",
   "metadata": {},
   "source": [
    "### Removing Non-English Apps\n",
    "\n",
    "1. **General Objective**: Our company develops applications in English and we are interested in analyzing only those applications aimed at an English-speaking audience.\n",
    "\n",
    "2. **Identified Problem**: Upon examining the data, we have found that some application names suggest they are not intended for an English-speaking audience. This is often due to the presence of symbols or characters that are not commonly used in English text.\n",
    "\n",
    "3. **Proposed Strategy**: To address this problem, we will remove all applications whose names contain symbols that are not typically used in English. These symbols include letters from other alphabets, punctuation marks (., !, ?, ;), and other non-alphabetic characters such as (+, *, /).\n",
    "\n",
    "4. **Detailed Method**:\n",
    "   - Each character (letter, number, dot, comma, etc.) has a corresponding number that can be obtained using the built-in function `ord()`.\n",
    "   - For example, the character \"a\" corresponds to 97, \"A\" corresponds to 65, and any other non-alphabetic character might have a different value (for instance, \"爱\" is 29.233).\n",
    "\n",
    "   - We will use the `ord()` function to get the numerical value of each character in a string.\n",
    "   - If a character has a number that falls outside the common range for English characters (i.e., not within the range 65-90 for uppercase and 97-122 for lowercase), we will remove that application.\n",
    "\n",
    "In summary, our strategy is:\n",
    "- Use `ord()` to get the numerical value of each character in the names of the applications.\n",
    "- Compare this value with the common range of values for English characters (65-90 for uppercase and 97-122 for lowercase).\n",
    "- Remove any applications whose names contain at least one character outside this range.\n",
    "\n",
    "This strategy will ensure that we only analyze applications with names clearly in English."
   ]
  },
  {
   "cell_type": "markdown",
   "id": "0d910a70-3015-40de-be4c-06dea82611c8",
   "metadata": {},
   "source": [
    "### Code Explanation\n",
    "\n",
    "The function `english_speak(text)` checks if a given text is primarily composed of English characters. It does this by:\n",
    "1. **Checking Each Character**: For each character in the input text.\n",
    "2. **Determining Ordinal Value**: Using the `ord()` function to get the ordinal value of each character.\n",
    "3. **Marking Non-English Characters**: If the ordinal value is greater than 127, it marks that character as non-English.\n",
    "4. **Returning Result**:\n",
    "   - Returns `False` if there are more than two non-English characters.\n",
    "   - Returns `True` otherwise.\n",
    "\n",
    "### Examples\n",
    "\n",
    "#### Example 1: \"hello\"\n",
    "- Each character is checked: `'h'`, `'e'`, `'l'`, `'l'`, `'o'`.\n",
    "- All characters have ordinal values between 33 and 126, so it returns `True`.\n",
    "\n",
    "#### Example 2: \"¡hola\"\n",
    "- Each character is checked: `'¡'`, `'h'`, `'o'`, `'l'`, `'a'`.\n",
    "- `'¡'` has an ordinal value of 161 (greater than 127), so it is marked as non-English.\n",
    "- Only one character is marked, so it returns `True`.\n",
    "\n",
    "#### Example 3: \"我爱你\"\n",
    "- Each character is checked: `'我'`, `'爱'`, `'你'`.\n",
    "- Both `'我'` and `'爱'` have ordinal values greater than 127, so they are marked as non-English.\n",
    "- More than two characters are marked, so it returns `False`.\n",
    "\n",
    "### Summary\n",
    "\n",
    "- The function checks if there are more than two non-English characters in the text.\n",
    "- If there are more than two, it returns `False`.\n",
    "- Otherwise, it returns `True`.\n",
    "\n",
    "This way, the function ensures that only texts with primarily English characters are considered."
   ]
  },
  {
   "cell_type": "code",
   "execution_count": 32,
   "id": "79c0d0f8-07f2-4930-8155-e9d783e4d9a8",
   "metadata": {},
   "outputs": [],
   "source": [
    "def english_speak(text):\n",
    "    non_validchar = [] #aux list\n",
    "    for character in text:\n",
    "        valor_character = ord(character)\n",
    "        if valor_character > 127:\n",
    "            non_validchar.append(valor_character)\n",
    "    if len(non_validchar) >= 3:\n",
    "        return False\n",
    "    else:\n",
    "        return True"
   ]
  },
  {
   "cell_type": "markdown",
   "id": "5284f55d-a7df-4281-af7f-b1515572627e",
   "metadata": {},
   "source": [
    "Recordamos en que indice tanto android como ios tienen los indices que corresponden a los nombres"
   ]
  },
  {
   "cell_type": "code",
   "execution_count": 33,
   "id": "b123845b-e7c2-4174-b8dc-bd5aab8558b0",
   "metadata": {},
   "outputs": [
    {
     "data": {
      "text/plain": [
       "True"
      ]
     },
     "execution_count": 33,
     "metadata": {},
     "output_type": "execute_result"
    }
   ],
   "source": [
    "english_speak('Docs To Go™ Free Office Suite')"
   ]
  },
  {
   "cell_type": "code",
   "execution_count": 34,
   "id": "47e85d07-7e3a-4f67-a208-005657795aad",
   "metadata": {},
   "outputs": [
    {
     "data": {
      "text/plain": [
       "True"
      ]
     },
     "execution_count": 34,
     "metadata": {},
     "output_type": "execute_result"
    }
   ],
   "source": [
    "english_speak('Instachat 😜 😜')"
   ]
  },
  {
   "cell_type": "code",
   "execution_count": 35,
   "id": "4479a76c-7047-454e-97d0-230e01329144",
   "metadata": {},
   "outputs": [
    {
     "data": {
      "text/plain": [
       "False"
      ]
     },
     "execution_count": 35,
     "metadata": {},
     "output_type": "execute_result"
    }
   ],
   "source": [
    "english_speak('爱奇艺PPS -《欢乐颂2》电视剧热播')"
   ]
  },
  {
   "cell_type": "code",
   "execution_count": 36,
   "id": "b0e0170f-c3bf-4e51-b51d-37a632b1cc76",
   "metadata": {},
   "outputs": [
    {
     "data": {
      "text/plain": [
       "False"
      ]
     },
     "execution_count": 36,
     "metadata": {},
     "output_type": "execute_result"
    }
   ],
   "source": [
    "english_speak('Instachat 😜 😜 😜')"
   ]
  },
  {
   "cell_type": "markdown",
   "id": "b4e09b80-4c89-4c22-a5d5-a2e557809b90",
   "metadata": {},
   "source": [
    "### Filter non-English applications from both datasets"
   ]
  },
  {
   "cell_type": "code",
   "execution_count": 37,
   "id": "6807ca20-f7b4-46ff-a040-b4e9b64728dd",
   "metadata": {},
   "outputs": [],
   "source": [
    "def cleaning_dataset(dataset):\n",
    "    list_clean = []\n",
    "    for row in dataset[1:]:\n",
    "        name = row[1]\n",
    "        if english_speak(name):\n",
    "            list_clean.append(row)\n",
    "        else:\n",
    "            pass\n",
    "    return list_clean"
   ]
  },
  {
   "cell_type": "code",
   "execution_count": 38,
   "id": "3365cafa-1155-490b-8a4c-35891bd153ea",
   "metadata": {},
   "outputs": [],
   "source": [
    "# Android\n",
    "\n",
    "clean_android = cleaning_dataset(android_clean)"
   ]
  },
  {
   "cell_type": "code",
   "execution_count": 39,
   "id": "61c261e0-4a4f-4107-b7e4-00e92ba63fe6",
   "metadata": {},
   "outputs": [],
   "source": [
    "# AppleStore\n",
    "\n",
    "clean_ios = cleaning_dataset(data_ios)"
   ]
  },
  {
   "cell_type": "markdown",
   "id": "4a7bc6ad-b2c2-46e2-becb-ff94ec7b5d93",
   "metadata": {},
   "source": [
    "### 2.6 Exploring datasets and see how many rows we have left for each dataset.\n",
    "\n",
    "In each cleaning process we have put different names to our dataset variables so it is important to take them into account"
   ]
  },
  {
   "cell_type": "code",
   "execution_count": 40,
   "id": "436adb35-d900-4026-b2af-cb4faec8d578",
   "metadata": {},
   "outputs": [
    {
     "name": "stdout",
     "output_type": "stream",
     "text": [
      "\n",
      "\n",
      "row: 1 ['529479190', 'Clash of Clans', '116476928', 'USD', '0.0', '2130805', '579', '4.5', '4.5', '9.24.12', '9+', 'Games', '38', '5', '18', '1']\n",
      "\n",
      "\n",
      "row: 2 ['420009108', 'Temple Run', '65921024', 'USD', '0.0', '1724546', '3842', '4.5', '4.0', '1.6.2', '9+', 'Games', '40', '5', '1', '1']\n",
      "\n",
      "\n",
      "row: 3 ['284035177', 'Pandora - Music & Radio', '130242560', 'USD', '0.0', '1126879', '3594', '4.0', '4.5', '8.4.1', '12+', 'Music', '37', '4', '1', '1']\n",
      "\n",
      "\n",
      "row: 4 ['429047995', 'Pinterest', '74778624', 'USD', '0.0', '1061624', '1814', '4.5', '4.0', '6.26', '12+', 'Social Networking', '37', '5', '27', '1']\n",
      "\n",
      "\n",
      "row: 5 ['282935706', 'Bible', '92774400', 'USD', '0.0', '985920', '5320', '4.5', '5.0', '7.5.1', '4+', 'Reference', '37', '5', '45', '1']\n",
      "\n",
      "\n",
      "columns  16 ['389801252', 'Instagram', '113954816', 'USD', '0.0', '2161558', '1289', '4.5', '4.0', '10.23', '12+', 'Photo & Video', '37', '0', '29', '1']\n",
      "\n",
      "\n",
      "Number of rows: 6154\n"
     ]
    }
   ],
   "source": [
    "explore_data(clean_ios, 0, 5, True)"
   ]
  },
  {
   "cell_type": "code",
   "execution_count": 41,
   "id": "8addfead-5c52-43bd-a0fa-b088ee4b672c",
   "metadata": {},
   "outputs": [
    {
     "name": "stdout",
     "output_type": "stream",
     "text": [
      "\n",
      "\n",
      "row: 1 ['Sketch - Draw & Paint', 'ART_AND_DESIGN', '4.5', '215644', '25M', '50,000,000+', 'Free', '0', 'Teen', 'Art & Design', 'June 8, 2018', 'Varies with device', '4.2 and up']\n",
      "\n",
      "\n",
      "row: 2 ['Pixel Draw - Number Art Coloring Book', 'ART_AND_DESIGN', '4.3', '967', '2.8M', '100,000+', 'Free', '0', 'Everyone', 'Art & Design;Creativity', 'June 20, 2018', '1.1', '4.4 and up']\n",
      "\n",
      "\n",
      "row: 3 ['Paper flowers instructions', 'ART_AND_DESIGN', '4.4', '167', '5.6M', '50,000+', 'Free', '0', 'Everyone', 'Art & Design', 'March 26, 2017', '1.0', '2.3 and up']\n",
      "\n",
      "\n",
      "row: 4 ['Smoke Effect Photo Maker - Smoke Editor', 'ART_AND_DESIGN', '3.8', '178', '19M', '50,000+', 'Free', '0', 'Everyone', 'Art & Design', 'April 26, 2018', '1.1', '4.0.3 and up']\n",
      "\n",
      "\n",
      "row: 5 ['Infinite Painter', 'ART_AND_DESIGN', '4.1', '36815', '29M', '1,000,000+', 'Free', '0', 'Everyone', 'Art & Design', 'June 14, 2018', '6.1.61.1', '4.2 and up']\n",
      "\n",
      "\n",
      "columns  13 ['U Launcher Lite – FREE Live Cool Themes, Hide Apps', 'ART_AND_DESIGN', '4.7', '87510', '8.7M', '5,000,000+', 'Free', '0', 'Everyone', 'Art & Design', 'August 1, 2018', '1.2.4', '4.0.3 and up']\n",
      "\n",
      "\n",
      "Number of rows: 9658\n"
     ]
    }
   ],
   "source": [
    "explore_data(clean_android, 0, 5, True)"
   ]
  },
  {
   "cell_type": "markdown",
   "id": "2f246174-0845-47b2-b1db-f0be16099156",
   "metadata": {},
   "source": [
    "We update the status of the datasets\n",
    "|`clean_ios`|`clean_android`|\n",
    "|:----|:----|\n",
    "|Number of rows: 9658| Number of rows: 6155|\n",
    "|Number of columns: 16|Number of columns: 13|\n",
    "|________________________________________________________________________________________________|_______________________________________________________________|"
   ]
  },
  {
   "cell_type": "markdown",
   "id": "dbf7b677-4a35-47cd-bd82-50a88ec52a2b",
   "metadata": {},
   "source": [
    "### 3. Isolating Free Apps\n",
    "\n",
    "\n",
    "To isolate only free apps from our datasets and check how many apps we have left for analysis, we need to determine **which number** of column indicates whether an app is free or paid. Then, we will see the length of each dataset to know the exact number of free apps"
   ]
  },
  {
   "cell_type": "code",
   "execution_count": 42,
   "id": "df250ed1-2a52-4512-b257-63dc05fdc93c",
   "metadata": {},
   "outputs": [],
   "source": [
    "def column_number(dataset):\n",
    "    return [f\"{x} = {i}\" for i, x in enumerate(dataset)]"
   ]
  },
  {
   "cell_type": "code",
   "execution_count": 43,
   "id": "68fe4fce-da55-4418-aba2-8d2292df257e",
   "metadata": {},
   "outputs": [
    {
     "data": {
      "text/plain": [
       "['id = 0',\n",
       " 'track_name = 1',\n",
       " 'size_bytes = 2',\n",
       " 'currency = 3',\n",
       " 'price = 4',\n",
       " 'rating_count_tot = 5',\n",
       " 'rating_count_ver = 6',\n",
       " 'user_rating = 7',\n",
       " 'user_rating_ver = 8',\n",
       " 'ver = 9',\n",
       " 'cont_rating = 10',\n",
       " 'prime_genre = 11',\n",
       " 'sup_devices.num = 12',\n",
       " 'ipadSc_urls.num = 13',\n",
       " 'lang.num = 14',\n",
       " 'vpp_lic = 15']"
      ]
     },
     "execution_count": 43,
     "metadata": {},
     "output_type": "execute_result"
    }
   ],
   "source": [
    "column_number(header_ios)"
   ]
  },
  {
   "cell_type": "code",
   "execution_count": 44,
   "id": "c181ed08-a351-43f0-bccc-55fd78170edf",
   "metadata": {},
   "outputs": [
    {
     "data": {
      "text/plain": [
       "['App = 0',\n",
       " 'Category = 1',\n",
       " 'Rating = 2',\n",
       " 'Reviews = 3',\n",
       " 'Size = 4',\n",
       " 'Installs = 5',\n",
       " 'Type = 6',\n",
       " 'Price = 7',\n",
       " 'Content Rating = 8',\n",
       " 'Genres = 9',\n",
       " 'Last Updated = 10',\n",
       " 'Current Ver = 11',\n",
       " 'Android Ver = 12']"
      ]
     },
     "execution_count": 44,
     "metadata": {},
     "output_type": "execute_result"
    }
   ],
   "source": [
    "column_number(header_android)"
   ]
  },
  {
   "cell_type": "code",
   "execution_count": 45,
   "id": "34f8f9f3-4f9c-45c7-ba56-36ad6b5a12e2",
   "metadata": {},
   "outputs": [],
   "source": [
    "def free_apps(dataset, number_col): # Depending on the dataset, the number of column is one or the other\n",
    "    free_clean = [] \n",
    "    \n",
    "    for row in dataset:\n",
    "        prix = row[number_col]\n",
    "        if prix == '0.0' or prix == '0': #not numbers just characters! \n",
    "            free_clean.append(row)\n",
    "        else:\n",
    "            pass\n",
    "    print(f\"Free Apps are {len(free_clean)}\")\n",
    "    return free_clean"
   ]
  },
  {
   "cell_type": "code",
   "execution_count": 46,
   "id": "f6577ad8-a483-4891-806d-6c7acca62a24",
   "metadata": {},
   "outputs": [
    {
     "name": "stdout",
     "output_type": "stream",
     "text": [
      "Free Apps are 3202\n"
     ]
    }
   ],
   "source": [
    "free_apple_clean = free_apps(clean_ios,4)"
   ]
  },
  {
   "cell_type": "code",
   "execution_count": 47,
   "id": "ac8369a6-603b-40ab-a80a-14faf5078c1c",
   "metadata": {},
   "outputs": [
    {
     "name": "stdout",
     "output_type": "stream",
     "text": [
      "Free Apps are 8904\n"
     ]
    }
   ],
   "source": [
    "free_android_clean = free_apps(clean_android,7)"
   ]
  },
  {
   "cell_type": "markdown",
   "id": "7b8e4a0a-b83d-46d8-b0bd-b8978c76582f",
   "metadata": {},
   "source": [
    "**Updating names and lengths**\n",
    "\n",
    "\n",
    "|Dataset names|lenght|\n",
    "|:----|:----|\n",
    "|`free_apple_clean`|3203|\n",
    "|`free_android_clean`|8848|"
   ]
  },
  {
   "cell_type": "markdown",
   "id": "7ac0abd2-f4fd-4c22-a97c-bf2737c6c012",
   "metadata": {},
   "source": [
    "### 3.1 Our ultimate goal\n",
    "\n",
    "As we mentioned in the introduction, our goal is to determine the types of apps that are likely to attract more users because the number of people who use our apps affects our revenue. \n",
    "\n",
    "To minimize risks and overhead, our validation strategy for an app idea has three steps: \n",
    "\n",
    "- Create a minimum Android version of the app and add it to Google Play.\n",
    "- If the app has a good response from users, we develop it further.\n",
    "    - If the app is profitable after six months, we build an iOS version of the app and add it to the App Store.\n",
    "\n",
    "\n",
    "<br>\n",
    "\n",
    "Because our ultimate goal is to add the app on both Google Play and the App Store, we need to find app profiles that are successful in both markets. For example, a profile that works well for both markets could be a productivity app that makes use of gamification.\n",
    "\n",
    "Our **ultimate goal** is to add the app on both `Google Play` and the `App Store`.\n",
    "\n",
    "So we need to find profiles of apps that are successful **in both markets**. \n",
    "\n",
    "Let's start the analysis by having an idea of **what are the most common genres for each market**. To do this, we will have to build frequency tables for some columns of our datasets.\n",
    "\n",
    "The columns that can give us the information we need are:\n",
    "\n",
    "`free_apple_clean[11]` ---> `prime_genre`\n",
    "\n",
    "`free_android_clean[9]` ---> `Genres`"
   ]
  },
  {
   "cell_type": "code",
   "execution_count": 48,
   "id": "759255de-ac1c-4572-8839-06cd5ac42aef",
   "metadata": {},
   "outputs": [],
   "source": [
    "def freq_table(dataset, column):\n",
    "    table = {}\n",
    "    total = 0\n",
    "    \n",
    "    for row in dataset:\n",
    "        total +=1 # counter give us length.\n",
    "        value = row[column]\n",
    "        if value in table:\n",
    "            table[value] +=1\n",
    "        else:\n",
    "            table[value] = 1\n",
    "        \n",
    "    table_percentages = {}\n",
    "    \n",
    "    for key in table: #table[column value]<--as key] value <--as +1 values added \n",
    "        percentage = (table[key] / total ) * 100\n",
    "        table_percentages[key]=percentage\n",
    "            \n",
    "    return table_percentages # {column:times repeated}"
   ]
  },
  {
   "cell_type": "code",
   "execution_count": 49,
   "id": "099f43e5-a4a8-459f-a314-67243414e7de",
   "metadata": {},
   "outputs": [
    {
     "name": "stdout",
     "output_type": "stream",
     "text": [
      "{'Photo & Video': 4.996876951905059, 'Games': 58.276077451592755, 'Music': 2.061211742660837, 'Social Networking': 3.2792004996876947, 'Reference': 0.5309181761399125, 'Health & Fitness': 2.0299812617114306, 'Weather': 0.8744534665833853, 'Utilities': 2.467207995003123, 'Travel': 1.2492192379762648, 'Shopping': 2.5921299188007496, 'News': 1.3429106808244848, 'Navigation': 0.18738288569643974, 'Lifestyle': 1.5615240474703311, 'Entertainment': 7.838850718301062, 'Food & Drink': 0.8119925046845722, 'Sports': 2.1549031855090566, 'Book': 0.3747657713928795, 'Finance': 1.0930668332292317, 'Education': 3.685196752029981, 'Productivity': 1.7489069331667706, 'Business': 0.5309181761399125, 'Catalogs': 0.12492192379762648, 'Medical': 0.18738288569643974}\n"
     ]
    }
   ],
   "source": [
    "print(freq_table(free_apple_clean, 11))"
   ]
  },
  {
   "cell_type": "code",
   "execution_count": 50,
   "id": "3935eb97-f184-493a-a4a1-63907c42402a",
   "metadata": {
    "scrolled": true
   },
   "outputs": [
    {
     "name": "stdout",
     "output_type": "stream",
     "text": [
      "{'Art & Design': 0.5952380952380952, 'Art & Design;Creativity': 0.06738544474393532, 'Auto & Vehicles': 0.9209344115004492, 'Beauty': 0.5952380952380952, 'Books & Reference': 2.178796046720575, 'Business': 4.5709793351302785, 'Comics': 0.6176999101527404, 'Comics;Creativity': 0.011230907457322553, 'Communication': 3.2457322551662173, 'Dating': 1.853099730458221, 'Education': 5.3908355795148255, 'Education;Creativity': 0.04492362982929021, 'Education;Education': 0.3481581311769991, 'Education;Pretend Play': 0.05615453728661276, 'Education;Brain Games': 0.03369272237196766, 'Entertainment': 6.087151841868823, 'Entertainment;Brain Games': 0.07861635220125787, 'Entertainment;Creativity': 0.03369272237196766, 'Entertainment;Music & Video': 0.1684636118598383, 'Events': 0.7075471698113208, 'Finance': 3.6837376460017968, 'Food & Drink': 1.2353998203054808, 'Health & Fitness': 3.054806828391734, 'House & Home': 0.8198562443845463, 'Libraries & Demo': 0.9321653189577718, 'Lifestyle': 3.919586702605571, 'Lifestyle;Pretend Play': 0.011230907457322553, 'Puzzle': 1.1230907457322552, 'Racing': 0.9883198562443846, 'Sports': 3.447888589398023, 'Casual': 1.7407906558849957, 'Arcade': 1.853099730458221, 'Trivia': 0.42677448337825696, 'Simulation': 2.0664869721473496, 'Action': 3.088499550763702, 'Word': 0.2583108715184187, 'Role Playing': 0.9321653189577718, 'Strategy': 0.9209344115004492, 'Board': 0.38185085354896675, 'Adventure': 0.6850853548966757, 'Card': 0.43800539083557954, 'Music': 0.20215633423180593, 'Action;Action & Adventure': 0.10107816711590296, 'Casual;Brain Games': 0.13477088948787064, 'Educational;Creativity': 0.03369272237196766, 'Puzzle;Brain Games': 0.1684636118598383, 'Educational;Education': 0.39308176100628933, 'Card;Brain Games': 0.011230907457322553, 'Casual;Pretend Play': 0.2358490566037736, 'Educational;Brain Games': 0.06738544474393532, 'Art & Design;Pretend Play': 0.011230907457322553, 'Educational;Pretend Play': 0.08984725965858043, 'Entertainment;Education': 0.011230907457322553, 'Casual;Education': 0.022461814914645106, 'Casual;Creativity': 0.06738544474393532, 'Music;Music & Video': 0.022461814914645106, 'Arcade;Pretend Play': 0.011230907457322553, 'Casual;Action & Adventure': 0.13477088948787064, 'Adventure;Action & Adventure': 0.03369272237196766, 'Role Playing;Action & Adventure': 0.03369272237196766, 'Simulation;Pretend Play': 0.022461814914645106, 'Puzzle;Creativity': 0.022461814914645106, 'Simulation;Action & Adventure': 0.07861635220125787, 'Racing;Action & Adventure': 0.1684636118598383, 'Sports;Action & Adventure': 0.022461814914645106, 'Educational;Action & Adventure': 0.03369272237196766, 'Arcade;Action & Adventure': 0.12353998203054807, 'Entertainment;Action & Adventure': 0.03369272237196766, 'Art & Design;Action & Adventure': 0.011230907457322553, 'Puzzle;Action & Adventure': 0.03369272237196766, 'Education;Action & Adventure': 0.03369272237196766, 'Strategy;Action & Adventure': 0.011230907457322553, 'Music & Audio;Music & Video': 0.011230907457322553, 'Health & Fitness;Education': 0.011230907457322553, 'Board;Action & Adventure': 0.022461814914645106, 'Board;Brain Games': 0.07861635220125787, 'Casual;Music & Video': 0.011230907457322553, 'Education;Music & Video': 0.03369272237196766, 'Role Playing;Pretend Play': 0.04492362982929021, 'Entertainment;Pretend Play': 0.022461814914645106, 'Medical': 3.526504941599281, 'Social': 2.6504941599281224, 'Shopping': 2.2461814914645104, 'Photography': 2.9424977538185084, 'Travel & Local': 2.3135669362084457, 'Travel & Local;Action & Adventure': 0.011230907457322553, 'Tools': 8.423180592991914, 'Tools;Education': 0.011230907457322553, 'Personalization': 3.313117699910153, 'Productivity': 3.8858939802336026, 'Parenting': 0.4941599281221923, 'Parenting;Music & Video': 0.06738544474393532, 'Parenting;Education': 0.07861635220125787, 'Parenting;Brain Games': 0.011230907457322553, 'Weather': 0.7973944294699011, 'Video Players & Editors': 1.7857142857142856, 'News & Magazines': 2.8301886792452833, 'Maps & Navigation': 1.4150943396226416, 'Health & Fitness;Action & Adventure': 0.011230907457322553, 'Educational': 0.3706199460916442, 'Casino': 0.42677448337825696, 'Video Players & Editors;Music & Video': 0.022461814914645106, 'Trivia;Education': 0.011230907457322553, 'Lifestyle;Education': 0.011230907457322553, 'Card;Action & Adventure': 0.011230907457322553, 'Books & Reference;Education': 0.011230907457322553, 'Simulation;Education': 0.011230907457322553, 'Puzzle;Education': 0.011230907457322553, 'Adventure;Education': 0.011230907457322553, 'Role Playing;Brain Games': 0.011230907457322553, 'Strategy;Education': 0.011230907457322553, 'Racing;Pretend Play': 0.011230907457322553, 'Communication;Creativity': 0.011230907457322553, 'Strategy;Creativity': 0.011230907457322553}\n"
     ]
    }
   ],
   "source": [
    "print(freq_table(free_android_clean, 9))"
   ]
  },
  {
   "cell_type": "markdown",
   "id": "36d066b8-9e5e-441e-b837-06bd10632e52",
   "metadata": {},
   "source": [
    "We can see the content of dictionaries, but this visualization format is not exactly the most comfortable to work with, so let's make a visualization table of each of the elements of the dictionary ordered from highest to lowest by percentage"
   ]
  },
  {
   "cell_type": "code",
   "execution_count": 51,
   "id": "ed9e04a1-6816-46bf-9a35-c892a226277e",
   "metadata": {},
   "outputs": [],
   "source": [
    "def display_table(dataset, column):\n",
    "    table = freq_table(dataset, column) #return diccionary\n",
    "    table_display = []\n",
    "    for key in table:\n",
    "        key_val_as_tuple = (table[key], key)   #times repeated & key same variable\n",
    "        table_display.append(key_val_as_tuple) #append tuple into list\n",
    "\n",
    "    table_sorted = sorted(table_display, reverse = True) #sorting list\n",
    "    for entry in table_sorted: #print every cell on list\n",
    "        print(entry[1], ':', round(entry[0],2),'%')"
   ]
  },
  {
   "cell_type": "markdown",
   "id": "c9057111-ac86-4d03-bb91-f85b54bde907",
   "metadata": {},
   "source": []
  },
  {
   "cell_type": "code",
   "execution_count": 52,
   "id": "4216fc60-4b01-4684-9499-3a78c3a3068b",
   "metadata": {},
   "outputs": [
    {
     "data": {
      "text/plain": [
       "['id = 0',\n",
       " 'track_name = 1',\n",
       " 'size_bytes = 2',\n",
       " 'currency = 3',\n",
       " 'price = 4',\n",
       " 'rating_count_tot = 5',\n",
       " 'rating_count_ver = 6',\n",
       " 'user_rating = 7',\n",
       " 'user_rating_ver = 8',\n",
       " 'ver = 9',\n",
       " 'cont_rating = 10',\n",
       " 'prime_genre = 11',\n",
       " 'sup_devices.num = 12',\n",
       " 'ipadSc_urls.num = 13',\n",
       " 'lang.num = 14',\n",
       " 'vpp_lic = 15']"
      ]
     },
     "execution_count": 52,
     "metadata": {},
     "output_type": "execute_result"
    }
   ],
   "source": [
    "column_number(header_ios)"
   ]
  },
  {
   "cell_type": "code",
   "execution_count": 53,
   "id": "54ada04e-1417-4acf-8635-272bc369552a",
   "metadata": {},
   "outputs": [
    {
     "data": {
      "text/plain": [
       "['App = 0',\n",
       " 'Category = 1',\n",
       " 'Rating = 2',\n",
       " 'Reviews = 3',\n",
       " 'Size = 4',\n",
       " 'Installs = 5',\n",
       " 'Type = 6',\n",
       " 'Price = 7',\n",
       " 'Content Rating = 8',\n",
       " 'Genres = 9',\n",
       " 'Last Updated = 10',\n",
       " 'Current Ver = 11',\n",
       " 'Android Ver = 12']"
      ]
     },
     "execution_count": 53,
     "metadata": {},
     "output_type": "execute_result"
    }
   ],
   "source": [
    "column_number(header_android)"
   ]
  },
  {
   "cell_type": "markdown",
   "id": "6c001075-f0c9-4b11-ade1-00e0e60a13bc",
   "metadata": {},
   "source": [
    "Utilizaremos la funcion `display_table` la utilizaremos para mostrar la tabla de frecuencias de las columnas `prime_genre`, `Genres`, y `Category`"
   ]
  },
  {
   "cell_type": "code",
   "execution_count": 54,
   "id": "94bd2303-b502-4fdc-9939-7cd2e653f3ce",
   "metadata": {},
   "outputs": [
    {
     "name": "stdout",
     "output_type": "stream",
     "text": [
      "Games : 58.28 %\n",
      "Entertainment : 7.84 %\n",
      "Photo & Video : 5.0 %\n",
      "Education : 3.69 %\n",
      "Social Networking : 3.28 %\n",
      "Shopping : 2.59 %\n",
      "Utilities : 2.47 %\n",
      "Sports : 2.15 %\n",
      "Music : 2.06 %\n",
      "Health & Fitness : 2.03 %\n",
      "Productivity : 1.75 %\n",
      "Lifestyle : 1.56 %\n",
      "News : 1.34 %\n",
      "Travel : 1.25 %\n",
      "Finance : 1.09 %\n",
      "Weather : 0.87 %\n",
      "Food & Drink : 0.81 %\n",
      "Reference : 0.53 %\n",
      "Business : 0.53 %\n",
      "Book : 0.37 %\n",
      "Navigation : 0.19 %\n",
      "Medical : 0.19 %\n",
      "Catalogs : 0.12 %\n"
     ]
    }
   ],
   "source": [
    "output_apple_genere = display_table(free_apple_clean,11) #apple prime_genere "
   ]
  },
  {
   "cell_type": "code",
   "execution_count": 55,
   "id": "595c66d1-0411-45b7-b6d4-c9151587dd23",
   "metadata": {
    "scrolled": true
   },
   "outputs": [
    {
     "name": "stdout",
     "output_type": "stream",
     "text": [
      "Tools : 8.42 %\n",
      "Entertainment : 6.09 %\n",
      "Education : 5.39 %\n",
      "Business : 4.57 %\n",
      "Lifestyle : 3.92 %\n",
      "Productivity : 3.89 %\n",
      "Finance : 3.68 %\n",
      "Medical : 3.53 %\n",
      "Sports : 3.45 %\n",
      "Personalization : 3.31 %\n",
      "Communication : 3.25 %\n",
      "Action : 3.09 %\n",
      "Health & Fitness : 3.05 %\n",
      "Photography : 2.94 %\n",
      "News & Magazines : 2.83 %\n",
      "Social : 2.65 %\n",
      "Travel & Local : 2.31 %\n",
      "Shopping : 2.25 %\n",
      "Books & Reference : 2.18 %\n",
      "Simulation : 2.07 %\n",
      "Dating : 1.85 %\n",
      "Arcade : 1.85 %\n",
      "Video Players & Editors : 1.79 %\n",
      "Casual : 1.74 %\n",
      "Maps & Navigation : 1.42 %\n",
      "Food & Drink : 1.24 %\n",
      "Puzzle : 1.12 %\n",
      "Racing : 0.99 %\n",
      "Role Playing : 0.93 %\n",
      "Libraries & Demo : 0.93 %\n",
      "Strategy : 0.92 %\n",
      "Auto & Vehicles : 0.92 %\n",
      "House & Home : 0.82 %\n",
      "Weather : 0.8 %\n",
      "Events : 0.71 %\n",
      "Adventure : 0.69 %\n",
      "Comics : 0.62 %\n",
      "Beauty : 0.6 %\n",
      "Art & Design : 0.6 %\n",
      "Parenting : 0.49 %\n",
      "Card : 0.44 %\n",
      "Trivia : 0.43 %\n",
      "Casino : 0.43 %\n",
      "Educational;Education : 0.39 %\n",
      "Board : 0.38 %\n",
      "Educational : 0.37 %\n",
      "Education;Education : 0.35 %\n",
      "Word : 0.26 %\n",
      "Casual;Pretend Play : 0.24 %\n",
      "Music : 0.2 %\n",
      "Racing;Action & Adventure : 0.17 %\n",
      "Puzzle;Brain Games : 0.17 %\n",
      "Entertainment;Music & Video : 0.17 %\n",
      "Casual;Brain Games : 0.13 %\n",
      "Casual;Action & Adventure : 0.13 %\n",
      "Arcade;Action & Adventure : 0.12 %\n",
      "Action;Action & Adventure : 0.1 %\n",
      "Educational;Pretend Play : 0.09 %\n",
      "Simulation;Action & Adventure : 0.08 %\n",
      "Parenting;Education : 0.08 %\n",
      "Entertainment;Brain Games : 0.08 %\n",
      "Board;Brain Games : 0.08 %\n",
      "Parenting;Music & Video : 0.07 %\n",
      "Educational;Brain Games : 0.07 %\n",
      "Casual;Creativity : 0.07 %\n",
      "Art & Design;Creativity : 0.07 %\n",
      "Education;Pretend Play : 0.06 %\n",
      "Role Playing;Pretend Play : 0.04 %\n",
      "Education;Creativity : 0.04 %\n",
      "Role Playing;Action & Adventure : 0.03 %\n",
      "Puzzle;Action & Adventure : 0.03 %\n",
      "Entertainment;Creativity : 0.03 %\n",
      "Entertainment;Action & Adventure : 0.03 %\n",
      "Educational;Creativity : 0.03 %\n",
      "Educational;Action & Adventure : 0.03 %\n",
      "Education;Music & Video : 0.03 %\n",
      "Education;Brain Games : 0.03 %\n",
      "Education;Action & Adventure : 0.03 %\n",
      "Adventure;Action & Adventure : 0.03 %\n",
      "Video Players & Editors;Music & Video : 0.02 %\n",
      "Sports;Action & Adventure : 0.02 %\n",
      "Simulation;Pretend Play : 0.02 %\n",
      "Puzzle;Creativity : 0.02 %\n",
      "Music;Music & Video : 0.02 %\n",
      "Entertainment;Pretend Play : 0.02 %\n",
      "Casual;Education : 0.02 %\n",
      "Board;Action & Adventure : 0.02 %\n",
      "Trivia;Education : 0.01 %\n",
      "Travel & Local;Action & Adventure : 0.01 %\n",
      "Tools;Education : 0.01 %\n",
      "Strategy;Education : 0.01 %\n",
      "Strategy;Creativity : 0.01 %\n",
      "Strategy;Action & Adventure : 0.01 %\n",
      "Simulation;Education : 0.01 %\n",
      "Role Playing;Brain Games : 0.01 %\n",
      "Racing;Pretend Play : 0.01 %\n",
      "Puzzle;Education : 0.01 %\n",
      "Parenting;Brain Games : 0.01 %\n",
      "Music & Audio;Music & Video : 0.01 %\n",
      "Lifestyle;Pretend Play : 0.01 %\n",
      "Lifestyle;Education : 0.01 %\n",
      "Health & Fitness;Education : 0.01 %\n",
      "Health & Fitness;Action & Adventure : 0.01 %\n",
      "Entertainment;Education : 0.01 %\n",
      "Communication;Creativity : 0.01 %\n",
      "Comics;Creativity : 0.01 %\n",
      "Casual;Music & Video : 0.01 %\n",
      "Card;Brain Games : 0.01 %\n",
      "Card;Action & Adventure : 0.01 %\n",
      "Books & Reference;Education : 0.01 %\n",
      "Art & Design;Pretend Play : 0.01 %\n",
      "Art & Design;Action & Adventure : 0.01 %\n",
      "Arcade;Pretend Play : 0.01 %\n",
      "Adventure;Education : 0.01 %\n"
     ]
    }
   ],
   "source": [
    "output_gogle_genre = display_table(free_android_clean,9)  # Android Genres "
   ]
  },
  {
   "cell_type": "code",
   "execution_count": 56,
   "id": "62511862-8cfe-4d9d-ba33-ac76ca281958",
   "metadata": {
    "scrolled": true
   },
   "outputs": [
    {
     "name": "stdout",
     "output_type": "stream",
     "text": [
      "FAMILY : 19.29 %\n",
      "GAME : 9.49 %\n",
      "TOOLS : 8.43 %\n",
      "BUSINESS : 4.57 %\n",
      "LIFESTYLE : 3.93 %\n",
      "PRODUCTIVITY : 3.89 %\n",
      "FINANCE : 3.68 %\n",
      "MEDICAL : 3.53 %\n",
      "SPORTS : 3.4 %\n",
      "PERSONALIZATION : 3.31 %\n",
      "COMMUNICATION : 3.25 %\n",
      "HEALTH_AND_FITNESS : 3.05 %\n",
      "PHOTOGRAPHY : 2.94 %\n",
      "NEWS_AND_MAGAZINES : 2.83 %\n",
      "SOCIAL : 2.65 %\n",
      "TRAVEL_AND_LOCAL : 2.32 %\n",
      "SHOPPING : 2.25 %\n",
      "BOOKS_AND_REFERENCE : 2.18 %\n",
      "DATING : 1.85 %\n",
      "VIDEO_PLAYERS : 1.79 %\n",
      "MAPS_AND_NAVIGATION : 1.42 %\n",
      "FOOD_AND_DRINK : 1.24 %\n",
      "EDUCATION : 1.13 %\n",
      "LIBRARIES_AND_DEMO : 0.93 %\n",
      "AUTO_AND_VEHICLES : 0.92 %\n",
      "ENTERTAINMENT : 0.88 %\n",
      "HOUSE_AND_HOME : 0.82 %\n",
      "WEATHER : 0.8 %\n",
      "EVENTS : 0.71 %\n",
      "PARENTING : 0.65 %\n",
      "ART_AND_DESIGN : 0.64 %\n",
      "COMICS : 0.63 %\n",
      "BEAUTY : 0.6 %\n"
     ]
    }
   ],
   "source": [
    "output_gogle_category = display_table(free_android_clean,1)  # Android Category "
   ]
  },
  {
   "cell_type": "markdown",
   "id": "11d9d847-9352-456b-ba1c-ab40b548913b",
   "metadata": {
    "editable": true,
    "slideshow": {
     "slide_type": ""
    },
    "tags": []
   },
   "source": [
    "## Summary\n",
    "\n",
    "| Dataset name       | Genres            | percentage   | Category    | Category Percentage |\n",
    "|:------------------|:-----------------|-------------:|------------:|--------------------:|\n",
    "| free_apple_clean  | Games            | 58%          |             |                     |\n",
    "|                   | **Entertainment**    | 7.84%        |             |                     |\n",
    "|                   | Photo & Video    | 5%           |             |                     |\n",
    "|                   | Education        | 4%           |             |                     |\n",
    "|                   | Social Networking| 3%           |             |                     |\n",
    "| free_android_clean| Tools            | 8%           | FAMILY      | 19%                 |\n",
    "|                   | **Entertainment**    | 6%           | GAME        | 9.5%                |\n",
    "|                   | Education        | 5%           | BUSINESS    | 4.5%                |\n",
    "|                   | Business         | 5%           | TOOLS       | 8.4%                |\n",
    "|                   | Productivity     | 4%           | LIFESTYLE   | 4.0%                |"
   ]
  },
  {
   "cell_type": "markdown",
   "id": "1879a995-7a14-4b02-b5ca-fdd9bd4c64be",
   "metadata": {},
   "source": [
    "\n",
    "Analyze the frequency table that you generated for the prime_genre column of the App Store dataset. \n",
    "\n",
    "- What is the most common gender?\n",
    "- What is the next most common?\n",
    "- What other patterns do you see? What's the overall impression — are most apps designed for practical purposes (education, shopping, utilities, productivity, lifestyle) or more for entertainment (games, photos and videos, social media, sports, music)?\n",
    "\n",
    "\n",
    "The common genre in both systems is Entertainment. Curiously, the percentage of applications on Android is much more balanced than the percentage of applications on iOS, where in first place and with more than half of the market appears the category of games.\n",
    "\n",
    "\n",
    "\n",
    "- Can you recommend an app profile for the App Store marketplace based on this frequency chart alone?\n",
    "- If there are a large number of apps for a particular genre, does that also imply that apps in that genre usually have a large number of users?\n",
    "\n",
    "- Analyze the frequency table that you generated for the Category and Genres column of the Google Play dataset.\n",
    "- What are the most common genres?\n",
    "- What other patterns do you see?\n",
    "\n",
    "\n",
    "Compare the patterns you see for the Google Play marketplace with the ones you saw for the App Store marketplace. \n",
    "- Can you recommend an app profile based on what you've found so far?\n",
    "- Do the frequency tables it generated reveal the most frequent app genres or which genres have the most users?\n",
    "\n",
    "### We would like to get an idea about the type of apps with more users.\n",
    "\n",
    "One way to find out which genres are the most popular (have the most users) is to calculate the **average number of installs for each app genre**.\n",
    "\n",
    "<br>\n",
    "\n",
    "- For the **Google Play** dataset, we can find this information in the **installs** column, \n",
    "\n",
    "\n",
    "- For the **App Store dataset** we will take the total number of user ratings as a proxy, which we can find in the `'rating_count'` column app."
   ]
  },
  {
   "cell_type": "code",
   "execution_count": 57,
   "id": "69fa9d1f-8e69-4c5a-b27f-c6a331c2e2ae",
   "metadata": {},
   "outputs": [
    {
     "data": {
      "text/plain": [
       "['id = 0',\n",
       " 'track_name = 1',\n",
       " 'size_bytes = 2',\n",
       " 'currency = 3',\n",
       " 'price = 4',\n",
       " 'rating_count_tot = 5',\n",
       " 'rating_count_ver = 6',\n",
       " 'user_rating = 7',\n",
       " 'user_rating_ver = 8',\n",
       " 'ver = 9',\n",
       " 'cont_rating = 10',\n",
       " 'prime_genre = 11',\n",
       " 'sup_devices.num = 12',\n",
       " 'ipadSc_urls.num = 13',\n",
       " 'lang.num = 14',\n",
       " 'vpp_lic = 15']"
      ]
     },
     "execution_count": 57,
     "metadata": {},
     "output_type": "execute_result"
    }
   ],
   "source": [
    "column_number(header_ios)"
   ]
  },
  {
   "cell_type": "code",
   "execution_count": 58,
   "id": "30fb02c2-4a50-4dce-921d-e57bbb1773a1",
   "metadata": {},
   "outputs": [
    {
     "data": {
      "text/plain": [
       "['App = 0',\n",
       " 'Category = 1',\n",
       " 'Rating = 2',\n",
       " 'Reviews = 3',\n",
       " 'Size = 4',\n",
       " 'Installs = 5',\n",
       " 'Type = 6',\n",
       " 'Price = 7',\n",
       " 'Content Rating = 8',\n",
       " 'Genres = 9',\n",
       " 'Last Updated = 10',\n",
       " 'Current Ver = 11',\n",
       " 'Android Ver = 12']"
      ]
     },
     "execution_count": 58,
     "metadata": {},
     "output_type": "execute_result"
    }
   ],
   "source": [
    "column_number(header_android)"
   ]
  },
  {
   "cell_type": "markdown",
   "id": "c0603c45-fad0-4ec8-81ce-72c159ad5d3d",
   "metadata": {},
   "source": [
    "## Most Popular Apps by Genre on Apple Store"
   ]
  },
  {
   "cell_type": "code",
   "execution_count": 59,
   "id": "111f179b-8a2e-4023-a126-54a4c70e34fa",
   "metadata": {},
   "outputs": [
    {
     "name": "stdout",
     "output_type": "stream",
     "text": [
      "Photo & Video : 28441.54375\n",
      "Games : 22886.36709539121\n",
      "Music : 57326.530303030304\n",
      "Social Networking : 43899.514285714286\n",
      "Reference : 79350.4705882353\n",
      "Health & Fitness : 23298.015384615384\n",
      "Weather : 52279.892857142855\n",
      "Utilities : 19156.493670886077\n",
      "Travel : 28243.8\n",
      "Shopping : 27230.734939759037\n",
      "News : 21248.023255813954\n",
      "Navigation : 86090.33333333333\n",
      "Lifestyle : 16815.48\n",
      "Entertainment : 14195.358565737051\n",
      "Food & Drink : 33333.92307692308\n",
      "Sports : 23008.898550724636\n",
      "Book : 46384.916666666664\n",
      "Finance : 32367.02857142857\n",
      "Education : 7003.983050847458\n",
      "Productivity : 21028.410714285714\n",
      "Business : 7491.117647058823\n",
      "Catalogs : 4004.0\n",
      "Medical : 612.0\n"
     ]
    }
   ],
   "source": [
    "genres_ios = freq_table(free_apple_clean, 11) #prime_genre\n",
    "list_order = {}\n",
    "\n",
    "for genre in genres_ios:\n",
    "    total = 0\n",
    "    len_genre = 0\n",
    "    for app in free_apple_clean:\n",
    "        genre_app = app[-5]\n",
    "        if genre_app == genre:            \n",
    "            n_ratings = float(app[5]) #rating_count_tot\n",
    "            total += n_ratings\n",
    "            len_genre += 1\n",
    "            \n",
    "    avg_n_ratings = total / len_genre\n",
    "    print(genre, ':', avg_n_ratings)\n",
    "    \n",
    "    list_order[genre]=avg_n_ratings"
   ]
  },
  {
   "cell_type": "markdown",
   "id": "794f438f-07b7-4a7e-930a-0e9c03975672",
   "metadata": {},
   "source": [
    "### - sorting Genres on App Store "
   ]
  },
  {
   "cell_type": "code",
   "execution_count": 60,
   "id": "509d9572-6d6f-4a6b-9ed2-b9ba90cfba5f",
   "metadata": {
    "editable": true,
    "slideshow": {
     "slide_type": ""
    },
    "tags": []
   },
   "outputs": [
    {
     "data": {
      "text/plain": [
       "{'Navigation': 86090.33333333333,\n",
       " 'Reference': 79350.4705882353,\n",
       " 'Music': 57326.530303030304,\n",
       " 'Weather': 52279.892857142855,\n",
       " 'Book': 46384.916666666664,\n",
       " 'Social Networking': 43899.514285714286,\n",
       " 'Food & Drink': 33333.92307692308,\n",
       " 'Finance': 32367.02857142857,\n",
       " 'Photo & Video': 28441.54375,\n",
       " 'Travel': 28243.8,\n",
       " 'Shopping': 27230.734939759037,\n",
       " 'Health & Fitness': 23298.015384615384,\n",
       " 'Sports': 23008.898550724636,\n",
       " 'Games': 22886.36709539121,\n",
       " 'News': 21248.023255813954,\n",
       " 'Productivity': 21028.410714285714,\n",
       " 'Utilities': 19156.493670886077,\n",
       " 'Lifestyle': 16815.48,\n",
       " 'Entertainment': 14195.358565737051,\n",
       " 'Business': 7491.117647058823,\n",
       " 'Education': 7003.983050847458,\n",
       " 'Catalogs': 4004.0,\n",
       " 'Medical': 612.0}"
      ]
     },
     "execution_count": 60,
     "metadata": {},
     "output_type": "execute_result"
    }
   ],
   "source": [
    "marklist = sorted(list_order.items(), key=lambda x:x[1],reverse = True)\n",
    "sortdict = dict(marklist)\n",
    "sortdict"
   ]
  },
  {
   "cell_type": "code",
   "execution_count": 61,
   "id": "041490a6-a891-4bd8-8b62-bd71220ff27e",
   "metadata": {
    "editable": true,
    "slideshow": {
     "slide_type": ""
    },
    "tags": []
   },
   "outputs": [
    {
     "name": "stdout",
     "output_type": "stream",
     "text": [
      "Waze - GPS Navigation, Maps & Real-time Traffic : 345046\n",
      "Google Maps - Navigation & Transit : 154911\n",
      "Geocaching® : 12811\n",
      "CoPilot GPS – Car Navigation & Offline Maps : 3582\n",
      "ImmobilienScout24: Real Estate Search in Germany : 187\n",
      "Railway Route Search : 5\n"
     ]
    }
   ],
   "source": [
    "for app in free_apple_clean:\n",
    "    if app[-5] == 'Navigation':    # number one\n",
    "        print(app[1], ':', app[5]) # print name and number of ratings"
   ]
  },
  {
   "cell_type": "markdown",
   "id": "7610bbef-cfb4-46a2-a27b-e2e793cb574c",
   "metadata": {
    "editable": true,
    "slideshow": {
     "slide_type": ""
    },
    "tags": []
   },
   "source": [
    "The same pattern applies to social networking apps, where the average number is heavily influenced by a few giants like Facebook, Pinterest, Skype, etc. Same applies to music apps, where a few big players like Pandora, Spotify, and Shazam heavily influence the average number.\n",
    "\n",
    "**Our aim** is to find popular genres, but navigation, social networking or music apps might seem more popular than they really are. \n",
    "\n",
    "**The average number of ratings seem to be skewed by very few apps which have hundreds of thousands of user ratings, while the other apps may struggle to get past the 10,000 threshold**. \n",
    "\n",
    "\n",
    "We could get a **better picture by removing these extremely popular apps** for each genre and then rework the averages, but we'll leave this level of detail for later.\n",
    "\n",
    "Reference apps have 74,942 user ratings on average, but it's actually the Bible and Dictionary.com which skew up the average rating:\n",
    "\n",
    "### What applications are there in the second most popular genre?"
   ]
  },
  {
   "cell_type": "code",
   "execution_count": 62,
   "id": "65625915-c915-446a-8030-25a105bbb4f0",
   "metadata": {},
   "outputs": [
    {
     "name": "stdout",
     "output_type": "stream",
     "text": [
      "Bible : 985920\n",
      "Dictionary.com Dictionary & Thesaurus : 200047\n",
      "Dictionary.com Dictionary & Thesaurus for iPad : 54175\n",
      "Google Translate : 26786\n",
      "Muslim Pro: Ramadan 2017 Prayer Times, Azan, Quran : 18418\n",
      "New Furniture Mods - Pocket Wiki & Game Tools for Minecraft PC Edition : 17588\n",
      "Merriam-Webster Dictionary : 16849\n",
      "Night Sky : 12122\n",
      "City Maps for Minecraft PE - The Best Maps for Minecraft Pocket Edition (MCPE) : 8535\n",
      "LUCKY BLOCK MOD ™ for Minecraft PC Edition - The Best Pocket Wiki & Mods Installer Tools : 4693\n",
      "GUNS MODS for Minecraft PC Edition - Mods Tools : 1497\n",
      "Guides for Pokémon GO - Pokemon GO News and Cheats : 826\n",
      "WWDC : 762\n",
      "Horror Maps for Minecraft PE - Download The Scariest Maps for Minecraft Pocket Edition (MCPE) Free : 718\n",
      "VPN Express : 14\n",
      "Real Bike Traffic Rider Virtual Reality Glasses : 8\n",
      "Jishokun-Japanese English Dictionary & Translator : 0\n"
     ]
    }
   ],
   "source": [
    "for app in free_apple_clean:\n",
    "    if app[-5] == 'Reference': # number two\n",
    "        print(app[1], ':', app[5])"
   ]
  },
  {
   "cell_type": "code",
   "execution_count": null,
   "id": "6646c844-3095-4c22-904d-f104b5a2e774",
   "metadata": {
    "editable": true,
    "slideshow": {
     "slide_type": ""
    },
    "tags": []
   },
   "outputs": [],
   "source": []
  },
  {
   "cell_type": "markdown",
   "id": "b64bbf87-1741-4ac7-aa5e-ccf4da202bd5",
   "metadata": {},
   "source": [
    "## Most Popular Apps by Genre on Google Android"
   ]
  },
  {
   "cell_type": "code",
   "execution_count": 63,
   "id": "9a29d154-5367-458d-96aa-e0fa17b7b0a2",
   "metadata": {
    "editable": true,
    "scrolled": true,
    "slideshow": {
     "slide_type": ""
    },
    "tags": []
   },
   "outputs": [
    {
     "data": {
      "text/plain": [
       "{'5,000,000+': 6.8171608265947885,\n",
       " '50,000,000+': 2.2911051212938007,\n",
       " '100,000+': 11.590296495956872,\n",
       " '50,000+': 4.818059299191375,\n",
       " '1,000,000+': 15.71203953279425,\n",
       " '10,000+': 10.25381850853549,\n",
       " '10,000,000+': 10.455974842767295,\n",
       " '5,000+': 4.526055705300988,\n",
       " '500,000+': 5.536837376460018,\n",
       " '1,000,000,000+': 0.22461814914645103,\n",
       " '100,000,000+': 2.1226415094339623,\n",
       " '1,000+': 8.423180592991914,\n",
       " '500,000,000+': 0.2695417789757413,\n",
       " '500+': 3.234501347708895,\n",
       " '100+': 6.918238993710692,\n",
       " '50+': 1.9092542677448336,\n",
       " '10+': 3.5377358490566038,\n",
       " '1+': 0.5166217430368374,\n",
       " '5+': 0.7861635220125787,\n",
       " '0+': 0.04492362982929021,\n",
       " '0': 0.011230907457322553}"
      ]
     },
     "execution_count": 63,
     "metadata": {},
     "output_type": "execute_result"
    }
   ],
   "source": [
    "categories_android = freq_table(free_android_clean, 5)\n",
    "categories_android"
   ]
  },
  {
   "cell_type": "code",
   "execution_count": 64,
   "id": "38a0f80c-b2eb-4f24-83f6-a2d328f6e247",
   "metadata": {
    "editable": true,
    "scrolled": true,
    "slideshow": {
     "slide_type": ""
    },
    "tags": []
   },
   "outputs": [
    {
     "ename": "ZeroDivisionError",
     "evalue": "division by zero",
     "output_type": "error",
     "traceback": [
      "\u001b[0;31m---------------------------------------------------------------------------\u001b[0m",
      "\u001b[0;31mZeroDivisionError\u001b[0m                         Traceback (most recent call last)",
      "Cell \u001b[0;32mIn[64], line 12\u001b[0m\n\u001b[1;32m     10\u001b[0m         total \u001b[38;5;241m+\u001b[39m\u001b[38;5;241m=\u001b[39m \u001b[38;5;28mfloat\u001b[39m(n_installs)\n\u001b[1;32m     11\u001b[0m         len_category \u001b[38;5;241m+\u001b[39m\u001b[38;5;241m=\u001b[39m \u001b[38;5;241m1\u001b[39m\n\u001b[0;32m---> 12\u001b[0m avg_n_installs \u001b[38;5;241m=\u001b[39m \u001b[43mtotal\u001b[49m\u001b[43m \u001b[49m\u001b[38;5;241;43m/\u001b[39;49m\u001b[43m \u001b[49m\u001b[43mlen_category\u001b[49m\n\u001b[1;32m     13\u001b[0m \u001b[38;5;28mprint\u001b[39m(category, \u001b[38;5;124m'\u001b[39m\u001b[38;5;124m:\u001b[39m\u001b[38;5;124m'\u001b[39m, avg_n_installs)\n\u001b[1;32m     15\u001b[0m list_order[category]\u001b[38;5;241m=\u001b[39mavg_n_installs\n",
      "\u001b[0;31mZeroDivisionError\u001b[0m: division by zero"
     ]
    }
   ],
   "source": [
    "for category in categories_android:\n",
    "    total = 0\n",
    "    len_category = 0\n",
    "    for app in free_android_clean:\n",
    "        category_app = app[1]\n",
    "        if category_app == category:            \n",
    "            n_installs = app[5]\n",
    "            n_installs = n_installs.replace(',', '')\n",
    "            n_installs = n_installs.replace('+', '')\n",
    "            total += float(n_installs)\n",
    "            len_category += 1\n",
    "    avg_n_installs = total / len_category\n",
    "    print(category, ':', avg_n_installs)\n",
    "    \n",
    "    list_order[category]=avg_n_installs"
   ]
  },
  {
   "cell_type": "code",
   "execution_count": null,
   "id": "b8799759-104e-4ef3-9774-053e21ba7042",
   "metadata": {
    "scrolled": true
   },
   "outputs": [],
   "source": [
    "marklist = sorted(list_order.items(), key=lambda x:x[1],reverse = True)\n",
    "sortdict_android = dict(marklist)\n",
    "sortdict_android"
   ]
  },
  {
   "cell_type": "markdown",
   "id": "9db77f7b-1e5b-4db5-a2a2-ad8f073559a3",
   "metadata": {
    "editable": true,
    "slideshow": {
     "slide_type": ""
    },
    "tags": []
   },
   "source": [
    "On average, communication apps have the most installs: 38590581.08741259. \n",
    "\n",
    "**This number is heavily skewed up by a few apps that have over one billion installs (WhatsApp, Facebook Messenger, Skype, Google Chrome, Gmail, and Hangouts)**, and a few others with over 100 and 500 million installs:\n"
   ]
  },
  {
   "cell_type": "code",
   "execution_count": null,
   "id": "a0b9496c-9218-4081-bb0f-8edf385c97f3",
   "metadata": {
    "editable": true,
    "slideshow": {
     "slide_type": ""
    },
    "tags": []
   },
   "outputs": [],
   "source": [
    "for app in free_android_clean:\n",
    "    if app[1] == 'COMMUNICATION' and (app[5] == '1,000,000,000+' or \n",
    "                                      app[5] == '500,000,000+' or \n",
    "                                      app[5] == '100,000,000+'):\n",
    "        print(app[0], ':', app[5])"
   ]
  },
  {
   "cell_type": "markdown",
   "id": "89889cde-7dd0-4ef0-b934-9ece95112b28",
   "metadata": {},
   "source": [
    "### 5. Most Popular Apps by Genre on Google App"
   ]
  },
  {
   "cell_type": "code",
   "execution_count": null,
   "id": "5afc208c-070a-47f6-ab07-6544a9521ea1",
   "metadata": {
    "editable": true,
    "slideshow": {
     "slide_type": ""
    },
    "tags": []
   },
   "outputs": [],
   "source": [
    "for app in free_android_clean:\n",
    "    if app[9] == 'Art & Design;Creativity':    # number one\n",
    "        print(app[1], ':', app[5]) # print name and number of ratings"
   ]
  },
  {
   "cell_type": "code",
   "execution_count": null,
   "id": "687274fd-27c5-4590-8691-bd4d632165c7",
   "metadata": {},
   "outputs": [],
   "source": []
  },
  {
   "cell_type": "markdown",
   "id": "67bf76a4-a3d2-42e4-864f-109ff07a1b50",
   "metadata": {},
   "source": [
    "### What applications are there in the second most popular genre?"
   ]
  },
  {
   "cell_type": "code",
   "execution_count": null,
   "id": "18ebbcd6-5f36-4176-a18d-a484728f8561",
   "metadata": {},
   "outputs": [],
   "source": [
    "for app in free_apple_clean:\n",
    "    if app[-5] == 'Reference':    # number one\n",
    "        print(app[1], ':', app[5]) # print name and number of ratings"
   ]
  },
  {
   "cell_type": "code",
   "execution_count": null,
   "id": "dc1544e6-60cd-4891-818d-852ef8007568",
   "metadata": {},
   "outputs": [],
   "source": []
  },
  {
   "cell_type": "code",
   "execution_count": null,
   "id": "40c35998-5c19-46d8-9abf-2424b0549be9",
   "metadata": {
    "editable": true,
    "slideshow": {
     "slide_type": ""
    },
    "tags": []
   },
   "outputs": [],
   "source": [
    "for app in free_android_clean:\n",
    "    if app[9] == 'Comics;Creativity':    # number one\n",
    "        print(app[1], ':', app[5]) # print name and number of ratings"
   ]
  },
  {
   "cell_type": "code",
   "execution_count": null,
   "id": "533583df-5b68-4aa6-a487-458dcacf4499",
   "metadata": {},
   "outputs": [],
   "source": []
  },
  {
   "cell_type": "code",
   "execution_count": null,
   "id": "12d3b9dd-d1a0-4ede-8c52-47896d561dc8",
   "metadata": {
    "editable": true,
    "slideshow": {
     "slide_type": ""
    },
    "tags": []
   },
   "outputs": [],
   "source": []
  }
 ],
 "metadata": {
  "kernelspec": {
   "display_name": "Python 3 (ipykernel)",
   "language": "python",
   "name": "python3"
  },
  "language_info": {
   "codemirror_mode": {
    "name": "ipython",
    "version": 3
   },
   "file_extension": ".py",
   "mimetype": "text/x-python",
   "name": "python",
   "nbconvert_exporter": "python",
   "pygments_lexer": "ipython3",
   "version": "3.10.13"
  }
 },
 "nbformat": 4,
 "nbformat_minor": 5
}
