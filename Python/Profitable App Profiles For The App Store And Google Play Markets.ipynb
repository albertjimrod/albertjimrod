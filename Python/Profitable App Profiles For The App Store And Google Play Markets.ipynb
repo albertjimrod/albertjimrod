{
 "cells": [
  {
   "cell_type": "markdown",
   "metadata": {},
   "source": [
    "# Profitable App Profiles for the App Store and Google Play Markets\n",
    "\n",
    "<br />\n",
    "\n",
    "<br />\n",
    "\n",
    "\n",
    "![header.jpg](header.jpg)\n",
    "\n",
    "\n",
    "**Introduction to the Project**\n",
    "\n",
    "\n",
    "\n",
    "In today's mobile development landscape, it is crucial to understand which types of applications attract more users in both Android and Apple ecosystems. With the goal of providing valuable information to developers, this project focuses on data analysis to identify common characteristics among the applications that receive a higher number of downloads and engagement.\n",
    "\n",
    "1. **What Does the Project Entail?**\n",
    "\n",
    "    This data analysis combines information from various sources, such as Google Play Store and iTunes App Store, along with usage and performance metrics. Using statistical techniques and machine learning algorithms, patterns and trends are identified to indicate which types of applications perform better in each platform.\n",
    "\n",
    "2. **Project Objective**\n",
    "\n",
    "    The primary objective of this project is to provide developers with precise information about the characteristics that resonate best with users on Android and iOS. By understanding better what types of applications perform well in terms of downloads, engagement, and retention, developers can make more informed decisions for the design and optimization of their own apps.\n",
    "\n",
    "\n",
    "The first is the collection and analysis of data on mobile apps available on Google Play and the App Store. To avoid wasting resources on collecting new data, we should first try to see if we can find relevant existing data at no cost. Fortunately, here are two datasets that seem suitable for our goals:\n",
    "\n",
    "## <a id='0'>Index</a>\n",
    "\n",
    " \n",
    "### <a href='#1'>1. Exploring data </a>\n",
    " \n",
    " \n",
    "- <a href='#11'>1.1 Function to explore datasets</a>\n",
    "\n",
    "\n",
    "-  <a href='#12'>1.2 Data dictionary:</a>\n",
    "\n",
    "\n",
    "-  <a href='#13'>1.3 Knowing the size in both data sets.</a>\n",
    "\n",
    "### <a href='#2'>2. Data cleaning </a>\n",
    "\n",
    "\n",
    "-  <a href='#21'>2.1. Detect inaccurate data... remove it.</a>\n",
    "\n",
    "\n",
    "-  <a href='#22'>2.2 Detect duplicate data, and remove the duplicates.</a>\n",
    "\n",
    "\n",
    "-  <a href='#23'>2.3 What differentiates duplicate applications?</a>\n",
    "\n",
    "\n",
    "-  <a href='#24'>2.4 Removing Non-English Apps</a>\n",
    "\n",
    "\n",
    "-  <a href='#25'>2.5 Filter non-English applications from both datasets. </a>\n",
    "\n",
    "\n",
    "-  <a href='#26'>2.6 Exploring datasets and see how many rows we have left for each dataset.</a>\n",
    "\n",
    "\n",
    "\n",
    "### <a href='#3'>3. Isolating Free Apps </a>\n",
    "\n",
    "\n",
    "-  <a href='#31'>3.1 Our **ultimate goal** </a>\n",
    "\n",
    "\n",
    "-  <a href='#32'>3.2 Profiles of apps successful in both markets\tTable</a>\n",
    "\n",
    "\n",
    "\n",
    "### <a href='#4'>4. Most Popular Apps by Genre on Apple Store </a>\n",
    "\n",
    "### <a href='#5'>5. Most Popular Apps by Genre on Apple Store </a>\n",
    "\n",
    "### <a href='#6'>5. Summary. </a>\n",
    "\n",
    "* * *\n",
    "\n",
    "The datasets are in two documents of type csv's i.e. **Comma Separated Values file** for read the content, it is necessary to load a function called `reader` of the python `csv` module.\n",
    "\n",
    "One dataset contains data from approximately 10,000 **Android apps from Google Play**; Data was collected in August 2018. \n",
    "\n",
    "\n",
    "Another dataset contains data from approximately 7,000 **iOS apps from the App Store**; Data was collected in July 2017."
   ]
  },
  {
   "cell_type": "code",
   "execution_count": 1,
   "metadata": {},
   "outputs": [
    {
     "name": "stdout",
     "output_type": "stream",
     "text": [
      "/home/ion/Formacion/git_repo_klone/albertjimrod/Python\n"
     ]
    }
   ],
   "source": [
    "!pwd"
   ]
  },
  {
   "cell_type": "code",
   "execution_count": 2,
   "metadata": {},
   "outputs": [],
   "source": [
    "from csv import reader"
   ]
  },
  {
   "cell_type": "markdown",
   "metadata": {},
   "source": [
    "* * *\n",
    "<a href='#0'> back to index</a>\n",
    "\n",
    "## <a id='1'>1. Exploring datasets</a>:\n",
    "\n",
    "Dataset exploration is crucial because it provides a deep and quick understanding of the dataset. \n",
    "\n",
    "It allows you to identify patterns, trends, and anomalies that are not noticed at first. In addition, it helps to select relevant variables, discover relationships between variables, and prepare data for more complex analyses. \n",
    "\n",
    "This results in better predictive models, more accurate reporting, and more informed decisions based on the information contained in the datasets.\n",
    "\n",
    "So, we are going to explore the two sets of data, but first we are going to kwon what type of [character encoding](https://en.wikipedia.org/wiki/Character_encoding) both datasets have.\n",
    "\n",
    "A command called [file](https://www.man7.org/linux/man-pages/man1/file.1.html), will help us to kwon the type of file regardless of its extension and avoid a error called `UnicodeDecodeError`."
   ]
  },
  {
   "cell_type": "code",
   "execution_count": 3,
   "metadata": {},
   "outputs": [
    {
     "name": "stdout",
     "output_type": "stream",
     "text": [
      "datasets/AppleStore.csv: text/csv; charset=utf-8\n"
     ]
    }
   ],
   "source": [
    "! file -i datasets/AppleStore.csv"
   ]
  },
  {
   "cell_type": "code",
   "execution_count": 4,
   "metadata": {},
   "outputs": [
    {
     "name": "stdout",
     "output_type": "stream",
     "text": [
      "datasets/googleplaystore.csv: text/csv; charset=utf-8\n"
     ]
    }
   ],
   "source": [
    "! file -i datasets/googleplaystore.csv"
   ]
  },
  {
   "cell_type": "markdown",
   "metadata": {},
   "source": [
    "Our files have the same type of charset https://en.wikipedia.org/wiki/UTF-8.\n",
    "\n",
    "\n",
    "Quick idea:\n",
    "\n",
    "- **charset:** is the set of characters you can use.\n",
    "- **encoding:** is the way these characters are stored into memory.\n",
    "\n",
    "[source](https://stackoverflow.com/questions/2281646/whats-the-difference-between-encoding-and-charset)"
   ]
  },
  {
   "cell_type": "code",
   "execution_count": 5,
   "metadata": {
    "editable": true,
    "scrolled": true,
    "slideshow": {
     "slide_type": ""
    },
    "tags": []
   },
   "outputs": [
    {
     "data": {
      "text/plain": [
       "['id',\n",
       " 'track_name',\n",
       " 'size_bytes',\n",
       " 'currency',\n",
       " 'price',\n",
       " 'rating_count_tot',\n",
       " 'rating_count_ver',\n",
       " 'user_rating',\n",
       " 'user_rating_ver',\n",
       " 'ver',\n",
       " 'cont_rating',\n",
       " 'prime_genre',\n",
       " 'sup_devices.num',\n",
       " 'ipadSc_urls.num',\n",
       " 'lang.num',\n",
       " 'vpp_lic']"
      ]
     },
     "execution_count": 5,
     "metadata": {},
     "output_type": "execute_result"
    }
   ],
   "source": [
    "AppleStore = open('datasets/AppleStore.csv', encoding='utf8')\n",
    "AppleStore = reader(AppleStore)\n",
    "AppleStore = list(AppleStore)\n",
    "header_apple = [x for x in AppleStore[0]]\n",
    "header_apple #Columns on AppleStore"
   ]
  },
  {
   "cell_type": "code",
   "execution_count": 6,
   "metadata": {},
   "outputs": [],
   "source": [
    "dataset_apple = AppleStore[1:] #whole dataset apple, no headers"
   ]
  },
  {
   "cell_type": "code",
   "execution_count": 7,
   "metadata": {},
   "outputs": [
    {
     "data": {
      "text/plain": [
       "['App',\n",
       " 'Category',\n",
       " 'Rating',\n",
       " 'Reviews',\n",
       " 'Size',\n",
       " 'Installs',\n",
       " 'Type',\n",
       " 'Price',\n",
       " 'Content Rating',\n",
       " 'Genres',\n",
       " 'Last Updated',\n",
       " 'Current Ver',\n",
       " 'Android Ver']"
      ]
     },
     "execution_count": 7,
     "metadata": {},
     "output_type": "execute_result"
    }
   ],
   "source": [
    "GooglePlay = open('datasets/googleplaystore.csv', encoding='utf8')\n",
    "GooglePlay = reader(GooglePlay)\n",
    "GooglePlay = list(GooglePlay)\n",
    "header_google = [x for x in GooglePlay[0]]\n",
    "header_google "
   ]
  },
  {
   "cell_type": "code",
   "execution_count": 8,
   "metadata": {},
   "outputs": [],
   "source": [
    "dataset_google = GooglePlay[1:] #whole dataset google, no header"
   ]
  },
  {
   "cell_type": "markdown",
   "metadata": {},
   "source": [
    "* * *\n",
    "<a href='#0'> back to index</a>\n",
    "\n",
    "### <a id='11'>1.1 Function to explore datasets</a>\n",
    "\n",
    "Sure, here's the text with the substitution: python The 'explore_data' function is used to explore a dataset in a specific range. \n",
    "\n",
    "Here's how it works step by step: \n",
    "\n",
    "1. **Take three arguments**:\n",
    "   - `dataset`: The complete dataset.\n",
    "   - `start`: The starting position from which to start the visualization.\n",
    "   - `end`: The final position up to which the data will be displayed.\n",
    "\n",
    "2. **Create a portion of the dataset**:\n",
    "    - `dataset_slice = dataset[start:end]`: This selects a subset of rows of the dataset, from row 'start' to row 'end'.\n",
    "\n",
    "3. **Print each row in the specified range**:\n",
    "   - `for row in dataset_slice: print(row)`: These are iterated through rows in 'dataset_slice' and printed by console. - 'print('\\n')': This adds an empty line after each row to improve readability.\n",
    "\n",
    "5. **Optionally, display the number of rows and columns**:\n",
    "   - If `rows_and_columns=True` is passed, prints the total number of rows and the number of columns in the dataset.\n",
    "   - 'print(`Number of rows:`, len(dataset)): Prints the total number of rows in the entire dataset.\n",
    "   - 'print(`Number of columns:`, len(dataset))': Prints the number of columns in each row, which is constant if all rows have the same structure."
   ]
  },
  {
   "cell_type": "code",
   "execution_count": 9,
   "metadata": {},
   "outputs": [],
   "source": [
    "def explore_data(dataset, start, end, rows_and_columns=False):\n",
    "        dataset_slice = dataset[start:end]    \n",
    "        for row in dataset_slice:\n",
    "            print(row)\n",
    "            print('\\n') # adds a new (empty) line after each row\n",
    "        if rows_and_columns:\n",
    "            print('Number of rows:', len(dataset))\n",
    "            print('Number of columns:', len(dataset[0]))"
   ]
  },
  {
   "cell_type": "code",
   "execution_count": 10,
   "metadata": {},
   "outputs": [
    {
     "data": {
      "text/html": [
       "<style>\n",
       "table {float:left}\n",
       "</style>\n"
      ],
      "text/plain": [
       "<IPython.core.display.HTML object>"
      ]
     },
     "metadata": {},
     "output_type": "display_data"
    }
   ],
   "source": [
    "%%html\n",
    "<style>\n",
    "table {float:left}\n",
    "</style>"
   ]
  },
  {
   "cell_type": "markdown",
   "metadata": {},
   "source": [
    "<a href='#0'> back to index</a>\n",
    "* * *\n",
    "### <a id='12'> 1.2 Data dictionary:</a>\n",
    "\n",
    "We have the name of the columns and the data that form the set of both data sets:\n",
    "\n",
    "\n",
    "#### AppleStore.csv\n",
    "\n",
    " - `header_apple`\n",
    "\n",
    " - `dataset_apple` \n",
    "\n",
    "||Name | Description|\n",
    "|:--|:---|:--|\n",
    "|1|\"id\" : |App ID|\n",
    "|2|\"track_name\": |App Name|\n",
    "|3|\"size_bytes\": |Size (in Bytes)|\n",
    "|4|\"currency\": |Currency Type|\n",
    "|5|\"price\": |Price amount|\n",
    "|6|\"ratingcounttot\": |User Rating counts (for all version)|\n",
    "|7|\"ratingcountver\": |User Rating counts (for current version)|\n",
    "|8|\"user_rating\" : |Average User Rating value (for all version)|\n",
    "|9|\"userratingver\": |Average User Rating value (for current version)|\n",
    "|10|\"ver\" : |Latest version code|\n",
    "|11|\"cont_rating\": |Content Rating|\n",
    "|12|\"prime_genre\": |Primary Genre|\n",
    "|13|\"sup_devices.num\": |Number of supporting devices|\n",
    "|14|\"ipadSc_urls.num\": |Number of screenshots showed for display|\n",
    "|15|\"lang.num\": |Number of supported languages|\n",
    "|16|\"vpp_lic\": |Vpp Device Based Licensing Enabled|\n"
   ]
  },
  {
   "cell_type": "markdown",
   "metadata": {},
   "source": [
    "#### Googleplaystore.csv\n",
    "\n",
    " - `header_google`\n",
    "\n",
    " - `dataset_google`\n",
    "\n",
    "\n",
    "||Name | Description|\n",
    "|:--|:---|:--|\n",
    "|1 | App: |Application name|\n",
    "|2 | Category: |Category the app belongs to|\n",
    "|3 | Rating: |Overall user rating of the app (as when scraped)|\n",
    "|4 | Reviews: | Number of user reviews for the app (as when scraped)|\n",
    "|5 | Size: | Size of the app (as when scraped)|\n",
    "|6 | Installs: | Number of user downloads/installs for the app (as when scraped)|\n",
    "|7 | Type: | Paid or Free|\n",
    "|8 | Price: | Price of the app (as when scraped)|\n",
    "|9 | Content: | Rating Age group the app is targeted at - Children / Mature 21+ / Adult|\n",
    "|10 |  Genres: | An app can belong to multiple genres (apart from its main category). For eg, a musical family game will belong to Music, Game, Family genres.|"
   ]
  },
  {
   "cell_type": "markdown",
   "metadata": {},
   "source": [
    "<a href='#0'> back to index</a>\n",
    "* * *\n",
    "### <a id='13'>1.3 Knowing the size in both data sets</a>."
   ]
  },
  {
   "cell_type": "code",
   "execution_count": 11,
   "metadata": {},
   "outputs": [
    {
     "name": "stdout",
     "output_type": "stream",
     "text": [
      "['529479190', 'Clash of Clans', '116476928', 'USD', '0.0', '2130805', '579', '4.5', '4.5', '9.24.12', '9+', 'Games', '38', '5', '18', '1']\n",
      "\n",
      "\n",
      "['420009108', 'Temple Run', '65921024', 'USD', '0.0', '1724546', '3842', '4.5', '4.0', '1.6.2', '9+', 'Games', '40', '5', '1', '1']\n",
      "\n",
      "\n",
      "Number of rows: 7197\n",
      "Number of columns: 16\n"
     ]
    }
   ],
   "source": [
    "explore_data(dataset_apple, 2, 4, True)"
   ]
  },
  {
   "cell_type": "code",
   "execution_count": 12,
   "metadata": {},
   "outputs": [
    {
     "name": "stdout",
     "output_type": "stream",
     "text": [
      "['U Launcher Lite – FREE Live Cool Themes, Hide Apps', 'ART_AND_DESIGN', '4.7', '87510', '8.7M', '5,000,000+', 'Free', '0', 'Everyone', 'Art & Design', 'August 1, 2018', '1.2.4', '4.0.3 and up']\n",
      "\n",
      "\n",
      "['Sketch - Draw & Paint', 'ART_AND_DESIGN', '4.5', '215644', '25M', '50,000,000+', 'Free', '0', 'Teen', 'Art & Design', 'June 8, 2018', 'Varies with device', '4.2 and up']\n",
      "\n",
      "\n",
      "Number of rows: 10841\n",
      "Number of columns: 13\n"
     ]
    }
   ],
   "source": [
    "explore_data(dataset_google, 2, 4, True)"
   ]
  },
  {
   "cell_type": "markdown",
   "metadata": {},
   "source": [
    "### Resume\n",
    "\n",
    "|`dataset_apple`|`dataset_google`|\n",
    "|:----|:----|\n",
    "|Number of rows: 7197| Number of rows: 10841|\n",
    "|Number of columns: 16|Number of columns: 13|"
   ]
  },
  {
   "cell_type": "markdown",
   "metadata": {},
   "source": [
    "<a href='#0'> back to index</a>\n",
    "* * *\n",
    "## <a id='2'>2. Data cleaning</a>\n",
    "\n",
    "Once we have explored the datasets, considering that we create free applications in English, simply to download and install, we must remove the applications that are not free and those that are not in English. The next step we have to do is to perform a data cleansing before the analysis, which involves:\n",
    "\n",
    "This means that we need to:\n",
    "\n",
    "- 1. **Detect inaccurate data, and correct or remove it**.\n",
    "\n",
    "- 2. **Detect duplicate data, and remove the duplicates**.\n",
    "\n",
    "- 3. **Remove non-English apps like 爱奇艺PPS -《欢乐颂2》电视剧热播**.\n",
    "\n",
    "- 4. **Remove apps that aren't free##**.\n",
    "\n",
    "\n",
    "The Google Play dataset has a dedicated [discussion section](https://www.kaggle.com/datasets/lava18/google-play-store-apps/discussion?sort=votes), and we can see that [one of the discussions](https://www.kaggle.com/datasets/lava18/google-play-store-apps/discussion/66015) describes an error for a certain row.\n",
    "\n",
    "<a href='#0'> back to index</a>\n",
    "* * *\n",
    "### <a id='21'>2.1. Detect inaccurate data... remove it.</a>\n",
    "\n",
    "If the number of columns in a row varies then some data is missing.\n",
    "\n",
    "This function `field_number` has a pair of parameters `dataset`, `header` in which we enter the dataset and the header.\n",
    "\n",
    "The passage of each row compare the number of fields with the number of fields in header if they do not coincide then in that line **some type of data is missing**.\n",
    "\n",
    "<br>\n",
    "\n",
    "#### `field_number` feature:\n",
    "\n",
    "<br>\n",
    "\n",
    "The `field_number` function checks the number of columns in each row of the dataset against the header length. \n",
    "\n",
    "It takes two arguments: \n",
    "\n",
    "- the dataset and the header.\n",
    "\n",
    "<br>\n",
    "\n",
    "The function iterates through each row, comparing the number of elements in each row to the length of the header. \n",
    "\n",
    "If a row has a different number of columns, it prints that row, indicates the index number where the error occurs, and notes the incorrect number of columns."
   ]
  },
  {
   "cell_type": "code",
   "execution_count": 13,
   "metadata": {},
   "outputs": [],
   "source": [
    "def field_number(dataset, header):\n",
    "    index_number = 0\n",
    "    for row in range(len(dataset)):\n",
    "        if len(dataset[row]) != len(header):\n",
    "            print(dataset[row])\n",
    "            print(\"\\n\")\n",
    "            print(\"error in index number: \",index_number)\n",
    "            print(\"number of columns has an error: \",len(dataset[row]))\n",
    "        index_number +=1"
   ]
  },
  {
   "cell_type": "code",
   "execution_count": 14,
   "metadata": {},
   "outputs": [],
   "source": [
    "field_number(dataset_apple, header_apple)"
   ]
  },
  {
   "cell_type": "code",
   "execution_count": 15,
   "metadata": {},
   "outputs": [
    {
     "name": "stdout",
     "output_type": "stream",
     "text": [
      "['Life Made WI-Fi Touchscreen Photo Frame', '1.9', '19', '3.0M', '1,000+', 'Free', '0', 'Everyone', '', 'February 11, 2018', '1.0.19', '4.0 and up']\n",
      "\n",
      "\n",
      "error in index number:  10472\n",
      "number of columns has an error:  12\n"
     ]
    }
   ],
   "source": [
    "field_number(dataset_google, header_google)"
   ]
  },
  {
   "cell_type": "code",
   "execution_count": 16,
   "metadata": {},
   "outputs": [
    {
     "data": {
      "text/plain": [
       "12"
      ]
     },
     "execution_count": 16,
     "metadata": {},
     "output_type": "execute_result"
    }
   ],
   "source": [
    "len(dataset_google[10472]) #discussion row"
   ]
  },
  {
   "cell_type": "code",
   "execution_count": 17,
   "metadata": {},
   "outputs": [
    {
     "data": {
      "text/plain": [
       "['Life Made WI-Fi Touchscreen Photo Frame',\n",
       " '1.9',\n",
       " '19',\n",
       " '3.0M',\n",
       " '1,000+',\n",
       " 'Free',\n",
       " '0',\n",
       " 'Everyone',\n",
       " '',\n",
       " 'February 11, 2018',\n",
       " '1.0.19',\n",
       " '4.0 and up']"
      ]
     },
     "execution_count": 17,
     "metadata": {},
     "output_type": "execute_result"
    }
   ],
   "source": [
    "dataset_google[10472]"
   ]
  },
  {
   "cell_type": "markdown",
   "metadata": {},
   "source": [
    "We have passed the two datasets through the function and there is a row in the `dataset_google` with a different length from the number of columns therefore we are going to remove it from our dataset."
   ]
  },
  {
   "cell_type": "code",
   "execution_count": 18,
   "metadata": {},
   "outputs": [],
   "source": [
    "del dataset_google[10472]"
   ]
  },
  {
   "cell_type": "markdown",
   "metadata": {},
   "source": [
    "Checking if row has been removed properlly."
   ]
  },
  {
   "cell_type": "code",
   "execution_count": 19,
   "metadata": {},
   "outputs": [
    {
     "data": {
      "text/plain": [
       "['osmino Wi-Fi: free WiFi',\n",
       " 'TOOLS',\n",
       " '4.2',\n",
       " '134203',\n",
       " '4.1M',\n",
       " '10,000,000+',\n",
       " 'Free',\n",
       " '0',\n",
       " 'Everyone',\n",
       " 'Tools',\n",
       " 'August 7, 2018',\n",
       " '6.06.14',\n",
       " '4.4 and up']"
      ]
     },
     "execution_count": 19,
     "metadata": {},
     "output_type": "execute_result"
    }
   ],
   "source": [
    "dataset_google[10472]"
   ]
  },
  {
   "cell_type": "markdown",
   "metadata": {},
   "source": [
    "#### yes ...It has been removed"
   ]
  },
  {
   "cell_type": "markdown",
   "metadata": {},
   "source": [
    "<a href='#0'> back to index</a>\n",
    "* * *\n",
    "### <a id='22'>2.2 Detect duplicate data, and remove the duplicates.</a>\n",
    "\n",
    "We have already checked that there is a coherence between the columns and columns of each of the rows of both datasets, so we must go forwards and check the existence of applications with the repeated name. \n",
    "\n",
    "So let's check if this is true in both datasets:\n",
    "\n",
    "\n",
    "<br>\n",
    "\n",
    "#### `detect_duplicated` feature:\n",
    "\n",
    "<br>\n",
    "\n",
    "The `detect_duplicated` function identifies and prints any duplicate apps in the dataset. \n",
    "\n",
    "It takes the dataset as an argument and iterates through each row, checking if the app name (the first element of each row) has appeared before. \n",
    "\n",
    "If a duplicate is found, it adds the name to a list of duplicates. \n",
    "\n",
    "After processing all rows, it prints whether there are any duplicates and, if so, provides examples of five such duplicates.\n"
   ]
  },
  {
   "cell_type": "code",
   "execution_count": 20,
   "metadata": {},
   "outputs": [],
   "source": [
    "def detect_duplicated(dataset):\n",
    "    unique_apps = []\n",
    "    duplicate_apps = []\n",
    "    \n",
    "    for row in dataset:\n",
    "        name = row[0]\n",
    "        if name in unique_apps:\n",
    "            duplicate_apps.append(name)\n",
    "        else:\n",
    "            unique_apps.append(name)\n",
    "            \n",
    "    if len(duplicate_apps) == 0:\n",
    "        print(\"In this dataset there are no duplicate apps\")\n",
    "    else:\n",
    "        times=len(duplicate_apps)\n",
    "        print(\"There are {reapeated} repeated apps\".format(reapeated=times,dataset=dataset))\n",
    "        print(\"\\n\")\n",
    "        print('Examples of duplicate apps:',\"\\n\"+\"\\n\" , duplicate_apps[:5])"
   ]
  },
  {
   "cell_type": "code",
   "execution_count": 21,
   "metadata": {},
   "outputs": [
    {
     "name": "stdout",
     "output_type": "stream",
     "text": [
      "In this dataset there are no duplicate apps\n"
     ]
    }
   ],
   "source": [
    "detect_duplicated(dataset_apple)"
   ]
  },
  {
   "cell_type": "code",
   "execution_count": 22,
   "metadata": {},
   "outputs": [
    {
     "name": "stdout",
     "output_type": "stream",
     "text": [
      "There are 1181 repeated apps\n",
      "\n",
      "\n",
      "Examples of duplicate apps: \n",
      "\n",
      " ['Quick PDF Scanner + OCR FREE', 'Box', 'Google My Business', 'ZOOM Cloud Meetings', 'join.me - Simple Meetings']\n"
     ]
    }
   ],
   "source": [
    "detect_duplicated(dataset_google)"
   ]
  },
  {
   "cell_type": "markdown",
   "metadata": {},
   "source": [
    "Just only 5 samples of the repeated applications in **dataset_google**\n",
    "\n",
    "* * * \n",
    "<a href='#0'> back to index</a>\n",
    "### <a id='23'>2.3 What differentiates duplicate applications?</a>\n",
    "\n",
    "If we take one of this as an example of a repeated application, we see that out of all the fields that make up the row **there is only one that differs**.\n",
    "\n",
    "Once we have verified that there are many applications (some) repeated more than once, the next step would be to determine which criterion to follow for removing the applications:\n",
    "\n",
    "In this case, the criterion has been: **the application with the higher number of reviews should have the most recent data**.\""
   ]
  },
  {
   "cell_type": "code",
   "execution_count": 23,
   "metadata": {},
   "outputs": [
    {
     "name": "stdout",
     "output_type": "stream",
     "text": [
      "['Quick PDF Scanner + OCR FREE', 'BUSINESS', '4.2', '80805', 'Varies with device', '5,000,000+', 'Free', '0', 'Everyone', 'Business', 'February 26, 2018', 'Varies with device', '4.0.3 and up']\n",
      "['Quick PDF Scanner + OCR FREE', 'BUSINESS', '4.2', '80805', 'Varies with device', '5,000,000+', 'Free', '0', 'Everyone', 'Business', 'February 26, 2018', 'Varies with device', '4.0.3 and up']\n",
      "['Quick PDF Scanner + OCR FREE', 'BUSINESS', '4.2', '80804', 'Varies with device', '5,000,000+', 'Free', '0', 'Everyone', 'Business', 'February 26, 2018', 'Varies with device', '4.0.3 and up']\n"
     ]
    }
   ],
   "source": [
    "for app in dataset_google[1:]:\n",
    "    if app[0] == 'Quick PDF Scanner + OCR FREE':\n",
    "        print(app)"
   ]
  },
  {
   "cell_type": "code",
   "execution_count": 24,
   "metadata": {},
   "outputs": [
    {
     "name": "stdout",
     "output_type": "stream",
     "text": [
      "['MailChimp - Email, Marketing Automation', 'BUSINESS', '4.1', '5448', '12M', '500,000+', 'Free', '0', 'Everyone', 'Business', 'July 25, 2018', '4.9.1', '5.0 and up']\n",
      "['MailChimp - Email, Marketing Automation', 'BUSINESS', '4.1', '5448', '12M', '500,000+', 'Free', '0', 'Everyone', 'Business', 'July 25, 2018', '4.9.1', '5.0 and up']\n"
     ]
    }
   ],
   "source": [
    "for app in dataset_google[1:]:\n",
    "    if app[0] == 'MailChimp - Email, Marketing Automation':\n",
    "        print(app)"
   ]
  },
  {
   "cell_type": "markdown",
   "metadata": {},
   "source": [
    "Once we have verified that there are applications (many) repeated more than once, the next step would be to determine **what criteria to follow to remove the applications**:\n",
    "\n",
    "- Instead of eliminating random duplicates we will only keep those applications that are repeated and have the highest number of reviews, they will be the ones that will prevail in our dataset, the others will be eliminated.\n",
    "\n",
    "<br>\n",
    "\n",
    "#### `uniq_apps_top_reviews` feature:\n",
    "\n",
    "<br>\n",
    "\n",
    "The `uniq_apps_top_reviews` function creates a dictionary where the keys are unique app names and the values are the maximum number of reviews for each app. \n",
    "\n",
    "It iterates through the dataset, extracts the app name and review count, and updates the dictionary to keep only the highest review count for each app.\n",
    "\n",
    "After processing all rows, it prints the length of the resulting dictionary and returns it."
   ]
  },
  {
   "cell_type": "code",
   "execution_count": 25,
   "metadata": {},
   "outputs": [],
   "source": [
    "def uniq_apps_top_reviews(dataset):  # diccionario con el nombre de las aplicaciones con su máximo review\n",
    "    reviews_max = {} #key=name[0], value=review[3]\n",
    "    \n",
    "    for app in dataset: # No tengo que tener en cuenta la fila de las columnas\n",
    "        name = app[0]\n",
    "        n_reviews = float(app[3]) # porque si lo hiciera tendría un error al convertir a float \n",
    "                                  # pero esto me deja el dataset sin nombres de columnas! Debo hacer lo mismo en el de Apple.  \n",
    "        \n",
    "        if name in reviews_max and reviews_max[name] < n_reviews:\n",
    "            reviews_max[name] = n_reviews\n",
    "            \n",
    "        elif name is not reviews_max:\n",
    "            reviews_max[name] = n_reviews\n",
    "    \n",
    "    return reviews_max"
   ]
  },
  {
   "cell_type": "markdown",
   "metadata": {},
   "source": [
    "In a previous code cell, we found that there are 1,181 cases where an app occurs more than once, so the length of our dictionary (of unique apps) should be equal to the difference between the length of our data set and 1,181."
   ]
  },
  {
   "cell_type": "code",
   "execution_count": 26,
   "metadata": {},
   "outputs": [
    {
     "name": "stdout",
     "output_type": "stream",
     "text": [
      "Expected length: 9659\n",
      "Actual length: 9659\n"
     ]
    }
   ],
   "source": [
    "print('Expected length:', len(dataset_google) - 1181)\n",
    "print('Actual length:', len(uniq_apps_top_reviews(dataset_google)))"
   ]
  },
  {
   "cell_type": "markdown",
   "metadata": {},
   "source": [
    "The next step we have to do is a function that takes a dataset and a dictionary as inputs. It filters the dataset to include only those entries where the number of reviews matches the maximum number of reviews for that application, based on the dictionary."
   ]
  },
  {
   "cell_type": "code",
   "execution_count": 27,
   "metadata": {},
   "outputs": [],
   "source": [
    "reviews_max = uniq_apps_top_reviews(dataset_google)"
   ]
  },
  {
   "cell_type": "markdown",
   "metadata": {},
   "source": [
    "<br>\n",
    "\n",
    "#### `rev_apps` feature:\n",
    "\n",
    "<br>\n",
    "\n",
    "The `rev_apps` function filters the dataset to include only those apps that have the maximum number of reviews as recorded in a given dictionary (`reviews_max`). \n",
    "\n",
    "It takes two arguments: \n",
    "\n",
    "- the `dataset` and a dictionary (`dict`). \n",
    "\n",
    "For each app in the dataset, it checks if the app's name exists in the dictionary and if the review count matches the value in the dictionary. \n",
    "\n",
    "If both conditions are met and the app has not been added to the result list yet, it appends the app to `android_clean` and marks the app as added by appending its name to `already_added`. \n",
    "\n",
    "Finally, it returns the filtered list of apps."
   ]
  },
  {
   "cell_type": "code",
   "execution_count": 28,
   "metadata": {},
   "outputs": [],
   "source": [
    "def rev_apps(dataset, dict):\n",
    "    data_cleaned = []\n",
    "    already_added = []\n",
    "    for app in dataset:\n",
    "        name = app[0]\n",
    "        n_reviews = float(app[3])\n",
    "        \n",
    "        if ((dict[name] == n_reviews) and (name not in already_added)):\n",
    "            data_cleaned.append(app)\n",
    "            already_added.append(name)\n",
    "    \n",
    "    return data_cleaned"
   ]
  },
  {
   "cell_type": "code",
   "execution_count": 29,
   "metadata": {},
   "outputs": [],
   "source": [
    "android_clean = rev_apps(dataset_google,reviews_max) # cleaning all dataset"
   ]
  },
  {
   "cell_type": "markdown",
   "metadata": {},
   "source": [
    "`android_clean` is the our **new dataset**"
   ]
  },
  {
   "cell_type": "code",
   "execution_count": 30,
   "metadata": {},
   "outputs": [
    {
     "name": "stdout",
     "output_type": "stream",
     "text": [
      "['U Launcher Lite – FREE Live Cool Themes, Hide Apps', 'ART_AND_DESIGN', '4.7', '87510', '8.7M', '5,000,000+', 'Free', '0', 'Everyone', 'Art & Design', 'August 1, 2018', '1.2.4', '4.0.3 and up']\n",
      "\n",
      "\n",
      "Number of rows: 9659\n",
      "Number of columns: 13\n"
     ]
    }
   ],
   "source": [
    "explore_data(android_clean, 1, 2, True)"
   ]
  },
  {
   "cell_type": "code",
   "execution_count": 31,
   "metadata": {},
   "outputs": [
    {
     "name": "stdout",
     "output_type": "stream",
     "text": [
      "['U Launcher Lite – FREE Live Cool Themes, Hide Apps', 'ART_AND_DESIGN', '4.7', '87510', '8.7M', '5,000,000+', 'Free', '0', 'Everyone', 'Art & Design', 'August 1, 2018', '1.2.4', '4.0.3 and up']\n",
      "\n",
      "\n",
      "Number of rows: 9659\n",
      "Number of columns: 13\n"
     ]
    }
   ],
   "source": [
    "explore_data(android_clean, 1, 2, True)"
   ]
  },
  {
   "cell_type": "markdown",
   "metadata": {},
   "source": [
    "We update the status of the datasets\n",
    "|`dataset_apple`|`android_clean`|\n",
    "|:----|:----|\n",
    "|Number of rows: 7197| Number of rows: 9659|\n",
    "|Number of columns: 16|Number of columns: 13|\n",
    "|________________________________________________________________________________________________|_______________________________________________________________|"
   ]
  },
  {
   "cell_type": "markdown",
   "metadata": {},
   "source": [
    "<a href='#0'> back to index</a>\n",
    "* * *\n",
    "### <a id='24'>2.4 Removing Non-English Apps</a>"
   ]
  },
  {
   "cell_type": "markdown",
   "metadata": {},
   "source": [
    "1. **General Objective**: Our company develops applications in English and we are interested in analyzing only those applications aimed at an English-speaking audience.\n",
    "\n",
    "2. **Identified Problem**: Upon examining the data, we have found that some application names suggest they are not intended for an English-speaking audience. This is often due to the presence of symbols or characters that are not commonly used in English text.\n",
    "\n",
    "3. **Proposed Strategy**: To address this problem, we will remove all applications whose names contain symbols that are not typically used in English. These symbols include letters from other alphabets, punctuation marks (., !, ?, ;), and other non-alphabetic characters such as (+, *, /).\n",
    "\n",
    "4. **Detailed Method**:\n",
    "   - Each character (letter, number, dot, comma, etc.) has a corresponding number that can be obtained using the built-in function `ord()`.\n",
    "   - For example, the character \"a\" corresponds to 97, \"A\" corresponds to 65, and any other non-alphabetic character might have a different value (for instance, \"爱\" is 29.233).\n",
    "   - We will use the `ord()` function to get the numerical value of each character in a string.\n",
    "   - If a character has a number that falls outside the common range for English characters (i.e., not within the range 65-90 for uppercase and 97-122 for lowercase), we will remove that application.\n",
    "\n",
    "In summary, our strategy is:\n",
    "- Use `ord()` to get the numerical value of each character in the names of the applications.\n",
    "- Compare this value with the common range of values for English characters (65-90 for uppercase and 97-122 for lowercase).\n",
    "- Remove any applications whose names contain at least one character outside this range.\n",
    "\n",
    "This strategy will ensure that we only analyze applications with names clearly in English.\n",
    "\n",
    "We use English for the applications we develop in our company, and we would like to analyze only applications aimed at an English-speaking audience. \n",
    "\n",
    "\n",
    "However, if we explore the data enough, we will find that **both datasets** have applications with names that suggest they are not aimed at an English-speaking audience.\n",
    "\n",
    "\n",
    "<br>\n",
    "\n",
    "#### `english_speak` feature:\n",
    "\n",
    "<br>\n",
    "\n",
    "The `english_speak` function checks whether a given string consists only of English characters. \n",
    "\n",
    "It iterates through each character in the string, converts it to its ASCII value using `ord(character)`, and returns `True` if all characters have an ASCII value less than or equal to 127 (indicating they are English). \n",
    "\n",
    "If any character has an ASCII value greater than 127, it returns `False`."
   ]
  },
  {
   "cell_type": "code",
   "execution_count": 32,
   "metadata": {},
   "outputs": [],
   "source": [
    "def english_speak(string):\n",
    "    for character in string:\n",
    "        valor_character = ord(character)\n",
    "        if valor_character > 127:\n",
    "            return False #not English \n",
    "        else:\n",
    "            return True # is English"
   ]
  },
  {
   "cell_type": "code",
   "execution_count": 33,
   "metadata": {},
   "outputs": [
    {
     "data": {
      "text/plain": [
       "True"
      ]
     },
     "execution_count": 33,
     "metadata": {},
     "output_type": "execute_result"
    }
   ],
   "source": [
    "english_speak('Instagram')"
   ]
  },
  {
   "cell_type": "code",
   "execution_count": 34,
   "metadata": {},
   "outputs": [
    {
     "data": {
      "text/plain": [
       "False"
      ]
     },
     "execution_count": 34,
     "metadata": {},
     "output_type": "execute_result"
    }
   ],
   "source": [
    "english_speak('爱奇艺PPS')"
   ]
  },
  {
   "cell_type": "code",
   "execution_count": 35,
   "metadata": {},
   "outputs": [
    {
     "data": {
      "text/plain": [
       "True"
      ]
     },
     "execution_count": 35,
     "metadata": {},
     "output_type": "execute_result"
    }
   ],
   "source": [
    "english_speak('Docs To Go™ Free Office Suite')#Is English!"
   ]
  },
  {
   "cell_type": "code",
   "execution_count": 36,
   "metadata": {},
   "outputs": [
    {
     "data": {
      "text/plain": [
       "True"
      ]
     },
     "execution_count": 36,
     "metadata": {},
     "output_type": "execute_result"
    }
   ],
   "source": [
    "english_speak('Instachat 😜😜😜😜') #Is English!"
   ]
  },
  {
   "cell_type": "markdown",
   "metadata": {},
   "source": [
    "If we are going to use the function we have created, we will lose useful data, we saw that the function could not correctly identify certain names of English applications such as **'Docs To Go™ Free Office Suite'** and **'Instachat 😜'** since many English applications will be incorrectly labeled as non-English. \n",
    "\n",
    "\n",
    "To **minimize the impact of data loss**,it is necessary to have a basic criterion that helps in the screening so **we will only delete an application if its name is longer than three characters with the corresponding numbers outside the ASCII range**. \n",
    "\n",
    "This means that all English apps with up to three emoji or other special characters will still be labeled as English. "
   ]
  },
  {
   "cell_type": "code",
   "execution_count": 37,
   "metadata": {},
   "outputs": [],
   "source": [
    "def is_english(string):\n",
    "    non_ascii = 0\n",
    "    \n",
    "    for character in string:\n",
    "        if ord(character) > 127:\n",
    "            non_ascii += 1\n",
    "    \n",
    "    if non_ascii > 3:\n",
    "        return False\n",
    "    else:\n",
    "        return True"
   ]
  },
  {
   "cell_type": "code",
   "execution_count": 38,
   "metadata": {},
   "outputs": [
    {
     "data": {
      "text/plain": [
       "True"
      ]
     },
     "execution_count": 38,
     "metadata": {},
     "output_type": "execute_result"
    }
   ],
   "source": [
    "english_speak('Docs To Go™ Free Office Suite')"
   ]
  },
  {
   "cell_type": "code",
   "execution_count": 39,
   "metadata": {},
   "outputs": [
    {
     "data": {
      "text/plain": [
       "False"
      ]
     },
     "execution_count": 39,
     "metadata": {},
     "output_type": "execute_result"
    }
   ],
   "source": [
    "english_speak('爱奇艺PPS -《欢乐颂2》电视剧热播')"
   ]
  },
  {
   "cell_type": "code",
   "execution_count": 40,
   "metadata": {},
   "outputs": [
    {
     "data": {
      "text/plain": [
       "True"
      ]
     },
     "execution_count": 40,
     "metadata": {},
     "output_type": "execute_result"
    }
   ],
   "source": [
    "english_speak('Instachat 😜 😜')"
   ]
  },
  {
   "cell_type": "code",
   "execution_count": 41,
   "metadata": {},
   "outputs": [
    {
     "name": "stdout",
     "output_type": "stream",
     "text": [
      "['Photo Editor & Candy Camera & Grid & ScrapBook', 'ART_AND_DESIGN', '4.1', '159', '19M', '10,000+', 'Free', '0', 'Everyone', 'Art & Design', 'January 7, 2018', '1.0.0', '4.0.3 and up']\n",
      "\n",
      "\n",
      "['U Launcher Lite – FREE Live Cool Themes, Hide Apps', 'ART_AND_DESIGN', '4.7', '87510', '8.7M', '5,000,000+', 'Free', '0', 'Everyone', 'Art & Design', 'August 1, 2018', '1.2.4', '4.0.3 and up']\n",
      "\n",
      "\n",
      "['Sketch - Draw & Paint', 'ART_AND_DESIGN', '4.5', '215644', '25M', '50,000,000+', 'Free', '0', 'Teen', 'Art & Design', 'June 8, 2018', 'Varies with device', '4.2 and up']\n",
      "\n",
      "\n",
      "Number of rows: 9614\n",
      "Number of columns: 13\n",
      "\n",
      "\n",
      "['284882215', 'Facebook', '389879808', 'USD', '0.0', '2974676', '212', '3.5', '3.5', '95.0', '4+', 'Social Networking', '37', '1', '29', '1']\n",
      "\n",
      "\n",
      "['389801252', 'Instagram', '113954816', 'USD', '0.0', '2161558', '1289', '4.5', '4.0', '10.23', '12+', 'Photo & Video', '37', '0', '29', '1']\n",
      "\n",
      "\n",
      "['529479190', 'Clash of Clans', '116476928', 'USD', '0.0', '2130805', '579', '4.5', '4.5', '9.24.12', '9+', 'Games', '38', '5', '18', '1']\n",
      "\n",
      "\n",
      "Number of rows: 6183\n",
      "Number of columns: 16\n"
     ]
    }
   ],
   "source": [
    "android_english = []\n",
    "ios_english = []\n",
    "\n",
    "for app in android_clean:\n",
    "    name = app[0]\n",
    "    if is_english(name):\n",
    "        android_english.append(app)\n",
    "        \n",
    "for app in dataset_apple:\n",
    "    name = app[1]\n",
    "    if is_english(name):\n",
    "        ios_english.append(app)\n",
    "        \n",
    "explore_data(android_english, 0, 3, True)\n",
    "print('\\n')\n",
    "explore_data(ios_english, 0, 3, True)"
   ]
  },
  {
   "cell_type": "markdown",
   "metadata": {},
   "source": [
    "At this point it is important to remember what the names of the datasets are, thus avoiding failures.\n",
    "\n",
    "|Dataset names|lenght|\n",
    "|:----|:----|\n",
    "|android_english|9614|\n",
    "|ios_english|6183|"
   ]
  },
  {
   "cell_type": "markdown",
   "metadata": {},
   "source": [
    "<a href='#0'> back to index</a>\n",
    "* * *\n",
    "\n",
    "### <a id='25'>2.5 Filter non-English applications from both datasets.</a> \n",
    "\n",
    "If an app's name is identified as English, the we add the entire row to a separate list.\n",
    "\n",
    "<br>\n",
    "\n",
    "#### `cleaning_dataset` feature:\n",
    "\n",
    "<br>\n",
    "\n",
    "\n",
    "The `cleaning_dataset` function cleans the dataset by filtering out rows where the app name is not composed of English characters. \n",
    "\n",
    "It takes the dataset as an argument and iterates through each row, starting from the second row (index 1). \n",
    "\n",
    "For each row, it extracts the app name and uses the `english_speak` function to check if the name consists only of English characters. \n",
    "\n",
    "If the name is valid, the row is appended to `list_clean`. \n",
    "\n",
    "Otherwise, it skips to the next row. Finally, it returns the filtered list of rows."
   ]
  },
  {
   "cell_type": "code",
   "execution_count": 42,
   "metadata": {},
   "outputs": [],
   "source": [
    "def cleaning_dataset(dataset):\n",
    "    list_clean = []\n",
    "    for row in dataset[1:]:\n",
    "        name = row[1]\n",
    "        if english_speak(name):\n",
    "            list_clean.append(row)\n",
    "        else:\n",
    "            pass\n",
    "    return list_clean"
   ]
  },
  {
   "cell_type": "code",
   "execution_count": 43,
   "metadata": {},
   "outputs": [],
   "source": [
    "# Android\n",
    "\n",
    "clean_android = cleaning_dataset(android_english)"
   ]
  },
  {
   "cell_type": "code",
   "execution_count": 44,
   "metadata": {},
   "outputs": [],
   "source": [
    "# AppleStore\n",
    "\n",
    "clean_ios = cleaning_dataset(ios_english)"
   ]
  },
  {
   "cell_type": "markdown",
   "metadata": {},
   "source": [
    "<a href='#0'> back to index</a>\n",
    "* * *\n",
    "### <a id='26'>2.6 Exploring datasets and see how many rows we have left for each dataset.</a>\n",
    "\n",
    "In each cleaning process we have put different names to our dataset variables so it is important to take them into account"
   ]
  },
  {
   "cell_type": "code",
   "execution_count": 45,
   "metadata": {},
   "outputs": [
    {
     "name": "stdout",
     "output_type": "stream",
     "text": [
      "['Pixel Draw - Number Art Coloring Book', 'ART_AND_DESIGN', '4.3', '967', '2.8M', '100,000+', 'Free', '0', 'Everyone', 'Art & Design;Creativity', 'June 20, 2018', '1.1', '4.4 and up']\n",
      "\n",
      "\n",
      "['Paper flowers instructions', 'ART_AND_DESIGN', '4.4', '167', '5.6M', '50,000+', 'Free', '0', 'Everyone', 'Art & Design', 'March 26, 2017', '1.0', '2.3 and up']\n",
      "\n",
      "\n",
      "Number of rows: 9613\n",
      "Number of columns: 13\n"
     ]
    }
   ],
   "source": [
    "explore_data(clean_android, 2, 4, True)"
   ]
  },
  {
   "cell_type": "code",
   "execution_count": 46,
   "metadata": {},
   "outputs": [
    {
     "name": "stdout",
     "output_type": "stream",
     "text": [
      "['420009108', 'Temple Run', '65921024', 'USD', '0.0', '1724546', '3842', '4.5', '4.0', '1.6.2', '9+', 'Games', '40', '5', '1', '1']\n",
      "\n",
      "\n",
      "['284035177', 'Pandora - Music & Radio', '130242560', 'USD', '0.0', '1126879', '3594', '4.0', '4.5', '8.4.1', '12+', 'Music', '37', '4', '1', '1']\n",
      "\n",
      "\n",
      "Number of rows: 6145\n",
      "Number of columns: 16\n"
     ]
    }
   ],
   "source": [
    "explore_data(clean_ios, 2, 4, True)"
   ]
  },
  {
   "cell_type": "markdown",
   "metadata": {},
   "source": [
    "**Now we are working with this:**\n",
    "\n",
    "\n",
    "|Dataset names|lenght|\n",
    "|:----|:----|\n",
    "|`clean_android`|9658|\n",
    "|`clean_ios`|6154|"
   ]
  },
  {
   "cell_type": "markdown",
   "metadata": {},
   "source": [
    "<a href='#0'> back to index</a>\n",
    "* * *\n",
    "## <a id='3'>3. Isolating Free Apps</a>\n",
    "\n",
    "Our datasets contain **free and non-free applications**, to isolate only free apps from our datasets and check how many apps we have left for analysis, we need to determine **which number** of column indicates whether an app is free or paid. Then, we will see the length of each dataset to know the exact number of free apps.\n",
    "\n",
    "Checking the length of each dataset to see how many apps have left."
   ]
  },
  {
   "cell_type": "code",
   "execution_count": 47,
   "metadata": {},
   "outputs": [
    {
     "name": "stdout",
     "output_type": "stream",
     "text": [
      "8863\n",
      "3189\n"
     ]
    }
   ],
   "source": [
    "android_final = []\n",
    "ios_final = []\n",
    "\n",
    "for app in clean_android:\n",
    "    price = app[7]\n",
    "    if price == '0':\n",
    "        android_final.append(app)\n",
    "        \n",
    "for app in clean_ios:\n",
    "    price = app[4]\n",
    "    if price == '0.0':\n",
    "        ios_final.append(app)\n",
    "        \n",
    "print(len(android_final))\n",
    "print(len(ios_final))"
   ]
  },
  {
   "cell_type": "markdown",
   "metadata": {},
   "source": [
    "<br>\n",
    "\n",
    "#### `free_apple_clean` feature:\n",
    "\n",
    "<br>\n",
    "\n",
    "The `free_apple_clean` function filters the dataset to include only those rows where the price (either in the 4th column or the 7th column) is '0.0' or '0'. It checks each row and appends it to `free_apple_clean` if the price meets the criteria. If the price is neither '0.0' nor '0', it skips that row. Finally, it returns the filtered list of rows.\n",
    "\n",
    "To make it work for both cases (4th column or 7th column), you can modify the function to accept an additional parameter specifying the index of the price column."
   ]
  },
  {
   "cell_type": "markdown",
   "metadata": {},
   "source": [
    "**Updating names and lengths**\n",
    "\n",
    "\n",
    "|Dataset names|lenght|\n",
    "|:----|:----|\n",
    "|`clean_ios`|3189|\n",
    "|`clean_android`|8863|"
   ]
  },
  {
   "cell_type": "markdown",
   "metadata": {},
   "source": [
    "<a href='#0'> back to index</a>\n",
    "* * *\n",
    "\n",
    "### <a id='31'>3.1 Our ultimate goal</a>\n",
    "\n",
    "As we mentioned in the introduction, our goal is to determine the types of apps that are likely to attract more users because the number of people who use our apps affects our revenue. \n",
    "\n",
    "To minimize risks and overhead, our validation strategy for an app idea has three steps: \n",
    "\n",
    "- Create a minimum Android version of the app and add it to Google Play.\n",
    "- If the app has a good response from users, we develop it further.\n",
    "    - If the app is profitable after six months, we build an iOS version of the app and add it to the App Store.\n",
    "\n",
    "\n",
    "<br>\n",
    "\n",
    "Because our ultimate goal is to add the app on both Google Play and the App Store, we need to find app profiles that are successful in both markets. For example, a profile that works well for both markets could be a productivity app that makes use of gamification.\n",
    "\n",
    "Our **ultimate goal** is to add the app on both `Google Play` and the `App Store`.\n",
    "\n",
    "So we need to find profiles of apps that are successful **in both markets**. \n",
    "\n",
    "Let's start the analysis by having an idea of **what are the most common genres for each market**. To do this, we will have to build frequency tables for some columns of our datasets.\n",
    "\n",
    "The columns that can give us the information we need are:\n",
    "\n",
    "`free_apple_clean[11]` ---> `prime_genre`\n",
    "\n",
    "`free_android_clean[9]` ---> `Genres`"
   ]
  },
  {
   "cell_type": "markdown",
   "metadata": {},
   "source": [
    "<br>\n",
    "\n",
    "#### `freq_table` feature:\n",
    "\n",
    "<br>\n",
    "\n",
    "The `freq_table` function creates a frequency table and percentage distribution for the values in a specified column of a dataset. \n",
    "\n",
    "It takes two parameters: `dataset`, which is the list of rows, and `column`, which specifies which column to analyze. \n",
    "\n",
    "The function counts how many times each value appears in that column and calculates the percentage of total occurrences for each value. \n",
    "\n",
    "Finally, it returns a dictionary where each key is a unique value from the specified column, and the corresponding value is its frequency percentage."
   ]
  },
  {
   "cell_type": "code",
   "execution_count": 48,
   "metadata": {},
   "outputs": [],
   "source": [
    "def freq_table(dataset, column):\n",
    "    table = {}\n",
    "    total = 0\n",
    "    \n",
    "    for row in dataset:\n",
    "        total +=1 # counter give us length.\n",
    "        value = row[column]\n",
    "        if value in table:\n",
    "            table[value] +=1\n",
    "        else:\n",
    "            table[value] = 1\n",
    "        \n",
    "    table_percentages = {}\n",
    "    \n",
    "    for key in table: #table[column value]<--as key] value <--as +1 values added \n",
    "        percentage = (table[key] / total ) * 100\n",
    "        table_percentages[key]=percentage\n",
    "            \n",
    "    return table_percentages # {column:times repeated}"
   ]
  },
  {
   "cell_type": "markdown",
   "metadata": {},
   "source": [
    "\n",
    "- The value of the dictionary we place in `key_val_as_tuple`, tuple along with the key of this\n"
   ]
  },
  {
   "cell_type": "markdown",
   "metadata": {},
   "source": [
    "<br>\n",
    "\n",
    "#### `display_table` feature:\n",
    "\n",
    "<br>\n",
    "\n",
    "\n",
    "The `display_table` function takes a dataset and a column index as input, creates a frequency table using the `freq_table` function, sorts the frequency percentages in descending order, and then displays each key-value pair in a formatted manner.\n",
    "\n",
    "- It first calls the `freq_table` function to get a dictionary where each key is a unique value from the specified column, and the corresponding value is its frequency percentage.\n",
    "- Then, it creates a list of tuples, where each tuple contains the frequency percentage and the corresponding key.\n",
    "- The list of tuples is sorted in descending order based on the frequency percentages.\n",
    "- Finally, it prints each key-value pair in a formatted string.\n"
   ]
  },
  {
   "cell_type": "code",
   "execution_count": 49,
   "metadata": {},
   "outputs": [],
   "source": [
    "def display_table(dataset, column):\n",
    "    table = freq_table(dataset, column) #return diccionary\n",
    "    table_display = []\n",
    "    list_table_sorted = []\n",
    "    for key in table:\n",
    "        key_val_as_tuple = (table[key], key)   #times repeated & key same variable\n",
    "        table_display.append(key_val_as_tuple) #append tuple into list\n",
    "        \n",
    "    list_table_sorted.append(sorted(table_display, reverse = True))\n",
    "    table_sorted = sorted(table_display, reverse = True) #sorting list\n",
    "    for entry in table_sorted: #print every cell on list\n",
    "        print(entry[1], ':', round(entry[0],2),'%')\n",
    "   # return list_table_sorted"
   ]
  },
  {
   "cell_type": "code",
   "execution_count": 50,
   "metadata": {},
   "outputs": [
    {
     "name": "stdout",
     "output_type": "stream",
     "text": [
      "Games : 54.87 %\n",
      "Entertainment : 7.27 %\n",
      "Education : 6.67 %\n",
      "Photo & Video : 5.55 %\n",
      "Utilities : 3.47 %\n",
      "Productivity : 2.73 %\n",
      "Health & Fitness : 2.69 %\n",
      "Music : 2.23 %\n",
      "Social Networking : 2.0 %\n",
      "Sports : 1.69 %\n",
      "Lifestyle : 1.59 %\n",
      "Shopping : 1.33 %\n",
      "Weather : 1.11 %\n",
      "Travel : 0.93 %\n",
      "News : 0.93 %\n",
      "Business : 0.86 %\n",
      "Book : 0.86 %\n",
      "Reference : 0.83 %\n",
      "Finance : 0.78 %\n",
      "Food & Drink : 0.72 %\n",
      "Navigation : 0.46 %\n",
      "Medical : 0.34 %\n",
      "Catalogs : 0.08 %\n"
     ]
    }
   ],
   "source": [
    "display_table(clean_ios,11) #apple prime_genere column"
   ]
  },
  {
   "cell_type": "markdown",
   "metadata": {},
   "source": [
    "In the set of free English apps, more than half (58.16%) are games. \n",
    "\n",
    "Entertainment apps account for approximately 8%, followed by photo and video apps, which are close to 5%. Only 3.66% of the apps are designed for education, while social networking apps make up 3.29% of the apps in our data set.\n",
    "\n",
    "The general impression is that the App Store (at least the part containing free English apps) is dominated by apps designed for fun (games, entertainment, photo and video, social networking, sports, music, etc.), while apps with practical purposes (education, shopping, utilities, productivity, lifestyle, etc.) are more rare. \n",
    "\n",
    "Although fun apps are the most numerous, this does not necessarily imply that they also have the greatest number of users—demand might not be the same as supply.\n",
    "\n",
    "Let's continue by examining the `Genres` and `Category` columns of the Google Play data set (two columns which seem to be related)."
   ]
  },
  {
   "cell_type": "code",
   "execution_count": 51,
   "metadata": {
    "scrolled": true
   },
   "outputs": [
    {
     "name": "stdout",
     "output_type": "stream",
     "text": [
      "FAMILY : 19.62 %\n",
      "GAME : 9.62 %\n",
      "TOOLS : 8.61 %\n",
      "BUSINESS : 4.35 %\n",
      "MEDICAL : 4.12 %\n",
      "PERSONALIZATION : 3.9 %\n",
      "PRODUCTIVITY : 3.88 %\n",
      "LIFESTYLE : 3.79 %\n",
      "FINANCE : 3.59 %\n",
      "SPORTS : 3.4 %\n",
      "COMMUNICATION : 3.28 %\n",
      "HEALTH_AND_FITNESS : 2.99 %\n",
      "PHOTOGRAPHY : 2.91 %\n",
      "NEWS_AND_MAGAZINES : 2.6 %\n",
      "SOCIAL : 2.49 %\n",
      "TRAVEL_AND_LOCAL : 2.28 %\n",
      "BOOKS_AND_REFERENCE : 2.27 %\n",
      "SHOPPING : 2.09 %\n",
      "DATING : 1.77 %\n",
      "VIDEO_PLAYERS : 1.69 %\n",
      "MAPS_AND_NAVIGATION : 1.34 %\n",
      "FOOD_AND_DRINK : 1.17 %\n",
      "EDUCATION : 1.07 %\n",
      "LIBRARIES_AND_DEMO : 0.87 %\n",
      "AUTO_AND_VEHICLES : 0.87 %\n",
      "ENTERTAINMENT : 0.83 %\n",
      "WEATHER : 0.82 %\n",
      "HOUSE_AND_HOME : 0.76 %\n",
      "EVENTS : 0.67 %\n",
      "PARENTING : 0.62 %\n",
      "ART_AND_DESIGN : 0.61 %\n",
      "COMICS : 0.57 %\n",
      "BEAUTY : 0.55 %\n"
     ]
    }
   ],
   "source": [
    "display_table(clean_android,1)  # Android Category "
   ]
  },
  {
   "cell_type": "markdown",
   "metadata": {},
   "source": [
    "<a href='#0'> back to index</a>\n",
    "* * *\n",
    "### <a id='32'>3.2 Profiles of apps successful in both markets</a>\n",
    "\n",
    "In the Google Play landscape, the landscape looks quite different: there are fewer apps focused on entertainment, and many more focus on practical purposes (family, tools, business, lifestyle, productivity, etc.). \n",
    "\n",
    "However, exploring this in more detail, we realize that the family category (which accounts for almost 19% of apps) is mostly broken down into children's games."
   ]
  },
  {
   "cell_type": "code",
   "execution_count": 52,
   "metadata": {
    "scrolled": true
   },
   "outputs": [
    {
     "name": "stdout",
     "output_type": "stream",
     "text": [
      "Tools : 8.45 %\n",
      "Entertainment : 6.07 %\n",
      "Education : 5.35 %\n",
      "Business : 4.58 %\n",
      "Productivity : 3.89 %\n",
      "Lifestyle : 3.89 %\n",
      "Finance : 3.7 %\n",
      "Medical : 3.54 %\n",
      "Sports : 3.46 %\n",
      "Personalization : 3.32 %\n",
      "Communication : 3.25 %\n",
      "Action : 3.1 %\n",
      "Health & Fitness : 3.07 %\n",
      "Photography : 2.94 %\n",
      "News & Magazines : 2.8 %\n",
      "Social : 2.66 %\n",
      "Travel & Local : 2.32 %\n",
      "Shopping : 2.25 %\n",
      "Books & Reference : 2.14 %\n",
      "Simulation : 2.04 %\n",
      "Dating : 1.86 %\n",
      "Arcade : 1.86 %\n",
      "Video Players & Editors : 1.78 %\n",
      "Casual : 1.75 %\n",
      "Maps & Navigation : 1.4 %\n",
      "Food & Drink : 1.24 %\n",
      "Puzzle : 1.13 %\n",
      "Racing : 0.99 %\n",
      "Role Playing : 0.94 %\n",
      "Libraries & Demo : 0.94 %\n",
      "Auto & Vehicles : 0.93 %\n",
      "Strategy : 0.91 %\n",
      "House & Home : 0.82 %\n",
      "Weather : 0.8 %\n",
      "Events : 0.71 %\n",
      "Adventure : 0.68 %\n",
      "Comics : 0.61 %\n",
      "Beauty : 0.6 %\n",
      "Art & Design : 0.59 %\n",
      "Parenting : 0.5 %\n",
      "Card : 0.44 %\n",
      "Casino : 0.43 %\n",
      "Trivia : 0.42 %\n",
      "Educational;Education : 0.39 %\n",
      "Board : 0.38 %\n",
      "Educational : 0.37 %\n",
      "Education;Education : 0.34 %\n",
      "Word : 0.26 %\n",
      "Casual;Pretend Play : 0.24 %\n",
      "Music : 0.2 %\n",
      "Racing;Action & Adventure : 0.17 %\n",
      "Puzzle;Brain Games : 0.17 %\n",
      "Entertainment;Music & Video : 0.17 %\n",
      "Casual;Brain Games : 0.14 %\n",
      "Casual;Action & Adventure : 0.14 %\n",
      "Arcade;Action & Adventure : 0.12 %\n",
      "Action;Action & Adventure : 0.1 %\n",
      "Educational;Pretend Play : 0.09 %\n",
      "Simulation;Action & Adventure : 0.08 %\n",
      "Parenting;Education : 0.08 %\n",
      "Entertainment;Brain Games : 0.08 %\n",
      "Board;Brain Games : 0.08 %\n",
      "Parenting;Music & Video : 0.07 %\n",
      "Educational;Brain Games : 0.07 %\n",
      "Casual;Creativity : 0.07 %\n",
      "Art & Design;Creativity : 0.07 %\n",
      "Education;Pretend Play : 0.06 %\n",
      "Role Playing;Pretend Play : 0.05 %\n",
      "Education;Creativity : 0.05 %\n",
      "Role Playing;Action & Adventure : 0.03 %\n",
      "Puzzle;Action & Adventure : 0.03 %\n",
      "Entertainment;Creativity : 0.03 %\n",
      "Entertainment;Action & Adventure : 0.03 %\n",
      "Educational;Creativity : 0.03 %\n",
      "Educational;Action & Adventure : 0.03 %\n",
      "Education;Music & Video : 0.03 %\n",
      "Education;Brain Games : 0.03 %\n",
      "Education;Action & Adventure : 0.03 %\n",
      "Adventure;Action & Adventure : 0.03 %\n",
      "Video Players & Editors;Music & Video : 0.02 %\n",
      "Sports;Action & Adventure : 0.02 %\n",
      "Simulation;Pretend Play : 0.02 %\n",
      "Puzzle;Creativity : 0.02 %\n",
      "Music;Music & Video : 0.02 %\n",
      "Entertainment;Pretend Play : 0.02 %\n",
      "Casual;Education : 0.02 %\n",
      "Board;Action & Adventure : 0.02 %\n",
      "Trivia;Education : 0.01 %\n",
      "Travel & Local;Action & Adventure : 0.01 %\n",
      "Tools;Education : 0.01 %\n",
      "Strategy;Education : 0.01 %\n",
      "Strategy;Creativity : 0.01 %\n",
      "Strategy;Action & Adventure : 0.01 %\n",
      "Simulation;Education : 0.01 %\n",
      "Role Playing;Brain Games : 0.01 %\n",
      "Racing;Pretend Play : 0.01 %\n",
      "Puzzle;Education : 0.01 %\n",
      "Parenting;Brain Games : 0.01 %\n",
      "Music & Audio;Music & Video : 0.01 %\n",
      "Lifestyle;Pretend Play : 0.01 %\n",
      "Lifestyle;Education : 0.01 %\n",
      "Health & Fitness;Education : 0.01 %\n",
      "Health & Fitness;Action & Adventure : 0.01 %\n",
      "Entertainment;Education : 0.01 %\n",
      "Communication;Creativity : 0.01 %\n",
      "Comics;Creativity : 0.01 %\n",
      "Casual;Music & Video : 0.01 %\n",
      "Card;Brain Games : 0.01 %\n",
      "Card;Action & Adventure : 0.01 %\n",
      "Books & Reference;Education : 0.01 %\n",
      "Art & Design;Pretend Play : 0.01 %\n",
      "Art & Design;Action & Adventure : 0.01 %\n",
      "Arcade;Pretend Play : 0.01 %\n",
      "Adventure;Education : 0.01 %\n"
     ]
    }
   ],
   "source": [
    "display_table(android_final, -4)"
   ]
  },
  {
   "cell_type": "markdown",
   "metadata": {},
   "source": [
    "### We would like to get an idea about the type of apps with more users.\n",
    "\n",
    "| Dataset name       | Genres            | percentage   | Category    | Category Percentage |\n",
    "|:------------------|:-----------------|-------------:|------------:|--------------------:|\n",
    "| free_apple_clean  | Games            | 54%          |             |                     |\n",
    "|                   | **Entertainment**    | 7.27%        |             |                     |\n",
    "|                   | Photo & Video    | 5%           |             |                     |\n",
    "|                   | Education        | 4%           |             |                     |\n",
    "|                   | Social Networking| 3%           |             |                     |\n",
    "| free_android_clean| Tools            | 8.5%           | FAMILY      | 19%                 |\n",
    "|                   | **Entertainment**    | 6%           | GAME        | 9.5%                |\n",
    "|                   | Education        | 5%           | BUSINESS    | 4.5%                |\n",
    "|                   | Business         | 5%           | TOOLS       | 8.4%                |\n",
    "|                   | Productivity     | 4%           | LIFESTYLE   | 4.0%                |\n"
   ]
  },
  {
   "cell_type": "markdown",
   "metadata": {},
   "source": [
    "To determine the most popular genres in terms of user engagement, one approach is to calculate the average number of installs for each app genre. \n",
    "\n",
    "For the Google Play data set, this information is available in the Installs column. However, for the App Store data set, the necessary information is missing. As a workaround, we will use the total number of user ratings (found in the `rating_count_tot` column) as a proxy to estimate popularity.\n",
    "\n",
    "One way to find out which genres are the most popular (have the most users) is to calculate the **average number of installs for each app genre**.\n",
    "\n",
    "<br>\n",
    "\n",
    "To gain insights into the types of applications that users are utilizing from both the Google Play and iOS datasets, we will analyze the categories based on predefined classifications.\n",
    "\n",
    "- **For the App Store (iOS) dataset**, we will take the total number of user ratings as a proxy, which we can find in the `'rating_count'` column. This provides an indication of the popularity and usage of each app category.\n",
    "\n",
    "- **For the Google Play dataset**, we can find this information in the **installs** column. By examining which categories have the highest number of installs, we can determine the most popular types of apps among Android users.\n",
    "\n",
    "\n",
    "By analyzing these categories, we can identify which types of apps are most favored by users. For example, if the \"Games\" category has the highest number of installs in the Google Play dataset, it suggests that games are particularly popular among Android users. Similarly, if the \"Games\" category has a high `'rating_count'` in the App Store dataset, it indicates that games are a significant and favored category for iOS users.\n",
    "\n",
    "By comparing the distribution of app categories in both datasets, we can gain a comprehensive understanding of the types of applications that are most utilized across different platforms. This analysis helps us identify trends and preferences, allowing us to make informed conclusions about user behavior and app popularity on each platform.\n",
    "\n",
    "<br>\n",
    "\n",
    "<a href='#0'> back to index</a>\n",
    "* * *\n",
    "\n",
    "### <a id='4'>4. Most Popular Apps by Genre on Apple Store</a>"
   ]
  },
  {
   "cell_type": "markdown",
   "metadata": {},
   "source": [
    "Number of user ratings per app genre on the App Store:"
   ]
  },
  {
   "cell_type": "code",
   "execution_count": 53,
   "metadata": {},
   "outputs": [
    {
     "name": "stdout",
     "output_type": "stream",
     "text": [
      "Photo & Video : 28441.54375\n",
      "Games : 22689.146012931036\n",
      "Music : 57326.530303030304\n",
      "Social Networking : 44744.12621359223\n",
      "Reference : 79350.4705882353\n",
      "Health & Fitness : 23298.015384615384\n",
      "Weather : 52279.892857142855\n",
      "Utilities : 18684.456790123455\n",
      "Travel : 29721.605263157893\n",
      "Shopping : 27898.802469135804\n",
      "News : 21248.023255813954\n",
      "Navigation : 86090.33333333333\n",
      "Lifestyle : 16815.48\n",
      "Entertainment : 14139.42857142857\n",
      "Food & Drink : 33333.92307692308\n",
      "Sports : 23008.898550724636\n",
      "Book : 46384.916666666664\n",
      "Finance : 32367.02857142857\n",
      "Education : 7003.983050847458\n",
      "Productivity : 21028.410714285714\n",
      "Business : 7491.117647058823\n",
      "Catalogs : 4004.0\n",
      "Medical : 612.0\n"
     ]
    }
   ],
   "source": [
    "genres_ios = freq_table(clean_ios, -5)\n",
    "\n",
    "for genre in genres_ios:\n",
    "    total = 0\n",
    "    len_genre = 0\n",
    "    for app in ios_final:\n",
    "        genre_app = app[-5]\n",
    "        if genre_app == genre:            \n",
    "            n_ratings = float(app[5])\n",
    "            total += n_ratings\n",
    "            len_genre += 1\n",
    "    avg_n_ratings = total / len_genre\n",
    "    print(genre, ':', avg_n_ratings)"
   ]
  },
  {
   "cell_type": "markdown",
   "metadata": {},
   "source": [
    "On average, navigation apps receive the highest number of user reviews, though this figure is significantly influenced by Waze and Google Maps, which together have nearly half a million reviews."
   ]
  },
  {
   "cell_type": "code",
   "execution_count": 54,
   "metadata": {},
   "outputs": [
    {
     "name": "stdout",
     "output_type": "stream",
     "text": [
      "Waze - GPS Navigation, Maps & Real-time Traffic : 345046\n",
      "Google Maps - Navigation & Transit : 154911\n",
      "MotionX GPS : 14970\n",
      "Geocaching® : 12811\n",
      "CoPilot GPS – Car Navigation & Offline Maps : 3582\n",
      "Gaia GPS Classic : 2429\n",
      "Plane Finder - Flight Tracker : 1438\n",
      "iMaps+ for Google Maps ™ and Street View ™ : Transit and Offline Contacts : 1225\n",
      "NAVIGON Europe : 927\n",
      "Localscope - Find places and people around you : 868\n",
      "Ski Tracks : 829\n",
      "TRANSPORT MODS for MINECRAFT Pc EDITION : 754\n",
      "Pocket Earth PRO Offline Maps & Travel Guides : 748\n",
      "Ship Finder : 624\n",
      "Boating USA : 342\n",
      "Maps 3D PRO - GPS for Bike, Hike, Ski & Outdoor : 280\n",
      "Cachly - Simple and powerful Geocaching for iPhone : 263\n",
      "ImmobilienScout24: Real Estate Search in Germany : 187\n",
      "The JMU Bus App : 35\n",
      "Avertinoo : 32\n",
      "iStellar : 30\n",
      "mySTATE - State College : 26\n",
      "Road watcher: dash camera, car video recorder. : 10\n",
      "Streets – Street View Browser : 10\n",
      "Railway Route Search : 5\n",
      "parkOmator – for Apple Watch meter expiration timer, notifications & GPS navigator to car location : 1\n",
      "ZuumSpeed Customizable Speedometer + HUD : 0\n",
      "BringGo Western Europe : 0\n"
     ]
    }
   ],
   "source": [
    "for app in clean_ios:\n",
    "    if app[-5] == 'Navigation':\n",
    "        print(app[1], ':', app[5]) # print name and number of ratings"
   ]
  },
  {
   "cell_type": "markdown",
   "metadata": {},
   "source": [
    "The same pattern applies to social networking apps and music apps, where a few dominant players like `Facebook`, `Pinterest`, `Skype`, `Pandora`, `Spotify`, and `Shazam` heavily influence the average number of user reviews. \n",
    "\n",
    "Our goal is to identify popular genres accurately, but the average ratings for navigation, social networking, or music apps appear higher than they should due to a few very popular apps with hundreds of thousands of reviews, while other apps may have fewer than 10,000 reviews. \n",
    "\n",
    "To get a clearer picture, we could remove these extremely popular apps and recalculate the averages, but we'll address this level of detail later."
   ]
  },
  {
   "cell_type": "code",
   "execution_count": 55,
   "metadata": {},
   "outputs": [
    {
     "name": "stdout",
     "output_type": "stream",
     "text": [
      "Bible : 985920\n",
      "Dictionary.com Dictionary & Thesaurus : 200047\n",
      "Dictionary.com Dictionary & Thesaurus for iPad : 54175\n",
      "Google Translate : 26786\n",
      "Muslim Pro: Ramadan 2017 Prayer Times, Azan, Quran : 18418\n",
      "New Furniture Mods - Pocket Wiki & Game Tools for Minecraft PC Edition : 17588\n",
      "Merriam-Webster Dictionary : 16849\n",
      "Night Sky : 12122\n",
      "City Maps for Minecraft PE - The Best Maps for Minecraft Pocket Edition (MCPE) : 8535\n",
      "LUCKY BLOCK MOD ™ for Minecraft PC Edition - The Best Pocket Wiki & Mods Installer Tools : 4693\n",
      "GUNS MODS for Minecraft PC Edition - Mods Tools : 1497\n",
      "Guides for Pokémon GO - Pokemon GO News and Cheats : 826\n",
      "WWDC : 762\n",
      "Horror Maps for Minecraft PE - Download The Scariest Maps for Minecraft Pocket Edition (MCPE) Free : 718\n",
      "VPN Express : 14\n",
      "Real Bike Traffic Rider Virtual Reality Glasses : 8\n",
      "Jishokun-Japanese English Dictionary & Translator : 0\n"
     ]
    }
   ],
   "source": [
    "for app in ios_final:\n",
    "    if app[-5] == 'Reference':\n",
    "        print(app[1], ':', app[5])"
   ]
  },
  {
   "cell_type": "markdown",
   "metadata": {},
   "source": [
    "This niche seems to show some potential. One approach could be to take another popular book and turn it into an app by adding various features such as daily quotes, an audio version of the book, quizzes, and even a built-in dictionary. This would allow users to look up words directly within the app without needing to exit.\n",
    "\n",
    "This idea aligns well with the fact that the App Store is dominated by for-fun apps, suggesting that the market might be somewhat saturated with such apps. Therefore, a practical app could have more of a chance to stand out among the numerous options available on the App Store.\n",
    "\n",
    "Other popular genres include weather, book, food and drink, or finance. While the book genre aligns well with our app idea, other genres like weather, food and drink, and finance do not seem as promising:\n",
    "\n",
    "- Weather apps generally don't keep users engaged for long, and making a profit through in-app ads is unlikely. Additionally, reliable live weather data may require using non-free APIs.\n",
    "- Food and drink apps, such as Starbucks or McDonald's, require actual cooking and delivery services, which are outside our company's scope.\n",
    "- Finance apps involve banking, bill payment, and money transfer, requiring domain knowledge that we don't want to obtain by hiring a finance expert.\n",
    "\n",
    "Now let's analyze the Google Play market."
   ]
  },
  {
   "cell_type": "code",
   "execution_count": 56,
   "metadata": {},
   "outputs": [
    {
     "data": {
      "text/plain": [
       "{'Photo & Video': 5.549227013832384,\n",
       " 'Games': 54.873881204231076,\n",
       " 'Music': 2.229454841334418,\n",
       " 'Social Networking': 2.001627339300244,\n",
       " 'Reference': 0.8299430431244915,\n",
       " 'Health & Fitness': 2.6851098454027666,\n",
       " 'Weather': 1.1065907241659887,\n",
       " 'Utilities': 3.466232709519935,\n",
       " 'Travel': 0.9275834011391376,\n",
       " 'Shopping': 1.3344182262001627,\n",
       " 'News': 0.9275834011391376,\n",
       " 'Navigation': 0.4556550040683482,\n",
       " 'Lifestyle': 1.594792514239219,\n",
       " 'Entertainment': 7.274206672091131,\n",
       " 'Food & Drink': 0.7160292921074044,\n",
       " 'Sports': 1.6924328722538649,\n",
       " 'Book': 0.8624898291293734,\n",
       " 'Finance': 0.7811228641171685,\n",
       " 'Education': 6.672091131000814,\n",
       " 'Productivity': 2.7339300244100895,\n",
       " 'Business': 0.8624898291293734,\n",
       " 'Catalogs': 0.08136696501220504,\n",
       " 'Medical': 0.3417412530512612}"
      ]
     },
     "execution_count": 56,
     "metadata": {},
     "output_type": "execute_result"
    }
   ],
   "source": [
    "freq_table(clean_ios, 11)"
   ]
  },
  {
   "cell_type": "markdown",
   "metadata": {},
   "source": [
    "### - sorting Genres on App Store "
   ]
  },
  {
   "cell_type": "markdown",
   "metadata": {
    "editable": true,
    "slideshow": {
     "slide_type": ""
    },
    "tags": []
   },
   "source": [
    "<a href='#0'> back to index</a>\n",
    "* * *\n",
    "\n",
    "## <a id='5'>5. Most Popular Apps by Genre on Android</a>\n",
    "\n",
    "The same pattern applies to social networking apps, where the average number is heavily influenced by a few giants like Facebook, Pinterest, Skype, etc. Same applies to music apps, where a few big players like Pandora, Spotify, and Shazam heavily influence the average number.\n",
    "\n",
    "**Our aim** is to find popular genres, but navigation, social networking or music apps might seem more popular than they really are. \n",
    "\n",
    "**The average number of ratings seem to be skewed by very few apps which have hundreds of thousands of user ratings, while the other apps may struggle to get past the 10,000 threshold**. \n",
    "\n",
    "\n",
    "We could get a **better picture by removing these extremely popular apps** for each genre and then rework the averages, but we'll leave this level of detail for later.\n",
    "\n",
    "Reference apps have 74,942 user ratings on average, but it's actually the Bible and Dictionary.com which skew up the average rating:"
   ]
  },
  {
   "cell_type": "code",
   "execution_count": 57,
   "metadata": {},
   "outputs": [
    {
     "name": "stdout",
     "output_type": "stream",
     "text": [
      "ART_AND_DESIGN : 2021626.7857142857\n",
      "AUTO_AND_VEHICLES : 647317.8170731707\n",
      "BEAUTY : 513151.88679245283\n",
      "BOOKS_AND_REFERENCE : 8767811.894736841\n",
      "BUSINESS : 1704192.3399014778\n",
      "COMICS : 817657.2727272727\n",
      "COMMUNICATION : 38326063.197916664\n",
      "DATING : 854028.8303030303\n",
      "EDUCATION : 1768500.0\n",
      "ENTERTAINMENT : 9146923.076923076\n",
      "EVENTS : 253542.22222222222\n",
      "FINANCE : 1387692.475609756\n",
      "FOOD_AND_DRINK : 1924897.7363636363\n",
      "HEALTH_AND_FITNESS : 4167457.3602941176\n",
      "HOUSE_AND_HOME : 1331540.5616438356\n",
      "LIBRARIES_AND_DEMO : 638503.734939759\n",
      "LIFESTYLE : 1437816.2687861272\n",
      "GAME : 12914435.883748516\n",
      "FAMILY : 5180161.789906103\n",
      "MEDICAL : 123064.7898089172\n",
      "SOCIAL : 23253652.127118643\n",
      "SHOPPING : 7036877.311557789\n",
      "PHOTOGRAPHY : 17840110.40229885\n",
      "SPORTS : 4274688.722772277\n",
      "TRAVEL_AND_LOCAL : 13984077.710144928\n",
      "TOOLS : 10801391.298666667\n",
      "PERSONALIZATION : 5201482.6122448975\n",
      "PRODUCTIVITY : 16772838.591304347\n",
      "PARENTING : 542603.6206896552\n",
      "WEATHER : 5074486.197183099\n",
      "VIDEO_PLAYERS : 24790074.17721519\n",
      "NEWS_AND_MAGAZINES : 9549178.467741935\n",
      "MAPS_AND_NAVIGATION : 4056941.7741935486\n"
     ]
    }
   ],
   "source": [
    "categories_android = freq_table(android_final, 1)\n",
    "\n",
    "for category in categories_android:\n",
    "    total = 0\n",
    "    len_category = 0\n",
    "    for app in android_final:\n",
    "        category_app = app[1]\n",
    "        if category_app == category:            \n",
    "            n_installs = app[5]\n",
    "            n_installs = n_installs.replace(',', '')\n",
    "            n_installs = n_installs.replace('+', '')\n",
    "            total += float(n_installs)\n",
    "            len_category += 1\n",
    "    avg_n_installs = total / len_category\n",
    "    print(category, ':', avg_n_installs)"
   ]
  },
  {
   "cell_type": "markdown",
   "metadata": {},
   "source": [
    "On average, communication apps have the most installs, with an average of 38,456,119. However, this figure is significantly skewed by a few dominant apps that have over one billion installs (such as WhatsApp, Facebook Messenger, Skype), and a handful of others with over 100 million and 500 million installs. This suggests that while communication apps are popular in general, the majority of their user base is concentrated among just a few highly successful applications. \n",
    "\n",
    "Given this information, it might be more meaningful to focus on the remaining communication apps that have fewer installs to identify potential areas for new or improved apps that could better meet specific user needs and stand out from the highly competitive landscape dominated by giants like WhatsApp and Facebook Messenger."
   ]
  },
  {
   "cell_type": "code",
   "execution_count": 58,
   "metadata": {},
   "outputs": [
    {
     "name": "stdout",
     "output_type": "stream",
     "text": [
      "Messenger – Text and Video Chat for Free : 1,000,000,000+\n",
      "Gmail : 1,000,000,000+\n",
      "imo beta free calls and text : 100,000,000+\n",
      "imo free video calls and chat : 500,000,000+\n",
      "Android Messages : 100,000,000+\n",
      "Google Duo - High Quality Video Calls : 500,000,000+\n",
      "UC Browser - Fast Download Private & Secure : 500,000,000+\n",
      "Skype - free IM & video calls : 1,000,000,000+\n",
      "Who : 100,000,000+\n",
      "GO SMS Pro - Messenger, Free Themes, Emoji : 100,000,000+\n",
      "WhatsApp Messenger : 1,000,000,000+\n",
      "Google Chrome: Fast & Secure : 1,000,000,000+\n",
      "Firefox Browser fast & private : 100,000,000+\n",
      "Messenger Lite: Free Calls & Messages : 100,000,000+\n",
      "LINE: Free Calls & Messages : 500,000,000+\n",
      "Hangouts : 1,000,000,000+\n",
      "Kik : 100,000,000+\n",
      "KakaoTalk: Free Calls & Text : 100,000,000+\n",
      "Opera Mini - fast web browser : 100,000,000+\n",
      "Opera Browser: Fast and Secure : 100,000,000+\n",
      "Telegram : 100,000,000+\n",
      "Truecaller: Caller ID, SMS spam blocking & Dialer : 100,000,000+\n",
      "UC Browser Mini -Tiny Fast Private & Secure : 100,000,000+\n",
      "Viber Messenger : 500,000,000+\n",
      "WeChat : 100,000,000+\n",
      "Yahoo Mail – Stay Organized : 100,000,000+\n",
      "BBM - Free Calls & Messages : 100,000,000+\n"
     ]
    }
   ],
   "source": [
    "for app in android_final:\n",
    "    if app[1] == 'COMMUNICATION' and (app[5] == '1,000,000,000+'\n",
    "                                      or app[5] == '500,000,000+'\n",
    "                                      or app[5] == '100,000,000+'):\n",
    "        print(app[0], ':', app[5])"
   ]
  },
  {
   "cell_type": "markdown",
   "metadata": {},
   "source": [
    "If we removed all the communication apps that have over 100 million installs, the average would be reduced roughly ten times:"
   ]
  },
  {
   "cell_type": "code",
   "execution_count": 59,
   "metadata": {},
   "outputs": [
    {
     "data": {
      "text/plain": [
       "3593510.3486590036"
      ]
     },
     "execution_count": 59,
     "metadata": {},
     "output_type": "execute_result"
    }
   ],
   "source": [
    "under_100_m = []\n",
    "\n",
    "for app in android_final:\n",
    "    n_installs = app[5]\n",
    "    n_installs = n_installs.replace(',', '')\n",
    "    n_installs = n_installs.replace('+', '')\n",
    "    if (app[1] == 'COMMUNICATION') and (float(n_installs) < 100000000):\n",
    "        under_100_m.append(float(n_installs))\n",
    "        \n",
    "sum(under_100_m) / len(under_100_m)"
   ]
  },
  {
   "cell_type": "markdown",
   "metadata": {},
   "source": [
    "We see the same pattern in the video players category, which ranks second with 24,727,872 installs. This market is dominated by apps like YouTube, Google Play Movies & TV, or MX Player. The same pattern repeats for social apps (with giants like Facebook, Instagram, and Google+), photography apps (such as Google Photos and popular photo editors), and productivity apps (including Microsoft Word, Dropbox, Google Calendar, Evernote, etc.).\n",
    "\n",
    "The main concern is that these app genres might seem more popular than they actually are. Moreover, these niches are heavily dominated by a few giants that are difficult to compete against.\n",
    "\n",
    "While the game genre appears popular, we previously found it to be somewhat saturated, so we would like to consider a different app recommendation if possible.\n",
    "\n",
    "The books and reference genre looks fairly popular as well, with an average number of installs of 8,767,811. This is interesting to explore in more depth since we believe this genre has potential for being profitable on both the App Store and Google Play. \n",
    "\n",
    "Let's take a look at some of the apps from this genre and their number of installs."
   ]
  },
  {
   "cell_type": "markdown",
   "metadata": {},
   "source": [
    "En el panorama de Google Play, la apariencia del paisaje parece bastante diferente: hay menos aplicaciones enfocadas en el entretenimiento, y muchas más se centran en propósitos prácticos (familia, herramientas, negocios, estilo de vida, productividad, etc.). Sin embargo, al explorar esto con más detalle, nos damos cuenta de que la categoría de familia (que representa casi el 19% de las aplicaciones) se desglosa principalmente en juegos para niños."
   ]
  },
  {
   "cell_type": "code",
   "execution_count": 60,
   "metadata": {
    "editable": true,
    "slideshow": {
     "slide_type": ""
    },
    "tags": []
   },
   "outputs": [
    {
     "name": "stdout",
     "output_type": "stream",
     "text": [
      "E-Book Read - Read Book for free : 50,000+\n",
      "Download free book with green book : 100,000+\n",
      "Wikipedia : 10,000,000+\n",
      "Cool Reader : 10,000,000+\n",
      "Free Panda Radio Music : 100,000+\n",
      "Book store : 1,000,000+\n",
      "FBReader: Favorite Book Reader : 10,000,000+\n",
      "English Grammar Complete Handbook : 500,000+\n",
      "Free Books - Spirit Fanfiction and Stories : 1,000,000+\n",
      "Google Play Books : 1,000,000,000+\n",
      "AlReader -any text book reader : 5,000,000+\n",
      "Offline English Dictionary : 100,000+\n",
      "Offline: English to Tagalog Dictionary : 500,000+\n",
      "FamilySearch Tree : 1,000,000+\n",
      "Cloud of Books : 1,000,000+\n",
      "Recipes of Prophetic Medicine for free : 500,000+\n",
      "ReadEra – free ebook reader : 1,000,000+\n",
      "Anonymous caller detection : 10,000+\n",
      "Ebook Reader : 5,000,000+\n",
      "Litnet - E-books : 100,000+\n",
      "Read books online : 5,000,000+\n",
      "English to Urdu Dictionary : 500,000+\n",
      "eBoox: book reader fb2 epub zip : 1,000,000+\n",
      "English Persian Dictionary : 500,000+\n",
      "Flybook : 500,000+\n",
      "All Maths Formulas : 1,000,000+\n",
      "Ancestry : 5,000,000+\n",
      "HTC Help : 10,000,000+\n",
      "English translation from Bengali : 100,000+\n",
      "Pdf Book Download - Read Pdf Book : 100,000+\n",
      "Free Book Reader : 100,000+\n",
      "eBoox new: Reader for fb2 epub zip books : 50,000+\n",
      "Only 30 days in English, the guideline is guaranteed : 500,000+\n",
      "Moon+ Reader : 10,000,000+\n",
      "SH-02J Owner's Manual (Android 8.0) : 50,000+\n",
      "English-Myanmar Dictionary : 1,000,000+\n",
      "Golden Dictionary (EN-AR) : 1,000,000+\n",
      "All Language Translator Free : 1,000,000+\n",
      "Azpen eReader : 500,000+\n",
      "URBANO V 02 instruction manual : 100,000+\n",
      "Bible : 100,000,000+\n",
      "C Programs and Reference : 50,000+\n",
      "C Offline Tutorial : 1,000+\n",
      "C Programs Handbook : 50,000+\n",
      "Amazon Kindle : 100,000,000+\n",
      "Aab e Hayat Full Novel : 100,000+\n",
      "Aldiko Book Reader : 10,000,000+\n",
      "Google I/O 2018 : 500,000+\n",
      "R Language Reference Guide : 10,000+\n",
      "Learn R Programming Full : 5,000+\n",
      "R Programing Offline Tutorial : 1,000+\n",
      "Guide for R Programming : 5+\n",
      "Learn R Programming : 10+\n",
      "R Quick Reference Big Data : 1,000+\n",
      "V Made : 100,000+\n",
      "Wattpad 📖 Free Books : 100,000,000+\n",
      "Dictionary - WordWeb : 5,000,000+\n",
      "Guide (for X-MEN) : 100,000+\n",
      "AC Air condition Troubleshoot,Repair,Maintenance : 5,000+\n",
      "AE Bulletins : 1,000+\n",
      "Ae Allah na Dai (Rasa) : 10,000+\n",
      "50000 Free eBooks & Free AudioBooks : 5,000,000+\n",
      "Ag PhD Field Guide : 10,000+\n",
      "Ag PhD Deficiencies : 10,000+\n",
      "Ag PhD Planting Population Calculator : 1,000+\n",
      "Ag PhD Soybean Diseases : 1,000+\n",
      "Fertilizer Removal By Crop : 50,000+\n",
      "A-J Media Vault : 50+\n",
      "Al-Quran (Free) : 10,000,000+\n",
      "Al Quran (Tafsir & by Word) : 500,000+\n",
      "Al Quran Indonesia : 10,000,000+\n",
      "Al'Quran Bahasa Indonesia : 10,000,000+\n",
      "Al Quran Al karim : 1,000,000+\n",
      "Al-Muhaffiz : 50,000+\n",
      "Al Quran : EAlim - Translations & MP3 Offline : 5,000,000+\n",
      "Al-Quran 30 Juz free copies : 500,000+\n",
      "Koran Read &MP3 30 Juz Offline : 1,000,000+\n",
      "Hafizi Quran 15 lines per page : 1,000,000+\n",
      "Quran for Android : 10,000,000+\n",
      "Surah Al-Waqiah : 100,000+\n",
      "Hisnul Al Muslim - Hisn Invocations & Adhkaar : 100,000+\n",
      "Satellite AR : 1,000,000+\n",
      "Audiobooks from Audible : 100,000,000+\n",
      "Kinot & Eichah for Tisha B'Av : 10,000+\n",
      "AW Tozer Devotionals - Daily : 5,000+\n",
      "Tozer Devotional -Series 1 : 1,000+\n",
      "The Pursuit of God : 1,000+\n",
      "AY Sing : 5,000+\n",
      "Ay Hasnain k Nana Milad Naat : 10,000+\n",
      "Ay Mohabbat Teri Khatir Novel : 10,000+\n",
      "Arizona Statutes, ARS (AZ Law) : 1,000+\n",
      "Oxford A-Z of English Usage : 1,000,000+\n",
      "BD Fishpedia : 1,000+\n",
      "BD All Sim Offer : 10,000+\n",
      "Youboox - Livres, BD et magazines : 500,000+\n",
      "B&H Kids AR : 10,000+\n",
      "B y H Niños ES : 5,000+\n",
      "Dictionary.com: Find Definitions for English Words : 10,000,000+\n",
      "English Dictionary - Offline : 10,000,000+\n",
      "Bible KJV : 5,000,000+\n",
      "Borneo Bible, BM Bible : 10,000+\n",
      "MOD Black for BM : 100+\n",
      "BM Box : 1,000+\n",
      "Anime Mod for BM : 100+\n",
      "NOOK: Read eBooks & Magazines : 10,000,000+\n",
      "NOOK Audiobooks : 500,000+\n",
      "NOOK App for NOOK Devices : 500,000+\n",
      "Browsery by Barnes & Noble : 5,000+\n",
      "bp e-store : 1,000+\n",
      "Brilliant Quotes: Life, Love, Family & Motivation : 1,000,000+\n",
      "BR Ambedkar Biography & Quotes : 10,000+\n",
      "BU Alsace : 100+\n",
      "Catholic La Bu Zo Kam : 500+\n",
      "Khrifa Hla Bu (Solfa) : 10+\n",
      "Kristian Hla Bu : 10,000+\n",
      "SA HLA BU : 1,000+\n",
      "Learn SAP BW : 500+\n",
      "Learn SAP BW on HANA : 500+\n",
      "CA Laws 2018 (California Laws and Codes) : 5,000+\n",
      "Bootable Methods(USB-CD-DVD) : 10,000+\n",
      "cloudLibrary : 100,000+\n",
      "SDA Collegiate Quarterly : 500+\n",
      "Sabbath School : 100,000+\n",
      "Cypress College Library : 100+\n",
      "Stats Royale for Clash Royale : 1,000,000+\n",
      "GATE 21 years CS Papers(2011-2018 Solved) : 50+\n",
      "Learn CT Scan Of Head : 5,000+\n",
      "Easy Cv maker 2018 : 10,000+\n",
      "How to Write CV : 100,000+\n",
      "CW Nuclear : 1,000+\n",
      "CY Spray nozzle : 10+\n",
      "BibleRead En Cy Zh Yue : 5+\n",
      "CZ-Help : 5+\n",
      "Modlitební knížka CZ : 500+\n",
      "Guide for DB Xenoverse : 10,000+\n",
      "Guide for DB Xenoverse 2 : 10,000+\n",
      "Guide for IMS DB : 10+\n",
      "DC HSEMA : 5,000+\n",
      "DC Public Library : 1,000+\n",
      "Painting Lulu DC Super Friends : 1,000+\n",
      "Dictionary : 10,000,000+\n",
      "Fix Error Google Playstore : 1,000+\n",
      "D. H. Lawrence Poems FREE : 1,000+\n",
      "Bilingual Dictionary Audio App : 5,000+\n",
      "DM Screen : 10,000+\n",
      "wikiHow: how to do anything : 1,000,000+\n",
      "Dr. Doug's Tips : 1,000+\n",
      "Bible du Semeur-BDS (French) : 50,000+\n",
      "La citadelle du musulman : 50,000+\n",
      "DV 2019 Entry Guide : 10,000+\n",
      "DV 2019 - EDV Photo & Form : 50,000+\n",
      "DV 2018 Winners Guide : 1,000+\n",
      "EB Annual Meetings : 1,000+\n",
      "EC - AP & Telangana : 5,000+\n",
      "TN Patta Citta & EC : 10,000+\n",
      "AP Stamps and Registration : 10,000+\n",
      "CompactiMa EC pH Calibration : 100+\n",
      "EGW Writings 2 : 100,000+\n",
      "EGW Writings : 1,000,000+\n",
      "Bible with EGW Comments : 100,000+\n",
      "My Little Pony AR Guide : 1,000,000+\n",
      "SDA Sabbath School Quarterly : 500,000+\n",
      "Duaa Ek Ibaadat : 5,000+\n",
      "Spanish English Translator : 10,000,000+\n",
      "Dictionary - Merriam-Webster : 10,000,000+\n",
      "JW Library : 10,000,000+\n",
      "Oxford Dictionary of English : Free : 10,000,000+\n",
      "English Hindi Dictionary : 10,000,000+\n",
      "English to Hindi Dictionary : 5,000,000+\n",
      "EP Research Service : 1,000+\n",
      "Hymnes et Louanges : 100,000+\n",
      "EU Charter : 1,000+\n",
      "EU Data Protection : 1,000+\n",
      "EU IP Codes : 100+\n",
      "EW PDF : 5+\n",
      "BakaReader EX : 100,000+\n",
      "EZ Quran : 50,000+\n",
      "FA Part 1 & 2 Past Papers Solved Free – Offline : 5,000+\n",
      "La Fe de Jesus : 1,000+\n",
      "La Fe de Jesús : 500+\n",
      "Le Fe de Jesus : 500+\n",
      "Florida - Pocket Brainbook : 1,000+\n",
      "Florida Statutes (FL Code) : 1,000+\n",
      "English To Shona Dictionary : 10,000+\n",
      "Greek Bible FP (Audio) : 1,000+\n",
      "Golden Dictionary (FR-AR) : 500,000+\n",
      "Fanfic-FR : 5,000+\n",
      "Bulgarian French Dictionary Fr : 10,000+\n",
      "Chemin (fr) : 1,000+\n",
      "The SCP Foundation DB fr nn5n : 1,000+\n"
     ]
    }
   ],
   "source": [
    "for app in android_final:\n",
    "    if app[1] == 'BOOKS_AND_REFERENCE':\n",
    "        print(app[0], ':', app[5])"
   ]
  },
  {
   "cell_type": "markdown",
   "metadata": {},
   "source": [
    "The book and reference genre includes a variety of apps, such as software for processing and reading eBooks, various collections of libraries, dictionaries, tutorials on programming or languages, and more. However, it seems that there are still a few extremely popular apps that skew the average number of installs."
   ]
  },
  {
   "cell_type": "markdown",
   "metadata": {
    "editable": true,
    "slideshow": {
     "slide_type": ""
    },
    "tags": []
   },
   "source": [
    "\n",
    "For the Google Play market, we actually have data about the number of installs, so we should be able to get a clearer picture about genre popularity. However, the install numbers don't seem precise enough — we can see that most values are open-ended (100+, 1,000+, 5,000+, etc.):\n",
    "\n"
   ]
  },
  {
   "cell_type": "code",
   "execution_count": 61,
   "metadata": {},
   "outputs": [
    {
     "name": "stdout",
     "output_type": "stream",
     "text": [
      "Google Play Books : 1,000,000,000+\n",
      "Bible : 100,000,000+\n",
      "Amazon Kindle : 100,000,000+\n",
      "Wattpad 📖 Free Books : 100,000,000+\n",
      "Audiobooks from Audible : 100,000,000+\n"
     ]
    }
   ],
   "source": [
    "\n",
    "for app in android_final:\n",
    "    if app[1] == 'BOOKS_AND_REFERENCE' and (app[5] == '1,000,000,000+'\n",
    "                                            or app[5] == '500,000,000+'\n",
    "                                            or app[5] == '100,000,000+'):\n",
    "        print(app[0], ':', app[5])"
   ]
  },
  {
   "cell_type": "markdown",
   "metadata": {},
   "source": [
    "However, it looks like there are only a few very popular apps in this market, so it still shows potential. Let's try to get some app ideas based on the kind of apps that are somewhere in the middle in terms of popularity (between 1 million and 100 million downloads)."
   ]
  },
  {
   "attachments": {},
   "cell_type": "markdown",
   "metadata": {},
   "source": [
    "for app in android_final:\n",
    "    if app[1] == 'BOOKS_AND_REFERENCE' and (app[5] == '1,000,000+'\n",
    "                                            or app[5] == '5,000,000+'\n",
    "                                            or app[5] == '10,000,000+'\n",
    "                                            or app[5] == '50,000,000+'):\n",
    "        print(app[0], ':', app[5])\n",
    "\n",
    "This niche is dominated by software for processing and reading eBooks, as well as various collections of libraries and dictionaries. Given this competition, it might not be ideal to develop similar apps because there will be significant competition from existing popular titles.\n",
    "\n",
    "Additionally, we observe that many apps are built around the book Quran, indicating that creating an app around a popular or recent book can be profitable. It appears that turning a popular book (perhaps a more recent one) into an app could be beneficial for both the Google Play and App Store markets.\n",
    "\n",
    "However, since the market is already saturated with libraries, we need to add some unique features to differentiate our app. These could include daily quotes from the book, an audio version of the book, quizzes based on the book, or a forum where users can discuss the book.\n",
    "\n",
    "<a href='#0'> back to index</a>\n",
    "* * *\n",
    "\n",
    "### <a id='6'>6. Conclusions</a>\n",
    "\n",
    "In this project, we analyzed data about the App Store and Google Play mobile apps with the goal of recommending an app profile that can be profitable for both markets. \n",
    "\n",
    "We concluded that taking a popular book (perhaps a more recent book) and turning it into an app could be profitable for both the Google Play and the App Store markets. \n",
    "\n",
    "The markets are already full of libraries, so we need to add some special features besides the raw version of the book. This might include daily quotes from the book, an audio version of the book, quizzes on the book, a forum where people can discuss the book, etc."
   ]
  }
 ],
 "metadata": {
  "kernelspec": {
   "display_name": "Python 3 (ipykernel)",
   "language": "python",
   "name": "python3"
  },
  "language_info": {
   "codemirror_mode": {
    "name": "ipython",
    "version": 3
   },
   "file_extension": ".py",
   "mimetype": "text/x-python",
   "name": "python",
   "nbconvert_exporter": "python",
   "pygments_lexer": "ipython3",
   "version": "3.10.13"
  }
 },
 "nbformat": 4,
 "nbformat_minor": 4
}
