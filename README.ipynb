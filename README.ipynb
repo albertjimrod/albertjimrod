{
 "cells": [
  {
   "cell_type": "markdown",
   "id": "9737e926",
   "metadata": {},
   "source": [
    "\n",
    "I studied electronics to understand the workings of electronic musical instruments and the inner of sound design. I was working in different electronics and audiovisual companies as a technician, and also as a freelance sound designer for a company online called [Gameprefabs today Unity Asset Store](https://assetstore.unity.com/publishers/2954), and as an [electronic music composer profile](https://www.imdb.com/title/tt0466106/?ref_=fn_al_tt_1) for a couple of movies while I discover Linux, [Arduino](https://www.arduino.cc/), and the Open software community.\n",
    "\n",
    "Finally, [I built my synth](https://midimachines.wordpress.com/), the synthesizer which I went into electronics! and somehow it close the cycle of electronics and technician stuff, so I needed to update myself, and improve professionally, so I did it by studying for a [Master's degree in Business Intelligence and Big Data](https://accounts.iebschool.com/mi-diploma/abaa0886b52591b851a33c17b4653f20/) online. \n",
    "\n",
    "I decided to extract the maximum benefit from the time I was studying for my master's so with a fair knowledge of programming Python, but with a very great need to have the content of the videos transcribed, so I had to create a very simple tool to be able to make the transcriptions of the Vimeo videos and have all the text in the video lessons, i called: [Sonus transcriber]()\n",
    "\n",
    "Suddenly a new world of possibilities opened up in front of me, so I decided to apply my new knowledge in a field that was already known to me and, I did it in my master's thesis with a project called:\n",
    "\n",
    "FREQUENCY CLASSIFICATION OF SOUND SAMPLES THROUGH THE REDUCTION OF DIMENSIONALITY THROUGH MULTIDIMENSIONAL SCALING\n",
    "\n",
    "Since then I continue to train in the field of data analysis and machine learning.\n",
    "\n",
    "\n",
    "\n",
    "\n",
    "\n",
    "\n",
    "\n"
   ]
  },
  {
   "cell_type": "code",
   "execution_count": 1,
   "id": "4b7f016f",
   "metadata": {},
   "outputs": [
    {
     "name": "stdout",
     "output_type": "stream",
     "text": [
      "/home/ion/Formacion/git_repo_klone/albertjimrod\r\n"
     ]
    }
   ],
   "source": [
    "!pwd"
   ]
  },
  {
   "cell_type": "markdown",
   "id": "9afd36f8",
   "metadata": {},
   "source": []
  }
 ],
 "metadata": {
  "kernelspec": {
   "display_name": "Python 3 (ipykernel)",
   "language": "python",
   "name": "python3"
  },
  "language_info": {
   "codemirror_mode": {
    "name": "ipython",
    "version": 3
   },
   "file_extension": ".py",
   "mimetype": "text/x-python",
   "name": "python",
   "nbconvert_exporter": "python",
   "pygments_lexer": "ipython3",
   "version": "3.9.12"
  }
 },
 "nbformat": 4,
 "nbformat_minor": 5
}
